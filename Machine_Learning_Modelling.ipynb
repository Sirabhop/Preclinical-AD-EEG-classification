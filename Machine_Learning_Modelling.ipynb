{
  "nbformat": 4,
  "nbformat_minor": 0,
  "metadata": {
    "colab": {
      "name": "Machine Learning Modelling",
      "provenance": [],
      "authorship_tag": "ABX9TyOb7dUrUIpYse4DpwIwWkoe",
      "include_colab_link": true
    },
    "kernelspec": {
      "name": "python3",
      "display_name": "Python 3"
    }
  },
  "cells": [
    {
      "cell_type": "markdown",
      "metadata": {
        "id": "view-in-github",
        "colab_type": "text"
      },
      "source": [
        "<a href=\"https://colab.research.google.com/github/Sirabhop/Preclinical-AD-EEG-classification/blob/master/Machine_Learning_Modelling.ipynb\" target=\"_parent\"><img src=\"https://colab.research.google.com/assets/colab-badge.svg\" alt=\"Open In Colab\"/></a>"
      ]
    },
    {
      "cell_type": "code",
      "metadata": {
        "id": "dxpsi-8HGp64",
        "colab_type": "code",
        "colab": {}
      },
      "source": [
        "from google.colab import drive\n",
        "import os"
      ],
      "execution_count": 0,
      "outputs": []
    },
    {
      "cell_type": "code",
      "metadata": {
        "id": "NuuHyQCDM1jp",
        "colab_type": "code",
        "colab": {}
      },
      "source": [
        "#Set working directory and import cookbook\n",
        "os.chdir(\"/content/drive/My Drive/Colab Notebooks/\")\n",
        "\n",
        "#Download eeg feature extraction function\n",
        "%run EEG_Feature_Extraction.ipynb"
      ],
      "execution_count": 0,
      "outputs": []
    },
    {
      "cell_type": "markdown",
      "metadata": {
        "id": "0u7WRdp1IJa0",
        "colab_type": "text"
      },
      "source": [
        "# **Import Data**"
      ]
    },
    {
      "cell_type": "code",
      "metadata": {
        "id": "11vzR25IHelh",
        "colab_type": "code",
        "colab": {}
      },
      "source": [
        "drive.mount('/content/drive')"
      ],
      "execution_count": 0,
      "outputs": []
    },
    {
      "cell_type": "code",
      "metadata": {
        "id": "FLUg2vhEGzCH",
        "colab_type": "code",
        "colab": {}
      },
      "source": [
        "os.chdir(\"/content/drive/My Drive/EEG Data\")"
      ],
      "execution_count": 0,
      "outputs": []
    },
    {
      "cell_type": "code",
      "metadata": {
        "id": "dnBv88huIH75",
        "colab_type": "code",
        "colab": {}
      },
      "source": [
        "#Compute EEG feature\n",
        "subjectID_fif = ['SS1', 'SS2', 'SS3']\n",
        "df = getDataFrame_fif(subjectID_fif)\n",
        "\n",
        "subjectID_bdf = ['SS4', 'SS5', 'SS6', 'SS7', 'SS8']\n",
        "df2 = getDataFrame_bdf(subjectID_bdf)\n",
        "\n",
        "df = df.append(df2, ignore_index = True)\n",
        "\n",
        "#Export EEG feature\n",
        "df.to_csv('EEG_features.csv')"
      ],
      "execution_count": 0,
      "outputs": []
    },
    {
      "cell_type": "code",
      "metadata": {
        "id": "iFW_9c15P70j",
        "colab_type": "code",
        "colab": {}
      },
      "source": [
        "#Import FCSRT & MoCA & Demographic data\n",
        "FCSRT = pd.read_csv(\"FCSRT.csv\")\n",
        "FCSRT.drop('id', axis = 1, inplace = True)\n",
        "MoCA = pd.read_csv(\"MoCA.csv\", usecols = ['SUM'])\n",
        "EEG = pd.read_csv(\"EEG_features.csv\")\n",
        "\n",
        "df_original = pd.concat([EEG,FCSRT,MoCA], axis = 1)\n",
        "df_original.drop(['Unnamed: 0'], inplace = True, axis = 1)\n",
        "df_original.rename(columns = {'SUM':'MoCA'})\n",
        "df_original.drop('id', axis = 1, inplace=True)"
      ],
      "execution_count": 0,
      "outputs": []
    },
    {
      "cell_type": "markdown",
      "metadata": {
        "id": "5-Xck8eXQDeh",
        "colab_type": "text"
      },
      "source": [
        "# **Data Preprocessing**"
      ]
    },
    {
      "cell_type": "markdown",
      "metadata": {
        "id": "_o4eI5oqS835",
        "colab_type": "text"
      },
      "source": [
        "#### **1) Scaling**"
      ]
    },
    {
      "cell_type": "code",
      "metadata": {
        "id": "UzCYG4I3O9rj",
        "colab_type": "code",
        "colab": {}
      },
      "source": [
        "from sklearn import preprocessing"
      ],
      "execution_count": 0,
      "outputs": []
    },
    {
      "cell_type": "code",
      "metadata": {
        "id": "8jyNE2adO-f_",
        "colab_type": "code",
        "colab": {
          "base_uri": "https://localhost:8080/",
          "height": 395
        },
        "outputId": "e699d563-b655-43f4-cdda-dc806722dc18"
      },
      "source": [
        "#Min-Max Scaling\n",
        "\n",
        "scaler = preprocessing.MinMaxScaler()\n",
        "df_original[df_original.columns] = scaler.fit_transform(df_original[df_original.columns])\n",
        "\n",
        "df_original"
      ],
      "execution_count": 56,
      "outputs": [
        {
          "output_type": "stream",
          "text": [
            "/usr/local/lib/python3.6/dist-packages/sklearn/preprocessing/_data.py:375: RuntimeWarning: All-NaN slice encountered\n",
            "  data_min = np.nanmin(X, axis=0)\n",
            "/usr/local/lib/python3.6/dist-packages/sklearn/preprocessing/_data.py:376: RuntimeWarning: All-NaN slice encountered\n",
            "  data_max = np.nanmax(X, axis=0)\n"
          ],
          "name": "stderr"
        },
        {
          "output_type": "execute_result",
          "data": {
            "text/html": [
              "<div>\n",
              "<style scoped>\n",
              "    .dataframe tbody tr th:only-of-type {\n",
              "        vertical-align: middle;\n",
              "    }\n",
              "\n",
              "    .dataframe tbody tr th {\n",
              "        vertical-align: top;\n",
              "    }\n",
              "\n",
              "    .dataframe thead th {\n",
              "        text-align: right;\n",
              "    }\n",
              "</style>\n",
              "<table border=\"1\" class=\"dataframe\">\n",
              "  <thead>\n",
              "    <tr style=\"text-align: right;\">\n",
              "      <th></th>\n",
              "      <th>PSD_Delta</th>\n",
              "      <th>PSD_Theta</th>\n",
              "      <th>PSD_Alpha</th>\n",
              "      <th>PSD_Beta</th>\n",
              "      <th>PSD_Gamma</th>\n",
              "      <th>MSF</th>\n",
              "      <th>SE</th>\n",
              "      <th>AC</th>\n",
              "      <th>wSMI_Alpha</th>\n",
              "      <th>wSMI_Theta</th>\n",
              "      <th>IR-FreeR</th>\n",
              "      <th>IR-CuedR</th>\n",
              "      <th>DL-FreeR</th>\n",
              "      <th>DL-CuedR</th>\n",
              "      <th>SUM</th>\n",
              "    </tr>\n",
              "  </thead>\n",
              "  <tbody>\n",
              "    <tr>\n",
              "      <th>0</th>\n",
              "      <td>NaN</td>\n",
              "      <td>0.003081</td>\n",
              "      <td>0.003081</td>\n",
              "      <td>0.011514</td>\n",
              "      <td>0.078478</td>\n",
              "      <td>0.032240</td>\n",
              "      <td>1.000000</td>\n",
              "      <td>0.000000</td>\n",
              "      <td>0.000000</td>\n",
              "      <td>0.000000</td>\n",
              "      <td>0.0</td>\n",
              "      <td>1.00</td>\n",
              "      <td>0.2</td>\n",
              "      <td>0.333333</td>\n",
              "      <td>0.9375</td>\n",
              "    </tr>\n",
              "    <tr>\n",
              "      <th>1</th>\n",
              "      <td>NaN</td>\n",
              "      <td>0.000267</td>\n",
              "      <td>0.000267</td>\n",
              "      <td>0.002817</td>\n",
              "      <td>0.000000</td>\n",
              "      <td>0.227158</td>\n",
              "      <td>0.654121</td>\n",
              "      <td>0.302423</td>\n",
              "      <td>0.349803</td>\n",
              "      <td>0.328528</td>\n",
              "      <td>0.2</td>\n",
              "      <td>0.25</td>\n",
              "      <td>0.6</td>\n",
              "      <td>0.333333</td>\n",
              "      <td>0.0625</td>\n",
              "    </tr>\n",
              "    <tr>\n",
              "      <th>2</th>\n",
              "      <td>NaN</td>\n",
              "      <td>0.000495</td>\n",
              "      <td>0.000495</td>\n",
              "      <td>0.024244</td>\n",
              "      <td>0.346150</td>\n",
              "      <td>0.569739</td>\n",
              "      <td>0.724031</td>\n",
              "      <td>0.972203</td>\n",
              "      <td>0.531520</td>\n",
              "      <td>0.528180</td>\n",
              "      <td>1.0</td>\n",
              "      <td>0.00</td>\n",
              "      <td>1.0</td>\n",
              "      <td>0.000000</td>\n",
              "      <td>0.1875</td>\n",
              "    </tr>\n",
              "    <tr>\n",
              "      <th>3</th>\n",
              "      <td>NaN</td>\n",
              "      <td>1.000000</td>\n",
              "      <td>1.000000</td>\n",
              "      <td>1.000000</td>\n",
              "      <td>1.000000</td>\n",
              "      <td>0.381145</td>\n",
              "      <td>0.654121</td>\n",
              "      <td>0.253809</td>\n",
              "      <td>0.682812</td>\n",
              "      <td>0.678925</td>\n",
              "      <td>1.0</td>\n",
              "      <td>0.00</td>\n",
              "      <td>1.0</td>\n",
              "      <td>0.333333</td>\n",
              "      <td>1.0000</td>\n",
              "    </tr>\n",
              "    <tr>\n",
              "      <th>4</th>\n",
              "      <td>NaN</td>\n",
              "      <td>0.000302</td>\n",
              "      <td>0.000302</td>\n",
              "      <td>0.003871</td>\n",
              "      <td>0.006691</td>\n",
              "      <td>0.294278</td>\n",
              "      <td>0.000000</td>\n",
              "      <td>0.680209</td>\n",
              "      <td>0.795899</td>\n",
              "      <td>0.797631</td>\n",
              "      <td>0.8</td>\n",
              "      <td>0.00</td>\n",
              "      <td>0.2</td>\n",
              "      <td>1.000000</td>\n",
              "      <td>0.3750</td>\n",
              "    </tr>\n",
              "    <tr>\n",
              "      <th>5</th>\n",
              "      <td>NaN</td>\n",
              "      <td>0.000000</td>\n",
              "      <td>0.000000</td>\n",
              "      <td>0.000000</td>\n",
              "      <td>0.004384</td>\n",
              "      <td>0.000000</td>\n",
              "      <td>0.000000</td>\n",
              "      <td>0.400103</td>\n",
              "      <td>0.884533</td>\n",
              "      <td>0.892868</td>\n",
              "      <td>0.0</td>\n",
              "      <td>0.00</td>\n",
              "      <td>0.0</td>\n",
              "      <td>0.000000</td>\n",
              "      <td>0.5625</td>\n",
              "    </tr>\n",
              "    <tr>\n",
              "      <th>6</th>\n",
              "      <td>NaN</td>\n",
              "      <td>0.001848</td>\n",
              "      <td>0.001848</td>\n",
              "      <td>0.016655</td>\n",
              "      <td>0.179131</td>\n",
              "      <td>1.000000</td>\n",
              "      <td>0.801038</td>\n",
              "      <td>0.483071</td>\n",
              "      <td>0.946392</td>\n",
              "      <td>0.950359</td>\n",
              "      <td>0.4</td>\n",
              "      <td>0.75</td>\n",
              "      <td>0.6</td>\n",
              "      <td>0.666667</td>\n",
              "      <td>0.8750</td>\n",
              "    </tr>\n",
              "    <tr>\n",
              "      <th>7</th>\n",
              "      <td>NaN</td>\n",
              "      <td>0.000046</td>\n",
              "      <td>0.000046</td>\n",
              "      <td>0.004230</td>\n",
              "      <td>0.045855</td>\n",
              "      <td>0.225229</td>\n",
              "      <td>0.000000</td>\n",
              "      <td>1.000000</td>\n",
              "      <td>1.000000</td>\n",
              "      <td>1.000000</td>\n",
              "      <td>0.8</td>\n",
              "      <td>0.25</td>\n",
              "      <td>0.6</td>\n",
              "      <td>1.000000</td>\n",
              "      <td>0.0000</td>\n",
              "    </tr>\n",
              "  </tbody>\n",
              "</table>\n",
              "</div>"
            ],
            "text/plain": [
              "   PSD_Delta  PSD_Theta  PSD_Alpha  ...  DL-FreeR  DL-CuedR     SUM\n",
              "0        NaN   0.003081   0.003081  ...       0.2  0.333333  0.9375\n",
              "1        NaN   0.000267   0.000267  ...       0.6  0.333333  0.0625\n",
              "2        NaN   0.000495   0.000495  ...       1.0  0.000000  0.1875\n",
              "3        NaN   1.000000   1.000000  ...       1.0  0.333333  1.0000\n",
              "4        NaN   0.000302   0.000302  ...       0.2  1.000000  0.3750\n",
              "5        NaN   0.000000   0.000000  ...       0.0  0.000000  0.5625\n",
              "6        NaN   0.001848   0.001848  ...       0.6  0.666667  0.8750\n",
              "7        NaN   0.000046   0.000046  ...       0.6  1.000000  0.0000\n",
              "\n",
              "[8 rows x 15 columns]"
            ]
          },
          "metadata": {
            "tags": []
          },
          "execution_count": 56
        }
      ]
    },
    {
      "cell_type": "markdown",
      "metadata": {
        "id": "oXXTY4XKSWgn",
        "colab_type": "text"
      },
      "source": [
        "#### **2) Generate Data**"
      ]
    },
    {
      "cell_type": "markdown",
      "metadata": {
        "id": "aY8muHftTBye",
        "colab_type": "text"
      },
      "source": [
        "The section below, I've random the value of each feature in order to demonstrate ML model because the situation of *COVID-19* that I cannot continue run the experiment as expected."
      ]
    },
    {
      "cell_type": "code",
      "metadata": {
        "id": "RiABntThSV0G",
        "colab_type": "code",
        "colab": {}
      },
      "source": [
        "for i in range(7, 60):\n",
        "  "
      ],
      "execution_count": 0,
      "outputs": []
    },
    {
      "cell_type": "code",
      "metadata": {
        "id": "47Xe3DFoPBW9",
        "colab_type": "code",
        "colab": {}
      },
      "source": [
        "df_original"
      ],
      "execution_count": 0,
      "outputs": []
    }
  ]
}