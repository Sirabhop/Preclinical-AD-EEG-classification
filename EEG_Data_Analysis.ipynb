{
  "nbformat": 4,
  "nbformat_minor": 0,
  "metadata": {
    "colab": {
      "name": "EEG Data Analysis.ipynb",
      "provenance": [],
      "collapsed_sections": [
        "GcxaCkoLc0Yh"
      ],
      "toc_visible": true,
      "machine_shape": "hm",
      "include_colab_link": true
    },
    "kernelspec": {
      "name": "python3",
      "display_name": "Python 3"
    },
    "accelerator": "GPU"
  },
  "cells": [
    {
      "cell_type": "markdown",
      "metadata": {
        "id": "view-in-github",
        "colab_type": "text"
      },
      "source": [
        "<a href=\"https://colab.research.google.com/github/Sirabhop/Preclinical-AD-EEG-classification/blob/master/EEG_Data_Analysis.ipynb\" target=\"_parent\"><img src=\"https://colab.research.google.com/assets/colab-badge.svg\" alt=\"Open In Colab\"/></a>"
      ]
    },
    {
      "cell_type": "markdown",
      "metadata": {
        "id": "OVHaci3VjhmI",
        "colab_type": "text"
      },
      "source": [
        "# **Library installation**\n"
      ]
    },
    {
      "cell_type": "code",
      "metadata": {
        "id": "sa75w4oYjgtB",
        "colab_type": "code",
        "outputId": "82db4e3d-7bd4-44d6-8e10-5f25bcdefb89",
        "colab": {
          "base_uri": "https://localhost:8080/",
          "height": 161
        }
      },
      "source": [
        "!pip install mne"
      ],
      "execution_count": 1,
      "outputs": [
        {
          "output_type": "stream",
          "text": [
            "Collecting mne\n",
            "\u001b[?25l  Downloading https://files.pythonhosted.org/packages/01/af/9c64ac8f75b1c932ca5fb16bc27740cd9b9817f9173a6608ae999e82bb6a/mne-0.20.0-py3-none-any.whl (6.5MB)\n",
            "\u001b[K     |████████████████████████████████| 6.6MB 38.6MB/s \n",
            "\u001b[?25hRequirement already satisfied: scipy>=0.17.1 in /usr/local/lib/python3.6/dist-packages (from mne) (1.4.1)\n",
            "Requirement already satisfied: numpy>=1.11.3 in /usr/local/lib/python3.6/dist-packages (from mne) (1.18.2)\n",
            "Installing collected packages: mne\n",
            "Successfully installed mne-0.20.0\n"
          ],
          "name": "stdout"
        }
      ]
    },
    {
      "cell_type": "code",
      "metadata": {
        "id": "33aNObJVkSiG",
        "colab_type": "code",
        "outputId": "a37dc811-6e96-4947-e9f7-56b260f8ad0b",
        "colab": {
          "base_uri": "https://localhost:8080/",
          "height": 214
        }
      },
      "source": [
        "pip install git+https://github.com/raphaelvallat/entropy.git"
      ],
      "execution_count": 2,
      "outputs": [
        {
          "output_type": "stream",
          "text": [
            "Collecting git+https://github.com/raphaelvallat/entropy.git\n",
            "  Cloning https://github.com/raphaelvallat/entropy.git to /tmp/pip-req-build-ryya2upi\n",
            "  Running command git clone -q https://github.com/raphaelvallat/entropy.git /tmp/pip-req-build-ryya2upi\n",
            "Building wheels for collected packages: entropy\n",
            "  Building wheel for entropy (setup.py) ... \u001b[?25l\u001b[?25hdone\n",
            "  Created wheel for entropy: filename=entropy-0.1.1-cp36-none-any.whl size=15459 sha256=ab4a1d2b39f8344b76f0e0c3fad70aef33bdbeebac19dec6e463b565fdd66b16\n",
            "  Stored in directory: /tmp/pip-ephem-wheel-cache-geer50ld/wheels/60/ed/d3/b715e38438f1f39edb1383aea79c578073953b25fa576fc71e\n",
            "Successfully built entropy\n",
            "Installing collected packages: entropy\n",
            "Successfully installed entropy-0.1.1\n"
          ],
          "name": "stdout"
        }
      ]
    },
    {
      "cell_type": "code",
      "metadata": {
        "id": "sVLaPZMma7NG",
        "colab_type": "code",
        "outputId": "b435b9a7-1581-4a0e-d5ff-f0fce813daa5",
        "colab": {
          "base_uri": "https://localhost:8080/",
          "height": 214
        }
      },
      "source": [
        "pip install git+https://github.com/nice-tools/nice.git"
      ],
      "execution_count": 3,
      "outputs": [
        {
          "output_type": "stream",
          "text": [
            "Collecting git+https://github.com/nice-tools/nice.git\n",
            "  Cloning https://github.com/nice-tools/nice.git to /tmp/pip-req-build-knngd_ad\n",
            "  Running command git clone -q https://github.com/nice-tools/nice.git /tmp/pip-req-build-knngd_ad\n",
            "Building wheels for collected packages: nice\n",
            "  Building wheel for nice (setup.py) ... \u001b[?25l\u001b[?25hdone\n",
            "  Created wheel for nice: filename=nice-0.1.dev0-cp36-none-any.whl size=53945 sha256=769760961d11ba5f97059b268c915aed4e9d964234e76d000ac8fbb7ea152fa8\n",
            "  Stored in directory: /tmp/pip-ephem-wheel-cache-i05js8r2/wheels/50/a0/a3/2d473364ff7f9fdd3d41b0da4b4e34ef98c713cfa30695c2b0\n",
            "Successfully built nice\n",
            "Installing collected packages: nice\n",
            "Successfully installed nice-0.1.dev0\n"
          ],
          "name": "stdout"
        }
      ]
    },
    {
      "cell_type": "markdown",
      "metadata": {
        "id": "tADuKCSAc_mS",
        "colab_type": "text"
      },
      "source": [
        "# **Import Data**"
      ]
    },
    {
      "cell_type": "code",
      "metadata": {
        "id": "KaaOY0GlOhEK",
        "colab_type": "code",
        "colab": {}
      },
      "source": [
        "import os\n",
        "import mne\n",
        "import numpy as np\n",
        "import pandas as pd"
      ],
      "execution_count": 0,
      "outputs": []
    },
    {
      "cell_type": "code",
      "metadata": {
        "id": "XPIFFcRjQafx",
        "colab_type": "code",
        "outputId": "15644576-0584-4f09-980f-adca49a0dbf8",
        "colab": {
          "base_uri": "https://localhost:8080/",
          "height": 125
        }
      },
      "source": [
        "from google.colab import drive\n",
        "drive.mount('/content/drive')"
      ],
      "execution_count": 5,
      "outputs": [
        {
          "output_type": "stream",
          "text": [
            "Go to this URL in a browser: https://accounts.google.com/o/oauth2/auth?client_id=947318989803-6bn6qk8qdgf4n4g3pfee6491hc0brc4i.apps.googleusercontent.com&redirect_uri=urn%3aietf%3awg%3aoauth%3a2.0%3aoob&response_type=code&scope=email%20https%3a%2f%2fwww.googleapis.com%2fauth%2fdocs.test%20https%3a%2f%2fwww.googleapis.com%2fauth%2fdrive%20https%3a%2f%2fwww.googleapis.com%2fauth%2fdrive.photos.readonly%20https%3a%2f%2fwww.googleapis.com%2fauth%2fpeopleapi.readonly\n",
            "\n",
            "Enter your authorization code:\n",
            "··········\n",
            "Mounted at /content/drive\n"
          ],
          "name": "stdout"
        }
      ]
    },
    {
      "cell_type": "code",
      "metadata": {
        "id": "whxZBJkzNsVi",
        "colab_type": "code",
        "colab": {}
      },
      "source": [
        "#Set working directory\n",
        "os.chdir(\"/content/drive/My Drive/EEG Data\")"
      ],
      "execution_count": 0,
      "outputs": []
    },
    {
      "cell_type": "code",
      "metadata": {
        "id": "CoCOLG47tjVl",
        "colab_type": "code",
        "colab": {}
      },
      "source": [
        "eog_chs = ('Leye','Reye','UBlink','DBlink','LMast','RMast')\n",
        "trigger = ('Status')\n",
        "#Exclude; Gsr = Skin conductance, Resp = Respiration belt, Plet = plethismograph (Blood pressure, HR), Temp = thermometer\n",
        "exclude_chs = ('EXG7','EXG8','GSR1','GSR2','Erg1','Erg2','Resp','Plet','Temp') \n",
        "subjects = ('SS1', 'SS2', 'SS3', 'SS4', 'SS5', 'SS6', 'SS7', 'SS8')\n",
        "chn_names = ['Fp1','AF3','F7','F3','FC1','FC5','T7','C3','CP1','CP5','P7','P3','Pz','PO3',\n",
        "            'O1','Oz','O2','PO4','P4','P8','CP6','CP2','C4','T8','FC6','FC2','F4','F8',\n",
        "            'AF4','Fp2','Fz','Cz']"
      ],
      "execution_count": 0,
      "outputs": []
    },
    {
      "cell_type": "code",
      "metadata": {
        "id": "6rbs7u0UOsJe",
        "colab_type": "code",
        "outputId": "7ec4e500-803e-45b1-e89e-bf4d163f5f2c",
        "colab": {
          "base_uri": "https://localhost:8080/",
          "height": 410
        }
      },
      "source": [
        "raw = mne.io.read_raw_bdf(\"SS8.bdf\", eog = eog_chs, stim_channel = trigger, exclude = exclude_chs, preload = True)\n",
        "#Measurement Information\n",
        "raw.info"
      ],
      "execution_count": 0,
      "outputs": [
        {
          "output_type": "stream",
          "text": [
            "Opening raw data file SS3_e.fif...\n"
          ],
          "name": "stdout"
        },
        {
          "output_type": "stream",
          "text": [
            "<ipython-input-36-2e12763cf7ac>:1: RuntimeWarning: This filename (SS3_e.fif) does not conform to MNE naming conventions. All raw files should end with raw.fif, raw_sss.fif, raw_tsss.fif, raw.fif.gz, raw_sss.fif.gz, raw_tsss.fif.gz or _meg.fif\n",
            "  raw = mne.io.read_raw_fif(\"SS3_e.fif\", preload = True)\n"
          ],
          "name": "stderr"
        },
        {
          "output_type": "stream",
          "text": [
            "Isotrak not found\n",
            "    Range : 0 ... 4306943 =      0.000 ...  2103.000 secs\n",
            "Ready.\n",
            "Reading 0 ... 4306943  =      0.000 ...  2103.000 secs...\n"
          ],
          "name": "stdout"
        },
        {
          "output_type": "execute_result",
          "data": {
            "text/plain": [
              "<Info | 9 non-empty values\n",
              " bads: []\n",
              " ch_names: Fp1, AF3, F7-0, F3-0, FC1, FC5, T7, C3-0, CP1, CP5, P7, P3, Pz, ...\n",
              " chs: 38 EEG, 6 EOG, 1 STIM\n",
              " custom_ref_applied: False\n",
              " file_id: 4 items (dict)\n",
              " highpass: 0.0 Hz\n",
              " lowpass: 417.0 Hz\n",
              " meas_date: 2020-03-12 13:44:49 UTC\n",
              " meas_id: 4 items (dict)\n",
              " nchan: 45\n",
              " projs: []\n",
              " sfreq: 2048.0 Hz\n",
              ">"
            ]
          },
          "metadata": {
            "tags": []
          },
          "execution_count": 36
        }
      ]
    },
    {
      "cell_type": "code",
      "metadata": {
        "id": "xCcIiVcbqtHI",
        "colab_type": "code",
        "colab": {}
      },
      "source": [
        "#Band-Pass Filtering at 0.5 and 45\n",
        "raw.filter(l_freq = 0.5, h_freq = 45)\n",
        "#Notch Filtering at 50 and 100\n",
        "raw.notch_filter(freqs = (50, 100))"
      ],
      "execution_count": 0,
      "outputs": []
    },
    {
      "cell_type": "markdown",
      "metadata": {
        "id": "GcxaCkoLc0Yh",
        "colab_type": "text"
      },
      "source": [
        "# **Data Preprocessing**\n"
      ]
    },
    {
      "cell_type": "markdown",
      "metadata": {
        "id": "QMkiaEv9rdoS",
        "colab_type": "text"
      },
      "source": [
        "- **Ocular artifacts (EOG)**\n",
        "repairing artifact with SSP EOG"
      ]
    },
    {
      "cell_type": "code",
      "metadata": {
        "id": "-pY8lIvV3_vp",
        "colab_type": "code",
        "colab": {}
      },
      "source": [
        "from mne.preprocessing import compute_proj_eog"
      ],
      "execution_count": 0,
      "outputs": []
    },
    {
      "cell_type": "code",
      "metadata": {
        "id": "yNKK9ew35eKr",
        "colab_type": "code",
        "outputId": "8e25f895-9eb7-423c-f406-ac251074fd75",
        "colab": {
          "base_uri": "https://localhost:8080/",
          "height": 798
        }
      },
      "source": [
        "eog_projs, _ = compute_proj_eog(raw, n_eeg = 1, reject=None, no_proj=True)"
      ],
      "execution_count": 0,
      "outputs": [
        {
          "output_type": "stream",
          "text": [
            "Running EOG SSP computation\n",
            "EOG channel index for this subject is: [32 33 34 35 36 37]\n",
            "Filtering the data to remove DC offset to help distinguish blinks from saccades\n",
            "Setting up band-pass filter from 1 - 10 Hz\n",
            "\n",
            "FIR filter parameters\n",
            "---------------------\n",
            "Designing a two-pass forward and reverse, zero-phase, non-causal bandpass filter:\n",
            "- Windowed frequency-domain design (firwin2) method\n",
            "- Hann window\n",
            "- Lower passband edge: 1.00\n",
            "- Lower transition bandwidth: 0.50 Hz (-12 dB cutoff frequency: 0.75 Hz)\n",
            "- Upper passband edge: 10.00 Hz\n",
            "- Upper transition bandwidth: 0.50 Hz (-12 dB cutoff frequency: 10.25 Hz)\n",
            "- Filter length: 32768 samples (16.000 sec)\n",
            "\n",
            "Now detecting blinks and generating corresponding events\n",
            "Found 92 significant peaks\n",
            "Number of EOG events detected : 92\n",
            "Computing projector\n",
            "Filtering raw data in 1 contiguous segment\n",
            "Setting up band-pass filter from 1 - 35 Hz\n",
            "\n",
            "FIR filter parameters\n",
            "---------------------\n",
            "Designing a two-pass forward and reverse, zero-phase, non-causal bandpass filter:\n",
            "- Windowed frequency-domain design (firwin2) method\n",
            "- Hamming window\n",
            "- Lower passband edge: 1.00\n",
            "- Lower transition bandwidth: 0.50 Hz (-12 dB cutoff frequency: 0.75 Hz)\n",
            "- Upper passband edge: 35.00 Hz\n",
            "- Upper transition bandwidth: 0.50 Hz (-12 dB cutoff frequency: 35.25 Hz)\n",
            "- Filter length: 32768 samples (16.000 sec)\n",
            "\n",
            "92 matching events found\n",
            "No baseline correction applied\n",
            "Not setting metadata\n",
            "0 projection items activated\n",
            "Loading data for 92 events and 821 original time points ...\n",
            "0 bad epochs dropped\n",
            "No gradiometers found. Forcing n_grad to 0\n",
            "No magnetometers found. Forcing n_mag to 0\n",
            "Adding projection: eeg--0.200-0.200-PCA-01\n",
            "Done.\n"
          ],
          "name": "stdout"
        }
      ]
    },
    {
      "cell_type": "markdown",
      "metadata": {
        "id": "_0Thcop4OhXg",
        "colab_type": "text"
      },
      "source": [
        "- **Compare with SSP EOG denoising and without denoising**\n"
      ]
    },
    {
      "cell_type": "code",
      "metadata": {
        "id": "aZuaZEkb8PA9",
        "colab_type": "code",
        "outputId": "322468b9-568e-40e8-f436-3e6abe70f4c6",
        "colab": {
          "base_uri": "https://localhost:8080/",
          "height": 632
        }
      },
      "source": [
        "artifact_picks = mne.pick_channels_regexp(raw.ch_names, regexp = ('Fp*'))\n",
        "for title in ('Without', 'With'):\n",
        "    if title == 'With':\n",
        "        raw.add_proj(eog_projs)\n",
        "    fig = raw.plot(order=artifact_picks, n_channels=len(artifact_picks))\n",
        "    fig.subplots_adjust(top=0.9)  # make room for title\n",
        "    fig.suptitle('{} EOG projectors'.format(title), size='xx-large',\n",
        "                 weight='bold')"
      ],
      "execution_count": 0,
      "outputs": [
        {
          "output_type": "display_data",
          "data": {
            "image/png": "[encoded data removed]",
            "text/plain": [
              "<Figure size 432x288 with 4 Axes>"
            ]
          },
          "metadata": {
            "tags": []
          }
        },
        {
          "output_type": "stream",
          "text": [
            "1 projection items deactivated\n"
          ],
          "name": "stdout"
        },
        {
          "output_type": "display_data",
          "data": {
            "image/png": "[encoded data removed]",
            "text/plain": [
              "<Figure size 432x288 with 5 Axes>"
            ]
          },
          "metadata": {
            "tags": []
          }
        }
      ]
    },
    {
      "cell_type": "code",
      "metadata": {
        "id": "Qe7wUMd-o2JH",
        "colab_type": "code",
        "outputId": "a14de3fd-9455-4bb7-80c0-cac01fa575f6",
        "colab": {
          "base_uri": "https://localhost:8080/",
          "height": 52
        }
      },
      "source": [
        "#Apply projection\n",
        "raw.add_proj(eog_projs)"
      ],
      "execution_count": 0,
      "outputs": [
        {
          "output_type": "stream",
          "text": [
            "1 projection items deactivated\n"
          ],
          "name": "stdout"
        },
        {
          "output_type": "execute_result",
          "data": {
            "text/plain": [
              "<RawEDF | SS8.bdf, 39 x 4790272 (2339.0 s), ~1.39 GB, data loaded>"
            ]
          },
          "metadata": {
            "tags": []
          },
          "execution_count": 51
        }
      ]
    },
    {
      "cell_type": "markdown",
      "metadata": {
        "id": "6Yg6sht90WWe",
        "colab_type": "text"
      },
      "source": [
        "*   **Epoching**"
      ]
    },
    {
      "cell_type": "code",
      "metadata": {
        "id": "juFE9KsSnuPS",
        "colab_type": "code",
        "outputId": "164b1c80-87e2-48b9-87b9-cfc8329e4f22",
        "colab": {
          "base_uri": "https://localhost:8080/",
          "height": 70
        }
      },
      "source": [
        "events = mne.find_events(raw, stim_channel=trigger)\n",
        "event_dict = {'IR_en':2, 'IR_ct1':3, 'IR_fr':4,'IR_ct2':5, 'IR_cr':6, 'IR_rc':7,\n",
        "              'WCST_start':8, 'WCST_end':9, \n",
        "              'DR_ct1':10, 'DR_fr':11,'DR_ct2':12, 'DR_cr':13, 'DR_ct3':14, #Missed when recognition\n",
        "              'MoCA':15}\n",
        "#Visualize event ID\n",
        "#fig = mne.viz.plot_events(events, event_id=event_dict, sfreq=raw.info['sfreq'], first_samp=raw.first_samp)"
      ],
      "execution_count": 0,
      "outputs": [
        {
          "output_type": "stream",
          "text": [
            "Trigger channel has a non-zero initial value of 65537 (consider using initial_event=True to detect this event)\n",
            "7 events found\n",
            "Event IDs: [2 3 4 5 6 7 8]\n"
          ],
          "name": "stdout"
        }
      ]
    },
    {
      "cell_type": "code",
      "metadata": {
        "id": "uUpBcznpmwNY",
        "colab_type": "code",
        "outputId": "8bfd0fa7-f61e-4aa1-e0ce-801dd4941fda",
        "colab": {
          "base_uri": "https://localhost:8080/",
          "height": 87
        }
      },
      "source": [
        "data = mne.Epochs(raw, events)#, event_id = event_dict , preload = True)"
      ],
      "execution_count": 0,
      "outputs": [
        {
          "output_type": "stream",
          "text": [
            "7 matching events found\n",
            "Applying baseline correction (mode: mean)\n",
            "Not setting metadata\n",
            "0 projection items activated\n"
          ],
          "name": "stdout"
        }
      ]
    },
    {
      "cell_type": "markdown",
      "metadata": {
        "id": "T8LXIte0RrV9",
        "colab_type": "text"
      },
      "source": [
        "# **Feature Extraction**"
      ]
    },
    {
      "cell_type": "markdown",
      "metadata": {
        "id": "dngxH8LlkxQT",
        "colab_type": "text"
      },
      "source": [
        "### **1) Power Spectral Density (PSD)** x5\n",
        "*Delta (1-4Hz), Theta (4-8Hz), Alpha (8-12Hz), Beta (12-30Hz), Gamma (30-45Hz; Gaubert et al., 2019)*"
      ]
    },
    {
      "cell_type": "code",
      "metadata": {
        "id": "lDNW6FBhbslb",
        "colab_type": "code",
        "colab": {}
      },
      "source": [
        "def psd(data, method):\n",
        "  from mne.time_frequency import psd_welch\n",
        "\n",
        "  psd_delta, freq_delta   = mne.time_frequency.psd_welch(data, fmin = 1, fmax = 4)\n",
        "  psd_theta, freq_theta   = mne.time_frequency.psd_welch(data, fmin = 4, fmax = 8)\n",
        "  psd_alpha, freq_alpha   = mne.time_frequency.psd_welch(data, fmin = 8, fmax = 12)\n",
        "  psd_beta, freq_beta     = mne.time_frequency.psd_welch(data, fmin = 12, fmax = 30)\n",
        "  psd_gamma, freq_gamma   = mne.time_frequency.psd_welch(data, fmin = 30, fmax = 45)\n",
        "\n",
        "  if method == 'mean':\n",
        "    psds_m_d = np.mean(psd_delta)\n",
        "    psds_m_th = np.mean(psd_theta)\n",
        "    psds_m_al = np.mean(psd_alpha)\n",
        "    psds_m_be = np.mean(psd_beta)\n",
        "    psds_m_gm = np.mean(psd_gamma)\n",
        "  elif method == 'median':\n",
        "    psds_m_d = np.median(psd_delta)\n",
        "    psds_m_th = np.median(psd_theta)\n",
        "    psds_m_al = np.median(psd_alpha)\n",
        "    psds_m_be = np.median(psd_beta)\n",
        "    psds_m_gm = np.median(psd_gamma)\n",
        "  psd_list = [psds_m_d, psds_m_th, psds_m_al, psds_m_be, psds_m_gm]\n",
        "  return psd_list"
      ],
      "execution_count": 0,
      "outputs": []
    },
    {
      "cell_type": "code",
      "metadata": {
        "id": "LmHZe2jTVWx6",
        "colab_type": "code",
        "colab": {}
      },
      "source": [
        "#Test\n",
        "psd(data, 'mean')"
      ],
      "execution_count": 0,
      "outputs": []
    },
    {
      "cell_type": "markdown",
      "metadata": {
        "id": "nvcf0_mg8ZqW",
        "colab_type": "text"
      },
      "source": [
        "### **2) Median Spectral Frequency (MSF)** x1"
      ]
    },
    {
      "cell_type": "code",
      "metadata": {
        "id": "oTlTamcF8eEf",
        "colab_type": "code",
        "colab": {}
      },
      "source": [
        "def MSF(data):\n",
        "  from mne.time_frequency import psd_welch\n",
        "  \n",
        "  psd_total, freq_total = mne.time_frequency.psd_welch(data, fmin = 1, fmax = 40)\n",
        "  psd_m_total = np.median(psd_total)\n",
        "  return psd_m_total"
      ],
      "execution_count": 0,
      "outputs": []
    },
    {
      "cell_type": "code",
      "metadata": {
        "id": "QerdWuSSEK7_",
        "colab_type": "code",
        "outputId": "a65f84cd-4e81-44c7-d594-10e2fc780c8b",
        "colab": {
          "base_uri": "https://localhost:8080/",
          "height": 52
        }
      },
      "source": [
        "#Test\n",
        "MSF(data)"
      ],
      "execution_count": 0,
      "outputs": [
        {
          "output_type": "stream",
          "text": [
            "Effective window size : 0.125 (s)\n"
          ],
          "name": "stdout"
        },
        {
          "output_type": "execute_result",
          "data": {
            "text/plain": [
              "5.863784124730185e-13"
            ]
          },
          "metadata": {
            "tags": []
          },
          "execution_count": 70
        }
      ]
    },
    {
      "cell_type": "markdown",
      "metadata": {
        "id": "p4eWQ3Wp_uFq",
        "colab_type": "text"
      },
      "source": [
        "### **3) Spectral Entropy (SE)** x1\n"
      ]
    },
    {
      "cell_type": "markdown",
      "metadata": {
        "id": "t4SZhTUEMEg0",
        "colab_type": "text"
      },
      "source": [
        "Using [Shannon entropy of the PSD of data (Inouye, T. et al. (1991)](https://raphaelvallat.com/entropy/build/html/generated/entropy.spectral_entropy.html#entropy.spectral_entropy)\n"
      ]
    },
    {
      "cell_type": "code",
      "metadata": {
        "id": "hzq3cX6oCk9L",
        "colab_type": "code",
        "colab": {}
      },
      "source": [
        "def SpectralEntropy(data):\n",
        "  import entropy\n",
        "\n",
        "  #Convert mne object to dataframe\n",
        "  #ch_names = ['Fp1','AF3','F7','F3','FC1','FC5','T7','C3','CP1','CP5','P7','P3','Pz','PO3',\n",
        "   #         'O1','Oz','O2','PO4','P4','P8','CP6','CP2','C4','T8','FC6','FC2','F4','F8',\n",
        "    #        'AF4','Fp2','Fz','Cz'] #32 electrodes\n",
        "  df = data.to_data_frame(index = None)\n",
        "\n",
        "  #Convert dataframe to array\n",
        "  for x in data.info['ch_names']:\n",
        "    array = np.array(df[x])\n",
        "    array = np.concatenate([array, array])\n",
        "\n",
        "  #Calculate entropy\n",
        "  Spectral_Entropy = entropy.spectral_entropy(array, sf = 1000, method = 'welch')\n",
        "  return Spectral_Entropy"
      ],
      "execution_count": 0,
      "outputs": []
    },
    {
      "cell_type": "code",
      "metadata": {
        "id": "TcI9dsUeAI8f",
        "colab_type": "code",
        "outputId": "e7059a85-2e2d-49cc-b53d-c18c1b4936fc",
        "colab": {
          "base_uri": "https://localhost:8080/",
          "height": 52
        }
      },
      "source": [
        "#Test\n",
        "SpectralEntropy(data)"
      ],
      "execution_count": 0,
      "outputs": [
        {
          "output_type": "stream",
          "text": [
            "Loading data for 7 events and 1435 original time points ...\n"
          ],
          "name": "stdout"
        },
        {
          "output_type": "execute_result",
          "data": {
            "text/plain": [
              "2.4839608140291176"
            ]
          },
          "metadata": {
            "tags": []
          },
          "execution_count": 72
        }
      ]
    },
    {
      "cell_type": "markdown",
      "metadata": {
        "id": "0FtekCN8Mjpx",
        "colab_type": "text"
      },
      "source": [
        "### **4) Algorithmic Complexity (AC)** x1\n",
        "Estimated using Kolmogorov Complexity"
      ]
    },
    {
      "cell_type": "code",
      "metadata": {
        "id": "q4BAxfFbb1NU",
        "colab_type": "code",
        "colab": {}
      },
      "source": [
        "def AlgorithmicComplexity(data):\n",
        "  from nice.algorithms.information_theory import epochs_compute_komplexity\n",
        "  import math\n",
        "  #nbins = Number of bins to use for symbolic transformation\n",
        "  #Only {0,1,2,3,4,5,6,7,8,9} so n = 10 -> the bit would be log2_10\n",
        "  AC = epochs_compute_komplexity(data, nbins = math.log2(10))\n",
        "  AC = pd.DataFrame(AC).mean().mean()\n",
        "  return AC"
      ],
      "execution_count": 0,
      "outputs": []
    },
    {
      "cell_type": "code",
      "metadata": {
        "id": "Px0mviqTtJAn",
        "colab_type": "code",
        "outputId": "2d31f147-c16a-4d24-8e49-c9bf66d651e6",
        "colab": {
          "base_uri": "https://localhost:8080/",
          "height": 70
        }
      },
      "source": [
        "#Test\n",
        "AlgorithmicComplexity(data)"
      ],
      "execution_count": 0,
      "outputs": [
        {
          "output_type": "stream",
          "text": [
            "Running KolmogorovComplexity\n",
            "Elapsed time 0.6111586093902588 sec\n"
          ],
          "name": "stdout"
        },
        {
          "output_type": "execute_result",
          "data": {
            "text/plain": [
              "0.12810633399701346"
            ]
          },
          "metadata": {
            "tags": []
          },
          "execution_count": 89
        }
      ]
    },
    {
      "cell_type": "markdown",
      "metadata": {
        "id": "1mEsDFDCQh9A",
        "colab_type": "text"
      },
      "source": [
        "### **5) Functional Connectivity (wSMI)** x2\n",
        " weighted mutual symbolic information (wSMI) were summarized by calculating the median value from each electrodes\n",
        "1.   wSMI of theta \n",
        "2.   wSMI of alpha\n",
        "\n"
      ]
    },
    {
      "cell_type": "code",
      "metadata": {
        "id": "8EdROfbIyv3p",
        "colab_type": "code",
        "colab": {}
      },
      "source": [
        "def wSMI(data, method):\n",
        "  from nice.algorithms.connectivity import epochs_compute_wsmi\n",
        "  from mne import filter\n",
        "\n",
        "  #Filter data\n",
        "  raw_theta = raw\n",
        "  raw_theta.filter(l_freq = 4, h_freq = 8)\n",
        "  raw_alpha = raw\n",
        "  raw_alpha.filter(l_freq = 8, h_freq = 12)\n",
        "\n",
        "  events = mne.find_events(raw, stim_channel=trigger)\n",
        "\n",
        "  #Epoching\n",
        "  data_theta = mne.Epochs(raw_theta, events , preload = True)\n",
        "  data_alpha = mne.Epochs(raw_alpha, events , preload = True)\n",
        "\n",
        "  #wSMI\n",
        "  wsmi_t, smi_t, sym_t, count_t = epochs_compute_wsmi(data_theta, kernel = 3, tau = 21, method_params = {'bypass_csd': True})\n",
        "  wsmi_a, smi_a, sym_a, count_a = epochs_compute_wsmi(data_alpha, kernel = 3, tau = 41, method_params = {'bypass_csd': True})\n",
        "  \n",
        "  #Method\n",
        "  if method == 'mean':\n",
        "    wsmi = [np.mean(wsmi_t), np.mean(wsmi_a)]\n",
        "  elif method == 'median':\n",
        "    wsmi = [np.median(wsmi_t), np.median(wsmi_a)]\n",
        "  return wsmi"
      ],
      "execution_count": 0,
      "outputs": []
    },
    {
      "cell_type": "code",
      "metadata": {
        "id": "qlisWVdc1BRA",
        "colab_type": "code",
        "outputId": "d74321f1-97f9-495d-8389-83ba3d310ddb",
        "colab": {
          "base_uri": "https://localhost:8080/",
          "height": 923
        }
      },
      "source": [
        "#Test\n",
        "wSMI(data, 'mean')"
      ],
      "execution_count": 0,
      "outputs": [
        {
          "output_type": "stream",
          "text": [
            "Filtering raw data in 1 contiguous segment\n",
            "Setting up band-pass filter from 4 - 8 Hz\n",
            "\n",
            "FIR filter parameters\n",
            "---------------------\n",
            "Designing a one-pass, zero-phase, non-causal bandpass filter:\n",
            "- Windowed time-domain design (firwin) method\n",
            "- Hamming window with 0.0194 passband ripple and 53 dB stopband attenuation\n",
            "- Lower passband edge: 4.00\n",
            "- Lower transition bandwidth: 2.00 Hz (-6 dB cutoff frequency: 3.00 Hz)\n",
            "- Upper passband edge: 8.00 Hz\n",
            "- Upper transition bandwidth: 2.00 Hz (-6 dB cutoff frequency: 9.00 Hz)\n",
            "- Filter length: 3379 samples (1.650 sec)\n",
            "\n",
            "Filtering raw data in 1 contiguous segment\n",
            "Setting up band-pass filter from 8 - 12 Hz\n",
            "\n",
            "FIR filter parameters\n",
            "---------------------\n",
            "Designing a one-pass, zero-phase, non-causal bandpass filter:\n",
            "- Windowed time-domain design (firwin) method\n",
            "- Hamming window with 0.0194 passband ripple and 53 dB stopband attenuation\n",
            "- Lower passband edge: 8.00\n",
            "- Lower transition bandwidth: 2.00 Hz (-6 dB cutoff frequency: 7.00 Hz)\n",
            "- Upper passband edge: 12.00 Hz\n",
            "- Upper transition bandwidth: 3.00 Hz (-6 dB cutoff frequency: 13.50 Hz)\n",
            "- Filter length: 3379 samples (1.650 sec)\n",
            "\n",
            "14 matching events found\n",
            "Applying baseline correction (mode: mean)\n",
            "Not setting metadata\n",
            "0 projection items activated\n",
            "Loading data for 14 events and 1435 original time points ...\n",
            "0 bad epochs dropped\n",
            "14 matching events found\n",
            "Applying baseline correction (mode: mean)\n",
            "Not setting metadata\n",
            "0 projection items activated\n",
            "Loading data for 14 events and 1435 original time points ...\n",
            "0 bad epochs dropped\n",
            "Cannot autodetect number of jobs\n",
            "Bypassing CSD\n",
            "Filtering  at 32.51 Hz\n",
            "Performing symbolic transformation\n",
            "Running wsmi with python...\n",
            "Cannot autodetect number of jobs\n",
            "Bypassing CSD\n",
            "Filtering  at 16.65 Hz\n",
            "Performing symbolic transformation\n",
            "Running wsmi with python...\n"
          ],
          "name": "stdout"
        },
        {
          "output_type": "execute_result",
          "data": {
            "text/plain": [
              "0.04250062308722933"
            ]
          },
          "metadata": {
            "tags": []
          },
          "execution_count": 101
        }
      ]
    },
    {
      "cell_type": "markdown",
      "metadata": {
        "id": "uG9S2rA38EOE",
        "colab_type": "text"
      },
      "source": [
        "# **Buiding DataFrame**"
      ]
    },
    {
      "cell_type": "code",
      "metadata": {
        "id": "8fmjegtsy1qu",
        "colab_type": "code",
        "colab": {}
      },
      "source": [
        "def getDataFrame_bdf(subjectID):\n",
        "  EEG_feature_names = ['id', 'PSD_Delta', 'PSD_Theta', 'PSD_Alpha', 'PSD_Beta', 'PSD_Gamma', 'MSF', 'SE', 'AC', 'wSMI_Alpha', 'wSMI_Theta']\n",
        "  df = pd.DataFrame(None, columns = EEG_feature_names)\n",
        "\n",
        "  from mne.preprocessing import compute_proj_eog\n",
        "\n",
        "  os.chdir('/content/drive/My Drive/EEG Data')\n",
        "  \n",
        "  eog_chs = ('Leye','Reye','UBlink','DBlink','LMast','RMast')\n",
        "  trigger = ('Status')\n",
        "  #Exclude; Gsr = Skin conductance, Resp = Respiration belt, Plet = plethismograph (Blood pressure, HR), Temp = thermometer\n",
        "  exclude_chs = ('EXG7','EXG8','GSR1','GSR2','Erg1','Erg2','Resp','Plet','Temp') \n",
        "  subjects = ('SS1', 'SS2', 'SS3', 'SS4', 'SS5', 'SS6', 'SS7', 'SS8')\n",
        "  chn_names = ['Fp1','AF3','F7','F3','FC1','FC5','T7','C3','CP1','CP5','P7','P3',\n",
        "               'Pz','PO3','O1','Oz','O2','PO4','P4','P8','CP6','CP2','C4','T8',\n",
        "               'FC6','FC2','F4','F8','AF4','Fp2','Fz','Cz']\n",
        "\n",
        "  #Subject ID expected to be list\n",
        "  for SS in subjectID:\n",
        "    raw = mne.io.read_raw_bdf(SS+'.bdf', exclude = exclude_chs, eog = eog_chs, stim_channel = trigger, preload = True)\n",
        "    \n",
        "    #Filter\n",
        "    raw.filter(l_freq = 0.5, h_freq = 45)\n",
        "    raw.notch_filter(freqs = (50, 100))\n",
        "\n",
        "    #Denosing SSP\n",
        "    eog_projs, _ = compute_proj_eog(raw, n_eeg = 1, reject=None, no_proj=True)\n",
        "    raw.add_proj(eog_projs)\n",
        "\n",
        "    #Epoching\n",
        "    events = mne.find_events(raw, stim_channel=trigger)\n",
        "    epoch = mne.Epochs(raw, events, preload = True)\n",
        "\n",
        "    #5 fetures\n",
        "    features = {'id': None, 'PSD_Delta': None, 'PSD_Theta': None, 'PSD_Alpha': None, 'PSD_Beta': None,\n",
        "                'PSD_Gamma': None, 'MSF': None, 'SE': None, 'AC': None, 'wSMI_Alpha': None, 'wSMI_Theta': None}    \n",
        "    psd_total = psd(epoch, 'mean')\n",
        "\n",
        "    features['id'] = SS\n",
        "    features['PSD_Delta'] = psd_total[0]\n",
        "    features['PSD_Theta'] = psd_total[1]\n",
        "    features['PSD_Alpha'] = psd_total[2]\n",
        "    features['PSD_Beta'] = psd_total[3]\n",
        "    features['PSD_Gamma'] = psd_total[4]\n",
        "    features['MSF'] = MSF(epoch)\n",
        "    features['SE'] = SpectralEntropy(epoch)\n",
        "    features['AC'] = AlgorithmicComplexity(epoch)\n",
        "\n",
        "    wSMI_total = wSMI(epoch, 'mean')\n",
        "    features['wSMI_Theta'] = wSMI_total[0]\n",
        "    features['wSMI_Alpha'] = wSMI_total[1]\n",
        "\n",
        "    #Build DataFrame\n",
        "    df = df.append(features, ignore_index = True)\n",
        "  return df"
      ],
      "execution_count": 0,
      "outputs": []
    },
    {
      "cell_type": "code",
      "metadata": {
        "id": "vGtZ8AybU5_I",
        "colab_type": "code",
        "colab": {}
      },
      "source": [
        "def getDataFrame_fif(subjectID):\n",
        "  EEG_feature_names = ['id', 'PSD_Delta', 'PSD_Theta', 'PSD_Alpha', 'PSD_Beta', 'PSD_Gamma', 'MSF', 'SE', 'AC', 'wSMI_Alpha', 'wSMI_Theta']\n",
        "  df = pd.DataFrame(None, columns = EEG_feature_names)\n",
        "\n",
        "  from mne.preprocessing import compute_proj_eog\n",
        "\n",
        "  os.chdir('/content/drive/My Drive/EEG Data')\n",
        "\n",
        "  #Subject ID expected to be list\n",
        "  for SS in subjectID:\n",
        "    raw = mne.io.read_raw_fif(SS+'.fif', preload = True)\n",
        "    #Filter\n",
        "    raw.filter(l_freq = 0.5, h_freq = 45)\n",
        "    raw.notch_filter(freqs = (50, 100))\n",
        "\n",
        "    #Denosing SSP\n",
        "    eog_projs, _ = compute_proj_eog(raw, n_eeg = 1, reject=None, no_proj=True)\n",
        "    raw.add_proj(eog_projs)\n",
        "\n",
        "    #Epoching\n",
        "    events = mne.find_events(raw, stim_channel=trigger)\n",
        "    epoch = mne.Epochs(raw, events , preload = True)\n",
        "\n",
        "    #5 fetures\n",
        "    features = {'id': None, 'PSD_Delta': None, 'PSD_Theta': None, 'PSD_Alpha': None, 'PSD_Beta': None,\n",
        "                'PSD_Gamma': None, 'MSF': None, 'SE': None, 'AC': None, 'wSMI_Alpha': None, 'wSMI_Theta': None}    \n",
        "    psd_total = psd(epoch, 'mean')\n",
        "\n",
        "    features['id'] = SS\n",
        "    features['PSD_Delta'] = psd_total[0]\n",
        "    features['PSD_Theta'] = psd_total[1]\n",
        "    features['PSD_Alpha'] = psd_total[2]\n",
        "    features['PSD_Beta'] = psd_total[3]\n",
        "    features['PSD_Gamma'] = psd_total[4]\n",
        "    features['MSF'] = MSF(epoch)\n",
        "    features['SE'] = SpectralEntropy(epoch)\n",
        "    features['AC'] = AlgorithmicComplexity(epoch)\n",
        "\n",
        "    wSMI_total = wSMI(epoch, 'mean')\n",
        "    features['wSMI_Theta'] = wSMI_total[0]\n",
        "    features['wSMI_Alpha'] = wSMI_total[1]\n",
        "\n",
        "    #Build DataFrame\n",
        "    df = df.append(features, ignore_index = True)\n",
        "  return df"
      ],
      "execution_count": 0,
      "outputs": []
    },
    {
      "cell_type": "code",
      "metadata": {
        "id": "x_vTi-_3U52W",
        "colab_type": "code",
        "colab": {}
      },
      "source": [
        "#Compute EEG feature\n",
        "subjectID_fif = ['SS1', 'SS2', 'SS3']\n",
        "df = getDataFrame_fif(subjectID_fif)\n",
        "\n",
        "subjectID_bdf = ['SS4', 'SS5', 'SS6', 'SS7', 'SS8']\n",
        "df2 = getDataFrame_bdf(subjectID_bdf)\n",
        "\n",
        "df = df.append(df2, ignore_index = True)\n",
        "\n",
        "#Export EEG feature\n",
        "df.to_csv('EEG_features.csv')"
      ],
      "execution_count": 0,
      "outputs": []
    },
    {
      "cell_type": "code",
      "metadata": {
        "id": "vp93dXzO4N1D",
        "colab_type": "code",
        "colab": {
          "base_uri": "https://localhost:8080/",
          "height": 457
        },
        "outputId": "2ee613d7-c271-4805-98f7-a4fe6dcf4886"
      },
      "source": [
        "#Import data\n",
        "FCSRT = pd.read_csv(\"FCSRT.csv\")\n",
        "FCSRT.drop('id', axis = 1, inplace = True)\n",
        "MoCA = pd.read_csv(\"MoCA.csv\", usecols = ['SUM'])\n",
        "EEG = pd.read_csv(\"EEG_features.csv\")\n",
        "\n",
        "df_original = pd.concat([EEG,FCSRT,MoCA], axis = 1)\n",
        "df_original.drop(['Unnamed: 0'], inplace = True, axis = 1)\n",
        "df_original.rename(columns = {'SUM':'MoCA'})"
      ],
      "execution_count": 93,
      "outputs": [
        {
          "output_type": "execute_result",
          "data": {
            "text/html": [
              "<div>\n",
              "<style scoped>\n",
              "    .dataframe tbody tr th:only-of-type {\n",
              "        vertical-align: middle;\n",
              "    }\n",
              "\n",
              "    .dataframe tbody tr th {\n",
              "        vertical-align: top;\n",
              "    }\n",
              "\n",
              "    .dataframe thead th {\n",
              "        text-align: right;\n",
              "    }\n",
              "</style>\n",
              "<table border=\"1\" class=\"dataframe\">\n",
              "  <thead>\n",
              "    <tr style=\"text-align: right;\">\n",
              "      <th></th>\n",
              "      <th>id</th>\n",
              "      <th>PSD_Delta</th>\n",
              "      <th>PSD_Theta</th>\n",
              "      <th>PSD_Alpha</th>\n",
              "      <th>PSD_Beta</th>\n",
              "      <th>PSD_Gamma</th>\n",
              "      <th>MSF</th>\n",
              "      <th>SE</th>\n",
              "      <th>AC</th>\n",
              "      <th>wSMI_Alpha</th>\n",
              "      <th>wSMI_Theta</th>\n",
              "      <th>IR-FreeR</th>\n",
              "      <th>IR-CuedR</th>\n",
              "      <th>DL-FreeR</th>\n",
              "      <th>DL-CuedR</th>\n",
              "      <th>MoCA</th>\n",
              "    </tr>\n",
              "  </thead>\n",
              "  <tbody>\n",
              "    <tr>\n",
              "      <th>0</th>\n",
              "      <td>SS1</td>\n",
              "      <td>NaN</td>\n",
              "      <td>7.279026e-12</td>\n",
              "      <td>7.279026e-12</td>\n",
              "      <td>1.973301e-12</td>\n",
              "      <td>1.858662e-12</td>\n",
              "      <td>2.040890e-13</td>\n",
              "      <td>2.513122</td>\n",
              "      <td>0.047027</td>\n",
              "      <td>0.061248</td>\n",
              "      <td>0.029890</td>\n",
              "      <td>6</td>\n",
              "      <td>8</td>\n",
              "      <td>7</td>\n",
              "      <td>5</td>\n",
              "      <td>21</td>\n",
              "    </tr>\n",
              "    <tr>\n",
              "      <th>1</th>\n",
              "      <td>SS2</td>\n",
              "      <td>NaN</td>\n",
              "      <td>1.462029e-12</td>\n",
              "      <td>1.462029e-12</td>\n",
              "      <td>8.044949e-13</td>\n",
              "      <td>3.229391e-13</td>\n",
              "      <td>3.377435e-13</td>\n",
              "      <td>2.476574</td>\n",
              "      <td>0.052528</td>\n",
              "      <td>0.069825</td>\n",
              "      <td>0.033773</td>\n",
              "      <td>7</td>\n",
              "      <td>5</td>\n",
              "      <td>9</td>\n",
              "      <td>5</td>\n",
              "      <td>7</td>\n",
              "    </tr>\n",
              "    <tr>\n",
              "      <th>2</th>\n",
              "      <td>SS3</td>\n",
              "      <td>NaN</td>\n",
              "      <td>1.932887e-12</td>\n",
              "      <td>1.932887e-12</td>\n",
              "      <td>3.683971e-12</td>\n",
              "      <td>7.096728e-12</td>\n",
              "      <td>5.726507e-13</td>\n",
              "      <td>2.483961</td>\n",
              "      <td>0.064709</td>\n",
              "      <td>0.075091</td>\n",
              "      <td>0.036253</td>\n",
              "      <td>11</td>\n",
              "      <td>4</td>\n",
              "      <td>11</td>\n",
              "      <td>4</td>\n",
              "      <td>9</td>\n",
              "    </tr>\n",
              "    <tr>\n",
              "      <th>3</th>\n",
              "      <td>SS4</td>\n",
              "      <td>NaN</td>\n",
              "      <td>2.068102e-09</td>\n",
              "      <td>2.068102e-09</td>\n",
              "      <td>1.348127e-10</td>\n",
              "      <td>1.989188e-11</td>\n",
              "      <td>4.433322e-13</td>\n",
              "      <td>2.476574</td>\n",
              "      <td>0.051643</td>\n",
              "      <td>0.079850</td>\n",
              "      <td>0.038422</td>\n",
              "      <td>11</td>\n",
              "      <td>4</td>\n",
              "      <td>11</td>\n",
              "      <td>5</td>\n",
              "      <td>22</td>\n",
              "    </tr>\n",
              "    <tr>\n",
              "      <th>4</th>\n",
              "      <td>SS5</td>\n",
              "      <td>NaN</td>\n",
              "      <td>1.534075e-12</td>\n",
              "      <td>1.534075e-12</td>\n",
              "      <td>9.461273e-13</td>\n",
              "      <td>4.538757e-13</td>\n",
              "      <td>3.837676e-13</td>\n",
              "      <td>2.407455</td>\n",
              "      <td>0.059398</td>\n",
              "      <td>0.083222</td>\n",
              "      <td>0.040101</td>\n",
              "      <td>10</td>\n",
              "      <td>4</td>\n",
              "      <td>7</td>\n",
              "      <td>7</td>\n",
              "      <td>12</td>\n",
              "    </tr>\n",
              "    <tr>\n",
              "      <th>5</th>\n",
              "      <td>SS6</td>\n",
              "      <td>NaN</td>\n",
              "      <td>9.100334e-13</td>\n",
              "      <td>9.100334e-13</td>\n",
              "      <td>4.259585e-13</td>\n",
              "      <td>4.087238e-13</td>\n",
              "      <td>1.819820e-13</td>\n",
              "      <td>2.407455</td>\n",
              "      <td>0.054304</td>\n",
              "      <td>0.085931</td>\n",
              "      <td>0.041447</td>\n",
              "      <td>6</td>\n",
              "      <td>4</td>\n",
              "      <td>6</td>\n",
              "      <td>4</td>\n",
              "      <td>15</td>\n",
              "    </tr>\n",
              "    <tr>\n",
              "      <th>6</th>\n",
              "      <td>SS7</td>\n",
              "      <td>NaN</td>\n",
              "      <td>4.729273e-12</td>\n",
              "      <td>4.729273e-12</td>\n",
              "      <td>2.664199e-12</td>\n",
              "      <td>3.828348e-12</td>\n",
              "      <td>8.676798e-13</td>\n",
              "      <td>2.492098</td>\n",
              "      <td>0.055813</td>\n",
              "      <td>0.088404</td>\n",
              "      <td>0.042781</td>\n",
              "      <td>8</td>\n",
              "      <td>7</td>\n",
              "      <td>9</td>\n",
              "      <td>6</td>\n",
              "      <td>20</td>\n",
              "    </tr>\n",
              "    <tr>\n",
              "      <th>7</th>\n",
              "      <td>SS8</td>\n",
              "      <td>NaN</td>\n",
              "      <td>1.005613e-12</td>\n",
              "      <td>1.005613e-12</td>\n",
              "      <td>9.943775e-13</td>\n",
              "      <td>1.220265e-12</td>\n",
              "      <td>3.364207e-13</td>\n",
              "      <td>2.407455</td>\n",
              "      <td>0.065214</td>\n",
              "      <td>0.090389</td>\n",
              "      <td>0.043857</td>\n",
              "      <td>10</td>\n",
              "      <td>5</td>\n",
              "      <td>9</td>\n",
              "      <td>7</td>\n",
              "      <td>6</td>\n",
              "    </tr>\n",
              "  </tbody>\n",
              "</table>\n",
              "</div>"
            ],
            "text/plain": [
              "    id  PSD_Delta     PSD_Theta  ...  DL-FreeR  DL-CuedR  MoCA\n",
              "0  SS1        NaN  7.279026e-12  ...         7         5    21\n",
              "1  SS2        NaN  1.462029e-12  ...         9         5     7\n",
              "2  SS3        NaN  1.932887e-12  ...        11         4     9\n",
              "3  SS4        NaN  2.068102e-09  ...        11         5    22\n",
              "4  SS5        NaN  1.534075e-12  ...         7         7    12\n",
              "5  SS6        NaN  9.100334e-13  ...         6         4    15\n",
              "6  SS7        NaN  4.729273e-12  ...         9         6    20\n",
              "7  SS8        NaN  1.005613e-12  ...         9         7     6\n",
              "\n",
              "[8 rows x 16 columns]"
            ]
          },
          "metadata": {
            "tags": []
          },
          "execution_count": 93
        }
      ]
    },
    {
      "cell_type": "code",
      "metadata": {
        "id": "okavB_8at6G5",
        "colab_type": "code",
        "colab": {}
      },
      "source": [
        "df_original.drop('id', axis = 1, inplace=True)"
      ],
      "execution_count": 0,
      "outputs": []
    },
    {
      "cell_type": "markdown",
      "metadata": {
        "id": "TRYsABltpXhk",
        "colab_type": "text"
      },
      "source": [
        "# **Data Preprocessing**\n",
        "*   Data Scaling\n",
        "\n",
        "\n",
        "\n"
      ]
    },
    {
      "cell_type": "code",
      "metadata": {
        "id": "u0UW2CsBpXHy",
        "colab_type": "code",
        "colab": {}
      },
      "source": [
        "from sklearn import preprocessing"
      ],
      "execution_count": 0,
      "outputs": []
    },
    {
      "cell_type": "code",
      "metadata": {
        "id": "pnUVqUjBpkGu",
        "colab_type": "code",
        "colab": {}
      },
      "source": [
        "scaler = preprocessing.MinMaxScaler()\n",
        "df_original[df_original.columns] = scaler.fit_transform(df_original[df_original.columns])\n",
        "\n",
        "df_original"
      ],
      "execution_count": 0,
      "outputs": []
    },
    {
      "cell_type": "code",
      "metadata": {
        "id": "fZrpHG49kBS7",
        "colab_type": "code",
        "colab": {
          "base_uri": "https://localhost:8080/",
          "height": 34
        },
        "outputId": "f0bafbe7-85a9-437b-8c61-2d9786ede31d"
      },
      "source": [
        "#Random data\n",
        "from random import random"
      ],
      "execution_count": 40,
      "outputs": [
        {
          "output_type": "stream",
          "text": [
            "0.5415636845996986\n"
          ],
          "name": "stdout"
        }
      ]
    },
    {
      "cell_type": "code",
      "metadata": {
        "id": "qS7kiugxnX7s",
        "colab_type": "code",
        "colab": {}
      },
      "source": [
        "for i in range(7,60):\n",
        "  for x in df_original.columns:\n",
        "    df_original[x][i] = 'SS'+'i'\n",
        "    df_original\n"
      ],
      "execution_count": 0,
      "outputs": []
    }
  ]
}