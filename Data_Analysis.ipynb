{
  "nbformat": 4,
  "nbformat_minor": 0,
  "metadata": {
    "colab": {
      "name": "Data Analysis",
      "provenance": [],
      "authorship_tag": "ABX9TyP0KjQxbEmSMokvNc9n57/Y",
      "include_colab_link": true
    },
    "kernelspec": {
      "name": "python3",
      "display_name": "Python 3"
    }
  },
  "cells": [
    {
      "cell_type": "markdown",
      "metadata": {
        "id": "view-in-github",
        "colab_type": "text"
      },
      "source": [
        "<a href=\"https://colab.research.google.com/github/Sirabhop/Preclinical-AD-EEG-classification/blob/master/Data_Analysis.ipynb\" target=\"_parent\"><img src=\"https://colab.research.google.com/assets/colab-badge.svg\" alt=\"Open In Colab\"/></a>"
      ]
    },
    {
      "cell_type": "code",
      "metadata": {
        "id": "IF2w0JtOG_WP",
        "colab_type": "code",
        "colab": {}
      },
      "source": [
        "from google.colab import drive\n",
        "import os\n",
        "import pandas as pd"
      ],
      "execution_count": 0,
      "outputs": []
    },
    {
      "cell_type": "code",
      "metadata": {
        "id": "muxOS39IHM4P",
        "colab_type": "code",
        "outputId": "e46d0f14-02d8-4ade-fe1b-fc44b00f6bde",
        "colab": {
          "base_uri": "https://localhost:8080/",
          "height": 125
        }
      },
      "source": [
        "drive.mount('/content/drive')"
      ],
      "execution_count": 2,
      "outputs": [
        {
          "output_type": "stream",
          "text": [
            "Go to this URL in a browser: https://accounts.google.com/o/oauth2/auth?client_id=947318989803-6bn6qk8qdgf4n4g3pfee6491hc0brc4i.apps.googleusercontent.com&redirect_uri=urn%3aietf%3awg%3aoauth%3a2.0%3aoob&response_type=code&scope=email%20https%3a%2f%2fwww.googleapis.com%2fauth%2fdocs.test%20https%3a%2f%2fwww.googleapis.com%2fauth%2fdrive%20https%3a%2f%2fwww.googleapis.com%2fauth%2fdrive.photos.readonly%20https%3a%2f%2fwww.googleapis.com%2fauth%2fpeopleapi.readonly\n",
            "\n",
            "Enter your authorization code:\n",
            "··········\n",
            "Mounted at /content/drive\n"
          ],
          "name": "stdout"
        }
      ]
    },
    {
      "cell_type": "code",
      "metadata": {
        "id": "f703p-NFHYvK",
        "colab_type": "code",
        "colab": {}
      },
      "source": [
        "os.chdir(\"/content/drive/My Drive/EEG Data\")"
      ],
      "execution_count": 0,
      "outputs": []
    },
    {
      "cell_type": "markdown",
      "metadata": {
        "id": "B-R5ugXPHdZT",
        "colab_type": "text"
      },
      "source": [
        "# **Descriptive Statistics**"
      ]
    },
    {
      "cell_type": "markdown",
      "metadata": {
        "id": "fp8IRYQ1Hi0_",
        "colab_type": "text"
      },
      "source": [
        "####**Demographics**"
      ]
    },
    {
      "cell_type": "code",
      "metadata": {
        "id": "KExwA5ZRJLSA",
        "colab_type": "code",
        "colab": {}
      },
      "source": [
        "dict = {'sex': ['male', 'female', 'female', 'female', 'female', 'female', 'female', 'female'],\n",
        "        'ages':[63, 60, 66, 68, 72, 74, 61, 64],\n",
        "        'group': [0,1,1,0,1,1,0,0]} #0 = Risk Free, 1 = At risk"
      ],
      "execution_count": 0,
      "outputs": []
    },
    {
      "cell_type": "code",
      "metadata": {
        "id": "9f1Kwl-zHycr",
        "colab_type": "code",
        "outputId": "713abf16-e769-47b3-a518-2aba5989a55a",
        "colab": {
          "base_uri": "https://localhost:8080/",
          "height": 287
        }
      },
      "source": [
        "df = pd.DataFrame(data = dict)\n",
        "df"
      ],
      "execution_count": 30,
      "outputs": [
        {
          "output_type": "execute_result",
          "data": {
            "text/html": [
              "<div>\n",
              "<style scoped>\n",
              "    .dataframe tbody tr th:only-of-type {\n",
              "        vertical-align: middle;\n",
              "    }\n",
              "\n",
              "    .dataframe tbody tr th {\n",
              "        vertical-align: top;\n",
              "    }\n",
              "\n",
              "    .dataframe thead th {\n",
              "        text-align: right;\n",
              "    }\n",
              "</style>\n",
              "<table border=\"1\" class=\"dataframe\">\n",
              "  <thead>\n",
              "    <tr style=\"text-align: right;\">\n",
              "      <th></th>\n",
              "      <th>sex</th>\n",
              "      <th>ages</th>\n",
              "      <th>group</th>\n",
              "    </tr>\n",
              "  </thead>\n",
              "  <tbody>\n",
              "    <tr>\n",
              "      <th>0</th>\n",
              "      <td>male</td>\n",
              "      <td>63</td>\n",
              "      <td>0</td>\n",
              "    </tr>\n",
              "    <tr>\n",
              "      <th>1</th>\n",
              "      <td>female</td>\n",
              "      <td>60</td>\n",
              "      <td>1</td>\n",
              "    </tr>\n",
              "    <tr>\n",
              "      <th>2</th>\n",
              "      <td>female</td>\n",
              "      <td>66</td>\n",
              "      <td>1</td>\n",
              "    </tr>\n",
              "    <tr>\n",
              "      <th>3</th>\n",
              "      <td>female</td>\n",
              "      <td>68</td>\n",
              "      <td>0</td>\n",
              "    </tr>\n",
              "    <tr>\n",
              "      <th>4</th>\n",
              "      <td>female</td>\n",
              "      <td>72</td>\n",
              "      <td>1</td>\n",
              "    </tr>\n",
              "    <tr>\n",
              "      <th>5</th>\n",
              "      <td>female</td>\n",
              "      <td>74</td>\n",
              "      <td>1</td>\n",
              "    </tr>\n",
              "    <tr>\n",
              "      <th>6</th>\n",
              "      <td>female</td>\n",
              "      <td>61</td>\n",
              "      <td>0</td>\n",
              "    </tr>\n",
              "    <tr>\n",
              "      <th>7</th>\n",
              "      <td>female</td>\n",
              "      <td>64</td>\n",
              "      <td>0</td>\n",
              "    </tr>\n",
              "  </tbody>\n",
              "</table>\n",
              "</div>"
            ],
            "text/plain": [
              "      sex  ages  group\n",
              "0    male    63      0\n",
              "1  female    60      1\n",
              "2  female    66      1\n",
              "3  female    68      0\n",
              "4  female    72      1\n",
              "5  female    74      1\n",
              "6  female    61      0\n",
              "7  female    64      0"
            ]
          },
          "metadata": {
            "tags": []
          },
          "execution_count": 30
        }
      ]
    },
    {
      "cell_type": "markdown",
      "metadata": {
        "id": "pcZL2fV5Hi4v",
        "colab_type": "text"
      },
      "source": [
        "####**Cognitive Markers**\n"
      ]
    },
    {
      "cell_type": "code",
      "metadata": {
        "id": "sKTu5OLeMIBd",
        "colab_type": "code",
        "colab": {}
      },
      "source": [
        "FCSRT = pd.read_csv('FCSRT.csv')\n",
        "FCSRT.drop(['id'], inplace = True, axis = 1)\n",
        "MoCA = pd.read_csv('MoCA.csv')"
      ],
      "execution_count": 0,
      "outputs": []
    },
    {
      "cell_type": "code",
      "metadata": {
        "id": "U4UeaJ7AMggG",
        "colab_type": "code",
        "colab": {}
      },
      "source": [
        "CogMarkers = pd.concat([df, FCSRT, MoCA[['SUM']]], axis = 1)\n",
        "CogMarkers.rename(columns = {'SUM':'MoCA'}, inplace = True)\n",
        "CogMarkers.to_csv('cognitive marker.csv')"
      ],
      "execution_count": 0,
      "outputs": []
    },
    {
      "cell_type": "code",
      "metadata": {
        "id": "q5nYtxY1MWmw",
        "colab_type": "code",
        "outputId": "af2f3243-0fd8-4366-e6f7-6f537ed9daff",
        "colab": {
          "base_uri": "https://localhost:8080/",
          "height": 167
        }
      },
      "source": [
        "Cog_RiskFree = CogMarkers[CogMarkers['group'] == 0]\n",
        "Cog_Risk = CogMarkers[CogMarkers['group'] == 1]\n",
        "Cog_RiskFree"
      ],
      "execution_count": 75,
      "outputs": [
        {
          "output_type": "execute_result",
          "data": {
            "text/html": [
              "<div>\n",
              "<style scoped>\n",
              "    .dataframe tbody tr th:only-of-type {\n",
              "        vertical-align: middle;\n",
              "    }\n",
              "\n",
              "    .dataframe tbody tr th {\n",
              "        vertical-align: top;\n",
              "    }\n",
              "\n",
              "    .dataframe thead th {\n",
              "        text-align: right;\n",
              "    }\n",
              "</style>\n",
              "<table border=\"1\" class=\"dataframe\">\n",
              "  <thead>\n",
              "    <tr style=\"text-align: right;\">\n",
              "      <th></th>\n",
              "      <th>sex</th>\n",
              "      <th>ages</th>\n",
              "      <th>group</th>\n",
              "      <th>IR-FreeR</th>\n",
              "      <th>IR-CuedR</th>\n",
              "      <th>DL-FreeR</th>\n",
              "      <th>DL-CuedR</th>\n",
              "      <th>MoCA</th>\n",
              "    </tr>\n",
              "  </thead>\n",
              "  <tbody>\n",
              "    <tr>\n",
              "      <th>0</th>\n",
              "      <td>male</td>\n",
              "      <td>63</td>\n",
              "      <td>0</td>\n",
              "      <td>6</td>\n",
              "      <td>8</td>\n",
              "      <td>7</td>\n",
              "      <td>5</td>\n",
              "      <td>21</td>\n",
              "    </tr>\n",
              "    <tr>\n",
              "      <th>3</th>\n",
              "      <td>female</td>\n",
              "      <td>68</td>\n",
              "      <td>0</td>\n",
              "      <td>11</td>\n",
              "      <td>4</td>\n",
              "      <td>11</td>\n",
              "      <td>5</td>\n",
              "      <td>22</td>\n",
              "    </tr>\n",
              "    <tr>\n",
              "      <th>6</th>\n",
              "      <td>female</td>\n",
              "      <td>61</td>\n",
              "      <td>0</td>\n",
              "      <td>8</td>\n",
              "      <td>7</td>\n",
              "      <td>9</td>\n",
              "      <td>6</td>\n",
              "      <td>20</td>\n",
              "    </tr>\n",
              "    <tr>\n",
              "      <th>7</th>\n",
              "      <td>female</td>\n",
              "      <td>64</td>\n",
              "      <td>0</td>\n",
              "      <td>10</td>\n",
              "      <td>5</td>\n",
              "      <td>9</td>\n",
              "      <td>7</td>\n",
              "      <td>6</td>\n",
              "    </tr>\n",
              "  </tbody>\n",
              "</table>\n",
              "</div>"
            ],
            "text/plain": [
              "      sex  ages  group  IR-FreeR  IR-CuedR  DL-FreeR  DL-CuedR  MoCA\n",
              "0    male    63      0         6         8         7         5    21\n",
              "3  female    68      0        11         4        11         5    22\n",
              "6  female    61      0         8         7         9         6    20\n",
              "7  female    64      0        10         5         9         7     6"
            ]
          },
          "metadata": {
            "tags": []
          },
          "execution_count": 75
        }
      ]
    },
    {
      "cell_type": "markdown",
      "metadata": {
        "id": "uJQB3TVRHuj0",
        "colab_type": "text"
      },
      "source": [
        "####**Biomarkers**"
      ]
    },
    {
      "cell_type": "code",
      "metadata": {
        "id": "OUcTdSBsMC7C",
        "colab_type": "code",
        "colab": {
          "base_uri": "https://localhost:8080/",
          "height": 287
        },
        "outputId": "2bbf09d9-f6a8-4dfb-f299-b1ccc675f1fe"
      },
      "source": [
        "features = pd.read_csv('EEG_features.csv')\n",
        "features.drop(['Unnamed: 0'], inplace = True, axis = 1)\n",
        "Biomarkers = pd.concat([df, features], axis = 1)\n",
        "Biomarkers"
      ],
      "execution_count": 26,
      "outputs": [
        {
          "output_type": "execute_result",
          "data": {
            "text/html": [
              "<div>\n",
              "<style scoped>\n",
              "    .dataframe tbody tr th:only-of-type {\n",
              "        vertical-align: middle;\n",
              "    }\n",
              "\n",
              "    .dataframe tbody tr th {\n",
              "        vertical-align: top;\n",
              "    }\n",
              "\n",
              "    .dataframe thead th {\n",
              "        text-align: right;\n",
              "    }\n",
              "</style>\n",
              "<table border=\"1\" class=\"dataframe\">\n",
              "  <thead>\n",
              "    <tr style=\"text-align: right;\">\n",
              "      <th></th>\n",
              "      <th>sex</th>\n",
              "      <th>ages</th>\n",
              "      <th>group</th>\n",
              "      <th>id</th>\n",
              "      <th>PSD_Delta</th>\n",
              "      <th>PSD_Theta</th>\n",
              "      <th>PSD_Alpha</th>\n",
              "      <th>PSD_Beta</th>\n",
              "      <th>PSD_Gamma</th>\n",
              "      <th>MSF</th>\n",
              "      <th>SE</th>\n",
              "      <th>AC</th>\n",
              "      <th>wSMI_Alpha</th>\n",
              "      <th>wSMI_Theta</th>\n",
              "    </tr>\n",
              "  </thead>\n",
              "  <tbody>\n",
              "    <tr>\n",
              "      <th>0</th>\n",
              "      <td>male</td>\n",
              "      <td>63</td>\n",
              "      <td>0</td>\n",
              "      <td>SS1</td>\n",
              "      <td>NaN</td>\n",
              "      <td>7.279026e-12</td>\n",
              "      <td>7.279026e-12</td>\n",
              "      <td>1.973301e-12</td>\n",
              "      <td>1.858662e-12</td>\n",
              "      <td>2.040890e-13</td>\n",
              "      <td>2.513122</td>\n",
              "      <td>0.047027</td>\n",
              "      <td>0.062951</td>\n",
              "      <td>0.030738</td>\n",
              "    </tr>\n",
              "    <tr>\n",
              "      <th>1</th>\n",
              "      <td>female</td>\n",
              "      <td>60</td>\n",
              "      <td>1</td>\n",
              "      <td>SS2</td>\n",
              "      <td>NaN</td>\n",
              "      <td>1.462029e-12</td>\n",
              "      <td>1.462029e-12</td>\n",
              "      <td>8.044949e-13</td>\n",
              "      <td>3.229391e-13</td>\n",
              "      <td>3.377435e-13</td>\n",
              "      <td>2.476574</td>\n",
              "      <td>0.052528</td>\n",
              "      <td>0.070597</td>\n",
              "      <td>0.034804</td>\n",
              "    </tr>\n",
              "    <tr>\n",
              "      <th>2</th>\n",
              "      <td>female</td>\n",
              "      <td>66</td>\n",
              "      <td>1</td>\n",
              "      <td>SS3</td>\n",
              "      <td>NaN</td>\n",
              "      <td>1.932887e-12</td>\n",
              "      <td>1.932887e-12</td>\n",
              "      <td>3.683971e-12</td>\n",
              "      <td>7.096728e-12</td>\n",
              "      <td>5.726507e-13</td>\n",
              "      <td>2.483961</td>\n",
              "      <td>0.064709</td>\n",
              "      <td>0.074569</td>\n",
              "      <td>0.037275</td>\n",
              "    </tr>\n",
              "    <tr>\n",
              "      <th>3</th>\n",
              "      <td>female</td>\n",
              "      <td>68</td>\n",
              "      <td>0</td>\n",
              "      <td>SS4</td>\n",
              "      <td>NaN</td>\n",
              "      <td>2.068102e-09</td>\n",
              "      <td>2.068102e-09</td>\n",
              "      <td>1.348127e-10</td>\n",
              "      <td>1.989188e-11</td>\n",
              "      <td>4.433322e-13</td>\n",
              "      <td>2.476574</td>\n",
              "      <td>0.051643</td>\n",
              "      <td>0.077876</td>\n",
              "      <td>0.039141</td>\n",
              "    </tr>\n",
              "    <tr>\n",
              "      <th>4</th>\n",
              "      <td>female</td>\n",
              "      <td>72</td>\n",
              "      <td>1</td>\n",
              "      <td>SS5</td>\n",
              "      <td>NaN</td>\n",
              "      <td>1.534075e-12</td>\n",
              "      <td>1.534075e-12</td>\n",
              "      <td>9.461273e-13</td>\n",
              "      <td>4.538757e-13</td>\n",
              "      <td>3.837676e-13</td>\n",
              "      <td>2.407455</td>\n",
              "      <td>0.059398</td>\n",
              "      <td>0.080348</td>\n",
              "      <td>0.040611</td>\n",
              "    </tr>\n",
              "    <tr>\n",
              "      <th>5</th>\n",
              "      <td>female</td>\n",
              "      <td>74</td>\n",
              "      <td>1</td>\n",
              "      <td>SS6</td>\n",
              "      <td>NaN</td>\n",
              "      <td>9.100334e-13</td>\n",
              "      <td>9.100334e-13</td>\n",
              "      <td>4.259585e-13</td>\n",
              "      <td>4.087238e-13</td>\n",
              "      <td>1.819820e-13</td>\n",
              "      <td>2.407455</td>\n",
              "      <td>0.054304</td>\n",
              "      <td>0.082285</td>\n",
              "      <td>0.041790</td>\n",
              "    </tr>\n",
              "    <tr>\n",
              "      <th>6</th>\n",
              "      <td>female</td>\n",
              "      <td>61</td>\n",
              "      <td>0</td>\n",
              "      <td>SS7</td>\n",
              "      <td>NaN</td>\n",
              "      <td>4.729273e-12</td>\n",
              "      <td>4.729273e-12</td>\n",
              "      <td>2.664199e-12</td>\n",
              "      <td>3.828348e-12</td>\n",
              "      <td>8.676798e-13</td>\n",
              "      <td>2.492098</td>\n",
              "      <td>0.055813</td>\n",
              "      <td>0.083638</td>\n",
              "      <td>0.042501</td>\n",
              "    </tr>\n",
              "    <tr>\n",
              "      <th>7</th>\n",
              "      <td>female</td>\n",
              "      <td>64</td>\n",
              "      <td>0</td>\n",
              "      <td>SS8</td>\n",
              "      <td>NaN</td>\n",
              "      <td>1.005613e-12</td>\n",
              "      <td>1.005613e-12</td>\n",
              "      <td>9.943775e-13</td>\n",
              "      <td>1.220265e-12</td>\n",
              "      <td>3.364207e-13</td>\n",
              "      <td>2.407455</td>\n",
              "      <td>0.065214</td>\n",
              "      <td>0.084809</td>\n",
              "      <td>0.043116</td>\n",
              "    </tr>\n",
              "  </tbody>\n",
              "</table>\n",
              "</div>"
            ],
            "text/plain": [
              "      sex  ages  group   id  ...        SE        AC  wSMI_Alpha  wSMI_Theta\n",
              "0    male    63      0  SS1  ...  2.513122  0.047027    0.062951    0.030738\n",
              "1  female    60      1  SS2  ...  2.476574  0.052528    0.070597    0.034804\n",
              "2  female    66      1  SS3  ...  2.483961  0.064709    0.074569    0.037275\n",
              "3  female    68      0  SS4  ...  2.476574  0.051643    0.077876    0.039141\n",
              "4  female    72      1  SS5  ...  2.407455  0.059398    0.080348    0.040611\n",
              "5  female    74      1  SS6  ...  2.407455  0.054304    0.082285    0.041790\n",
              "6  female    61      0  SS7  ...  2.492098  0.055813    0.083638    0.042501\n",
              "7  female    64      0  SS8  ...  2.407455  0.065214    0.084809    0.043116\n",
              "\n",
              "[8 rows x 14 columns]"
            ]
          },
          "metadata": {
            "tags": []
          },
          "execution_count": 26
        }
      ]
    },
    {
      "cell_type": "markdown",
      "metadata": {
        "id": "jvcoYCpD0CPJ",
        "colab_type": "text"
      },
      "source": [
        "# **Inferencial Statistics**"
      ]
    },
    {
      "cell_type": "markdown",
      "metadata": {
        "id": "2LwVZMrm0N-V",
        "colab_type": "text"
      },
      "source": [
        "####**Cognitive Markers**"
      ]
    },
    {
      "cell_type": "code",
      "metadata": {
        "id": "rLXeGe8-0gMo",
        "colab_type": "code",
        "colab": {}
      },
      "source": [
        "import scipy\n",
        "import matplotlib.pyplot as plt"
      ],
      "execution_count": 0,
      "outputs": []
    },
    {
      "cell_type": "markdown",
      "metadata": {
        "id": "ZA-7ED631eyk",
        "colab_type": "text"
      },
      "source": [
        "* 1-way ANOVA (Risk vs Free Risk)\n",
        "\n"
      ]
    },
    {
      "cell_type": "code",
      "metadata": {
        "id": "X0sAfFOv0WrE",
        "colab_type": "code",
        "colab": {
          "base_uri": "https://localhost:8080/",
          "height": 52
        },
        "outputId": "b6819b84-e707-4e5d-d57e-71eb3e8d9c79"
      },
      "source": [
        "#Encoding\n",
        "print(scipy.stats.f_oneway(Cog_Risk['IR-CuedR'],Cog_RiskFree['IR-CuedR'])) #sig\n",
        "\n",
        "#Retrieval\n",
        "print(scipy.stats.f_oneway(Cog_Risk['IR-FreeR'],Cog_RiskFree['IR-FreeR'])) #sig"
      ],
      "execution_count": 56,
      "outputs": [
        {
          "output_type": "stream",
          "text": [
            "F_onewayResult(statistic=3.4186046511627906, pvalue=0.11395633124158694)\n",
            "F_onewayResult(statistic=0.023622047244094488, pvalue=0.8828895569688998)\n"
          ],
          "name": "stdout"
        }
      ]
    },
    {
      "cell_type": "code",
      "metadata": {
        "id": "UKqP6aE17_AF",
        "colab_type": "code",
        "colab": {
          "base_uri": "https://localhost:8080/",
          "height": 105
        },
        "outputId": "8cf3d46b-9d9d-4374-dc00-fdd6d7a7ec44"
      },
      "source": [
        "CogMarkers2 = CogMarkers\n",
        "CogMarkers2['group'][CogMarkers2['group'] == 0] = 'Normal'\n",
        "CogMarkers2['group'][CogMarkers2['group'] == 1] = 'Risk'"
      ],
      "execution_count": 76,
      "outputs": [
        {
          "output_type": "stream",
          "text": [
            "/usr/local/lib/python3.6/dist-packages/ipykernel_launcher.py:2: SettingWithCopyWarning: \n",
            "A value is trying to be set on a copy of a slice from a DataFrame\n",
            "\n",
            "See the caveats in the documentation: https://pandas.pydata.org/pandas-docs/stable/user_guide/indexing.html#returning-a-view-versus-a-copy\n",
            "  \n"
          ],
          "name": "stderr"
        }
      ]
    },
    {
      "cell_type": "code",
      "metadata": {
        "id": "YoMmY2EJ9OVg",
        "colab_type": "code",
        "colab": {
          "base_uri": "https://localhost:8080/",
          "height": 287
        },
        "outputId": "6b968f55-2098-48d7-b11f-1215d7fcb230"
      },
      "source": [
        "CogMarkers2"
      ],
      "execution_count": 78,
      "outputs": [
        {
          "output_type": "execute_result",
          "data": {
            "text/html": [
              "<div>\n",
              "<style scoped>\n",
              "    .dataframe tbody tr th:only-of-type {\n",
              "        vertical-align: middle;\n",
              "    }\n",
              "\n",
              "    .dataframe tbody tr th {\n",
              "        vertical-align: top;\n",
              "    }\n",
              "\n",
              "    .dataframe thead th {\n",
              "        text-align: right;\n",
              "    }\n",
              "</style>\n",
              "<table border=\"1\" class=\"dataframe\">\n",
              "  <thead>\n",
              "    <tr style=\"text-align: right;\">\n",
              "      <th></th>\n",
              "      <th>sex</th>\n",
              "      <th>ages</th>\n",
              "      <th>group</th>\n",
              "      <th>IR-FreeR</th>\n",
              "      <th>IR-CuedR</th>\n",
              "      <th>DL-FreeR</th>\n",
              "      <th>DL-CuedR</th>\n",
              "      <th>MoCA</th>\n",
              "    </tr>\n",
              "  </thead>\n",
              "  <tbody>\n",
              "    <tr>\n",
              "      <th>0</th>\n",
              "      <td>male</td>\n",
              "      <td>63</td>\n",
              "      <td>Normal</td>\n",
              "      <td>6</td>\n",
              "      <td>8</td>\n",
              "      <td>7</td>\n",
              "      <td>5</td>\n",
              "      <td>21</td>\n",
              "    </tr>\n",
              "    <tr>\n",
              "      <th>1</th>\n",
              "      <td>female</td>\n",
              "      <td>60</td>\n",
              "      <td>Risk</td>\n",
              "      <td>7</td>\n",
              "      <td>5</td>\n",
              "      <td>9</td>\n",
              "      <td>5</td>\n",
              "      <td>7</td>\n",
              "    </tr>\n",
              "    <tr>\n",
              "      <th>2</th>\n",
              "      <td>female</td>\n",
              "      <td>66</td>\n",
              "      <td>Risk</td>\n",
              "      <td>11</td>\n",
              "      <td>4</td>\n",
              "      <td>11</td>\n",
              "      <td>4</td>\n",
              "      <td>9</td>\n",
              "    </tr>\n",
              "    <tr>\n",
              "      <th>3</th>\n",
              "      <td>female</td>\n",
              "      <td>68</td>\n",
              "      <td>Normal</td>\n",
              "      <td>11</td>\n",
              "      <td>4</td>\n",
              "      <td>11</td>\n",
              "      <td>5</td>\n",
              "      <td>22</td>\n",
              "    </tr>\n",
              "    <tr>\n",
              "      <th>4</th>\n",
              "      <td>female</td>\n",
              "      <td>72</td>\n",
              "      <td>Risk</td>\n",
              "      <td>10</td>\n",
              "      <td>4</td>\n",
              "      <td>7</td>\n",
              "      <td>7</td>\n",
              "      <td>12</td>\n",
              "    </tr>\n",
              "    <tr>\n",
              "      <th>5</th>\n",
              "      <td>female</td>\n",
              "      <td>74</td>\n",
              "      <td>Risk</td>\n",
              "      <td>6</td>\n",
              "      <td>4</td>\n",
              "      <td>6</td>\n",
              "      <td>4</td>\n",
              "      <td>15</td>\n",
              "    </tr>\n",
              "    <tr>\n",
              "      <th>6</th>\n",
              "      <td>female</td>\n",
              "      <td>61</td>\n",
              "      <td>Normal</td>\n",
              "      <td>8</td>\n",
              "      <td>7</td>\n",
              "      <td>9</td>\n",
              "      <td>6</td>\n",
              "      <td>20</td>\n",
              "    </tr>\n",
              "    <tr>\n",
              "      <th>7</th>\n",
              "      <td>female</td>\n",
              "      <td>64</td>\n",
              "      <td>Normal</td>\n",
              "      <td>10</td>\n",
              "      <td>5</td>\n",
              "      <td>9</td>\n",
              "      <td>7</td>\n",
              "      <td>6</td>\n",
              "    </tr>\n",
              "  </tbody>\n",
              "</table>\n",
              "</div>"
            ],
            "text/plain": [
              "      sex  ages   group  IR-FreeR  IR-CuedR  DL-FreeR  DL-CuedR  MoCA\n",
              "0    male    63  Normal         6         8         7         5    21\n",
              "1  female    60    Risk         7         5         9         5     7\n",
              "2  female    66    Risk        11         4        11         4     9\n",
              "3  female    68  Normal        11         4        11         5    22\n",
              "4  female    72    Risk        10         4         7         7    12\n",
              "5  female    74    Risk         6         4         6         4    15\n",
              "6  female    61  Normal         8         7         9         6    20\n",
              "7  female    64  Normal        10         5         9         7     6"
            ]
          },
          "metadata": {
            "tags": []
          },
          "execution_count": 78
        }
      ]
    },
    {
      "cell_type": "code",
      "metadata": {
        "id": "mksrZk3S3OgP",
        "colab_type": "code",
        "colab": {
          "base_uri": "https://localhost:8080/",
          "height": 437
        },
        "outputId": "67e138b7-e4d4-4a88-f7bc-fdc58f670460"
      },
      "source": [
        "CogMarkers2.boxplot(column = ['IR-CuedR'], by = ['group'], grid = False, figsize = (8,6))\n",
        "plt.title(None)\n",
        "plt.xlabel('Group')\n",
        "plt.ylabel('IR-Cued Recall')\n",
        "plt.legend()\n",
        "plt.show()"
      ],
      "execution_count": 79,
      "outputs": [
        {
          "output_type": "stream",
          "text": [
            "No handles with labels found to put in legend.\n"
          ],
          "name": "stderr"
        },
        {
          "output_type": "display_data",
          "data": {
            "image/png": "[encoded data removed]",
            "text/plain": [
              "<Figure size 576x432 with 1 Axes>"
            ]
          },
          "metadata": {
            "tags": [],
            "needs_background": "light"
          }
        }
      ]
    },
    {
      "cell_type": "markdown",
      "metadata": {
        "id": "wIB7TTnb0OHg",
        "colab_type": "text"
      },
      "source": [
        "####**Biomarkers**"
      ]
    },
    {
      "cell_type": "code",
      "metadata": {
        "id": "wAeLkKst0NlN",
        "colab_type": "code",
        "colab": {}
      },
      "source": [
        ""
      ],
      "execution_count": 0,
      "outputs": []
    }
  ]
}