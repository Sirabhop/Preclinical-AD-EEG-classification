{
  "nbformat": 4,
  "nbformat_minor": 0,
  "metadata": {
    "colab": {
      "name": "Machine Learning Modeling",
      "provenance": [],
      "machine_shape": "hm",
      "authorship_tag": "ABX9TyMmMPJRZgpxNpiEZMdA/juR",
      "include_colab_link": true
    },
    "kernelspec": {
      "name": "python3",
      "display_name": "Python 3"
    }
  },
  "cells": [
    {
      "cell_type": "markdown",
      "metadata": {
        "id": "view-in-github",
        "colab_type": "text"
      },
      "source": [
        "<a href=\"https://colab.research.google.com/github/Sirabhop/Preclinical-AD-EEG-classification/blob/master/Machine_Learning_Modeling.ipynb\" target=\"_parent\"><img src=\"https://colab.research.google.com/assets/colab-badge.svg\" alt=\"Open In Colab\"/></a>"
      ]
    },
    {
      "cell_type": "code",
      "metadata": {
        "id": "dxpsi-8HGp64",
        "colab_type": "code",
        "colab": {}
      },
      "source": [
        "from google.colab import drive\n",
        "import os\n",
        "import pandas as pd"
      ],
      "execution_count": 0,
      "outputs": []
    },
    {
      "cell_type": "code",
      "metadata": {
        "id": "Vd82B0RsNCUD",
        "colab_type": "code",
        "colab": {
          "base_uri": "https://localhost:8080/",
          "height": 125
        },
        "outputId": "4d22ef8c-d419-4ac8-9d73-334dead9e492"
      },
      "source": [
        "drive.mount('/content/drive')"
      ],
      "execution_count": 3,
      "outputs": [
        {
          "output_type": "stream",
          "text": [
            "Go to this URL in a browser: https://accounts.google.com/o/oauth2/auth?client_id=947318989803-6bn6qk8qdgf4n4g3pfee6491hc0brc4i.apps.googleusercontent.com&redirect_uri=urn%3aietf%3awg%3aoauth%3a2.0%3aoob&response_type=code&scope=email%20https%3a%2f%2fwww.googleapis.com%2fauth%2fdocs.test%20https%3a%2f%2fwww.googleapis.com%2fauth%2fdrive%20https%3a%2f%2fwww.googleapis.com%2fauth%2fdrive.photos.readonly%20https%3a%2f%2fwww.googleapis.com%2fauth%2fpeopleapi.readonly\n",
            "\n",
            "Enter your authorization code:\n",
            "··········\n",
            "Mounted at /content/drive\n"
          ],
          "name": "stdout"
        }
      ]
    },
    {
      "cell_type": "code",
      "metadata": {
        "id": "NuuHyQCDM1jp",
        "colab_type": "code",
        "colab": {}
      },
      "source": [
        "#Set working directory and import cookbook\n",
        "os.chdir(\"/content/drive/My Drive/Colab Notebooks/\")\n",
        "\n",
        "#Download eeg feature extraction function\n",
        "%run EEG_Feature_Extraction.ipynb"
      ],
      "execution_count": 0,
      "outputs": []
    },
    {
      "cell_type": "markdown",
      "metadata": {
        "id": "0u7WRdp1IJa0",
        "colab_type": "text"
      },
      "source": [
        "# **Import Data**"
      ]
    },
    {
      "cell_type": "code",
      "metadata": {
        "id": "FLUg2vhEGzCH",
        "colab_type": "code",
        "colab": {}
      },
      "source": [
        "os.chdir(\"/content/drive/My Drive/EEG Data\")"
      ],
      "execution_count": 0,
      "outputs": []
    },
    {
      "cell_type": "code",
      "metadata": {
        "id": "dnBv88huIH75",
        "colab_type": "code",
        "colab": {}
      },
      "source": [
        "#Compute EEG feature\n",
        "subjectID_fif = ['SS1', 'SS2', 'SS3']\n",
        "df = getDataFrame_fif(subjectID_fif)\n",
        "\n",
        "subjectID_bdf = ['SS4', 'SS5', 'SS6', 'SS7', 'SS8']\n",
        "df2 = getDataFrame_bdf(subjectID_bdf)\n",
        "\n",
        "df = df.append(df2, ignore_index = True)\n",
        "\n",
        "#Export EEG feature\n",
        "df.to_csv('EEG_features.csv')"
      ],
      "execution_count": 0,
      "outputs": []
    },
    {
      "cell_type": "code",
      "metadata": {
        "id": "iFW_9c15P70j",
        "colab_type": "code",
        "colab": {}
      },
      "source": [
        "#Import FCSRT & MoCA & Demographic data\n",
        "FCSRT = pd.read_csv(\"FCSRT.csv\")\n",
        "FCSRT.drop('id', axis = 1, inplace = True)\n",
        "MoCA = pd.read_csv(\"MoCA.csv\", usecols = ['SUM'])\n",
        "EEG = pd.read_csv(\"EEG_features.csv\")\n",
        "Group = pd.DataFrame(data = {'group':(0,1,1,0,1,1,0,0)})\n",
        "\n",
        "df_original = pd.concat([Group,EEG,FCSRT,MoCA], axis = 1)\n",
        "df_original.drop(['Unnamed: 0'], inplace = True, axis = 1)\n",
        "df_original.rename(columns = {'SUM':'MoCA'}, inplace = True)\n",
        "df_original.drop('id', axis = 1, inplace=True)\n",
        "df_original['group'] = df_original['group'].astype('category')"
      ],
      "execution_count": 0,
      "outputs": []
    },
    {
      "cell_type": "code",
      "metadata": {
        "id": "uLjsFzagbjvb",
        "colab_type": "code",
        "colab": {
          "base_uri": "https://localhost:8080/",
          "height": 287
        },
        "outputId": "8f862b3b-7033-4bdd-f843-a8966d1a8e71"
      },
      "source": [
        "df_original"
      ],
      "execution_count": 18,
      "outputs": [
        {
          "output_type": "execute_result",
          "data": {
            "text/html": [
              "<div>\n",
              "<style scoped>\n",
              "    .dataframe tbody tr th:only-of-type {\n",
              "        vertical-align: middle;\n",
              "    }\n",
              "\n",
              "    .dataframe tbody tr th {\n",
              "        vertical-align: top;\n",
              "    }\n",
              "\n",
              "    .dataframe thead th {\n",
              "        text-align: right;\n",
              "    }\n",
              "</style>\n",
              "<table border=\"1\" class=\"dataframe\">\n",
              "  <thead>\n",
              "    <tr style=\"text-align: right;\">\n",
              "      <th></th>\n",
              "      <th>group</th>\n",
              "      <th>PSD_Delta</th>\n",
              "      <th>PSD_Theta</th>\n",
              "      <th>PSD_Alpha</th>\n",
              "      <th>PSD_Beta</th>\n",
              "      <th>PSD_Gamma</th>\n",
              "      <th>MSF</th>\n",
              "      <th>SE</th>\n",
              "      <th>AC</th>\n",
              "      <th>wSMI_Alpha</th>\n",
              "      <th>wSMI_Theta</th>\n",
              "      <th>IR-FreeR</th>\n",
              "      <th>IR-CuedR</th>\n",
              "      <th>DL-FreeR</th>\n",
              "      <th>DL-CuedR</th>\n",
              "      <th>MoCA</th>\n",
              "    </tr>\n",
              "  </thead>\n",
              "  <tbody>\n",
              "    <tr>\n",
              "      <th>0</th>\n",
              "      <td>0</td>\n",
              "      <td>8.191509e-14</td>\n",
              "      <td>6.892579e-13</td>\n",
              "      <td>6.892579e-13</td>\n",
              "      <td>2.206398e-13</td>\n",
              "      <td>9.171605e-14</td>\n",
              "      <td>1.674815e-13</td>\n",
              "      <td>2.513122</td>\n",
              "      <td>0.047027</td>\n",
              "      <td>0.069328</td>\n",
              "      <td>0.034951</td>\n",
              "      <td>6</td>\n",
              "      <td>8</td>\n",
              "      <td>7</td>\n",
              "      <td>5</td>\n",
              "      <td>21</td>\n",
              "    </tr>\n",
              "    <tr>\n",
              "      <th>1</th>\n",
              "      <td>1</td>\n",
              "      <td>1.159327e-13</td>\n",
              "      <td>9.541812e-13</td>\n",
              "      <td>9.541812e-13</td>\n",
              "      <td>5.450232e-13</td>\n",
              "      <td>1.249077e-13</td>\n",
              "      <td>2.717361e-13</td>\n",
              "      <td>2.476574</td>\n",
              "      <td>0.052528</td>\n",
              "      <td>0.065172</td>\n",
              "      <td>0.032267</td>\n",
              "      <td>7</td>\n",
              "      <td>5</td>\n",
              "      <td>9</td>\n",
              "      <td>5</td>\n",
              "      <td>7</td>\n",
              "    </tr>\n",
              "    <tr>\n",
              "      <th>2</th>\n",
              "      <td>1</td>\n",
              "      <td>9.004434e-14</td>\n",
              "      <td>7.554926e-13</td>\n",
              "      <td>7.554926e-13</td>\n",
              "      <td>5.202362e-13</td>\n",
              "      <td>5.302625e-13</td>\n",
              "      <td>4.418246e-13</td>\n",
              "      <td>2.483961</td>\n",
              "      <td>0.064709</td>\n",
              "      <td>0.060440</td>\n",
              "      <td>0.028957</td>\n",
              "      <td>11</td>\n",
              "      <td>4</td>\n",
              "      <td>11</td>\n",
              "      <td>4</td>\n",
              "      <td>9</td>\n",
              "    </tr>\n",
              "    <tr>\n",
              "      <th>3</th>\n",
              "      <td>0</td>\n",
              "      <td>9.099951e-14</td>\n",
              "      <td>1.023456e-12</td>\n",
              "      <td>1.023456e-12</td>\n",
              "      <td>4.707961e-13</td>\n",
              "      <td>2.931868e-13</td>\n",
              "      <td>3.786596e-13</td>\n",
              "      <td>2.476574</td>\n",
              "      <td>0.051643</td>\n",
              "      <td>0.051035</td>\n",
              "      <td>0.026086</td>\n",
              "      <td>11</td>\n",
              "      <td>4</td>\n",
              "      <td>11</td>\n",
              "      <td>5</td>\n",
              "      <td>22</td>\n",
              "    </tr>\n",
              "    <tr>\n",
              "      <th>4</th>\n",
              "      <td>1</td>\n",
              "      <td>1.059632e-13</td>\n",
              "      <td>9.294080e-13</td>\n",
              "      <td>9.294080e-13</td>\n",
              "      <td>5.621714e-13</td>\n",
              "      <td>1.519682e-13</td>\n",
              "      <td>2.856214e-13</td>\n",
              "      <td>2.407455</td>\n",
              "      <td>0.059398</td>\n",
              "      <td>0.065278</td>\n",
              "      <td>0.031481</td>\n",
              "      <td>10</td>\n",
              "      <td>4</td>\n",
              "      <td>7</td>\n",
              "      <td>7</td>\n",
              "      <td>12</td>\n",
              "    </tr>\n",
              "    <tr>\n",
              "      <th>5</th>\n",
              "      <td>1</td>\n",
              "      <td>5.203354e-14</td>\n",
              "      <td>4.367775e-13</td>\n",
              "      <td>4.367775e-13</td>\n",
              "      <td>1.945097e-13</td>\n",
              "      <td>9.020467e-14</td>\n",
              "      <td>1.481936e-13</td>\n",
              "      <td>2.407455</td>\n",
              "      <td>0.054304</td>\n",
              "      <td>0.067014</td>\n",
              "      <td>0.032455</td>\n",
              "      <td>6</td>\n",
              "      <td>4</td>\n",
              "      <td>6</td>\n",
              "      <td>4</td>\n",
              "      <td>15</td>\n",
              "    </tr>\n",
              "    <tr>\n",
              "      <th>6</th>\n",
              "      <td>0</td>\n",
              "      <td>1.679208e-13</td>\n",
              "      <td>1.454488e-12</td>\n",
              "      <td>1.454488e-12</td>\n",
              "      <td>8.374338e-13</td>\n",
              "      <td>5.455973e-13</td>\n",
              "      <td>6.437365e-13</td>\n",
              "      <td>2.492098</td>\n",
              "      <td>0.055813</td>\n",
              "      <td>0.064430</td>\n",
              "      <td>0.031130</td>\n",
              "      <td>8</td>\n",
              "      <td>7</td>\n",
              "      <td>9</td>\n",
              "      <td>6</td>\n",
              "      <td>20</td>\n",
              "    </tr>\n",
              "    <tr>\n",
              "      <th>7</th>\n",
              "      <td>0</td>\n",
              "      <td>6.228747e-14</td>\n",
              "      <td>5.084000e-13</td>\n",
              "      <td>5.084000e-13</td>\n",
              "      <td>3.189277e-13</td>\n",
              "      <td>2.124069e-13</td>\n",
              "      <td>2.546724e-13</td>\n",
              "      <td>2.407455</td>\n",
              "      <td>0.065214</td>\n",
              "      <td>0.063654</td>\n",
              "      <td>0.031456</td>\n",
              "      <td>10</td>\n",
              "      <td>5</td>\n",
              "      <td>9</td>\n",
              "      <td>7</td>\n",
              "      <td>6</td>\n",
              "    </tr>\n",
              "  </tbody>\n",
              "</table>\n",
              "</div>"
            ],
            "text/plain": [
              "   group     PSD_Delta     PSD_Theta  ...  DL-FreeR  DL-CuedR  MoCA\n",
              "0      0  8.191509e-14  6.892579e-13  ...         7         5    21\n",
              "1      1  1.159327e-13  9.541812e-13  ...         9         5     7\n",
              "2      1  9.004434e-14  7.554926e-13  ...        11         4     9\n",
              "3      0  9.099951e-14  1.023456e-12  ...        11         5    22\n",
              "4      1  1.059632e-13  9.294080e-13  ...         7         7    12\n",
              "5      1  5.203354e-14  4.367775e-13  ...         6         4    15\n",
              "6      0  1.679208e-13  1.454488e-12  ...         9         6    20\n",
              "7      0  6.228747e-14  5.084000e-13  ...         9         7     6\n",
              "\n",
              "[8 rows x 16 columns]"
            ]
          },
          "metadata": {
            "tags": []
          },
          "execution_count": 18
        }
      ]
    },
    {
      "cell_type": "markdown",
      "metadata": {
        "id": "5-Xck8eXQDeh",
        "colab_type": "text"
      },
      "source": [
        "# **Data Preprocessing**"
      ]
    },
    {
      "cell_type": "markdown",
      "metadata": {
        "id": "_o4eI5oqS835",
        "colab_type": "text"
      },
      "source": [
        "#### **1) Scaling**"
      ]
    },
    {
      "cell_type": "code",
      "metadata": {
        "id": "UzCYG4I3O9rj",
        "colab_type": "code",
        "colab": {}
      },
      "source": [
        "from sklearn import preprocessing"
      ],
      "execution_count": 0,
      "outputs": []
    },
    {
      "cell_type": "code",
      "metadata": {
        "id": "8jyNE2adO-f_",
        "colab_type": "code",
        "colab": {}
      },
      "source": [
        "#Min-Max Scaling\n",
        "\n",
        "scaler = preprocessing.MinMaxScaler()\n",
        "df_original[df_original.columns] = scaler.fit_transform(df_original[df_original.columns])\n",
        "\n",
        "df_original.to_csv('Data.csv')\n",
        "df_original.head()\n",
        "df = df_original"
      ],
      "execution_count": 0,
      "outputs": []
    },
    {
      "cell_type": "markdown",
      "metadata": {
        "id": "oXXTY4XKSWgn",
        "colab_type": "text"
      },
      "source": [
        "#### **2) Generate Data**"
      ]
    },
    {
      "cell_type": "markdown",
      "metadata": {
        "id": "aY8muHftTBye",
        "colab_type": "text"
      },
      "source": [
        "The section below, I've random the value of each feature in order to demonstrate ML model because the situation of *COVID-19* that I cannot continue run the experiment as expected."
      ]
    },
    {
      "cell_type": "code",
      "metadata": {
        "id": "fbIIp_MoWHtf",
        "colab_type": "code",
        "colab": {}
      },
      "source": [
        "from random import random"
      ],
      "execution_count": 0,
      "outputs": []
    },
    {
      "cell_type": "code",
      "metadata": {
        "id": "RiABntThSV0G",
        "colab_type": "code",
        "colab": {}
      },
      "source": [
        "df_random = pd.DataFrame(columns = df_original.columns)\n",
        "for x in df_original.columns:\n",
        "  if x != 'Group':\n",
        "    df_random[x] = np.random.rand(52)\n",
        "  else:\n",
        "    df_random[x] = np.random.randint(0,2,52)"
      ],
      "execution_count": 0,
      "outputs": []
    },
    {
      "cell_type": "code",
      "metadata": {
        "id": "rXE0HnEYZjM9",
        "colab_type": "code",
        "outputId": "03b1e6e1-839b-40f2-9d65-87a120040876",
        "colab": {
          "base_uri": "https://localhost:8080/",
          "height": 234
        }
      },
      "source": [
        "df = df_original.append(df_random, ignore_index = True)\n",
        "df.tail()"
      ],
      "execution_count": 0,
      "outputs": [
        {
          "output_type": "execute_result",
          "data": {
            "text/html": [
              "<div>\n",
              "<style scoped>\n",
              "    .dataframe tbody tr th:only-of-type {\n",
              "        vertical-align: middle;\n",
              "    }\n",
              "\n",
              "    .dataframe tbody tr th {\n",
              "        vertical-align: top;\n",
              "    }\n",
              "\n",
              "    .dataframe thead th {\n",
              "        text-align: right;\n",
              "    }\n",
              "</style>\n",
              "<table border=\"1\" class=\"dataframe\">\n",
              "  <thead>\n",
              "    <tr style=\"text-align: right;\">\n",
              "      <th></th>\n",
              "      <th>PSD_Delta</th>\n",
              "      <th>PSD_Theta</th>\n",
              "      <th>PSD_Alpha</th>\n",
              "      <th>PSD_Beta</th>\n",
              "      <th>PSD_Gamma</th>\n",
              "      <th>MSF</th>\n",
              "      <th>SE</th>\n",
              "      <th>AC</th>\n",
              "      <th>wSMI_Alpha</th>\n",
              "      <th>wSMI_Theta</th>\n",
              "      <th>IR-FreeR</th>\n",
              "      <th>IR-CuedR</th>\n",
              "      <th>DL-FreeR</th>\n",
              "      <th>DL-CuedR</th>\n",
              "      <th>MoCA</th>\n",
              "      <th>Group</th>\n",
              "    </tr>\n",
              "  </thead>\n",
              "  <tbody>\n",
              "    <tr>\n",
              "      <th>55</th>\n",
              "      <td>0.807347</td>\n",
              "      <td>0.682497</td>\n",
              "      <td>0.021335</td>\n",
              "      <td>0.035987</td>\n",
              "      <td>0.381992</td>\n",
              "      <td>0.613762</td>\n",
              "      <td>0.052280</td>\n",
              "      <td>0.761692</td>\n",
              "      <td>0.513952</td>\n",
              "      <td>0.476199</td>\n",
              "      <td>0.738040</td>\n",
              "      <td>0.801613</td>\n",
              "      <td>0.066879</td>\n",
              "      <td>0.781259</td>\n",
              "      <td>0.816615</td>\n",
              "      <td>1.0</td>\n",
              "    </tr>\n",
              "    <tr>\n",
              "      <th>56</th>\n",
              "      <td>0.485057</td>\n",
              "      <td>0.448023</td>\n",
              "      <td>0.680089</td>\n",
              "      <td>0.031775</td>\n",
              "      <td>0.806532</td>\n",
              "      <td>0.069834</td>\n",
              "      <td>0.892653</td>\n",
              "      <td>0.272981</td>\n",
              "      <td>0.944839</td>\n",
              "      <td>0.461204</td>\n",
              "      <td>0.818933</td>\n",
              "      <td>0.112397</td>\n",
              "      <td>0.796346</td>\n",
              "      <td>0.753916</td>\n",
              "      <td>0.835964</td>\n",
              "      <td>1.0</td>\n",
              "    </tr>\n",
              "    <tr>\n",
              "      <th>57</th>\n",
              "      <td>0.536503</td>\n",
              "      <td>0.559438</td>\n",
              "      <td>0.170453</td>\n",
              "      <td>0.626516</td>\n",
              "      <td>0.196223</td>\n",
              "      <td>0.133042</td>\n",
              "      <td>0.470600</td>\n",
              "      <td>0.638751</td>\n",
              "      <td>0.223161</td>\n",
              "      <td>0.278665</td>\n",
              "      <td>0.705056</td>\n",
              "      <td>0.525164</td>\n",
              "      <td>0.885811</td>\n",
              "      <td>0.852113</td>\n",
              "      <td>0.109725</td>\n",
              "      <td>0.0</td>\n",
              "    </tr>\n",
              "    <tr>\n",
              "      <th>58</th>\n",
              "      <td>0.412441</td>\n",
              "      <td>0.072450</td>\n",
              "      <td>0.633993</td>\n",
              "      <td>0.221719</td>\n",
              "      <td>0.172257</td>\n",
              "      <td>0.631629</td>\n",
              "      <td>0.164460</td>\n",
              "      <td>0.365358</td>\n",
              "      <td>0.194858</td>\n",
              "      <td>0.917188</td>\n",
              "      <td>0.279845</td>\n",
              "      <td>0.127879</td>\n",
              "      <td>0.354827</td>\n",
              "      <td>0.744854</td>\n",
              "      <td>0.989097</td>\n",
              "      <td>0.0</td>\n",
              "    </tr>\n",
              "    <tr>\n",
              "      <th>59</th>\n",
              "      <td>0.379127</td>\n",
              "      <td>0.065893</td>\n",
              "      <td>0.528430</td>\n",
              "      <td>0.187522</td>\n",
              "      <td>0.183076</td>\n",
              "      <td>0.255245</td>\n",
              "      <td>0.006866</td>\n",
              "      <td>0.976507</td>\n",
              "      <td>0.282368</td>\n",
              "      <td>0.193345</td>\n",
              "      <td>0.986599</td>\n",
              "      <td>0.661297</td>\n",
              "      <td>0.992456</td>\n",
              "      <td>0.637758</td>\n",
              "      <td>0.974005</td>\n",
              "      <td>1.0</td>\n",
              "    </tr>\n",
              "  </tbody>\n",
              "</table>\n",
              "</div>"
            ],
            "text/plain": [
              "    PSD_Delta  PSD_Theta  PSD_Alpha  ...  DL-CuedR      MoCA  Group\n",
              "55   0.807347   0.682497   0.021335  ...  0.781259  0.816615    1.0\n",
              "56   0.485057   0.448023   0.680089  ...  0.753916  0.835964    1.0\n",
              "57   0.536503   0.559438   0.170453  ...  0.852113  0.109725    0.0\n",
              "58   0.412441   0.072450   0.633993  ...  0.744854  0.989097    0.0\n",
              "59   0.379127   0.065893   0.528430  ...  0.637758  0.974005    1.0\n",
              "\n",
              "[5 rows x 16 columns]"
            ]
          },
          "metadata": {
            "tags": []
          },
          "execution_count": 142
        }
      ]
    },
    {
      "cell_type": "markdown",
      "metadata": {
        "id": "sIPU9HzpfNV_",
        "colab_type": "text"
      },
      "source": [
        "# **Model Experimentation**"
      ]
    },
    {
      "cell_type": "markdown",
      "metadata": {
        "id": "pOXBs5rffWr5",
        "colab_type": "text"
      },
      "source": [
        "####**1) Seperate dataframe**\n",
        "\n",
        "\n",
        "1.   Only EEG & MoCA data\n",
        "2.   FCSRT & MoCA data\n",
        "3. All data\n"
      ]
    },
    {
      "cell_type": "code",
      "metadata": {
        "id": "OGzIYzbFfWMf",
        "colab_type": "code",
        "colab": {}
      },
      "source": [
        "#1\n",
        "X_1 = df[['PSD_Delta', 'PSD_Theta', 'PSD_Alpha', 'PSD_Beta', 'PSD_Gamma', 'MSF', 'SE', 'AC', 'wSMI_Alpha', 'wSMI_Theta', 'MoCA']]\n",
        "#2\n",
        "X_2 = df[['IR-FreeR', 'IR-CuedR','DL-FreeR', 'DL-CuedR', 'MoCA']]\n",
        "#3\n",
        "X_3 = df\n",
        "\n",
        "y = df['group']"
      ],
      "execution_count": 0,
      "outputs": []
    },
    {
      "cell_type": "markdown",
      "metadata": {
        "id": "9N2Vyv7UjEvQ",
        "colab_type": "text"
      },
      "source": [
        "####**2) Seperate *Training Set* and *Test Set***"
      ]
    },
    {
      "cell_type": "code",
      "metadata": {
        "id": "Ip-Qe1NZjdAJ",
        "colab_type": "code",
        "colab": {}
      },
      "source": [
        "from sklearn.model_selection import train_test_split"
      ],
      "execution_count": 0,
      "outputs": []
    },
    {
      "cell_type": "code",
      "metadata": {
        "id": "AtLCUgtSljKA",
        "colab_type": "code",
        "colab": {}
      },
      "source": [
        "#X_1\n",
        "X_1_train, X_1_test, Y_1_train,Y_1_test = train_test_split(X_1, y, test_size = 0.25, random_state = 0)\n",
        "\n",
        "#X_2\n",
        "X_2_train, X_2_test, Y_2_train, Y_2_test = train_test_split(X_2, y, test_size = 0.25, random_state = 0)\n",
        "\n",
        "#X_3\n",
        "X_3_train, X_3_test, Y_3_train, Y_3_test = train_test_split(X_3, y, test_size = 0.25, random_state = 0)"
      ],
      "execution_count": 0,
      "outputs": []
    },
    {
      "cell_type": "markdown",
      "metadata": {
        "id": "EjqyV-B9mMIS",
        "colab_type": "text"
      },
      "source": [
        "####**3) Model Building**"
      ]
    },
    {
      "cell_type": "code",
      "metadata": {
        "id": "jvLJ27PGmLXw",
        "colab_type": "code",
        "colab": {}
      },
      "source": [
        "from sklearn.svm import SVC"
      ],
      "execution_count": 0,
      "outputs": []
    },
    {
      "cell_type": "code",
      "metadata": {
        "id": "UT881v-2mcs9",
        "colab_type": "code",
        "colab": {}
      },
      "source": [
        "classifier_1 = SVC(kernel = 'rbf', random_state = 0)\n",
        "classifier_1.fit(X_1_train, Y_1_train)\n",
        "Y_1_pred = classifier_1.predict(X_1_test)\n",
        "\n",
        "classifier_2 = SVC(kernel = 'rbf', random_state = 0)\n",
        "classifier_2.fit(X_2_train, Y_2_train)\n",
        "Y_2_pred = classifier_2.predict(X_2_test)\n",
        "\n",
        "classifier_3 = SVC(kernel = 'rbf', random_state = 0)\n",
        "classifier_3.fit(X_3_train, Y_3_train)\n",
        "Y_3_pred = classifier_3.predict(X_3_test)"
      ],
      "execution_count": 0,
      "outputs": []
    },
    {
      "cell_type": "markdown",
      "metadata": {
        "id": "vVmNTQJgtFsx",
        "colab_type": "text"
      },
      "source": [
        "####**4) Model Evaluation**"
      ]
    },
    {
      "cell_type": "code",
      "metadata": {
        "id": "PKIJXE4Jms2C",
        "colab_type": "code",
        "colab": {}
      },
      "source": [
        "from sklearn.metrics import confusion_matrix"
      ],
      "execution_count": 0,
      "outputs": []
    },
    {
      "cell_type": "code",
      "metadata": {
        "id": "sb-fAryXtLaY",
        "colab_type": "code",
        "colab": {}
      },
      "source": [
        "cm_1 = confusion_matrix(Y_1_test, Y_1_pred)\n",
        "cm_2 = confusion_matrix(Y_2_test, Y_2_pred)\n",
        "cm_3 = confusion_matrix(Y_3_test, Y_3_pred)"
      ],
      "execution_count": 0,
      "outputs": []
    }
  ]
}