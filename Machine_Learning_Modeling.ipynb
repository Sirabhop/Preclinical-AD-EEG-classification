{
  "nbformat": 4,
  "nbformat_minor": 0,
  "metadata": {
    "colab": {
      "name": "Machine_Learning_Modeling",
      "provenance": [],
      "collapsed_sections": [
        "oXXTY4XKSWgn"
      ],
      "machine_shape": "hm",
      "authorship_tag": "ABX9TyOpxn/Jl//n5P+uAEDfaoYP",
      "include_colab_link": true
    },
    "kernelspec": {
      "name": "python3",
      "display_name": "Python 3"
    }
  },
  "cells": [
    {
      "cell_type": "markdown",
      "metadata": {
        "id": "view-in-github",
        "colab_type": "text"
      },
      "source": [
        "<a href=\"https://colab.research.google.com/github/Sirabhop/Preclinical-AD-EEG-classification/blob/master/Machine_Learning_Modeling.ipynb\" target=\"_parent\"><img src=\"https://colab.research.google.com/assets/colab-badge.svg\" alt=\"Open In Colab\"/></a>"
      ]
    },
    {
      "cell_type": "code",
      "metadata": {
        "id": "dxpsi-8HGp64",
        "colab_type": "code",
        "outputId": "996bc0ac-6880-44d0-8e03-b6fe6c0c3df0",
        "colab": {
          "base_uri": "https://localhost:8080/",
          "height": 72
        }
      },
      "source": [
        "from google.colab import drive\n",
        "import os\n",
        "import pandas as pd\n",
        "import numpy as np\n",
        "import seaborn as sns\n",
        "import matplotlib.pyplot as plt"
      ],
      "execution_count": 1,
      "outputs": [
        {
          "output_type": "stream",
          "text": [
            "/usr/local/lib/python3.6/dist-packages/statsmodels/tools/_testing.py:19: FutureWarning: pandas.util.testing is deprecated. Use the functions in the public API at pandas.testing instead.\n",
            "  import pandas.util.testing as tm\n"
          ],
          "name": "stderr"
        }
      ]
    },
    {
      "cell_type": "code",
      "metadata": {
        "id": "Vd82B0RsNCUD",
        "colab_type": "code",
        "outputId": "75b4003d-9c9b-409c-c947-c0a0462607ab",
        "colab": {
          "base_uri": "https://localhost:8080/",
          "height": 125
        }
      },
      "source": [
        "drive.mount('/content/drive')"
      ],
      "execution_count": 2,
      "outputs": [
        {
          "output_type": "stream",
          "text": [
            "Go to this URL in a browser: https://accounts.google.com/o/oauth2/auth?client_id=947318989803-6bn6qk8qdgf4n4g3pfee6491hc0brc4i.apps.googleusercontent.com&redirect_uri=urn%3aietf%3awg%3aoauth%3a2.0%3aoob&response_type=code&scope=email%20https%3a%2f%2fwww.googleapis.com%2fauth%2fdocs.test%20https%3a%2f%2fwww.googleapis.com%2fauth%2fdrive%20https%3a%2f%2fwww.googleapis.com%2fauth%2fdrive.photos.readonly%20https%3a%2f%2fwww.googleapis.com%2fauth%2fpeopleapi.readonly\n",
            "\n",
            "Enter your authorization code:\n",
            "··········\n",
            "Mounted at /content/drive\n"
          ],
          "name": "stdout"
        }
      ]
    },
    {
      "cell_type": "code",
      "metadata": {
        "id": "NuuHyQCDM1jp",
        "colab_type": "code",
        "colab": {}
      },
      "source": [
        "#Set working directory and import cookbook\n",
        "os.chdir(\"/content/drive/My Drive/Colab Notebooks/\")\n",
        "\n",
        "#Download eeg feature extraction function\n",
        "%run EEG_Feature_Extraction.ipynb"
      ],
      "execution_count": 0,
      "outputs": []
    },
    {
      "cell_type": "markdown",
      "metadata": {
        "id": "0u7WRdp1IJa0",
        "colab_type": "text"
      },
      "source": [
        "# **Import Data**"
      ]
    },
    {
      "cell_type": "code",
      "metadata": {
        "id": "dnBv88huIH75",
        "colab_type": "code",
        "colab": {}
      },
      "source": [
        "#Compute EEG feature\n",
        "os.chdir(\"/content/drive/My Drive/EEG Data\")\n",
        "subjectID = ['SS2', 'SS4', 'SS5', 'SS6', 'SS7', 'SS8']\n",
        "EEG_feature = extract_feature(subjectID)"
      ],
      "execution_count": 0,
      "outputs": []
    },
    {
      "cell_type": "code",
      "metadata": {
        "id": "iFW_9c15P70j",
        "colab_type": "code",
        "colab": {}
      },
      "source": [
        "os.chdir(\"/content/drive/My Drive/My Project/Senior Project-Dementia/Results/RESEARCH DATA\")\n",
        "\n",
        "#Import FCSRT\n",
        "FCSRT = pd.read_csv(\"FCSRT.csv\")\n",
        "FCSRT_o = FCSRT.iloc[[2, 3, 4, 5, 6, 7], 1:]\n",
        "FCSRT_o = FCSRT_o.reset_index(drop = True)\n",
        "\n",
        "#Import MoCA\n",
        "MoCA = pd.read_csv(\"MoCA.csv\", usecols = ['MoCA'])\n",
        "MoCA_o = MoCA.iloc[[1, 3, 4, 5, 6, 7],:]\n",
        "MoCA_o = MoCA_o.reset_index(drop = True)\n",
        "\n",
        "#Import EEG\n",
        "EEG = pd.read_csv(\"EEG_features(relative PSD).csv\")\n",
        "EEG.drop('id', axis = 1, inplace = True)\n",
        "\n",
        "#Create group\n",
        "Group = pd.DataFrame(data = {'group':(1,0,1,1,0,0)}) #0 = normal, 1 = risk\n",
        "\n",
        "#Combined data\n",
        "df_original = pd.concat([Group, EEG, FCSRT_o , MoCA_o] , axis = 1)\n",
        "df_original['group'] = df_original['group'].astype('category') "
      ],
      "execution_count": 0,
      "outputs": []
    },
    {
      "cell_type": "markdown",
      "metadata": {
        "id": "YLLDk5-yi0Cd",
        "colab_type": "text"
      },
      "source": [
        "**Get data summary**"
      ]
    },
    {
      "cell_type": "code",
      "metadata": {
        "id": "MZslUr9OuZbv",
        "colab_type": "code",
        "colab": {}
      },
      "source": [
        "def mean_confidence_interval(data, confidence=0.95):\n",
        "  import numpy as np\n",
        "  import scipy.stats  \n",
        "  a = 1.0 * np.array(data)\n",
        "  n = len(a)\n",
        "  m, se = np.mean(a), scipy.stats.sem(a)\n",
        "  h = se * scipy.stats.t.ppf((1 + confidence) / 2., n-1)\n",
        "  return m-h, m+h"
      ],
      "execution_count": 0,
      "outputs": []
    },
    {
      "cell_type": "code",
      "metadata": {
        "id": "MRGMP030udVL",
        "colab_type": "code",
        "colab": {}
      },
      "source": [
        "df = df_original.drop(['group'], axis = 1)\n",
        "ci = pd.DataFrame(columns=['lower', 'upper'])\n",
        "for x in range(len(df.columns)):\n",
        "  ci.loc[x] = mean_confidence_interval(df.iloc[:,x])\n",
        "describe = df.describe().transpose()\n",
        "describe['lower'] = ci['lower'].values\n",
        "describe['upper'] = ci['upper'].values\n",
        "\n",
        "describe.to_csv('Descriptive.csv', index = False)"
      ],
      "execution_count": 0,
      "outputs": []
    },
    {
      "cell_type": "markdown",
      "metadata": {
        "id": "5-Xck8eXQDeh",
        "colab_type": "text"
      },
      "source": [
        "# **Data Preprocessing**"
      ]
    },
    {
      "cell_type": "code",
      "metadata": {
        "id": "UzCYG4I3O9rj",
        "colab_type": "code",
        "colab": {}
      },
      "source": [
        "from sklearn import preprocessing"
      ],
      "execution_count": 0,
      "outputs": []
    },
    {
      "cell_type": "code",
      "metadata": {
        "id": "8jyNE2adO-f_",
        "colab_type": "code",
        "colab": {}
      },
      "source": [
        "#Min-Max Scaling\n",
        "df = df_original.copy()\n",
        "\n",
        "scaler = preprocessing.MinMaxScaler()\n",
        "columns = ['IR-MSF', 'IR-SE', 'IR-AC', 'IR-wSMI_Alpha', 'IR-wSMI_Theta',\n",
        "           'DL-MSF', 'DL-SE', 'DL-AC', 'DL-wSMI_Alpha', 'DL-wSMI_Theta',\n",
        "           'WCST-MSF']\n",
        "df[columns] = scaler.fit_transform(df[columns])"
      ],
      "execution_count": 0,
      "outputs": []
    },
    {
      "cell_type": "code",
      "metadata": {
        "id": "4KvFXvcIYJA_",
        "colab_type": "code",
        "colab": {}
      },
      "source": [
        "#Percentage\n",
        "df['IR-FreeR'] = (df_original['IR-FreeR'])/16\n",
        "df['IR-CuedR'] = (df_original['IR-CuedR'])/(16-df_original['IR-FreeR'])\n",
        "df['DL-FreeR'] = (df_original['DL-FreeR'])/16\n",
        "df['DL-CuedR'] = (df_original['DL-CuedR'])/(16-df_original['DL-FreeR'])\n",
        "\n",
        "df['IR-FreeR'] = (df_original['IR-FreeR'])/16\n",
        "df['IR-CuedR'] = (df_original['IR-CuedR'])/(16-df_original['IR-FreeR'])\n",
        "df['DL-FreeR'] = (df_original['DL-FreeR'])/16\n",
        "df['DL-CuedR'] = (df_original['DL-CuedR'])/(16-df_original['DL-FreeR'])\n",
        "df.drop(df.iloc[:, 21:27].columns, axis = 1, inplace = True)"
      ],
      "execution_count": 0,
      "outputs": []
    },
    {
      "cell_type": "markdown",
      "metadata": {
        "id": "sIPU9HzpfNV_",
        "colab_type": "text"
      },
      "source": [
        "# **Model Experimentation**"
      ]
    },
    {
      "cell_type": "markdown",
      "metadata": {
        "id": "pOXBs5rffWr5",
        "colab_type": "text"
      },
      "source": [
        "####**1) Seperate dataframe**\n",
        "\n",
        "\n",
        "1.   Only EEG & MoCA data\n",
        "2.   FCSRT & MoCA data\n",
        "3. All data\n"
      ]
    },
    {
      "cell_type": "code",
      "metadata": {
        "id": "OGzIYzbFfWMf",
        "colab_type": "code",
        "colab": {}
      },
      "source": [
        "#1 Cognitive Markers Modeling\n",
        "X_1 = df.iloc[:,21:26].values\n",
        "#2 Biomarkers Modeling\n",
        "X_2 = df.iloc[:,1:21].values\n",
        "#3 Both\n",
        "X_3 = df.iloc[:,1:].values\n",
        "\n",
        "y = df['group']"
      ],
      "execution_count": 0,
      "outputs": []
    },
    {
      "cell_type": "markdown",
      "metadata": {
        "id": "9N2Vyv7UjEvQ",
        "colab_type": "text"
      },
      "source": [
        "####**2) Seperate *Training Set* and *Test Set***"
      ]
    },
    {
      "cell_type": "code",
      "metadata": {
        "id": "Ip-Qe1NZjdAJ",
        "colab_type": "code",
        "colab": {}
      },
      "source": [
        "from sklearn.model_selection import train_test_split"
      ],
      "execution_count": 0,
      "outputs": []
    },
    {
      "cell_type": "code",
      "metadata": {
        "id": "AtLCUgtSljKA",
        "colab_type": "code",
        "colab": {}
      },
      "source": [
        "#X_1\n",
        "X_1_train, X_1_test, y_1_train, y_1_test = train_test_split(X_1, y, test_size = 0.25, random_state = 0)\n",
        "\n",
        "#X_2\n",
        "X_2_train, X_2_test, y_2_train, y_2_test = train_test_split(X_2, y, test_size = 0.25, random_state = 0)\n",
        "\n",
        "#X_3\n",
        "X_3_train, X_3_test, y_3_train, y_3_test = train_test_split(X_3, y, test_size = 0.25, random_state = 0)"
      ],
      "execution_count": 0,
      "outputs": []
    },
    {
      "cell_type": "markdown",
      "metadata": {
        "id": "EjqyV-B9mMIS",
        "colab_type": "text"
      },
      "source": [
        "####**3) Model Building**"
      ]
    },
    {
      "cell_type": "code",
      "metadata": {
        "id": "jvLJ27PGmLXw",
        "colab_type": "code",
        "colab": {}
      },
      "source": [
        "from sklearn.svm import SVC\n",
        "from sklearn.tree import DecisionTreeClassifier, plot_tree\n",
        "from sklearn.tree import export_graphviz"
      ],
      "execution_count": 0,
      "outputs": []
    },
    {
      "cell_type": "code",
      "metadata": {
        "id": "UT881v-2mcs9",
        "colab_type": "code",
        "colab": {}
      },
      "source": [
        "clf_svm_1 = SVC(kernel = 'rbf', random_state = 0)\n",
        "clf_svm_1.fit(X_1_train, y_1_train)\n",
        "svm_y_1_pred = clf_svm_1.predict(X_1_test)\n",
        "\n",
        "clf_svm_2 = SVC(kernel = 'rbf', random_state = 0)\n",
        "clf_svm_2.fit(X_2_train, y_2_train)\n",
        "svm_y_2_pred = clf_svm_2.predict(X_2_test)\n",
        "\n",
        "clf_svm_3 = SVC(kernel = 'rbf', random_state = 0)\n",
        "clf_svm_3.fit(X_3_train, y_3_train)\n",
        "svm_y_3_pred = clf_svm_3.predict(X_3_test)"
      ],
      "execution_count": 0,
      "outputs": []
    },
    {
      "cell_type": "code",
      "metadata": {
        "id": "C-awi0PK1Vk9",
        "colab_type": "code",
        "colab": {}
      },
      "source": [
        "clf_dt_1 = DecisionTreeClassifier()\n",
        "clf_dt_1.fit(X_1_train, y_1_train)\n",
        "dt_y_1_pred = clf_dt_1.predict(X_1_test)\n",
        "\n",
        "clf_dt_2 = DecisionTreeClassifier()\n",
        "clf_dt_2.fit(X_2_train, y_2_train)\n",
        "dt_y_2_pred = clf_dt_2.predict(X_2_test)\n",
        "\n",
        "clf_dt_3 = DecisionTreeClassifier()\n",
        "clf_dt_3.fit(X_3_train, y_3_train)\n",
        "dt_y_3_pred = clf_dt_3.predict(X_3_test)"
      ],
      "execution_count": 0,
      "outputs": []
    },
    {
      "cell_type": "markdown",
      "metadata": {
        "id": "vVmNTQJgtFsx",
        "colab_type": "text"
      },
      "source": [
        "####**4) Model Evaluation**"
      ]
    },
    {
      "cell_type": "code",
      "metadata": {
        "id": "PKIJXE4Jms2C",
        "colab_type": "code",
        "colab": {}
      },
      "source": [
        "from sklearn.metrics import confusion_matrix, precision_recall_fscore_support, classification_report, plot_confusion_matrix"
      ],
      "execution_count": 0,
      "outputs": []
    },
    {
      "cell_type": "markdown",
      "metadata": {
        "id": "FaZd8EYXGJ6C",
        "colab_type": "text"
      },
      "source": [
        "####**SVM**"
      ]
    },
    {
      "cell_type": "code",
      "metadata": {
        "id": "eeVruSyhjL_E",
        "colab_type": "code",
        "outputId": "45351027-3bba-435c-a691-77bbdce5afa7",
        "colab": {
          "base_uri": "https://localhost:8080/",
          "height": 868
        }
      },
      "source": [
        "svm_1 = plot_confusion_matrix(clf_svm_1, X_1_test, y_1_test, display_labels = ['normal', 'risk'], cmap=plt.cm.Blues, normalize = 'true')\n",
        "svm_1.ax_.set_title('Cognitive Markers')\n",
        "\n",
        "svm_2 = plot_confusion_matrix(clf_svm_2, X_2_test, y_2_test, display_labels = ['normal', 'risk'], cmap=plt.cm.Blues, normalize = 'true')\n",
        "svm_2.ax_.set_title('Biomarkers')\n",
        "\n",
        "svm_3 = plot_confusion_matrix(clf_svm_3, X_3_test, y_3_test, display_labels = ['normal', 'risk'], cmap=plt.cm.Blues, normalize = 'true')\n",
        "svm_3.ax_.set_title('Both')"
      ],
      "execution_count": 29,
      "outputs": [
        {
          "output_type": "execute_result",
          "data": {
            "text/plain": [
              "Text(0.5, 1.0, 'Both')"
            ]
          },
          "metadata": {
            "tags": []
          },
          "execution_count": 29
        },
        {
          "output_type": "display_data",
          "data": {
            "image/png": "[encoded data removed]",
            "text/plain": [
              "<Figure size 432x288 with 2 Axes>"
            ]
          },
          "metadata": {
            "tags": [],
            "needs_background": "light"
          }
        },
        {
          "output_type": "display_data",
          "data": {
            "image/png": "[encoded data removed]",
            "text/plain": [
              "<Figure size 432x288 with 2 Axes>"
            ]
          },
          "metadata": {
            "tags": [],
            "needs_background": "light"
          }
        },
        {
          "output_type": "display_data",
          "data": {
            "image/png": "[encoded data removed]",
            "text/plain": [
              "<Figure size 432x288 with 2 Axes>"
            ]
          },
          "metadata": {
            "tags": [],
            "needs_background": "light"
          }
        }
      ]
    },
    {
      "cell_type": "code",
      "metadata": {
        "id": "YeBAuj7qA2XK",
        "colab_type": "code",
        "outputId": "a1ab85cd-bdfd-43f1-f4aa-dd60b0124a6a",
        "colab": {
          "base_uri": "https://localhost:8080/",
          "height": 552
        }
      },
      "source": [
        "print(classification_report(y_1_test, svm_y_1_pred))\n",
        "print(classification_report(y_2_test, svm_y_2_pred))\n",
        "print(classification_report(y_3_test, svm_y_3_pred))"
      ],
      "execution_count": 30,
      "outputs": [
        {
          "output_type": "stream",
          "text": [
            "              precision    recall  f1-score   support\n",
            "\n",
            "           0       0.00      0.00      0.00         1\n",
            "           1       0.50      1.00      0.67         1\n",
            "\n",
            "    accuracy                           0.50         2\n",
            "   macro avg       0.25      0.50      0.33         2\n",
            "weighted avg       0.25      0.50      0.33         2\n",
            "\n",
            "              precision    recall  f1-score   support\n",
            "\n",
            "           0       0.00      0.00      0.00         1\n",
            "           1       0.50      1.00      0.67         1\n",
            "\n",
            "    accuracy                           0.50         2\n",
            "   macro avg       0.25      0.50      0.33         2\n",
            "weighted avg       0.25      0.50      0.33         2\n",
            "\n",
            "              precision    recall  f1-score   support\n",
            "\n",
            "           0       0.00      0.00      0.00         1\n",
            "           1       0.50      1.00      0.67         1\n",
            "\n",
            "    accuracy                           0.50         2\n",
            "   macro avg       0.25      0.50      0.33         2\n",
            "weighted avg       0.25      0.50      0.33         2\n",
            "\n"
          ],
          "name": "stdout"
        },
        {
          "output_type": "stream",
          "text": [
            "/usr/local/lib/python3.6/dist-packages/sklearn/metrics/_classification.py:1272: UndefinedMetricWarning: Precision and F-score are ill-defined and being set to 0.0 in labels with no predicted samples. Use `zero_division` parameter to control this behavior.\n",
            "  _warn_prf(average, modifier, msg_start, len(result))\n"
          ],
          "name": "stderr"
        }
      ]
    },
    {
      "cell_type": "markdown",
      "metadata": {
        "id": "V0uFjRzNGTgA",
        "colab_type": "text"
      },
      "source": [
        "####**Decision Tree**"
      ]
    },
    {
      "cell_type": "code",
      "metadata": {
        "id": "WbovtxaD19vY",
        "colab_type": "code",
        "outputId": "bec2f7db-cf03-4b68-86e3-528dc5e36051",
        "colab": {
          "base_uri": "https://localhost:8080/",
          "height": 868
        }
      },
      "source": [
        "svm_1 = plot_confusion_matrix(clf_dt_1, X_1_test, y_1_test, display_labels = ['normal', 'risk'], cmap=plt.cm.Blues, normalize = 'true')\n",
        "svm_1.ax_.set_title('Cognitive Markers')\n",
        "\n",
        "svm_2 = plot_confusion_matrix(clf_dt_2, X_2_test, y_2_test, display_labels = ['normal', 'risk'], cmap=plt.cm.Blues, normalize = 'true')\n",
        "svm_2.ax_.set_title('Biomarkers')\n",
        "\n",
        "svm_3 = plot_confusion_matrix(clf_dt_3, X_3_test, y_3_test, display_labels = ['normal', 'risk'], cmap=plt.cm.Blues, normalize = 'true')\n",
        "svm_3.ax_.set_title('Both')"
      ],
      "execution_count": 31,
      "outputs": [
        {
          "output_type": "execute_result",
          "data": {
            "text/plain": [
              "Text(0.5, 1.0, 'Both')"
            ]
          },
          "metadata": {
            "tags": []
          },
          "execution_count": 31
        },
        {
          "output_type": "display_data",
          "data": {
            "image/png": "[encoded data removed]",
            "text/plain": [
              "<Figure size 432x288 with 2 Axes>"
            ]
          },
          "metadata": {
            "tags": [],
            "needs_background": "light"
          }
        },
        {
          "output_type": "display_data",
          "data": {
            "image/png": "[encoded data removed]",
            "text/plain": [
              "<Figure size 432x288 with 2 Axes>"
            ]
          },
          "metadata": {
            "tags": [],
            "needs_background": "light"
          }
        },
        {
          "output_type": "display_data",
          "data": {
            "image/png": "[encoded data removed]",
            "text/plain": [
              "<Figure size 432x288 with 2 Axes>"
            ]
          },
          "metadata": {
            "tags": [],
            "needs_background": "light"
          }
        }
      ]
    },
    {
      "cell_type": "code",
      "metadata": {
        "id": "kwqEzJmZ2Av1",
        "colab_type": "code",
        "outputId": "43f109e3-1ce5-4851-b23f-b6c1f6dab13f",
        "colab": {
          "base_uri": "https://localhost:8080/",
          "height": 552
        }
      },
      "source": [
        "print(classification_report(y_1_test, dt_y_1_pred))\n",
        "print(classification_report(y_2_test, dt_y_2_pred))\n",
        "print(classification_report(y_3_test, dt_y_3_pred))"
      ],
      "execution_count": 32,
      "outputs": [
        {
          "output_type": "stream",
          "text": [
            "              precision    recall  f1-score   support\n",
            "\n",
            "           0       0.00      0.00      0.00         1\n",
            "           1       0.50      1.00      0.67         1\n",
            "\n",
            "    accuracy                           0.50         2\n",
            "   macro avg       0.25      0.50      0.33         2\n",
            "weighted avg       0.25      0.50      0.33         2\n",
            "\n",
            "              precision    recall  f1-score   support\n",
            "\n",
            "           0       0.50      1.00      0.67         1\n",
            "           1       0.00      0.00      0.00         1\n",
            "\n",
            "    accuracy                           0.50         2\n",
            "   macro avg       0.25      0.50      0.33         2\n",
            "weighted avg       0.25      0.50      0.33         2\n",
            "\n",
            "              precision    recall  f1-score   support\n",
            "\n",
            "           0       1.00      1.00      1.00         1\n",
            "           1       1.00      1.00      1.00         1\n",
            "\n",
            "    accuracy                           1.00         2\n",
            "   macro avg       1.00      1.00      1.00         2\n",
            "weighted avg       1.00      1.00      1.00         2\n",
            "\n"
          ],
          "name": "stdout"
        },
        {
          "output_type": "stream",
          "text": [
            "/usr/local/lib/python3.6/dist-packages/sklearn/metrics/_classification.py:1272: UndefinedMetricWarning: Precision and F-score are ill-defined and being set to 0.0 in labels with no predicted samples. Use `zero_division` parameter to control this behavior.\n",
            "  _warn_prf(average, modifier, msg_start, len(result))\n"
          ],
          "name": "stderr"
        }
      ]
    },
    {
      "cell_type": "code",
      "metadata": {
        "id": "pqoopXv35kD2",
        "colab_type": "code",
        "outputId": "13ec5c91-4a18-4576-c84d-a50ea13c04ec",
        "colab": {
          "base_uri": "https://localhost:8080/",
          "height": 288
        }
      },
      "source": [
        "#Dream case\n",
        "a = [0,0,1,1]\n",
        "b = [0,0,1,1]\n",
        "\n",
        "cm_3 = con_mat_picture(a, b, 'Dream case')"
      ],
      "execution_count": 0,
      "outputs": [
        {
          "output_type": "display_data",
          "data": {
            "image/png": "[encoded data removed]",
            "text/plain": [
              "<Figure size 432x288 with 2 Axes>"
            ]
          },
          "metadata": {
            "tags": [],
            "needs_background": "light"
          }
        }
      ]
    }
  ]
}