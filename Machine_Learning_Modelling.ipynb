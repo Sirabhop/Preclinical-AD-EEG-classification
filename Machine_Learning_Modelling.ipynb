{
  "nbformat": 4,
  "nbformat_minor": 0,
  "metadata": {
    "colab": {
      "name": "Machine Learning Modelling",
      "provenance": [],
      "machine_shape": "hm",
      "authorship_tag": "ABX9TyOLkfFo5+zVXISi7tOYjeCz",
      "include_colab_link": true
    },
    "kernelspec": {
      "name": "python3",
      "display_name": "Python 3"
    }
  },
  "cells": [
    {
      "cell_type": "markdown",
      "metadata": {
        "id": "view-in-github",
        "colab_type": "text"
      },
      "source": [
        "<a href=\"https://colab.research.google.com/github/Sirabhop/Preclinical-AD-EEG-classification/blob/master/Machine_Learning_Modelling.ipynb\" target=\"_parent\"><img src=\"https://colab.research.google.com/assets/colab-badge.svg\" alt=\"Open In Colab\"/></a>"
      ]
    },
    {
      "cell_type": "code",
      "metadata": {
        "id": "dxpsi-8HGp64",
        "colab_type": "code",
        "colab": {}
      },
      "source": [
        "from google.colab import drive\n",
        "import os\n",
        "import pandas as pd"
      ],
      "execution_count": 0,
      "outputs": []
    },
    {
      "cell_type": "code",
      "metadata": {
        "id": "NuuHyQCDM1jp",
        "colab_type": "code",
        "colab": {}
      },
      "source": [
        "#Set working directory and import cookbook\n",
        "os.chdir(\"/content/drive/My Drive/Colab Notebooks/\")\n",
        "\n",
        "#Download eeg feature extraction function\n",
        "%run EEG_Feature_Extraction.ipynb"
      ],
      "execution_count": 0,
      "outputs": []
    },
    {
      "cell_type": "markdown",
      "metadata": {
        "id": "0u7WRdp1IJa0",
        "colab_type": "text"
      },
      "source": [
        "# **Import Data**"
      ]
    },
    {
      "cell_type": "code",
      "metadata": {
        "id": "11vzR25IHelh",
        "colab_type": "code",
        "colab": {
          "base_uri": "https://localhost:8080/",
          "height": 34
        },
        "outputId": "6b9f578a-36e6-4a3c-cdda-6fc6939c47b2"
      },
      "source": [
        "drive.mount('/content/drive')"
      ],
      "execution_count": 15,
      "outputs": [
        {
          "output_type": "stream",
          "text": [
            "Drive already mounted at /content/drive; to attempt to forcibly remount, call drive.mount(\"/content/drive\", force_remount=True).\n"
          ],
          "name": "stdout"
        }
      ]
    },
    {
      "cell_type": "code",
      "metadata": {
        "id": "FLUg2vhEGzCH",
        "colab_type": "code",
        "colab": {}
      },
      "source": [
        "os.chdir(\"/content/drive/My Drive/EEG Data\")"
      ],
      "execution_count": 0,
      "outputs": []
    },
    {
      "cell_type": "code",
      "metadata": {
        "id": "dnBv88huIH75",
        "colab_type": "code",
        "colab": {}
      },
      "source": [
        "#Compute EEG feature\n",
        "subjectID_fif = ['SS1', 'SS2', 'SS3']\n",
        "df = getDataFrame_fif(subjectID_fif)\n",
        "\n",
        "subjectID_bdf = ['SS4', 'SS5', 'SS6', 'SS7', 'SS8']\n",
        "df2 = getDataFrame_bdf(subjectID_bdf)\n",
        "\n",
        "df = df.append(df2, ignore_index = True)\n",
        "\n",
        "#Export EEG feature\n",
        "df.to_csv('EEG_features.csv')"
      ],
      "execution_count": 0,
      "outputs": []
    },
    {
      "cell_type": "code",
      "metadata": {
        "id": "iFW_9c15P70j",
        "colab_type": "code",
        "colab": {}
      },
      "source": [
        "#Import FCSRT & MoCA & Demographic data\n",
        "FCSRT = pd.read_csv(\"FCSRT.csv\")\n",
        "FCSRT.drop('id', axis = 1, inplace = True)\n",
        "MoCA = pd.read_csv(\"MoCA.csv\", usecols = ['SUM'])\n",
        "EEG = pd.read_csv(\"EEG_features.csv\")\n",
        "Group = pd.DataFrame(data = {'group':(0,1,1,0,1,1,0,0)})\n",
        "\n",
        "df_original = pd.concat([Group,EEG,FCSRT,MoCA], axis = 1)\n",
        "df_original.drop(['Unnamed: 0'], inplace = True, axis = 1)\n",
        "df_original.rename(columns = {'SUM':'MoCA'}, inplace = True)\n",
        "df_original.drop('id', axis = 1, inplace=True)"
      ],
      "execution_count": 0,
      "outputs": []
    },
    {
      "cell_type": "markdown",
      "metadata": {
        "id": "5-Xck8eXQDeh",
        "colab_type": "text"
      },
      "source": [
        "# **Data Preprocessing**"
      ]
    },
    {
      "cell_type": "markdown",
      "metadata": {
        "id": "_o4eI5oqS835",
        "colab_type": "text"
      },
      "source": [
        "#### **1) Scaling**"
      ]
    },
    {
      "cell_type": "code",
      "metadata": {
        "id": "UzCYG4I3O9rj",
        "colab_type": "code",
        "colab": {}
      },
      "source": [
        "from sklearn import preprocessing"
      ],
      "execution_count": 0,
      "outputs": []
    },
    {
      "cell_type": "code",
      "metadata": {
        "id": "8jyNE2adO-f_",
        "colab_type": "code",
        "outputId": "410dee21-0907-4a41-b23d-6e94e4662feb",
        "colab": {
          "base_uri": "https://localhost:8080/",
          "height": 305
        }
      },
      "source": [
        "#Min-Max Scaling\n",
        "\n",
        "scaler = preprocessing.MinMaxScaler()\n",
        "df_original[df_original.columns] = scaler.fit_transform(df_original[df_original.columns])\n",
        "\n",
        "df_original.to_csv('Data.csv')\n",
        "df_original.head()"
      ],
      "execution_count": 36,
      "outputs": [
        {
          "output_type": "stream",
          "text": [
            "/usr/local/lib/python3.6/dist-packages/sklearn/preprocessing/_data.py:375: RuntimeWarning: All-NaN slice encountered\n",
            "  data_min = np.nanmin(X, axis=0)\n",
            "/usr/local/lib/python3.6/dist-packages/sklearn/preprocessing/_data.py:376: RuntimeWarning: All-NaN slice encountered\n",
            "  data_max = np.nanmax(X, axis=0)\n"
          ],
          "name": "stderr"
        },
        {
          "output_type": "execute_result",
          "data": {
            "text/html": [
              "<div>\n",
              "<style scoped>\n",
              "    .dataframe tbody tr th:only-of-type {\n",
              "        vertical-align: middle;\n",
              "    }\n",
              "\n",
              "    .dataframe tbody tr th {\n",
              "        vertical-align: top;\n",
              "    }\n",
              "\n",
              "    .dataframe thead th {\n",
              "        text-align: right;\n",
              "    }\n",
              "</style>\n",
              "<table border=\"1\" class=\"dataframe\">\n",
              "  <thead>\n",
              "    <tr style=\"text-align: right;\">\n",
              "      <th></th>\n",
              "      <th>group</th>\n",
              "      <th>PSD_Delta</th>\n",
              "      <th>PSD_Theta</th>\n",
              "      <th>PSD_Alpha</th>\n",
              "      <th>PSD_Beta</th>\n",
              "      <th>PSD_Gamma</th>\n",
              "      <th>MSF</th>\n",
              "      <th>SE</th>\n",
              "      <th>AC</th>\n",
              "      <th>wSMI_Alpha</th>\n",
              "      <th>wSMI_Theta</th>\n",
              "      <th>IR-FreeR</th>\n",
              "      <th>IR-CuedR</th>\n",
              "      <th>DL-FreeR</th>\n",
              "      <th>DL-CuedR</th>\n",
              "      <th>MoCA</th>\n",
              "    </tr>\n",
              "  </thead>\n",
              "  <tbody>\n",
              "    <tr>\n",
              "      <th>0</th>\n",
              "      <td>0.0</td>\n",
              "      <td>NaN</td>\n",
              "      <td>0.248087</td>\n",
              "      <td>0.248087</td>\n",
              "      <td>0.040643</td>\n",
              "      <td>0.003319</td>\n",
              "      <td>0.032240</td>\n",
              "      <td>1.000000</td>\n",
              "      <td>0.000000</td>\n",
              "      <td>1.000000</td>\n",
              "      <td>1.000000</td>\n",
              "      <td>0.0</td>\n",
              "      <td>1.00</td>\n",
              "      <td>0.2</td>\n",
              "      <td>0.333333</td>\n",
              "      <td>0.9375</td>\n",
              "    </tr>\n",
              "    <tr>\n",
              "      <th>1</th>\n",
              "      <td>1.0</td>\n",
              "      <td>NaN</td>\n",
              "      <td>0.508400</td>\n",
              "      <td>0.508400</td>\n",
              "      <td>0.545186</td>\n",
              "      <td>0.076205</td>\n",
              "      <td>0.227158</td>\n",
              "      <td>0.654121</td>\n",
              "      <td>0.302423</td>\n",
              "      <td>0.772786</td>\n",
              "      <td>0.697256</td>\n",
              "      <td>0.2</td>\n",
              "      <td>0.25</td>\n",
              "      <td>0.6</td>\n",
              "      <td>0.333333</td>\n",
              "      <td>0.0625</td>\n",
              "    </tr>\n",
              "    <tr>\n",
              "      <th>2</th>\n",
              "      <td>1.0</td>\n",
              "      <td>NaN</td>\n",
              "      <td>0.313169</td>\n",
              "      <td>0.313169</td>\n",
              "      <td>0.506633</td>\n",
              "      <td>0.966326</td>\n",
              "      <td>0.569739</td>\n",
              "      <td>0.724031</td>\n",
              "      <td>0.972203</td>\n",
              "      <td>0.514105</td>\n",
              "      <td>0.323906</td>\n",
              "      <td>1.0</td>\n",
              "      <td>0.00</td>\n",
              "      <td>1.0</td>\n",
              "      <td>0.000000</td>\n",
              "      <td>0.1875</td>\n",
              "    </tr>\n",
              "    <tr>\n",
              "      <th>3</th>\n",
              "      <td>0.0</td>\n",
              "      <td>NaN</td>\n",
              "      <td>0.576469</td>\n",
              "      <td>0.576469</td>\n",
              "      <td>0.429734</td>\n",
              "      <td>0.445730</td>\n",
              "      <td>0.381145</td>\n",
              "      <td>0.654121</td>\n",
              "      <td>0.253809</td>\n",
              "      <td>0.000000</td>\n",
              "      <td>0.000000</td>\n",
              "      <td>1.0</td>\n",
              "      <td>0.00</td>\n",
              "      <td>1.0</td>\n",
              "      <td>0.333333</td>\n",
              "      <td>1.0000</td>\n",
              "    </tr>\n",
              "    <tr>\n",
              "      <th>4</th>\n",
              "      <td>1.0</td>\n",
              "      <td>NaN</td>\n",
              "      <td>0.484058</td>\n",
              "      <td>0.484058</td>\n",
              "      <td>0.571859</td>\n",
              "      <td>0.135627</td>\n",
              "      <td>0.294278</td>\n",
              "      <td>0.000000</td>\n",
              "      <td>0.680209</td>\n",
              "      <td>0.778608</td>\n",
              "      <td>0.608539</td>\n",
              "      <td>0.8</td>\n",
              "      <td>0.00</td>\n",
              "      <td>0.2</td>\n",
              "      <td>1.000000</td>\n",
              "      <td>0.3750</td>\n",
              "    </tr>\n",
              "  </tbody>\n",
              "</table>\n",
              "</div>"
            ],
            "text/plain": [
              "   group  PSD_Delta  PSD_Theta  PSD_Alpha  ...  IR-CuedR  DL-FreeR  DL-CuedR    MoCA\n",
              "0    0.0        NaN   0.248087   0.248087  ...      1.00       0.2  0.333333  0.9375\n",
              "1    1.0        NaN   0.508400   0.508400  ...      0.25       0.6  0.333333  0.0625\n",
              "2    1.0        NaN   0.313169   0.313169  ...      0.00       1.0  0.000000  0.1875\n",
              "3    0.0        NaN   0.576469   0.576469  ...      0.00       1.0  0.333333  1.0000\n",
              "4    1.0        NaN   0.484058   0.484058  ...      0.00       0.2  1.000000  0.3750\n",
              "\n",
              "[5 rows x 16 columns]"
            ]
          },
          "metadata": {
            "tags": []
          },
          "execution_count": 36
        }
      ]
    },
    {
      "cell_type": "markdown",
      "metadata": {
        "id": "oXXTY4XKSWgn",
        "colab_type": "text"
      },
      "source": [
        "#### **2) Generate Data**"
      ]
    },
    {
      "cell_type": "markdown",
      "metadata": {
        "id": "aY8muHftTBye",
        "colab_type": "text"
      },
      "source": [
        "The section below, I've random the value of each feature in order to demonstrate ML model because the situation of *COVID-19* that I cannot continue run the experiment as expected."
      ]
    },
    {
      "cell_type": "code",
      "metadata": {
        "id": "fbIIp_MoWHtf",
        "colab_type": "code",
        "colab": {}
      },
      "source": [
        "from random import random"
      ],
      "execution_count": 0,
      "outputs": []
    },
    {
      "cell_type": "code",
      "metadata": {
        "id": "RiABntThSV0G",
        "colab_type": "code",
        "colab": {}
      },
      "source": [
        "df_random = pd.DataFrame(columns = df_original.columns)\n",
        "for x in df_original.columns:\n",
        "  if x != 'Group':\n",
        "    df_random[x] = np.random.rand(52)\n",
        "  else:\n",
        "    df_random[x] = np.random.randint(0,2,52)"
      ],
      "execution_count": 0,
      "outputs": []
    },
    {
      "cell_type": "code",
      "metadata": {
        "id": "rXE0HnEYZjM9",
        "colab_type": "code",
        "outputId": "03b1e6e1-839b-40f2-9d65-87a120040876",
        "colab": {
          "base_uri": "https://localhost:8080/",
          "height": 234
        }
      },
      "source": [
        "df = df_original.append(df_random, ignore_index = True)\n",
        "df.tail()"
      ],
      "execution_count": 0,
      "outputs": [
        {
          "output_type": "execute_result",
          "data": {
            "text/html": [
              "<div>\n",
              "<style scoped>\n",
              "    .dataframe tbody tr th:only-of-type {\n",
              "        vertical-align: middle;\n",
              "    }\n",
              "\n",
              "    .dataframe tbody tr th {\n",
              "        vertical-align: top;\n",
              "    }\n",
              "\n",
              "    .dataframe thead th {\n",
              "        text-align: right;\n",
              "    }\n",
              "</style>\n",
              "<table border=\"1\" class=\"dataframe\">\n",
              "  <thead>\n",
              "    <tr style=\"text-align: right;\">\n",
              "      <th></th>\n",
              "      <th>PSD_Delta</th>\n",
              "      <th>PSD_Theta</th>\n",
              "      <th>PSD_Alpha</th>\n",
              "      <th>PSD_Beta</th>\n",
              "      <th>PSD_Gamma</th>\n",
              "      <th>MSF</th>\n",
              "      <th>SE</th>\n",
              "      <th>AC</th>\n",
              "      <th>wSMI_Alpha</th>\n",
              "      <th>wSMI_Theta</th>\n",
              "      <th>IR-FreeR</th>\n",
              "      <th>IR-CuedR</th>\n",
              "      <th>DL-FreeR</th>\n",
              "      <th>DL-CuedR</th>\n",
              "      <th>MoCA</th>\n",
              "      <th>Group</th>\n",
              "    </tr>\n",
              "  </thead>\n",
              "  <tbody>\n",
              "    <tr>\n",
              "      <th>55</th>\n",
              "      <td>0.807347</td>\n",
              "      <td>0.682497</td>\n",
              "      <td>0.021335</td>\n",
              "      <td>0.035987</td>\n",
              "      <td>0.381992</td>\n",
              "      <td>0.613762</td>\n",
              "      <td>0.052280</td>\n",
              "      <td>0.761692</td>\n",
              "      <td>0.513952</td>\n",
              "      <td>0.476199</td>\n",
              "      <td>0.738040</td>\n",
              "      <td>0.801613</td>\n",
              "      <td>0.066879</td>\n",
              "      <td>0.781259</td>\n",
              "      <td>0.816615</td>\n",
              "      <td>1.0</td>\n",
              "    </tr>\n",
              "    <tr>\n",
              "      <th>56</th>\n",
              "      <td>0.485057</td>\n",
              "      <td>0.448023</td>\n",
              "      <td>0.680089</td>\n",
              "      <td>0.031775</td>\n",
              "      <td>0.806532</td>\n",
              "      <td>0.069834</td>\n",
              "      <td>0.892653</td>\n",
              "      <td>0.272981</td>\n",
              "      <td>0.944839</td>\n",
              "      <td>0.461204</td>\n",
              "      <td>0.818933</td>\n",
              "      <td>0.112397</td>\n",
              "      <td>0.796346</td>\n",
              "      <td>0.753916</td>\n",
              "      <td>0.835964</td>\n",
              "      <td>1.0</td>\n",
              "    </tr>\n",
              "    <tr>\n",
              "      <th>57</th>\n",
              "      <td>0.536503</td>\n",
              "      <td>0.559438</td>\n",
              "      <td>0.170453</td>\n",
              "      <td>0.626516</td>\n",
              "      <td>0.196223</td>\n",
              "      <td>0.133042</td>\n",
              "      <td>0.470600</td>\n",
              "      <td>0.638751</td>\n",
              "      <td>0.223161</td>\n",
              "      <td>0.278665</td>\n",
              "      <td>0.705056</td>\n",
              "      <td>0.525164</td>\n",
              "      <td>0.885811</td>\n",
              "      <td>0.852113</td>\n",
              "      <td>0.109725</td>\n",
              "      <td>0.0</td>\n",
              "    </tr>\n",
              "    <tr>\n",
              "      <th>58</th>\n",
              "      <td>0.412441</td>\n",
              "      <td>0.072450</td>\n",
              "      <td>0.633993</td>\n",
              "      <td>0.221719</td>\n",
              "      <td>0.172257</td>\n",
              "      <td>0.631629</td>\n",
              "      <td>0.164460</td>\n",
              "      <td>0.365358</td>\n",
              "      <td>0.194858</td>\n",
              "      <td>0.917188</td>\n",
              "      <td>0.279845</td>\n",
              "      <td>0.127879</td>\n",
              "      <td>0.354827</td>\n",
              "      <td>0.744854</td>\n",
              "      <td>0.989097</td>\n",
              "      <td>0.0</td>\n",
              "    </tr>\n",
              "    <tr>\n",
              "      <th>59</th>\n",
              "      <td>0.379127</td>\n",
              "      <td>0.065893</td>\n",
              "      <td>0.528430</td>\n",
              "      <td>0.187522</td>\n",
              "      <td>0.183076</td>\n",
              "      <td>0.255245</td>\n",
              "      <td>0.006866</td>\n",
              "      <td>0.976507</td>\n",
              "      <td>0.282368</td>\n",
              "      <td>0.193345</td>\n",
              "      <td>0.986599</td>\n",
              "      <td>0.661297</td>\n",
              "      <td>0.992456</td>\n",
              "      <td>0.637758</td>\n",
              "      <td>0.974005</td>\n",
              "      <td>1.0</td>\n",
              "    </tr>\n",
              "  </tbody>\n",
              "</table>\n",
              "</div>"
            ],
            "text/plain": [
              "    PSD_Delta  PSD_Theta  PSD_Alpha  ...  DL-CuedR      MoCA  Group\n",
              "55   0.807347   0.682497   0.021335  ...  0.781259  0.816615    1.0\n",
              "56   0.485057   0.448023   0.680089  ...  0.753916  0.835964    1.0\n",
              "57   0.536503   0.559438   0.170453  ...  0.852113  0.109725    0.0\n",
              "58   0.412441   0.072450   0.633993  ...  0.744854  0.989097    0.0\n",
              "59   0.379127   0.065893   0.528430  ...  0.637758  0.974005    1.0\n",
              "\n",
              "[5 rows x 16 columns]"
            ]
          },
          "metadata": {
            "tags": []
          },
          "execution_count": 142
        }
      ]
    },
    {
      "cell_type": "markdown",
      "metadata": {
        "id": "sIPU9HzpfNV_",
        "colab_type": "text"
      },
      "source": [
        "# **Model Experimentation**"
      ]
    },
    {
      "cell_type": "markdown",
      "metadata": {
        "id": "pOXBs5rffWr5",
        "colab_type": "text"
      },
      "source": [
        "####**1) Seperate dataframe**\n",
        "\n",
        "\n",
        "1.   Only EEG & MoCA data\n",
        "2.   FCSRT & MoCA data\n",
        "3. All data\n"
      ]
    },
    {
      "cell_type": "code",
      "metadata": {
        "id": "OGzIYzbFfWMf",
        "colab_type": "code",
        "colab": {}
      },
      "source": [
        "#1\n",
        "X_1 = df[['PSD_Delta', 'PSD_Theta', 'PSD_Alpha', 'PSD_Beta', 'PSD_Gamma', 'MSF', 'SE', 'AC', 'wSMI_Alpha', 'wSMI_Theta', 'MoCA']]\n",
        "#2\n",
        "X_2 = df[['IR-FreeR', 'IR-CuedR','DL-FreeR', 'DL-CuedR', 'MoCA']]\n",
        "#3\n",
        "X_3 = df\n",
        "\n",
        "y = df['Group']"
      ],
      "execution_count": 0,
      "outputs": []
    },
    {
      "cell_type": "markdown",
      "metadata": {
        "id": "9N2Vyv7UjEvQ",
        "colab_type": "text"
      },
      "source": [
        "####**2) Seperate *Training Set* and *Test Set***"
      ]
    },
    {
      "cell_type": "code",
      "metadata": {
        "id": "Ip-Qe1NZjdAJ",
        "colab_type": "code",
        "colab": {}
      },
      "source": [
        "from sklearn.model_selection import train_test_split"
      ],
      "execution_count": 0,
      "outputs": []
    },
    {
      "cell_type": "code",
      "metadata": {
        "id": "AtLCUgtSljKA",
        "colab_type": "code",
        "colab": {}
      },
      "source": [
        "#X_1\n",
        "X_1_train, X_1_test, Y_1_train,Y_1_test = train_test_split(X_1, y, test_size = 0.25, random_state = 0)\n",
        "\n",
        "#X_2\n",
        "X_2_train, X_2_test, Y_2_train, Y_2_test = train_test_split(X_2, y, test_size = 0.25, random_state = 0)\n",
        "\n",
        "#X_3\n",
        "X_3_train, X_3_test, Y_3_train, Y_3_test = train_test_split(X_3, y, test_size = 0.25, random_state = 0)"
      ],
      "execution_count": 0,
      "outputs": []
    },
    {
      "cell_type": "markdown",
      "metadata": {
        "id": "EjqyV-B9mMIS",
        "colab_type": "text"
      },
      "source": [
        "####**3) Model Building**"
      ]
    },
    {
      "cell_type": "code",
      "metadata": {
        "id": "jvLJ27PGmLXw",
        "colab_type": "code",
        "colab": {}
      },
      "source": [
        "from sklearn.svm import SVC"
      ],
      "execution_count": 0,
      "outputs": []
    },
    {
      "cell_type": "code",
      "metadata": {
        "id": "UT881v-2mcs9",
        "colab_type": "code",
        "colab": {}
      },
      "source": [
        "classifier_1 = SVC(kernel = 'rbf', random_state = 0)\n",
        "classifier_1.fit(X_1_train, Y_1_train)\n",
        "Y_1_pred = classifier_1.predict(X_1_test)\n",
        "\n",
        "classifier_2 = SVC(kernel = 'rbf', random_state = 0)\n",
        "classifier_2.fit(X_2_train, Y_2_train)\n",
        "Y_2_pred = classifier_2.predict(X_2_test)\n",
        "\n",
        "classifier_3 = SVC(kernel = 'rbf', random_state = 0)\n",
        "classifier_3.fit(X_3_train, Y_3_train)\n",
        "Y_3_pred = classifier_3.predict(X_3_test)"
      ],
      "execution_count": 0,
      "outputs": []
    },
    {
      "cell_type": "markdown",
      "metadata": {
        "id": "vVmNTQJgtFsx",
        "colab_type": "text"
      },
      "source": [
        "####**4) Model Evaluation**"
      ]
    },
    {
      "cell_type": "code",
      "metadata": {
        "id": "PKIJXE4Jms2C",
        "colab_type": "code",
        "colab": {}
      },
      "source": [
        "from sklearn.metrics import confusion_matrix"
      ],
      "execution_count": 0,
      "outputs": []
    },
    {
      "cell_type": "code",
      "metadata": {
        "id": "sb-fAryXtLaY",
        "colab_type": "code",
        "colab": {}
      },
      "source": [
        "cm_1 = confusion_matrix(Y_1_test, Y_1_pred)\n",
        "cm_2 = confusion_matrix(Y_2_test, Y_2_pred)\n",
        "cm_3 = confusion_matrix(Y_3_test, Y_3_pred)"
      ],
      "execution_count": 0,
      "outputs": []
    }
  ]
}