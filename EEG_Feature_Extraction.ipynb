{
  "nbformat": 4,
  "nbformat_minor": 0,
  "metadata": {
    "colab": {
      "name": "EEG_Feature_Extraction.ipynb",
      "provenance": [],
      "collapsed_sections": [
        "nvcf0_mg8ZqW",
        "p4eWQ3Wp_uFq",
        "0FtekCN8Mjpx",
        "1mEsDFDCQh9A"
      ],
      "machine_shape": "hm",
      "include_colab_link": true
    },
    "kernelspec": {
      "name": "python3",
      "display_name": "Python 3"
    },
    "accelerator": "GPU"
  },
  "cells": [
    {
      "cell_type": "markdown",
      "metadata": {
        "id": "view-in-github",
        "colab_type": "text"
      },
      "source": [
        "<a href=\"https://colab.research.google.com/github/Sirabhop/Preclinical-AD-EEG-classification/blob/master/EEG_Feature_Extraction.ipynb\" target=\"_parent\"><img src=\"https://colab.research.google.com/assets/colab-badge.svg\" alt=\"Open In Colab\"/></a>"
      ]
    },
    {
      "cell_type": "markdown",
      "metadata": {
        "id": "OVHaci3VjhmI",
        "colab_type": "text"
      },
      "source": [
        "# **Library installation**\n"
      ]
    },
    {
      "cell_type": "code",
      "metadata": {
        "id": "sa75w4oYjgtB",
        "colab_type": "code",
        "colab": {}
      },
      "source": [
        "!pip install mne"
      ],
      "execution_count": 0,
      "outputs": []
    },
    {
      "cell_type": "code",
      "metadata": {
        "id": "33aNObJVkSiG",
        "colab_type": "code",
        "colab": {}
      },
      "source": [
        "pip install git+https://github.com/raphaelvallat/entropy.git"
      ],
      "execution_count": 0,
      "outputs": []
    },
    {
      "cell_type": "code",
      "metadata": {
        "id": "sVLaPZMma7NG",
        "colab_type": "code",
        "colab": {}
      },
      "source": [
        "pip install git+https://github.com/nice-tools/nice.git"
      ],
      "execution_count": 0,
      "outputs": []
    },
    {
      "cell_type": "markdown",
      "metadata": {
        "id": "T8LXIte0RrV9",
        "colab_type": "text"
      },
      "source": [
        "# **Feature Extraction**"
      ]
    },
    {
      "cell_type": "markdown",
      "metadata": {
        "id": "dngxH8LlkxQT",
        "colab_type": "text"
      },
      "source": [
        "### **1) Power Spectral Density (PSD)** x5\n",
        "*Delta (1-4Hz), Theta (4-8Hz), Alpha (8-12Hz), Beta (12-30Hz), Gamma (30-45Hz; Gaubert et al., 2019)*"
      ]
    },
    {
      "cell_type": "code",
      "metadata": {
        "id": "HsVHCdv3EOxj",
        "colab_type": "code",
        "colab": {}
      },
      "source": [
        "def get_df_ss(epoch):\n",
        "  from mne.time_frequency import psd_welch\n",
        "  chn_names = ['Fp1','AF3','F7','F3','FC1','FC5','T7','C3','CP1','CP5','P7','P3',\n",
        "               'Pz','PO3','O1','Oz','O2','PO4','P4','P8','CP6','CP2','C4','T8',\n",
        "               'FC6','FC2','F4','F8','AF4','Fp2','Fz','Cz']\n",
        "  psd_df = pd.DataFrame()\n",
        "  for chn in chn_names:\n",
        "    psd_df.loc[0, chn]= (psd_welch(epoch, 0, 4, picks = chn))[0].mean()\n",
        "    psd_df.loc[1, chn] = (psd_welch(epoch, 4, 8, picks = chn))[0].mean()\n",
        "    psd_df.loc[2, chn] = (psd_welch(epoch, 8, 12, picks = chn))[0].mean()\n",
        "    psd_df.loc[3, chn] = (psd_welch(epoch, 12, 30, picks = chn))[0].mean()\n",
        "    psd_df.loc[4, chn] = (psd_welch(epoch, 30, 45, picks = chn))[0].mean()\n",
        "  return psd_df"
      ],
      "execution_count": 0,
      "outputs": []
    },
    {
      "cell_type": "code",
      "metadata": {
        "id": "czHb02b0EQYn",
        "colab_type": "code",
        "colab": {}
      },
      "source": [
        "def get_psd_sorce(subjects):\n",
        "  from mne.time_frequency import psd_welch\n",
        "  from mne.preprocessing import compute_proj_eog\n",
        "\n",
        "  import pandas as pd\n",
        "  import mne\n",
        "  import os\n",
        "\n",
        "  eog_chs = ('Leye','Reye','UBlink','DBlink','LMast','RMast')\n",
        "  #Exclude; Gsr = Skin conductance, Resp = Respiration belt, Plet = plethismograph (Blood pressure, HR), Temp = thermometer\n",
        "  exclude_chs = ('EXG7','EXG8','GSR1','GSR2','Erg1','Erg2','Resp','Plet','Temp') \n",
        "  chn_names = ['Fp1','AF3','F7','F3','FC1','FC5','T7','C3','CP1','CP5','P7','P3',\n",
        "               'Pz','PO3','O1','Oz','O2','PO4','P4','P8','CP6','CP2','C4','T8',\n",
        "               'FC6','FC2','F4','F8','AF4','Fp2','Fz','Cz']\n",
        "  DL_id = {'SS8':[9,10,11,12,13,14], 'SS7':[9,10,11,12,13,14], 'SS6':[9,10,11,12,13,14],\n",
        "           'SS5':[9,10,11,12,13,14], 'SS4':[9,10,11,12,13,14,15], 'SS2':[9,10,11,12,13,14]}\n",
        "  IR_id = {'SS8':[2,3,4,5,6,7], 'SS7':[2,3,4,5,6,7], 'SS6':[2,3,4,5,6,7], \n",
        "           'SS5':[2,3,4,5,6,7], 'SS4':[2,3,4,5,6,7], 'SS2':[2,3,4,5,6,7]}\n",
        "  WCST_id = {'SS8':[8], 'SS7':[8], 'SS6':[8],\n",
        "            'SS5':[8], 'SS4':[8], 'SS2':[8]}\n",
        "  df_IR = pd.DataFrame()\n",
        "  df_DL = pd.DataFrame()\n",
        "  df_WCST = pd.DataFrame()\n",
        "\n",
        "  for SS in subjects:\n",
        "    if SS in ['SS1', 'SS2', 'SS3']:\n",
        "        raw = mne.io.read_raw_fif(SS+'.fif', preload = True)\n",
        "        raw.rename_channels({'F7-0':'F7', 'F3-0':'F3', 'F4-0':'F4', 'F8-0':'F8', 'C3-0':'C3', 'C4-0':'C4'})\n",
        "    else:\n",
        "        raw = mne.io.read_raw_bdf(SS+'.bdf', exclude = exclude_chs, eog = eog_chs, stim_channel = 'Status', preload = True)\n",
        "    \n",
        "    #Filter\n",
        "    raw.filter(l_freq = 0.5, h_freq = 45)\n",
        "    raw.notch_filter(freqs = (50, 100))\n",
        "\n",
        "    #Denosing SSP\n",
        "    eog_projs, _ = compute_proj_eog(raw, n_eeg = 1, reject=None, no_proj=True)\n",
        "    raw.add_proj(eog_projs).apply_proj()\n",
        "\n",
        "    events = mne.find_events(raw, stim_channel='Status')\n",
        "    #Epoching\n",
        "    epoch_IR = mne.Epochs(raw, events, event_id = IR_id[SS], preload = True)\n",
        "    epoch_DL = mne.Epochs(raw, events, event_id = DL_id[SS], preload = True)\n",
        "    epoch_WCST = mne.Epochs(raw, events, event_id = WCST_id[SS], preload = True)\n",
        "\n",
        "    #Get PSD sources\n",
        "    df_ss_IR = get_df_ss(epoch_IR)\n",
        "    df_ss_DL = get_df_ss(epoch_DL)\n",
        "    df_ss_WCST = get_df_ss(epoch_WCST)\n",
        "    df_IR = pd.concat((df_IR, df_ss_IR))\n",
        "    df_DL = pd.concat((df_DL, df_ss_DL))\n",
        "    df_WCST = pd.concat((df_WCST, df_ss_WCST))\n",
        "    \n",
        "    by_row_index = df_IR.groupby(df_IR.index)\n",
        "    df_means_psd_IR = by_row_index.mean()\n",
        "  \n",
        "    by_row_index = df_DL.groupby(df_DL.index)\n",
        "    df_means_psd_DL = by_row_index.mean()\n",
        "\n",
        "    by_row_index = df_WCST.groupby(df_WCST.index)\n",
        "    df_means_psd_WCST = by_row_index.mean()\n",
        "  return df_means_psd_IR, df_means_psd_DL, df_means_psd_WCST"
      ],
      "execution_count": 0,
      "outputs": []
    },
    {
      "cell_type": "markdown",
      "metadata": {
        "id": "nvcf0_mg8ZqW",
        "colab_type": "text"
      },
      "source": [
        "### **2) Median Spectral Frequency (MSF)** x1"
      ]
    },
    {
      "cell_type": "code",
      "metadata": {
        "id": "oTlTamcF8eEf",
        "colab_type": "code",
        "colab": {}
      },
      "source": [
        "def MSF(data):\n",
        "  from mne.time_frequency import psd_welch\n",
        "  import numpy as np\n",
        "\n",
        "  psd_total, freq_total = psd_welch(data, fmin = 0, fmax = 40)\n",
        "  psd_m_total = np.median(psd_total)\n",
        "  return psd_m_total"
      ],
      "execution_count": 0,
      "outputs": []
    },
    {
      "cell_type": "markdown",
      "metadata": {
        "id": "p4eWQ3Wp_uFq",
        "colab_type": "text"
      },
      "source": [
        "### **3) Spectral Entropy (SE)** x1\n"
      ]
    },
    {
      "cell_type": "markdown",
      "metadata": {
        "id": "t4SZhTUEMEg0",
        "colab_type": "text"
      },
      "source": [
        "Using [Shannon entropy of the PSD of data (Inouye, T. et al. (1991)](https://raphaelvallat.com/entropy/build/html/generated/entropy.spectral_entropy.html#entropy.spectral_entropy)\n"
      ]
    },
    {
      "cell_type": "code",
      "metadata": {
        "id": "hzq3cX6oCk9L",
        "colab_type": "code",
        "colab": {}
      },
      "source": [
        "def SpectralEntropy(data):\n",
        "  import entropy\n",
        "  Spectral_Entropy = entropy.spectral_entropy(data, sf = 2048, method = 'welch')\n",
        "  return Spectral_Entropy"
      ],
      "execution_count": 0,
      "outputs": []
    },
    {
      "cell_type": "markdown",
      "metadata": {
        "id": "0FtekCN8Mjpx",
        "colab_type": "text"
      },
      "source": [
        "### **4) Algorithmic Complexity (AC)** x1\n",
        "Estimated using Kolmogorov Complexity"
      ]
    },
    {
      "cell_type": "code",
      "metadata": {
        "id": "q4BAxfFbb1NU",
        "colab_type": "code",
        "colab": {}
      },
      "source": [
        "def AlgorithmicComplexity(data):\n",
        "  from nice.algorithms.information_theory import epochs_compute_komplexity\n",
        "  import math\n",
        "  import pandas as pd\n",
        "  \n",
        "  #nbins = Number of bins to use for symbolic transformation\n",
        "  #Only {0,1,2,3,4,5,6,7,8,9} so n = 10 -> the bit would be log2_10\n",
        "  AC = epochs_compute_komplexity(data, nbins = math.log2(10))\n",
        "  AC = pd.DataFrame(AC).mean().mean()\n",
        "  return AC"
      ],
      "execution_count": 0,
      "outputs": []
    },
    {
      "cell_type": "markdown",
      "metadata": {
        "id": "1mEsDFDCQh9A",
        "colab_type": "text"
      },
      "source": [
        "### **5) Functional Connectivity (wSMI)** x2\n",
        " weighted mutual symbolic information (wSMI) were summarized by calculating the median value from each electrodes\n",
        "1.   wSMI of theta \n",
        "2.   wSMI of alpha\n",
        "\n"
      ]
    },
    {
      "cell_type": "code",
      "metadata": {
        "id": "8EdROfbIyv3p",
        "colab_type": "code",
        "colab": {}
      },
      "source": [
        "def wSMI(data, method):\n",
        "  from nice.algorithms.connectivity import epochs_compute_wsmi\n",
        "  from mne import filter\n",
        "  import mne\n",
        "  import numpy as np\n",
        "\n",
        "  #Filter data\n",
        "  epoch_theta = data.copy()\n",
        "  epoch_theta.filter(l_freq = 4, h_freq = 8)\n",
        "  epoch_alpha = data.copy()\n",
        "  epoch_alpha.filter(l_freq = 8, h_freq = 12)\n",
        "\n",
        "  #wSMI\n",
        "  wsmi_t, smi_t, sym_t, count_t = epochs_compute_wsmi(epoch_theta, kernel = 3, tau = 21, method_params = {'bypass_csd': True})\n",
        "  wsmi_a, smi_a, sym_a, count_a = epochs_compute_wsmi(epoch_alpha, kernel = 3, tau = 41, method_params = {'bypass_csd': True})\n",
        "  \n",
        "  #Method\n",
        "  if method == 'mean':\n",
        "    wsmi = [np.mean(wsmi_t), np.mean(wsmi_a)]\n",
        "  elif method == 'median':\n",
        "    wsmi = [np.median(wsmi_t), np.median(wsmi_a)]\n",
        "  return wsmi\n",
        "#shape = 32,32,6"
      ],
      "execution_count": 0,
      "outputs": []
    },
    {
      "cell_type": "markdown",
      "metadata": {
        "id": "uG9S2rA38EOE",
        "colab_type": "text"
      },
      "source": [
        "# **Buiding DataFrame**"
      ]
    },
    {
      "cell_type": "markdown",
      "metadata": {
        "id": "iLqbnQWZrMLW",
        "colab_type": "text"
      },
      "source": [
        "**1) Extract 10 features**"
      ]
    },
    {
      "cell_type": "code",
      "metadata": {
        "id": "EEOCTHcSpVs9",
        "colab_type": "code",
        "colab": {}
      },
      "source": [
        "def extract(epoch_IR, epoch_DL, epoch_WCST, EEG_feature_names, SS):   \n",
        "  import numpy as np\n",
        "\n",
        "  features = pd.DataFrame(None, columns = EEG_feature_names)\n",
        "\n",
        "  features.loc[0, 'id'] = SS\n",
        "\n",
        "  psd_total = get_df_ss(epoch_IR).mean(axis = 1).values\n",
        "  wSMI_total = wSMI(epoch_IR, 'mean')\n",
        "\n",
        "  features.loc[0,'IR-PSD_Delta'] = psd_total[0]\n",
        "  features.loc[0,'IR-PSD_Theta'] = psd_total[1]\n",
        "  features.loc[0,'IR-PSD_Alpha'] = psd_total[2]\n",
        "  features.loc[0,'IR-PSD_Beta'] = psd_total[3]\n",
        "  features.loc[0,'IR-PSD_Gamma'] = psd_total[4]\n",
        "  features.loc[0,'IR-MSF'] = MSF(epoch_IR)\n",
        "  features.loc[0,'IR-SE'] = SpectralEntropy(epoch_IR)\n",
        "  features.loc[0,'IR-AC'] = AlgorithmicComplexity(epoch_IR)\n",
        "  features.loc[0,'IR-wSMI_Theta'] = wSMI_total[0]\n",
        "  features.loc[0,'IR-wSMI_Alpha'] = wSMI_total[1]\n",
        "\n",
        "  psd_total = get_df_ss(epoch_DL).mean(axis = 1).values\n",
        "  wSMI_total = wSMI(epoch_DL, 'mean')\n",
        "  \n",
        "  features.loc[0,'DL-PSD_Delta'] = psd_total[0]\n",
        "  features.loc[0,'DL-PSD_Theta'] = psd_total[1]\n",
        "  features.loc[0,'DL-PSD_Alpha'] = psd_total[2]\n",
        "  features.loc[0,'DL-PSD_Beta'] = psd_total[3]\n",
        "  features.loc[0,'DL-PSD_Gamma'] = psd_total[4]\n",
        "  features.loc[0,'DL-MSF'] = MSF(epoch_DL)\n",
        "  features.loc[0,'DL-SE'] = SpectralEntropy(epoch_DL)\n",
        "  features.loc[0,'DL-AC'] = AlgorithmicComplexity(epoch_DL)\n",
        "  features.loc[0,'DL-wSMI_Theta'] = wSMI_total[0]\n",
        "  features.loc[0,'DL-wSMI_Alpha'] = wSMI_total[1]\n",
        "\n",
        "  psd_total = get_df_ss(epoch_WCST).mean(axis = 1).values\n",
        "  wSMI_total = wSMI(epoch_WCST, 'mean')\n",
        "  \n",
        "  features.loc[0,'WCST-PSD_Delta'] = psd_total[0]\n",
        "  features.loc[0,'WCST-PSD_Theta'] = psd_total[1]\n",
        "  features.loc[0,'WCST-PSD_Alpha'] = psd_total[2]\n",
        "  features.loc[0,'WCST-PSD_Beta'] = psd_total[3]\n",
        "  features.loc[0,'WCST-PSD_Gamma'] = psd_total[4]\n",
        "  features.loc[0,'WCST-MSF'] = MSF(epoch_WCST)\n",
        "\n",
        "  return features"
      ],
      "execution_count": 0,
      "outputs": []
    },
    {
      "cell_type": "markdown",
      "metadata": {
        "id": "5tzCTFKyrRtT",
        "colab_type": "text"
      },
      "source": [
        "**2) Build 20 features dataframe**"
      ]
    },
    {
      "cell_type": "code",
      "metadata": {
        "id": "F2Uhr0iqnyk_",
        "colab_type": "code",
        "colab": {}
      },
      "source": [
        "def extract_feature(subjectID):\n",
        "  import mne\n",
        "  import pandas as pd\n",
        "  import numpy as np\n",
        "  from mne.preprocessing import compute_proj_eog\n",
        "\n",
        "#Prepare\n",
        "  eog_chs = ('Leye','Reye','UBlink','DBlink','LMast','RMast')\n",
        "  #Exclude; Gsr = Skin conductance, Resp = Respiration belt, Plet = plethismograph (Blood pressure, HR), Temp = thermometer\n",
        "  exclude_chs = ('EXG7','EXG8','GSR1','GSR2','Erg1','Erg2','Resp','Plet','Temp') \n",
        "  subjects = ('SS1', 'SS2', 'SS3', 'SS4', 'SS5', 'SS6', 'SS7', 'SS8')\n",
        "  chn_names = ['Fp1','AF3','F7','F3','FC1','FC5','T7','C3','CP1','CP5','P7','P3',\n",
        "               'Pz','PO3','O1','Oz','O2','PO4','P4','P8','CP6','CP2','C4','T8',\n",
        "               'FC6','FC2','F4','F8','AF4','Fp2','Fz','Cz']\n",
        "  DL_id = {'SS8':[9,10,11,12,13,14], 'SS7':[9,10,11,12,13,14], 'SS6':[9,10,11,12,13,14],\n",
        "           'SS5':[9,10,11,12,13,14], 'SS4':[9,10,11,12,13,14,15], 'SS2':[9,10,11,12,13,14]}\n",
        "  IR_id = {'SS8':[2,3,4,5,6,7], 'SS7':[2,3,4,5,6,7], 'SS6':[2,3,4,5,6,7], \n",
        "           'SS5':[2,3,4,5,6,7], 'SS4':[2,3,4,5,6,7], 'SS2':[2,3,4,5,6,7]}\n",
        "  WCST_id = {'SS8':[8], 'SS7':[8], 'SS6':[8],\n",
        "            'SS5':[8], 'SS4':[8], 'SS2':[8]}\n",
        "\n",
        "#Begin to fetch features\n",
        "  EEG_feature_names = ['id', 'IR-PSD_Delta', 'IR-PSD_Theta', 'IR-PSD_Alpha', 'IR-PSD_Beta', 'IR-PSD_Gamma', 'IR-MSF', 'IR-SE', 'IR-AC', 'IR-wSMI_Alpha', 'IR-wSMI_Theta',\n",
        "                       'DL-PSD_Delta', 'DL-PSD_Theta', 'DL-PSD_Alpha', 'DL-PSD_Beta', 'DL-PSD_Gamma', 'DL-MSF', 'DL-SE', 'DL-AC', 'DL-wSMI_Alpha', 'DL-wSMI_Theta',\n",
        "                       'WCST-PSD_Delta', 'WCST-PSD_Theta', 'WCST-PSD_Alpha', 'WCST-PSD_Beta', 'WCST-PSD_Gamma', 'WCST-MSF'] \n",
        "  df = pd.DataFrame(None, columns = EEG_feature_names)\n",
        "  for SS in subjectID:\n",
        "    #Import\n",
        "    if SS in ['SS1', 'SS2', 'SS3']:\n",
        "        raw = mne.io.read_raw_fif(SS+'.fif', preload = True)\n",
        "        raw.rename_channels({'F7-0':'F7', 'F3-0':'F3', 'F4-0':'F4', 'F8-0':'F8', 'C3-0':'C3', 'C4-0':'C4'})\n",
        "    else:\n",
        "        raw = mne.io.read_raw_bdf(SS+'.bdf', exclude = exclude_chs, eog = eog_chs, stim_channel = 'Status', preload = True)\n",
        "    \n",
        "    #Filter\n",
        "    raw.filter(l_freq = 0.5, h_freq = 45)\n",
        "    raw.notch_filter(freqs = (50, 100))\n",
        "\n",
        "    #Denosing SSP\n",
        "    eog_projs, _ = compute_proj_eog(raw, n_eeg = 1, reject=None, no_proj=True)\n",
        "    raw.add_proj(eog_projs).apply_proj()\n",
        "\n",
        "    #Epoching by id\n",
        "    events = mne.find_events(raw, stim_channel='Status')\n",
        "    epoch_IR = mne.Epochs(raw, events, event_id = IR_id[SS],preload = True)\n",
        "    epoch_DL = mne.Epochs(raw, events, event_id = DL_id[SS],preload = True)\n",
        "    epoch_WCST = mne.Epochs(raw, events, event_id= WCST_id[SS],preload = True)\n",
        "\n",
        "    #Extract features\n",
        "    features = extract(epoch_IR, epoch_DL, epoch_WCST, EEG_feature_names, SS)\n",
        "\n",
        "    #Fill in df\n",
        "    df = df.append(features, ignore_index = True)\n",
        "    \n",
        "  return df"
      ],
      "execution_count": 0,
      "outputs": []
    },
    {
      "cell_type": "code",
      "metadata": {
        "id": "gYLG-MDJoy4y",
        "colab_type": "code",
        "outputId": "d36e149c-7ff3-4bfd-844f-a86fae8fefb1",
        "colab": {
          "base_uri": "https://localhost:8080/",
          "height": 34
        }
      },
      "source": [
        "print('18:58')"
      ],
      "execution_count": 1,
      "outputs": [
        {
          "output_type": "stream",
          "text": [
            "18:58\n"
          ],
          "name": "stdout"
        }
      ]
    }
  ]
}