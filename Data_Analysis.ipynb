{
  "nbformat": 4,
  "nbformat_minor": 0,
  "metadata": {
    "colab": {
      "name": "Data Analysis",
      "provenance": [],
      "toc_visible": true,
      "authorship_tag": "ABX9TyO0ywrbvpHfEUv+kckmlJae",
      "include_colab_link": true
    },
    "kernelspec": {
      "name": "python3",
      "display_name": "Python 3"
    }
  },
  "cells": [
    {
      "cell_type": "markdown",
      "metadata": {
        "id": "view-in-github",
        "colab_type": "text"
      },
      "source": [
        "<a href=\"https://colab.research.google.com/github/Sirabhop/Preclinical-AD-EEG-classification/blob/master/Data_Analysis.ipynb\" target=\"_parent\"><img src=\"https://colab.research.google.com/assets/colab-badge.svg\" alt=\"Open In Colab\"/></a>"
      ]
    },
    {
      "cell_type": "code",
      "metadata": {
        "id": "IF2w0JtOG_WP",
        "colab_type": "code",
        "colab": {
          "base_uri": "https://localhost:8080/",
          "height": 34
        },
        "outputId": "84cbe9ae-75bf-4306-864f-c13fa7be74f3"
      },
      "source": [
        "from google.colab import drive\n",
        "from oauth2client.service_account import ServiceAccountCredentials\n",
        "\n",
        "import os\n",
        "import pandas as pd\n",
        "import numpy as np\n",
        "import matplotlib.pyplot as plt\n",
        "import gspread\n",
        "\n",
        "os.chdir(\"/content/drive/My Drive/Colab Notebooks\")\n",
        "%run EEG_Feature_Extraction.ipynb"
      ],
      "execution_count": 47,
      "outputs": [
        {
          "output_type": "stream",
          "text": [
            "updated 11:37\n"
          ],
          "name": "stdout"
        }
      ]
    },
    {
      "cell_type": "code",
      "metadata": {
        "id": "muxOS39IHM4P",
        "colab_type": "code",
        "outputId": "777cb2a9-4c81-41fd-87fa-6caffc9bd79b",
        "colab": {
          "base_uri": "https://localhost:8080/",
          "height": 125
        }
      },
      "source": [
        "drive.mount('/content/drive')"
      ],
      "execution_count": 3,
      "outputs": [
        {
          "output_type": "stream",
          "text": [
            "Go to this URL in a browser: https://accounts.google.com/o/oauth2/auth?client_id=947318989803-6bn6qk8qdgf4n4g3pfee6491hc0brc4i.apps.googleusercontent.com&redirect_uri=urn%3aietf%3awg%3aoauth%3a2.0%3aoob&response_type=code&scope=email%20https%3a%2f%2fwww.googleapis.com%2fauth%2fdocs.test%20https%3a%2f%2fwww.googleapis.com%2fauth%2fdrive%20https%3a%2f%2fwww.googleapis.com%2fauth%2fdrive.photos.readonly%20https%3a%2f%2fwww.googleapis.com%2fauth%2fpeopleapi.readonly\n",
            "\n",
            "Enter your authorization code:\n",
            "··········\n",
            "Mounted at /content/drive\n"
          ],
          "name": "stdout"
        }
      ]
    },
    {
      "cell_type": "code",
      "metadata": {
        "id": "f703p-NFHYvK",
        "colab_type": "code",
        "colab": {}
      },
      "source": [
        "os.chdir(\"/content/drive/My Drive/EEG Data\")"
      ],
      "execution_count": 0,
      "outputs": []
    },
    {
      "cell_type": "code",
      "metadata": {
        "id": "jKo4wyKF10z5",
        "colab_type": "code",
        "colab": {}
      },
      "source": [
        "#Set up google drive API\n",
        "\n",
        "scope = ['https://spreadsheets.google.com/feeds',\n",
        "         'https://www.googleapis.com/auth/drive']\n",
        "creds = ServiceAccountCredentials.from_json_keyfile_name('credentials.json', scope)\n",
        "client = gspread.authorize(creds)"
      ],
      "execution_count": 0,
      "outputs": []
    },
    {
      "cell_type": "markdown",
      "metadata": {
        "id": "B-R5ugXPHdZT",
        "colab_type": "text"
      },
      "source": [
        "# **Descriptive Statistics**"
      ]
    },
    {
      "cell_type": "markdown",
      "metadata": {
        "id": "fp8IRYQ1Hi0_",
        "colab_type": "text"
      },
      "source": [
        "####**Demographics**"
      ]
    },
    {
      "cell_type": "code",
      "metadata": {
        "id": "KExwA5ZRJLSA",
        "colab_type": "code",
        "colab": {}
      },
      "source": [
        "dict = {'sex': ['male', 'female', 'female', 'female', 'female', 'female', 'female', 'female'],\n",
        "        'ages':[63, 60, 66, 68, 72, 74, 61, 64],\n",
        "        'group': [0,1,1,0,1,1,0,0]} #0 = Risk Free, 1 = At risk"
      ],
      "execution_count": 0,
      "outputs": []
    },
    {
      "cell_type": "code",
      "metadata": {
        "id": "9f1Kwl-zHycr",
        "colab_type": "code",
        "outputId": "76652e4e-1cf2-4991-ff93-de9ecb158191",
        "colab": {
          "base_uri": "https://localhost:8080/",
          "height": 287
        }
      },
      "source": [
        "df = pd.DataFrame(data = dict)\n",
        "df"
      ],
      "execution_count": 7,
      "outputs": [
        {
          "output_type": "execute_result",
          "data": {
            "text/html": [
              "<div>\n",
              "<style scoped>\n",
              "    .dataframe tbody tr th:only-of-type {\n",
              "        vertical-align: middle;\n",
              "    }\n",
              "\n",
              "    .dataframe tbody tr th {\n",
              "        vertical-align: top;\n",
              "    }\n",
              "\n",
              "    .dataframe thead th {\n",
              "        text-align: right;\n",
              "    }\n",
              "</style>\n",
              "<table border=\"1\" class=\"dataframe\">\n",
              "  <thead>\n",
              "    <tr style=\"text-align: right;\">\n",
              "      <th></th>\n",
              "      <th>sex</th>\n",
              "      <th>ages</th>\n",
              "      <th>group</th>\n",
              "    </tr>\n",
              "  </thead>\n",
              "  <tbody>\n",
              "    <tr>\n",
              "      <th>0</th>\n",
              "      <td>male</td>\n",
              "      <td>63</td>\n",
              "      <td>0</td>\n",
              "    </tr>\n",
              "    <tr>\n",
              "      <th>1</th>\n",
              "      <td>female</td>\n",
              "      <td>60</td>\n",
              "      <td>1</td>\n",
              "    </tr>\n",
              "    <tr>\n",
              "      <th>2</th>\n",
              "      <td>female</td>\n",
              "      <td>66</td>\n",
              "      <td>1</td>\n",
              "    </tr>\n",
              "    <tr>\n",
              "      <th>3</th>\n",
              "      <td>female</td>\n",
              "      <td>68</td>\n",
              "      <td>0</td>\n",
              "    </tr>\n",
              "    <tr>\n",
              "      <th>4</th>\n",
              "      <td>female</td>\n",
              "      <td>72</td>\n",
              "      <td>1</td>\n",
              "    </tr>\n",
              "    <tr>\n",
              "      <th>5</th>\n",
              "      <td>female</td>\n",
              "      <td>74</td>\n",
              "      <td>1</td>\n",
              "    </tr>\n",
              "    <tr>\n",
              "      <th>6</th>\n",
              "      <td>female</td>\n",
              "      <td>61</td>\n",
              "      <td>0</td>\n",
              "    </tr>\n",
              "    <tr>\n",
              "      <th>7</th>\n",
              "      <td>female</td>\n",
              "      <td>64</td>\n",
              "      <td>0</td>\n",
              "    </tr>\n",
              "  </tbody>\n",
              "</table>\n",
              "</div>"
            ],
            "text/plain": [
              "      sex  ages  group\n",
              "0    male    63      0\n",
              "1  female    60      1\n",
              "2  female    66      1\n",
              "3  female    68      0\n",
              "4  female    72      1\n",
              "5  female    74      1\n",
              "6  female    61      0\n",
              "7  female    64      0"
            ]
          },
          "metadata": {
            "tags": []
          },
          "execution_count": 7
        }
      ]
    },
    {
      "cell_type": "markdown",
      "metadata": {
        "id": "pcZL2fV5Hi4v",
        "colab_type": "text"
      },
      "source": [
        "####**Cognitive Markers**\n"
      ]
    },
    {
      "cell_type": "code",
      "metadata": {
        "id": "wMwjqdTB5UUY",
        "colab_type": "code",
        "colab": {}
      },
      "source": [
        "gsheet_MoCA = client.open(\"MoCA DATA\").sheet1\n",
        "gsheet_FCSRT = client.open(\"FCSRT DATA\").sheet1\n",
        "list_MoCA = gsheet_MoCA.get_all_records()\n",
        "list_FCSRT = gsheet_FCSRT.get_all_records()"
      ],
      "execution_count": 0,
      "outputs": []
    },
    {
      "cell_type": "code",
      "metadata": {
        "id": "U4UeaJ7AMggG",
        "colab_type": "code",
        "colab": {}
      },
      "source": [
        "FCSRT = pd.DataFrame(list_FCSRT)\n",
        "MoCA = pd.DataFrame(list_MoCA)\n",
        "\n",
        "MoCA = pd.concat([df, MoCA], axis = 1).drop(['NAME','SEX','AGE'], axis = 1)\n",
        "CogMarkers = pd.concat([df, FCSRT, MoCA[['SUM']]], axis = 1)\n",
        "CogMarkers['group'] = CogMarkers['group'].astype('category')\n",
        "CogMarkers.set_index('id', inplace = True)\n",
        "CogMarkers.rename(columns = {'SUM':'MoCA'}, inplace = True)\n",
        "#CogMarkers.to_csv('cognitive marker.csv')"
      ],
      "execution_count": 0,
      "outputs": []
    },
    {
      "cell_type": "markdown",
      "metadata": {
        "id": "vqgPRt0yinb7",
        "colab_type": "text"
      },
      "source": [
        "* **% Encoded**\n",
        "  * SOMI 0: > 95.8%\n",
        "  * SOMI 1: > 95.8%\n",
        "  * SOMI 2a: > 95.8%\n",
        "  * SOMI 2b: > 93.75 and < 95.8%\n",
        "  * SOMI 4: > 68.78 and < 91.67%\n",
        "\n"
      ]
    },
    {
      "cell_type": "code",
      "metadata": {
        "id": "zDmnXmi8fg2u",
        "colab_type": "code",
        "colab": {}
      },
      "source": [
        "#computed from [Total Recall x 100]/16\n",
        "CogMarkers['%Encoded'] = ((CogMarkers['IR-FreeR']+CogMarkers['IR-CuedR'])*100)/16 "
      ],
      "execution_count": 0,
      "outputs": []
    },
    {
      "cell_type": "markdown",
      "metadata": {
        "id": "YIDG-HKEjzSQ",
        "colab_type": "text"
      },
      "source": [
        "*   **% Retrieval**\n",
        "  * SOMI 0: > 62.5%\n",
        "  * SOMI 1: > 52.1% and < 62.5%\n",
        "  * SOMI 2a: > 41.6% and < 50%\n",
        "  * SOMI 2b: > 41.6% and < 50%\n",
        "  * SOMI 4: Any\n"
      ]
    },
    {
      "cell_type": "code",
      "metadata": {
        "id": "q1r8dKDWft47",
        "colab_type": "code",
        "colab": {}
      },
      "source": [
        "CogMarkers['%Retrieval'] =  CogMarkers['IR-FreeR']*100/16"
      ],
      "execution_count": 0,
      "outputs": []
    },
    {
      "cell_type": "markdown",
      "metadata": {
        "id": "pIQ5uFVErmTX",
        "colab_type": "text"
      },
      "source": [
        "*   **Classify SS according to SOMI model criteria**\n"
      ]
    },
    {
      "cell_type": "code",
      "metadata": {
        "id": "Z9QUVyXYo_9y",
        "colab_type": "code",
        "colab": {}
      },
      "source": [
        "for i in range(-1,7):\n",
        "  if (CogMarkers.iloc[i, 8] > 95.8) & (CogMarkers.iloc[i, 9] > 62.5):\n",
        "    CogMarkers['SOMI stage'] = 'SOMI 0'\n",
        "\n",
        "  if (CogMarkers.iloc[i, 8] > 95.8):\n",
        "    if (CogMarkers.iloc[i, 9] > 52.1) & (CogMarkers.iloc[i, 9] < 62.5):\n",
        "      CogMarkers['SOMI stage'] = 'SOMI 1'\n",
        "\n",
        "  if (CogMarkers.iloc[i, 8] > 95.8):\n",
        "    if (CogMarkers.iloc[i, 9] > 41.6) & (CogMarkers.iloc[i, 9] < 50):\n",
        "      CogMarkers['SOMI stage'] = 'SOMI 2a'\n",
        "\n",
        "  if (CogMarkers.iloc[i, 8] > 93.75) & (CogMarkers.iloc[i, 8] < 95.8):\n",
        "    if (CogMarkers.iloc[i, 9] > 41.6) & (CogMarkers.iloc[i, 9] < 50):\n",
        "      CogMarkers['SOMI stage'] = 'SOMI 2b'\n",
        "\n",
        "  if (CogMarkers.iloc[i, 8] > 68.78) & (CogMarkers.iloc[i, 8] < 91.67):\n",
        "    if CogMarkers.iloc[i, 9] <= 41.6:\n",
        "      CogMarkers['SOMI stage'] = 'SOMI 4'\n",
        "  else:\n",
        "    CogMarkers['SOMI stage'] = 'NaN'"
      ],
      "execution_count": 0,
      "outputs": []
    },
    {
      "cell_type": "code",
      "metadata": {
        "id": "q5nYtxY1MWmw",
        "colab_type": "code",
        "colab": {}
      },
      "source": [
        "Cog_Normal = CogMarkers[CogMarkers['group'] == 0]\n",
        "Cog_Risk = CogMarkers[CogMarkers['group'] == 1]"
      ],
      "execution_count": 0,
      "outputs": []
    },
    {
      "cell_type": "markdown",
      "metadata": {
        "id": "_bLGYKggj4O5",
        "colab_type": "text"
      },
      "source": [
        "* **in depth of MoCA score**\n",
        "\n"
      ]
    },
    {
      "cell_type": "code",
      "metadata": {
        "id": "4HCiqaPDgyf9",
        "colab_type": "code",
        "colab": {}
      },
      "source": [
        "MoCA_RiskFree = MoCA[MoCA['group'] == 0]\n",
        "MoCA_Risk = MoCA[MoCA['group'] == 1]"
      ],
      "execution_count": 0,
      "outputs": []
    },
    {
      "cell_type": "code",
      "metadata": {
        "id": "77SbW-pIhmUP",
        "colab_type": "code",
        "outputId": "27fdf67c-34f8-4dec-c36e-74fe4e36020d",
        "colab": {
          "base_uri": "https://localhost:8080/",
          "height": 287
        }
      },
      "source": [
        "MoCA_Risk.describe()"
      ],
      "execution_count": 0,
      "outputs": [
        {
          "output_type": "execute_result",
          "data": {
            "text/html": [
              "<div>\n",
              "<style scoped>\n",
              "    .dataframe tbody tr th:only-of-type {\n",
              "        vertical-align: middle;\n",
              "    }\n",
              "\n",
              "    .dataframe tbody tr th {\n",
              "        vertical-align: top;\n",
              "    }\n",
              "\n",
              "    .dataframe thead th {\n",
              "        text-align: right;\n",
              "    }\n",
              "</style>\n",
              "<table border=\"1\" class=\"dataframe\">\n",
              "  <thead>\n",
              "    <tr style=\"text-align: right;\">\n",
              "      <th></th>\n",
              "      <th>ages</th>\n",
              "      <th>group</th>\n",
              "      <th>VISUO/EXCEUTIVE</th>\n",
              "      <th>NAMING</th>\n",
              "      <th>ATTENTION</th>\n",
              "      <th>LANGUAGE</th>\n",
              "      <th>ABSTRACTION</th>\n",
              "      <th>DELAYED RECALL</th>\n",
              "      <th>ORIENTATION</th>\n",
              "      <th>SUM</th>\n",
              "    </tr>\n",
              "  </thead>\n",
              "  <tbody>\n",
              "    <tr>\n",
              "      <th>count</th>\n",
              "      <td>4.000000</td>\n",
              "      <td>4.0</td>\n",
              "      <td>4.000000</td>\n",
              "      <td>4.00000</td>\n",
              "      <td>4.000000</td>\n",
              "      <td>4.00</td>\n",
              "      <td>4.0</td>\n",
              "      <td>4.0</td>\n",
              "      <td>4.000000</td>\n",
              "      <td>4.00</td>\n",
              "    </tr>\n",
              "    <tr>\n",
              "      <th>mean</th>\n",
              "      <td>68.000000</td>\n",
              "      <td>1.0</td>\n",
              "      <td>1.750000</td>\n",
              "      <td>2.50000</td>\n",
              "      <td>2.000000</td>\n",
              "      <td>0.25</td>\n",
              "      <td>0.0</td>\n",
              "      <td>0.0</td>\n",
              "      <td>4.250000</td>\n",
              "      <td>10.75</td>\n",
              "    </tr>\n",
              "    <tr>\n",
              "      <th>std</th>\n",
              "      <td>6.324555</td>\n",
              "      <td>0.0</td>\n",
              "      <td>1.258306</td>\n",
              "      <td>0.57735</td>\n",
              "      <td>1.154701</td>\n",
              "      <td>0.50</td>\n",
              "      <td>0.0</td>\n",
              "      <td>0.0</td>\n",
              "      <td>2.362908</td>\n",
              "      <td>3.50</td>\n",
              "    </tr>\n",
              "    <tr>\n",
              "      <th>min</th>\n",
              "      <td>60.000000</td>\n",
              "      <td>1.0</td>\n",
              "      <td>0.000000</td>\n",
              "      <td>2.00000</td>\n",
              "      <td>1.000000</td>\n",
              "      <td>0.00</td>\n",
              "      <td>0.0</td>\n",
              "      <td>0.0</td>\n",
              "      <td>1.000000</td>\n",
              "      <td>7.00</td>\n",
              "    </tr>\n",
              "    <tr>\n",
              "      <th>25%</th>\n",
              "      <td>64.500000</td>\n",
              "      <td>1.0</td>\n",
              "      <td>1.500000</td>\n",
              "      <td>2.00000</td>\n",
              "      <td>1.000000</td>\n",
              "      <td>0.00</td>\n",
              "      <td>0.0</td>\n",
              "      <td>0.0</td>\n",
              "      <td>3.250000</td>\n",
              "      <td>8.50</td>\n",
              "    </tr>\n",
              "    <tr>\n",
              "      <th>50%</th>\n",
              "      <td>69.000000</td>\n",
              "      <td>1.0</td>\n",
              "      <td>2.000000</td>\n",
              "      <td>2.50000</td>\n",
              "      <td>2.000000</td>\n",
              "      <td>0.00</td>\n",
              "      <td>0.0</td>\n",
              "      <td>0.0</td>\n",
              "      <td>5.000000</td>\n",
              "      <td>10.50</td>\n",
              "    </tr>\n",
              "    <tr>\n",
              "      <th>75%</th>\n",
              "      <td>72.500000</td>\n",
              "      <td>1.0</td>\n",
              "      <td>2.250000</td>\n",
              "      <td>3.00000</td>\n",
              "      <td>3.000000</td>\n",
              "      <td>0.25</td>\n",
              "      <td>0.0</td>\n",
              "      <td>0.0</td>\n",
              "      <td>6.000000</td>\n",
              "      <td>12.75</td>\n",
              "    </tr>\n",
              "    <tr>\n",
              "      <th>max</th>\n",
              "      <td>74.000000</td>\n",
              "      <td>1.0</td>\n",
              "      <td>3.000000</td>\n",
              "      <td>3.00000</td>\n",
              "      <td>3.000000</td>\n",
              "      <td>1.00</td>\n",
              "      <td>0.0</td>\n",
              "      <td>0.0</td>\n",
              "      <td>6.000000</td>\n",
              "      <td>15.00</td>\n",
              "    </tr>\n",
              "  </tbody>\n",
              "</table>\n",
              "</div>"
            ],
            "text/plain": [
              "            ages  group  VISUO/EXCEUTIVE  ...  DELAYED RECALL  ORIENTATION    SUM\n",
              "count   4.000000    4.0         4.000000  ...             4.0     4.000000   4.00\n",
              "mean   68.000000    1.0         1.750000  ...             0.0     4.250000  10.75\n",
              "std     6.324555    0.0         1.258306  ...             0.0     2.362908   3.50\n",
              "min    60.000000    1.0         0.000000  ...             0.0     1.000000   7.00\n",
              "25%    64.500000    1.0         1.500000  ...             0.0     3.250000   8.50\n",
              "50%    69.000000    1.0         2.000000  ...             0.0     5.000000  10.50\n",
              "75%    72.500000    1.0         2.250000  ...             0.0     6.000000  12.75\n",
              "max    74.000000    1.0         3.000000  ...             0.0     6.000000  15.00\n",
              "\n",
              "[8 rows x 10 columns]"
            ]
          },
          "metadata": {
            "tags": []
          },
          "execution_count": 100
        }
      ]
    },
    {
      "cell_type": "code",
      "metadata": {
        "id": "BYl5yVMQjRD2",
        "colab_type": "code",
        "outputId": "7308760d-7366-4bb8-c819-b5e478e3e325",
        "colab": {
          "base_uri": "https://localhost:8080/",
          "height": 287
        }
      },
      "source": [
        "MoCA_RiskFree.describe()"
      ],
      "execution_count": 0,
      "outputs": [
        {
          "output_type": "execute_result",
          "data": {
            "text/html": [
              "<div>\n",
              "<style scoped>\n",
              "    .dataframe tbody tr th:only-of-type {\n",
              "        vertical-align: middle;\n",
              "    }\n",
              "\n",
              "    .dataframe tbody tr th {\n",
              "        vertical-align: top;\n",
              "    }\n",
              "\n",
              "    .dataframe thead th {\n",
              "        text-align: right;\n",
              "    }\n",
              "</style>\n",
              "<table border=\"1\" class=\"dataframe\">\n",
              "  <thead>\n",
              "    <tr style=\"text-align: right;\">\n",
              "      <th></th>\n",
              "      <th>ages</th>\n",
              "      <th>group</th>\n",
              "      <th>VISUO/EXCEUTIVE</th>\n",
              "      <th>NAMING</th>\n",
              "      <th>ATTENTION</th>\n",
              "      <th>LANGUAGE</th>\n",
              "      <th>ABSTRACTION</th>\n",
              "      <th>DELAYED RECALL</th>\n",
              "      <th>ORIENTATION</th>\n",
              "      <th>SUM</th>\n",
              "    </tr>\n",
              "  </thead>\n",
              "  <tbody>\n",
              "    <tr>\n",
              "      <th>count</th>\n",
              "      <td>4.00000</td>\n",
              "      <td>4.0</td>\n",
              "      <td>4.00000</td>\n",
              "      <td>4.0</td>\n",
              "      <td>4.000000</td>\n",
              "      <td>4.00</td>\n",
              "      <td>4.00000</td>\n",
              "      <td>4.000000</td>\n",
              "      <td>4.00000</td>\n",
              "      <td>4.000000</td>\n",
              "    </tr>\n",
              "    <tr>\n",
              "      <th>mean</th>\n",
              "      <td>64.00000</td>\n",
              "      <td>0.0</td>\n",
              "      <td>4.50000</td>\n",
              "      <td>3.0</td>\n",
              "      <td>4.750000</td>\n",
              "      <td>1.75</td>\n",
              "      <td>0.50000</td>\n",
              "      <td>2.500000</td>\n",
              "      <td>5.50000</td>\n",
              "      <td>17.250000</td>\n",
              "    </tr>\n",
              "    <tr>\n",
              "      <th>std</th>\n",
              "      <td>2.94392</td>\n",
              "      <td>0.0</td>\n",
              "      <td>0.57735</td>\n",
              "      <td>0.0</td>\n",
              "      <td>0.957427</td>\n",
              "      <td>0.50</td>\n",
              "      <td>0.57735</td>\n",
              "      <td>2.081666</td>\n",
              "      <td>0.57735</td>\n",
              "      <td>7.544314</td>\n",
              "    </tr>\n",
              "    <tr>\n",
              "      <th>min</th>\n",
              "      <td>61.00000</td>\n",
              "      <td>0.0</td>\n",
              "      <td>4.00000</td>\n",
              "      <td>3.0</td>\n",
              "      <td>4.000000</td>\n",
              "      <td>1.00</td>\n",
              "      <td>0.00000</td>\n",
              "      <td>0.000000</td>\n",
              "      <td>5.00000</td>\n",
              "      <td>6.000000</td>\n",
              "    </tr>\n",
              "    <tr>\n",
              "      <th>25%</th>\n",
              "      <td>62.50000</td>\n",
              "      <td>0.0</td>\n",
              "      <td>4.00000</td>\n",
              "      <td>3.0</td>\n",
              "      <td>4.000000</td>\n",
              "      <td>1.75</td>\n",
              "      <td>0.00000</td>\n",
              "      <td>1.500000</td>\n",
              "      <td>5.00000</td>\n",
              "      <td>16.500000</td>\n",
              "    </tr>\n",
              "    <tr>\n",
              "      <th>50%</th>\n",
              "      <td>63.50000</td>\n",
              "      <td>0.0</td>\n",
              "      <td>4.50000</td>\n",
              "      <td>3.0</td>\n",
              "      <td>4.500000</td>\n",
              "      <td>2.00</td>\n",
              "      <td>0.50000</td>\n",
              "      <td>2.500000</td>\n",
              "      <td>5.50000</td>\n",
              "      <td>20.500000</td>\n",
              "    </tr>\n",
              "    <tr>\n",
              "      <th>75%</th>\n",
              "      <td>65.00000</td>\n",
              "      <td>0.0</td>\n",
              "      <td>5.00000</td>\n",
              "      <td>3.0</td>\n",
              "      <td>5.250000</td>\n",
              "      <td>2.00</td>\n",
              "      <td>1.00000</td>\n",
              "      <td>3.500000</td>\n",
              "      <td>6.00000</td>\n",
              "      <td>21.250000</td>\n",
              "    </tr>\n",
              "    <tr>\n",
              "      <th>max</th>\n",
              "      <td>68.00000</td>\n",
              "      <td>0.0</td>\n",
              "      <td>5.00000</td>\n",
              "      <td>3.0</td>\n",
              "      <td>6.000000</td>\n",
              "      <td>2.00</td>\n",
              "      <td>1.00000</td>\n",
              "      <td>5.000000</td>\n",
              "      <td>6.00000</td>\n",
              "      <td>22.000000</td>\n",
              "    </tr>\n",
              "  </tbody>\n",
              "</table>\n",
              "</div>"
            ],
            "text/plain": [
              "           ages  group  VISUO/EXCEUTIVE  ...  DELAYED RECALL  ORIENTATION        SUM\n",
              "count   4.00000    4.0          4.00000  ...        4.000000      4.00000   4.000000\n",
              "mean   64.00000    0.0          4.50000  ...        2.500000      5.50000  17.250000\n",
              "std     2.94392    0.0          0.57735  ...        2.081666      0.57735   7.544314\n",
              "min    61.00000    0.0          4.00000  ...        0.000000      5.00000   6.000000\n",
              "25%    62.50000    0.0          4.00000  ...        1.500000      5.00000  16.500000\n",
              "50%    63.50000    0.0          4.50000  ...        2.500000      5.50000  20.500000\n",
              "75%    65.00000    0.0          5.00000  ...        3.500000      6.00000  21.250000\n",
              "max    68.00000    0.0          5.00000  ...        5.000000      6.00000  22.000000\n",
              "\n",
              "[8 rows x 10 columns]"
            ]
          },
          "metadata": {
            "tags": []
          },
          "execution_count": 101
        }
      ]
    },
    {
      "cell_type": "code",
      "metadata": {
        "id": "hd0m3ssYdkh2",
        "colab_type": "code",
        "colab": {}
      },
      "source": [
        "per_cog_risk = Cog_Risk.copy()\n",
        "per_cog_normal = Cog_Normal.copy()"
      ],
      "execution_count": 0,
      "outputs": []
    },
    {
      "cell_type": "code",
      "metadata": {
        "id": "XmMQl7zcer9r",
        "colab_type": "code",
        "colab": {}
      },
      "source": [
        "per_cog_risk['IR-FreeR'] = (Cog_Risk['IR-FreeR']*100)/16\n",
        "per_cog_risk['IR-CuedR'] = (Cog_Risk['IR-CuedR']*100)/(16-Cog_Risk['IR-FreeR'])\n",
        "per_cog_risk['DL-FreeR'] = (Cog_Risk['DL-FreeR']*100)/16\n",
        "per_cog_risk['DL-CuedR'] = (Cog_Risk['DL-CuedR']*100)/(16-Cog_Risk['DL-FreeR'])\n",
        "\n",
        "per_cog_normal['IR-FreeR'] = (Cog_Normal['IR-FreeR']*100)/16\n",
        "per_cog_normal['IR-CuedR'] = (Cog_Normal['IR-CuedR']*100)/(16-Cog_Normal['IR-FreeR'])\n",
        "per_cog_normal['DL-FreeR'] = (Cog_Normal['DL-FreeR']*100)/16\n",
        "per_cog_normal['DL-CuedR'] = (Cog_Normal['DL-CuedR']*100)/(16-Cog_Normal['DL-FreeR'])"
      ],
      "execution_count": 0,
      "outputs": []
    },
    {
      "cell_type": "markdown",
      "metadata": {
        "id": "dJ6Z5aT8Ykrt",
        "colab_type": "text"
      },
      "source": [
        "\n",
        "\n",
        "*   **Graph**\n",
        "\n"
      ]
    },
    {
      "cell_type": "code",
      "metadata": {
        "id": "-LxVtKISNPNT",
        "colab_type": "code",
        "colab": {}
      },
      "source": [
        "def create_plot_df(Normal, Risk):\n",
        "  plot_risk = Risk.drop(['sex', 'ages', 'group', 'MoCA', '%Encoded', '%Retrieval',\t'SOMI stage'], axis =1)\n",
        "  plot_risk = plot_risk.transpose()\n",
        "  plot_risk = plot_risk.reset_index()\n",
        "  plot_risk['mean'] = plot_risk.mean(axis = 1)\n",
        "\n",
        "  plot_normal = Normal.drop(['sex', 'ages', 'group', 'MoCA', '%Encoded', '%Retrieval',\t'SOMI stage'], axis =1)\n",
        "  plot_normal = plot_normal.transpose()\n",
        "  plot_normal = plot_normal.reset_index()\n",
        "  plot_normal['mean'] = plot_normal.mean(axis = 1)\n",
        "\n",
        "  return plot_normal, plot_risk"
      ],
      "execution_count": 0,
      "outputs": []
    },
    {
      "cell_type": "code",
      "metadata": {
        "id": "9vTXUUtyYppL",
        "colab_type": "code",
        "colab": {}
      },
      "source": [
        "def plot_markers(plot_data, xlab, ylab, title):\n",
        "  columns_risk = plot_data.drop(['index', 'mean'], axis = 1)\n",
        "  title = title\n",
        "\n",
        "  fig, ax = plt.subplots()\n",
        "  for subjects in columns_risk:\n",
        "      ax.plot(plot_data['index'], plot_data[subjects])\n",
        "  ax.set_title(title)\n",
        "  ax.set_xlabel(xlab)\n",
        "  ax.set_ylabel(ylab)\n",
        "  plt.savefig('/content/drive/My Drive/My Project/Senior Project-Dementia/Results/Graphs/'+ title +'.png')\n",
        "\n",
        "  return ax.plot()"
      ],
      "execution_count": 0,
      "outputs": []
    },
    {
      "cell_type": "code",
      "metadata": {
        "id": "7kvKtfVplrB8",
        "colab_type": "code",
        "colab": {}
      },
      "source": [
        "def plot_mean_markers(plot_normal, plot_risk, xlab, ylab, title):\n",
        "  title = title\n",
        "\n",
        "  fig, ax = plt.subplots()\n",
        "  ax.plot(plot_risk['index'], plot_risk['mean'], label = 'Risk group')\n",
        "  ax.plot(plot_normal['index'], plot_normal['mean'], label = 'Normal group')\n",
        "  ax.set_title(title)\n",
        "  ax.set_xlabel(xlab)\n",
        "  ax.set_ylabel(ylab)\n",
        "  ax.legend()\n",
        "  plt.savefig('/content/drive/My Drive/My Project/Senior Project-Dementia/Results/Graphs/'+ title +'.png')\n",
        "  return ax.plot()"
      ],
      "execution_count": 0,
      "outputs": []
    },
    {
      "cell_type": "code",
      "metadata": {
        "id": "6zLLv8LcYHPy",
        "colab_type": "code",
        "outputId": "9168fbf5-e6bb-4e46-e558-ef1e14c0b3a1",
        "colab": {
          "base_uri": "https://localhost:8080/",
          "height": 868
        }
      },
      "source": [
        "plot_cog_normal, plot_cog_risk = create_plot_df(Cog_Normal, Cog_Risk)\n",
        "plot_markers(plot_cog_risk, 'Phases', 'Score', 'Compare FCSRT of each subject in risk group')\n",
        "plot_markers(plot_cog_normal, 'Phases', 'Score', 'Compare FCSRT of each subject in normal group')\n",
        "plot_mean_markers(plot_cog_normal, plot_cog_risk, 'Phases', 'Score', 'Compare FCSRT of each group')"
      ],
      "execution_count": 19,
      "outputs": [
        {
          "output_type": "execute_result",
          "data": {
            "text/plain": [
              "[]"
            ]
          },
          "metadata": {
            "tags": []
          },
          "execution_count": 19
        },
        {
          "output_type": "display_data",
          "data": {
            "image/png": "[encoded data removed]",
            "text/plain": [
              "<Figure size 432x288 with 1 Axes>"
            ]
          },
          "metadata": {
            "tags": [],
            "needs_background": "light"
          }
        },
        {
          "output_type": "display_data",
          "data": {
            "image/png": "[encoded data removed]",
            "text/plain": [
              "<Figure size 432x288 with 1 Axes>"
            ]
          },
          "metadata": {
            "tags": [],
            "needs_background": "light"
          }
        },
        {
          "output_type": "display_data",
          "data": {
            "image/png": "[encoded data removed]",
            "text/plain": [
              "<Figure size 432x288 with 1 Axes>"
            ]
          },
          "metadata": {
            "tags": [],
            "needs_background": "light"
          }
        }
      ]
    },
    {
      "cell_type": "code",
      "metadata": {
        "id": "ISCr2Nl5bD2H",
        "colab_type": "code",
        "outputId": "4f5e7eea-ab77-4fea-8646-3737f3476ce8",
        "colab": {
          "base_uri": "https://localhost:8080/",
          "height": 868
        }
      },
      "source": [
        "plot_cog_normal, plot_cog_risk = create_plot_df(per_cog_normal, per_cog_risk)\n",
        "plot_markers(plot_cog_risk, 'Phases', '%Score', 'Compare %FCSRT of each subjects in risk group')\n",
        "plot_markers(plot_cog_normal, 'Phases', '%Score', 'Compare %FCSRT of each subjects in normal group')\n",
        "plot_mean_markers(plot_cog_normal, plot_cog_risk, 'Phases', '%Score', 'Compare %FCSRT of each group')"
      ],
      "execution_count": 20,
      "outputs": [
        {
          "output_type": "execute_result",
          "data": {
            "text/plain": [
              "[]"
            ]
          },
          "metadata": {
            "tags": []
          },
          "execution_count": 20
        },
        {
          "output_type": "display_data",
          "data": {
            "image/png": "[encoded data removed]",
            "text/plain": [
              "<Figure size 432x288 with 1 Axes>"
            ]
          },
          "metadata": {
            "tags": [],
            "needs_background": "light"
          }
        },
        {
          "output_type": "display_data",
          "data": {
            "image/png": "[encoded data removed]",
            "text/plain": [
              "<Figure size 432x288 with 1 Axes>"
            ]
          },
          "metadata": {
            "tags": [],
            "needs_background": "light"
          }
        },
        {
          "output_type": "display_data",
          "data": {
            "image/png": "[encoded data removed]",
            "text/plain": [
              "<Figure size 432x288 with 1 Axes>"
            ]
          },
          "metadata": {
            "tags": [],
            "needs_background": "light"
          }
        }
      ]
    },
    {
      "cell_type": "markdown",
      "metadata": {
        "id": "uJQB3TVRHuj0",
        "colab_type": "text"
      },
      "source": [
        "####**Biomarkers**"
      ]
    },
    {
      "cell_type": "code",
      "metadata": {
        "id": "OUcTdSBsMC7C",
        "colab_type": "code",
        "outputId": "c56a55b0-b3cf-4ad0-f111-3d7d129f98c7",
        "colab": {
          "base_uri": "https://localhost:8080/",
          "height": 451
        }
      },
      "source": [
        "features = pd.read_csv('EEG_features.csv')\n",
        "features.drop(['Unnamed: 0'], inplace = True, axis = 1)\n",
        "Biomarkers = pd.concat([df, features], axis = 1)\n",
        "Biomarkers.set_index('id', inplace = True)\n",
        "\n",
        "Biomarkers"
      ],
      "execution_count": 22,
      "outputs": [
        {
          "output_type": "execute_result",
          "data": {
            "text/html": [
              "<div>\n",
              "<style scoped>\n",
              "    .dataframe tbody tr th:only-of-type {\n",
              "        vertical-align: middle;\n",
              "    }\n",
              "\n",
              "    .dataframe tbody tr th {\n",
              "        vertical-align: top;\n",
              "    }\n",
              "\n",
              "    .dataframe thead th {\n",
              "        text-align: right;\n",
              "    }\n",
              "</style>\n",
              "<table border=\"1\" class=\"dataframe\">\n",
              "  <thead>\n",
              "    <tr style=\"text-align: right;\">\n",
              "      <th></th>\n",
              "      <th>sex</th>\n",
              "      <th>ages</th>\n",
              "      <th>group</th>\n",
              "      <th>PSD_Delta</th>\n",
              "      <th>PSD_Theta</th>\n",
              "      <th>PSD_Alpha</th>\n",
              "      <th>PSD_Beta</th>\n",
              "      <th>PSD_Gamma</th>\n",
              "      <th>MSF</th>\n",
              "      <th>SE</th>\n",
              "      <th>AC</th>\n",
              "      <th>wSMI_Alpha</th>\n",
              "      <th>wSMI_Theta</th>\n",
              "    </tr>\n",
              "    <tr>\n",
              "      <th>id</th>\n",
              "      <th></th>\n",
              "      <th></th>\n",
              "      <th></th>\n",
              "      <th></th>\n",
              "      <th></th>\n",
              "      <th></th>\n",
              "      <th></th>\n",
              "      <th></th>\n",
              "      <th></th>\n",
              "      <th></th>\n",
              "      <th></th>\n",
              "      <th></th>\n",
              "      <th></th>\n",
              "    </tr>\n",
              "  </thead>\n",
              "  <tbody>\n",
              "    <tr>\n",
              "      <th>SS1</th>\n",
              "      <td>male</td>\n",
              "      <td>63</td>\n",
              "      <td>0</td>\n",
              "      <td>8.191509e-14</td>\n",
              "      <td>6.892579e-13</td>\n",
              "      <td>6.892579e-13</td>\n",
              "      <td>2.206398e-13</td>\n",
              "      <td>9.171605e-14</td>\n",
              "      <td>1.674815e-13</td>\n",
              "      <td>2.513122</td>\n",
              "      <td>0.047027</td>\n",
              "      <td>0.069328</td>\n",
              "      <td>0.034951</td>\n",
              "    </tr>\n",
              "    <tr>\n",
              "      <th>SS2</th>\n",
              "      <td>female</td>\n",
              "      <td>60</td>\n",
              "      <td>1</td>\n",
              "      <td>1.159327e-13</td>\n",
              "      <td>9.541812e-13</td>\n",
              "      <td>9.541812e-13</td>\n",
              "      <td>5.450232e-13</td>\n",
              "      <td>1.249077e-13</td>\n",
              "      <td>2.717361e-13</td>\n",
              "      <td>2.476574</td>\n",
              "      <td>0.052528</td>\n",
              "      <td>0.065172</td>\n",
              "      <td>0.032267</td>\n",
              "    </tr>\n",
              "    <tr>\n",
              "      <th>SS3</th>\n",
              "      <td>female</td>\n",
              "      <td>66</td>\n",
              "      <td>1</td>\n",
              "      <td>9.004434e-14</td>\n",
              "      <td>7.554926e-13</td>\n",
              "      <td>7.554926e-13</td>\n",
              "      <td>5.202362e-13</td>\n",
              "      <td>5.302625e-13</td>\n",
              "      <td>4.418246e-13</td>\n",
              "      <td>2.483961</td>\n",
              "      <td>0.064709</td>\n",
              "      <td>0.060440</td>\n",
              "      <td>0.028957</td>\n",
              "    </tr>\n",
              "    <tr>\n",
              "      <th>SS4</th>\n",
              "      <td>female</td>\n",
              "      <td>68</td>\n",
              "      <td>0</td>\n",
              "      <td>9.099951e-14</td>\n",
              "      <td>1.023456e-12</td>\n",
              "      <td>1.023456e-12</td>\n",
              "      <td>4.707961e-13</td>\n",
              "      <td>2.931868e-13</td>\n",
              "      <td>3.786596e-13</td>\n",
              "      <td>2.476574</td>\n",
              "      <td>0.051643</td>\n",
              "      <td>0.051035</td>\n",
              "      <td>0.026086</td>\n",
              "    </tr>\n",
              "    <tr>\n",
              "      <th>SS5</th>\n",
              "      <td>female</td>\n",
              "      <td>72</td>\n",
              "      <td>1</td>\n",
              "      <td>1.059632e-13</td>\n",
              "      <td>9.294080e-13</td>\n",
              "      <td>9.294080e-13</td>\n",
              "      <td>5.621714e-13</td>\n",
              "      <td>1.519682e-13</td>\n",
              "      <td>2.856214e-13</td>\n",
              "      <td>2.407455</td>\n",
              "      <td>0.059398</td>\n",
              "      <td>0.065278</td>\n",
              "      <td>0.031481</td>\n",
              "    </tr>\n",
              "    <tr>\n",
              "      <th>SS6</th>\n",
              "      <td>female</td>\n",
              "      <td>74</td>\n",
              "      <td>1</td>\n",
              "      <td>5.203354e-14</td>\n",
              "      <td>4.367775e-13</td>\n",
              "      <td>4.367775e-13</td>\n",
              "      <td>1.945097e-13</td>\n",
              "      <td>9.020467e-14</td>\n",
              "      <td>1.481936e-13</td>\n",
              "      <td>2.407455</td>\n",
              "      <td>0.054304</td>\n",
              "      <td>0.067014</td>\n",
              "      <td>0.032455</td>\n",
              "    </tr>\n",
              "    <tr>\n",
              "      <th>SS7</th>\n",
              "      <td>female</td>\n",
              "      <td>61</td>\n",
              "      <td>0</td>\n",
              "      <td>1.679208e-13</td>\n",
              "      <td>1.454488e-12</td>\n",
              "      <td>1.454488e-12</td>\n",
              "      <td>8.374338e-13</td>\n",
              "      <td>5.455973e-13</td>\n",
              "      <td>6.437365e-13</td>\n",
              "      <td>2.492098</td>\n",
              "      <td>0.055813</td>\n",
              "      <td>0.064430</td>\n",
              "      <td>0.031130</td>\n",
              "    </tr>\n",
              "    <tr>\n",
              "      <th>SS8</th>\n",
              "      <td>female</td>\n",
              "      <td>64</td>\n",
              "      <td>0</td>\n",
              "      <td>6.228747e-14</td>\n",
              "      <td>5.084000e-13</td>\n",
              "      <td>5.084000e-13</td>\n",
              "      <td>3.189277e-13</td>\n",
              "      <td>2.124069e-13</td>\n",
              "      <td>2.546724e-13</td>\n",
              "      <td>2.407455</td>\n",
              "      <td>0.065214</td>\n",
              "      <td>0.063654</td>\n",
              "      <td>0.031456</td>\n",
              "    </tr>\n",
              "  </tbody>\n",
              "</table>\n",
              "</div>"
            ],
            "text/plain": [
              "        sex  ages  group  ...        AC  wSMI_Alpha  wSMI_Theta\n",
              "id                        ...                                  \n",
              "SS1    male    63      0  ...  0.047027    0.069328    0.034951\n",
              "SS2  female    60      1  ...  0.052528    0.065172    0.032267\n",
              "SS3  female    66      1  ...  0.064709    0.060440    0.028957\n",
              "SS4  female    68      0  ...  0.051643    0.051035    0.026086\n",
              "SS5  female    72      1  ...  0.059398    0.065278    0.031481\n",
              "SS6  female    74      1  ...  0.054304    0.067014    0.032455\n",
              "SS7  female    61      0  ...  0.055813    0.064430    0.031130\n",
              "SS8  female    64      0  ...  0.065214    0.063654    0.031456\n",
              "\n",
              "[8 rows x 13 columns]"
            ]
          },
          "metadata": {
            "tags": []
          },
          "execution_count": 22
        }
      ]
    },
    {
      "cell_type": "code",
      "metadata": {
        "id": "Cy-jE7e6QUhl",
        "colab_type": "code",
        "colab": {
          "base_uri": "https://localhost:8080/",
          "height": 34
        },
        "outputId": "ad380390-3215-4bdf-aaae-0f19683ae376"
      },
      "source": [
        "import mne\n",
        "\n",
        "risk = ['SS2','SS3','SS5','SS6']\n",
        "normal = ['SS1', 'SS4', 'SS7', 'SS8']\n",
        "\n",
        "psd_risk = get_psd_sorce(risk)\n",
        "psd_normal = get_psd_sorce(normal)\n",
        "psd_normal.to_csv('/content/drive/My Drive/EEG Data/psd_normal.csv')\n",
        "psd_risk.to_csv('/content/drive/My Drive/EEG Data/psd_risk.csv')"
      ],
      "execution_count": 68,
      "outputs": [
        {
          "output_type": "stream",
          "text": [
            "updated 25/4/2020, 11.54\n"
          ],
          "name": "stdout"
        }
      ]
    },
    {
      "cell_type": "code",
      "metadata": {
        "id": "f823XKwVzm64",
        "colab_type": "code",
        "colab": {
          "base_uri": "https://localhost:8080/",
          "height": 947
        },
        "outputId": "49670344-f373-4d55-8607-69432496e03e"
      },
      "source": [
        "psd_normal = pd.read_csv('psd_normal.csv').drop(['Unnamed: 0', 'PO3', 'O1'], axis = 1)\n",
        "psd_risk = pd.read_csv('psd_risk.csv').drop(['Unnamed: 0', 'PO3', 'O1'], axis = 1)\n",
        "psd_normal['bands'] = ['delta', 'theta', 'alpha', 'beta', 'gamma']\n",
        "psd_normal.set_index('bands', inplace = True)\n",
        "psd_risk['bands'] = ['delta', 'theta', 'alpha', 'beta', 'gamma']\n",
        "psd_risk.set_index('bands', inplace = True)\n",
        "\n",
        "plot_normal = psd_normal.transpose().reset_index()\n",
        "plot_risk = psd_risk.transpose().reset_index()\n",
        "\n",
        "index = plot_normal['index']\n",
        "\n",
        "plot_normal"
      ],
      "execution_count": 129,
      "outputs": [
        {
          "output_type": "execute_result",
          "data": {
            "text/html": [
              "<div>\n",
              "<style scoped>\n",
              "    .dataframe tbody tr th:only-of-type {\n",
              "        vertical-align: middle;\n",
              "    }\n",
              "\n",
              "    .dataframe tbody tr th {\n",
              "        vertical-align: top;\n",
              "    }\n",
              "\n",
              "    .dataframe thead th {\n",
              "        text-align: right;\n",
              "    }\n",
              "</style>\n",
              "<table border=\"1\" class=\"dataframe\">\n",
              "  <thead>\n",
              "    <tr style=\"text-align: right;\">\n",
              "      <th>bands</th>\n",
              "      <th>index</th>\n",
              "      <th>delta</th>\n",
              "      <th>theta</th>\n",
              "      <th>alpha</th>\n",
              "      <th>beta</th>\n",
              "      <th>gamma</th>\n",
              "    </tr>\n",
              "  </thead>\n",
              "  <tbody>\n",
              "    <tr>\n",
              "      <th>0</th>\n",
              "      <td>Fp1</td>\n",
              "      <td>1.323440e-12</td>\n",
              "      <td>1.140154e-11</td>\n",
              "      <td>1.140154e-11</td>\n",
              "      <td>3.286668e-12</td>\n",
              "      <td>2.819770e-12</td>\n",
              "    </tr>\n",
              "    <tr>\n",
              "      <th>1</th>\n",
              "      <td>AF3</td>\n",
              "      <td>7.364839e-13</td>\n",
              "      <td>6.203755e-12</td>\n",
              "      <td>6.203755e-12</td>\n",
              "      <td>1.557490e-12</td>\n",
              "      <td>5.974399e-13</td>\n",
              "    </tr>\n",
              "    <tr>\n",
              "      <th>2</th>\n",
              "      <td>F7</td>\n",
              "      <td>6.226717e-13</td>\n",
              "      <td>5.169867e-12</td>\n",
              "      <td>5.169867e-12</td>\n",
              "      <td>2.370487e-12</td>\n",
              "      <td>2.456698e-12</td>\n",
              "    </tr>\n",
              "    <tr>\n",
              "      <th>3</th>\n",
              "      <td>F3</td>\n",
              "      <td>4.411544e-13</td>\n",
              "      <td>3.429793e-12</td>\n",
              "      <td>3.429793e-12</td>\n",
              "      <td>1.545341e-12</td>\n",
              "      <td>1.070973e-12</td>\n",
              "    </tr>\n",
              "    <tr>\n",
              "      <th>4</th>\n",
              "      <td>FC1</td>\n",
              "      <td>2.501699e-13</td>\n",
              "      <td>1.844128e-12</td>\n",
              "      <td>1.844128e-12</td>\n",
              "      <td>8.701824e-13</td>\n",
              "      <td>3.227146e-13</td>\n",
              "    </tr>\n",
              "    <tr>\n",
              "      <th>5</th>\n",
              "      <td>FC5</td>\n",
              "      <td>3.385741e-13</td>\n",
              "      <td>2.522567e-12</td>\n",
              "      <td>2.522567e-12</td>\n",
              "      <td>1.688916e-12</td>\n",
              "      <td>1.991471e-12</td>\n",
              "    </tr>\n",
              "    <tr>\n",
              "      <th>6</th>\n",
              "      <td>T7</td>\n",
              "      <td>2.139188e-13</td>\n",
              "      <td>1.604344e-12</td>\n",
              "      <td>1.604344e-12</td>\n",
              "      <td>1.194274e-12</td>\n",
              "      <td>1.278845e-12</td>\n",
              "    </tr>\n",
              "    <tr>\n",
              "      <th>7</th>\n",
              "      <td>C3</td>\n",
              "      <td>1.685859e-13</td>\n",
              "      <td>1.235178e-12</td>\n",
              "      <td>1.235178e-12</td>\n",
              "      <td>7.301231e-13</td>\n",
              "      <td>4.709480e-13</td>\n",
              "    </tr>\n",
              "    <tr>\n",
              "      <th>8</th>\n",
              "      <td>CP1</td>\n",
              "      <td>9.592233e-14</td>\n",
              "      <td>6.983462e-13</td>\n",
              "      <td>6.983462e-13</td>\n",
              "      <td>3.753163e-13</td>\n",
              "      <td>1.123615e-13</td>\n",
              "    </tr>\n",
              "    <tr>\n",
              "      <th>9</th>\n",
              "      <td>CP5</td>\n",
              "      <td>1.278646e-13</td>\n",
              "      <td>9.482106e-13</td>\n",
              "      <td>9.482106e-13</td>\n",
              "      <td>6.093335e-13</td>\n",
              "      <td>4.766180e-13</td>\n",
              "    </tr>\n",
              "    <tr>\n",
              "      <th>10</th>\n",
              "      <td>P7</td>\n",
              "      <td>1.293365e-13</td>\n",
              "      <td>9.233359e-13</td>\n",
              "      <td>9.233359e-13</td>\n",
              "      <td>6.679078e-13</td>\n",
              "      <td>4.974099e-13</td>\n",
              "    </tr>\n",
              "    <tr>\n",
              "      <th>11</th>\n",
              "      <td>P3</td>\n",
              "      <td>4.142743e-14</td>\n",
              "      <td>3.089254e-13</td>\n",
              "      <td>3.089254e-13</td>\n",
              "      <td>1.750880e-13</td>\n",
              "      <td>7.527906e-14</td>\n",
              "    </tr>\n",
              "    <tr>\n",
              "      <th>12</th>\n",
              "      <td>Pz</td>\n",
              "      <td>9.711159e-13</td>\n",
              "      <td>6.920527e-12</td>\n",
              "      <td>6.920527e-12</td>\n",
              "      <td>4.694873e-12</td>\n",
              "      <td>3.132040e-12</td>\n",
              "    </tr>\n",
              "    <tr>\n",
              "      <th>13</th>\n",
              "      <td>Oz</td>\n",
              "      <td>7.993172e-13</td>\n",
              "      <td>9.670400e-12</td>\n",
              "      <td>9.670400e-12</td>\n",
              "      <td>2.190043e-12</td>\n",
              "      <td>6.391330e-13</td>\n",
              "    </tr>\n",
              "    <tr>\n",
              "      <th>14</th>\n",
              "      <td>O2</td>\n",
              "      <td>1.002016e-13</td>\n",
              "      <td>7.694595e-13</td>\n",
              "      <td>7.694595e-13</td>\n",
              "      <td>4.647440e-13</td>\n",
              "      <td>2.041023e-13</td>\n",
              "    </tr>\n",
              "    <tr>\n",
              "      <th>15</th>\n",
              "      <td>PO4</td>\n",
              "      <td>6.769616e-14</td>\n",
              "      <td>5.237068e-13</td>\n",
              "      <td>5.237068e-13</td>\n",
              "      <td>3.237941e-13</td>\n",
              "      <td>1.480394e-13</td>\n",
              "    </tr>\n",
              "    <tr>\n",
              "      <th>16</th>\n",
              "      <td>P4</td>\n",
              "      <td>8.653934e-14</td>\n",
              "      <td>6.438504e-13</td>\n",
              "      <td>6.438504e-13</td>\n",
              "      <td>4.172992e-13</td>\n",
              "      <td>2.138649e-13</td>\n",
              "    </tr>\n",
              "    <tr>\n",
              "      <th>17</th>\n",
              "      <td>P8</td>\n",
              "      <td>1.544572e-13</td>\n",
              "      <td>1.090492e-12</td>\n",
              "      <td>1.090492e-12</td>\n",
              "      <td>8.258965e-13</td>\n",
              "      <td>6.231521e-13</td>\n",
              "    </tr>\n",
              "    <tr>\n",
              "      <th>18</th>\n",
              "      <td>CP6</td>\n",
              "      <td>1.571822e-13</td>\n",
              "      <td>1.103837e-12</td>\n",
              "      <td>1.103837e-12</td>\n",
              "      <td>8.357722e-13</td>\n",
              "      <td>8.165818e-13</td>\n",
              "    </tr>\n",
              "    <tr>\n",
              "      <th>19</th>\n",
              "      <td>CP2</td>\n",
              "      <td>1.179421e-13</td>\n",
              "      <td>8.398556e-13</td>\n",
              "      <td>8.398556e-13</td>\n",
              "      <td>4.872756e-13</td>\n",
              "      <td>1.673276e-13</td>\n",
              "    </tr>\n",
              "    <tr>\n",
              "      <th>20</th>\n",
              "      <td>C4</td>\n",
              "      <td>1.967791e-13</td>\n",
              "      <td>1.423055e-12</td>\n",
              "      <td>1.423055e-12</td>\n",
              "      <td>8.640134e-13</td>\n",
              "      <td>5.566920e-13</td>\n",
              "    </tr>\n",
              "    <tr>\n",
              "      <th>21</th>\n",
              "      <td>T8</td>\n",
              "      <td>4.692070e-13</td>\n",
              "      <td>2.730899e-12</td>\n",
              "      <td>2.730899e-12</td>\n",
              "      <td>2.201353e-12</td>\n",
              "      <td>2.858640e-12</td>\n",
              "    </tr>\n",
              "    <tr>\n",
              "      <th>22</th>\n",
              "      <td>FC6</td>\n",
              "      <td>4.104539e-13</td>\n",
              "      <td>3.005180e-12</td>\n",
              "      <td>3.005180e-12</td>\n",
              "      <td>1.798762e-12</td>\n",
              "      <td>1.937216e-12</td>\n",
              "    </tr>\n",
              "    <tr>\n",
              "      <th>23</th>\n",
              "      <td>FC2</td>\n",
              "      <td>2.670655e-13</td>\n",
              "      <td>2.092411e-12</td>\n",
              "      <td>2.092411e-12</td>\n",
              "      <td>9.615278e-13</td>\n",
              "      <td>4.195025e-13</td>\n",
              "    </tr>\n",
              "    <tr>\n",
              "      <th>24</th>\n",
              "      <td>F4</td>\n",
              "      <td>7.858910e-13</td>\n",
              "      <td>5.762653e-12</td>\n",
              "      <td>5.762653e-12</td>\n",
              "      <td>4.328788e-12</td>\n",
              "      <td>3.893631e-12</td>\n",
              "    </tr>\n",
              "    <tr>\n",
              "      <th>25</th>\n",
              "      <td>F8</td>\n",
              "      <td>4.919790e-13</td>\n",
              "      <td>4.254578e-12</td>\n",
              "      <td>4.254578e-12</td>\n",
              "      <td>1.863266e-12</td>\n",
              "      <td>1.607085e-12</td>\n",
              "    </tr>\n",
              "    <tr>\n",
              "      <th>26</th>\n",
              "      <td>AF4</td>\n",
              "      <td>6.948957e-13</td>\n",
              "      <td>5.730772e-12</td>\n",
              "      <td>5.730772e-12</td>\n",
              "      <td>1.684353e-12</td>\n",
              "      <td>8.816152e-13</td>\n",
              "    </tr>\n",
              "    <tr>\n",
              "      <th>27</th>\n",
              "      <td>Fp2</td>\n",
              "      <td>1.623844e-12</td>\n",
              "      <td>1.396361e-11</td>\n",
              "      <td>1.396361e-11</td>\n",
              "      <td>5.773168e-12</td>\n",
              "      <td>7.276126e-12</td>\n",
              "    </tr>\n",
              "    <tr>\n",
              "      <th>28</th>\n",
              "      <td>Fz</td>\n",
              "      <td>3.923678e-13</td>\n",
              "      <td>3.034754e-12</td>\n",
              "      <td>3.034754e-12</td>\n",
              "      <td>1.116207e-12</td>\n",
              "      <td>3.396640e-13</td>\n",
              "    </tr>\n",
              "    <tr>\n",
              "      <th>29</th>\n",
              "      <td>Cz</td>\n",
              "      <td>1.827395e-13</td>\n",
              "      <td>1.341379e-12</td>\n",
              "      <td>1.341379e-12</td>\n",
              "      <td>6.658753e-13</td>\n",
              "      <td>1.815969e-13</td>\n",
              "    </tr>\n",
              "  </tbody>\n",
              "</table>\n",
              "</div>"
            ],
            "text/plain": [
              "bands index         delta  ...          beta         gamma\n",
              "0       Fp1  1.323440e-12  ...  3.286668e-12  2.819770e-12\n",
              "1       AF3  7.364839e-13  ...  1.557490e-12  5.974399e-13\n",
              "2        F7  6.226717e-13  ...  2.370487e-12  2.456698e-12\n",
              "3        F3  4.411544e-13  ...  1.545341e-12  1.070973e-12\n",
              "4       FC1  2.501699e-13  ...  8.701824e-13  3.227146e-13\n",
              "5       FC5  3.385741e-13  ...  1.688916e-12  1.991471e-12\n",
              "6        T7  2.139188e-13  ...  1.194274e-12  1.278845e-12\n",
              "7        C3  1.685859e-13  ...  7.301231e-13  4.709480e-13\n",
              "8       CP1  9.592233e-14  ...  3.753163e-13  1.123615e-13\n",
              "9       CP5  1.278646e-13  ...  6.093335e-13  4.766180e-13\n",
              "10       P7  1.293365e-13  ...  6.679078e-13  4.974099e-13\n",
              "11       P3  4.142743e-14  ...  1.750880e-13  7.527906e-14\n",
              "12       Pz  9.711159e-13  ...  4.694873e-12  3.132040e-12\n",
              "13       Oz  7.993172e-13  ...  2.190043e-12  6.391330e-13\n",
              "14       O2  1.002016e-13  ...  4.647440e-13  2.041023e-13\n",
              "15      PO4  6.769616e-14  ...  3.237941e-13  1.480394e-13\n",
              "16       P4  8.653934e-14  ...  4.172992e-13  2.138649e-13\n",
              "17       P8  1.544572e-13  ...  8.258965e-13  6.231521e-13\n",
              "18      CP6  1.571822e-13  ...  8.357722e-13  8.165818e-13\n",
              "19      CP2  1.179421e-13  ...  4.872756e-13  1.673276e-13\n",
              "20       C4  1.967791e-13  ...  8.640134e-13  5.566920e-13\n",
              "21       T8  4.692070e-13  ...  2.201353e-12  2.858640e-12\n",
              "22      FC6  4.104539e-13  ...  1.798762e-12  1.937216e-12\n",
              "23      FC2  2.670655e-13  ...  9.615278e-13  4.195025e-13\n",
              "24       F4  7.858910e-13  ...  4.328788e-12  3.893631e-12\n",
              "25       F8  4.919790e-13  ...  1.863266e-12  1.607085e-12\n",
              "26      AF4  6.948957e-13  ...  1.684353e-12  8.816152e-13\n",
              "27      Fp2  1.623844e-12  ...  5.773168e-12  7.276126e-12\n",
              "28       Fz  3.923678e-13  ...  1.116207e-12  3.396640e-13\n",
              "29       Cz  1.827395e-13  ...  6.658753e-13  1.815969e-13\n",
              "\n",
              "[30 rows x 6 columns]"
            ]
          },
          "metadata": {
            "tags": []
          },
          "execution_count": 129
        }
      ]
    },
    {
      "cell_type": "code",
      "metadata": {
        "id": "lFYyRt_h3xhj",
        "colab_type": "code",
        "colab": {
          "base_uri": "https://localhost:8080/",
          "height": 197
        },
        "outputId": "aad372fb-8479-42bb-a77f-6c28044d5511"
      },
      "source": [
        "from sklearn import preprocessing\n",
        "\n",
        "#Min-Max Scaling\n",
        "index = plot_normal['index']\n",
        "plot_normal.drop('index', inplace = True, axis = 1)\n",
        "scaler = preprocessing.MinMaxScaler()\n",
        "plot_normal[plot_normal.columns] = scaler.fit_transform(plot_normal[plot_normal.columns])\n",
        "\n",
        "#df_original.to_csv('Data.csv')\n",
        "plot_normal.head()\n",
        "#df = df_original"
      ],
      "execution_count": 130,
      "outputs": [
        {
          "output_type": "execute_result",
          "data": {
            "text/html": [
              "<div>\n",
              "<style scoped>\n",
              "    .dataframe tbody tr th:only-of-type {\n",
              "        vertical-align: middle;\n",
              "    }\n",
              "\n",
              "    .dataframe tbody tr th {\n",
              "        vertical-align: top;\n",
              "    }\n",
              "\n",
              "    .dataframe thead th {\n",
              "        text-align: right;\n",
              "    }\n",
              "</style>\n",
              "<table border=\"1\" class=\"dataframe\">\n",
              "  <thead>\n",
              "    <tr style=\"text-align: right;\">\n",
              "      <th>bands</th>\n",
              "      <th>delta</th>\n",
              "      <th>theta</th>\n",
              "      <th>alpha</th>\n",
              "      <th>beta</th>\n",
              "      <th>gamma</th>\n",
              "    </tr>\n",
              "  </thead>\n",
              "  <tbody>\n",
              "    <tr>\n",
              "      <th>0</th>\n",
              "      <td>0.810161</td>\n",
              "      <td>0.812367</td>\n",
              "      <td>0.812367</td>\n",
              "      <td>0.555830</td>\n",
              "      <td>0.381135</td>\n",
              "    </tr>\n",
              "    <tr>\n",
              "      <th>1</th>\n",
              "      <td>0.439237</td>\n",
              "      <td>0.431708</td>\n",
              "      <td>0.431708</td>\n",
              "      <td>0.246942</td>\n",
              "      <td>0.072514</td>\n",
              "    </tr>\n",
              "    <tr>\n",
              "      <th>2</th>\n",
              "      <td>0.367314</td>\n",
              "      <td>0.355991</td>\n",
              "      <td>0.355991</td>\n",
              "      <td>0.392170</td>\n",
              "      <td>0.330714</td>\n",
              "    </tr>\n",
              "    <tr>\n",
              "      <th>3</th>\n",
              "      <td>0.252605</td>\n",
              "      <td>0.228557</td>\n",
              "      <td>0.228557</td>\n",
              "      <td>0.244772</td>\n",
              "      <td>0.138275</td>\n",
              "    </tr>\n",
              "    <tr>\n",
              "      <th>4</th>\n",
              "      <td>0.131914</td>\n",
              "      <td>0.112431</td>\n",
              "      <td>0.112431</td>\n",
              "      <td>0.124167</td>\n",
              "      <td>0.034362</td>\n",
              "    </tr>\n",
              "  </tbody>\n",
              "</table>\n",
              "</div>"
            ],
            "text/plain": [
              "bands     delta     theta     alpha      beta     gamma\n",
              "0      0.810161  0.812367  0.812367  0.555830  0.381135\n",
              "1      0.439237  0.431708  0.431708  0.246942  0.072514\n",
              "2      0.367314  0.355991  0.355991  0.392170  0.330714\n",
              "3      0.252605  0.228557  0.228557  0.244772  0.138275\n",
              "4      0.131914  0.112431  0.112431  0.124167  0.034362"
            ]
          },
          "metadata": {
            "tags": []
          },
          "execution_count": 130
        }
      ]
    },
    {
      "cell_type": "code",
      "metadata": {
        "id": "nw6L0KB56U5L",
        "colab_type": "code",
        "colab": {}
      },
      "source": [
        "plot_normal = pd.concat((index, plot_normal), axis = 1)"
      ],
      "execution_count": 0,
      "outputs": []
    },
    {
      "cell_type": "code",
      "metadata": {
        "id": "8O5q5utKzuNg",
        "colab_type": "code",
        "colab": {
          "base_uri": "https://localhost:8080/",
          "height": 312
        },
        "outputId": "45209507-b5e7-44fa-ff74-88578a923683"
      },
      "source": [
        "#title = title\n",
        "bands = ['delta', 'theta', 'alpha', 'beta', 'gamma']\n",
        "\n",
        "fig, ax = plt.subplots()\n",
        "for band in bands:\n",
        "  ax.plot(plot_normal['index'], plot_normal[band], label = band)\n",
        "ax.set_title('title')\n",
        "ax.set_xlabel('xlab')\n",
        "ax.set_ylabel('ylab')\n",
        "ax.legend()\n",
        "#plt.savefig('/content/drive/My Drive/My Project/Senior Project-Dementia/Results/Graphs/'+ title +'.png')"
      ],
      "execution_count": 132,
      "outputs": [
        {
          "output_type": "execute_result",
          "data": {
            "text/plain": [
              "<matplotlib.legend.Legend at 0x7f7649d629e8>"
            ]
          },
          "metadata": {
            "tags": []
          },
          "execution_count": 132
        },
        {
          "output_type": "display_data",
          "data": {
            "image/png": "[encoded data removed]",
            "text/plain": [
              "<Figure size 432x288 with 1 Axes>"
            ]
          },
          "metadata": {
            "tags": [],
            "needs_background": "light"
          }
        }
      ]
    },
    {
      "cell_type": "markdown",
      "metadata": {
        "id": "Wu2vfKfwRzX1",
        "colab_type": "text"
      },
      "source": [
        "* **PSD Graph**"
      ]
    },
    {
      "cell_type": "code",
      "metadata": {
        "id": "kIuTMNSpRyKc",
        "colab_type": "code",
        "colab": {}
      },
      "source": [
        "Bio_N = Biomarkers[Biomarkers['group'] == 0]\n",
        "Bio_R = Biomarkers[Biomarkers['group'] == 1]\n",
        "\n",
        "plot_bio_r = Bio_R.drop(['sex', 'ages', 'group'], axis =1)\n",
        "plot_bio_n = Bio_N.drop(['sex', 'ages', 'group'], axis =1)\n",
        "\n",
        "plot_bio_r = plot_bio_r.transpose()\n",
        "plot_bio_r = plot_bio_r.reset_index()\n",
        "plot_bio_r = plot_bio_r.loc[0:4]\n",
        "\n",
        "plot_bio_n = plot_bio_n.transpose()\n",
        "plot_bio_n = plot_bio_n.reset_index()\n",
        "plot_bio_n = plot_bio_n.loc[0:4]"
      ],
      "execution_count": 0,
      "outputs": []
    },
    {
      "cell_type": "code",
      "metadata": {
        "id": "2qVI6Z6WToF9",
        "colab_type": "code",
        "colab": {}
      },
      "source": [
        "plot_bio_r['mean'] = plot_bio_r.mean(axis = 1)\n",
        "plot_bio_n['mean'] = plot_bio_n.mean(axis = 1)"
      ],
      "execution_count": 0,
      "outputs": []
    },
    {
      "cell_type": "code",
      "metadata": {
        "id": "mmEN3mtMS1yA",
        "colab_type": "code",
        "outputId": "dea37ae3-aaf6-497a-822b-edf3e4c4f9b2",
        "colab": {
          "base_uri": "https://localhost:8080/",
          "height": 313
        }
      },
      "source": [
        "plot_mean_markers(plot_bio_n, plot_bio_r, 'Frequency Band (Hz)', 'PSD (m/s^2)^2/Hz', 'Compare PSD of each group')"
      ],
      "execution_count": 25,
      "outputs": [
        {
          "output_type": "execute_result",
          "data": {
            "text/plain": [
              "[]"
            ]
          },
          "metadata": {
            "tags": []
          },
          "execution_count": 25
        },
        {
          "output_type": "display_data",
          "data": {
            "image/png": "[encoded data removed]",
            "text/plain": [
              "<Figure size 432x288 with 1 Axes>"
            ]
          },
          "metadata": {
            "tags": [],
            "needs_background": "light"
          }
        }
      ]
    },
    {
      "cell_type": "markdown",
      "metadata": {
        "id": "jvcoYCpD0CPJ",
        "colab_type": "text"
      },
      "source": [
        "# **Inferencial Statistics**"
      ]
    },
    {
      "cell_type": "markdown",
      "metadata": {
        "id": "2LwVZMrm0N-V",
        "colab_type": "text"
      },
      "source": [
        "####**Cognitive Markers**"
      ]
    },
    {
      "cell_type": "code",
      "metadata": {
        "id": "rLXeGe8-0gMo",
        "colab_type": "code",
        "colab": {}
      },
      "source": [
        "import scipy\n",
        "import matplotlib.pyplot as plt"
      ],
      "execution_count": 0,
      "outputs": []
    },
    {
      "cell_type": "markdown",
      "metadata": {
        "id": "ZA-7ED631eyk",
        "colab_type": "text"
      },
      "source": [
        "* 1-way ANOVA (Risk vs Free Risk)\n",
        "\n"
      ]
    },
    {
      "cell_type": "code",
      "metadata": {
        "id": "X0sAfFOv0WrE",
        "colab_type": "code",
        "outputId": "334520e3-95f0-4100-8a57-a938656177a7",
        "colab": {
          "base_uri": "https://localhost:8080/",
          "height": 52
        }
      },
      "source": [
        "#Encoding\n",
        "print(scipy.stats.f_oneway(Cog_Risk['IR-CuedR'], Cog_RiskFree['IR-CuedR'])) #sig\n",
        "\n",
        "#Retrieval\n",
        "print(scipy.stats.f_oneway(Cog_Risk['IR-FreeR'], Cog_RiskFree['IR-FreeR'])) #sig"
      ],
      "execution_count": 0,
      "outputs": [
        {
          "output_type": "stream",
          "text": [
            "F_onewayResult(statistic=3.4186046511627906, pvalue=0.11395633124158694)\n",
            "F_onewayResult(statistic=0.023622047244094488, pvalue=0.8828895569688998)\n"
          ],
          "name": "stdout"
        }
      ]
    },
    {
      "cell_type": "code",
      "metadata": {
        "id": "UKqP6aE17_AF",
        "colab_type": "code",
        "outputId": "8cf3d46b-9d9d-4374-dc00-fdd6d7a7ec44",
        "colab": {
          "base_uri": "https://localhost:8080/",
          "height": 105
        }
      },
      "source": [
        "CogMarkers2 = CogMarkers\n",
        "CogMarkers2['group'][CogMarkers2['group'] == 0] = 'Normal'\n",
        "CogMarkers2['group'][CogMarkers2['group'] == 1] = 'Risk'"
      ],
      "execution_count": 0,
      "outputs": [
        {
          "output_type": "stream",
          "text": [
            "/usr/local/lib/python3.6/dist-packages/ipykernel_launcher.py:2: SettingWithCopyWarning: \n",
            "A value is trying to be set on a copy of a slice from a DataFrame\n",
            "\n",
            "See the caveats in the documentation: https://pandas.pydata.org/pandas-docs/stable/user_guide/indexing.html#returning-a-view-versus-a-copy\n",
            "  \n"
          ],
          "name": "stderr"
        }
      ]
    },
    {
      "cell_type": "code",
      "metadata": {
        "id": "YoMmY2EJ9OVg",
        "colab_type": "code",
        "outputId": "6b968f55-2098-48d7-b11f-1215d7fcb230",
        "colab": {
          "base_uri": "https://localhost:8080/",
          "height": 287
        }
      },
      "source": [
        "CogMarkers2"
      ],
      "execution_count": 0,
      "outputs": [
        {
          "output_type": "execute_result",
          "data": {
            "text/html": [
              "<div>\n",
              "<style scoped>\n",
              "    .dataframe tbody tr th:only-of-type {\n",
              "        vertical-align: middle;\n",
              "    }\n",
              "\n",
              "    .dataframe tbody tr th {\n",
              "        vertical-align: top;\n",
              "    }\n",
              "\n",
              "    .dataframe thead th {\n",
              "        text-align: right;\n",
              "    }\n",
              "</style>\n",
              "<table border=\"1\" class=\"dataframe\">\n",
              "  <thead>\n",
              "    <tr style=\"text-align: right;\">\n",
              "      <th></th>\n",
              "      <th>sex</th>\n",
              "      <th>ages</th>\n",
              "      <th>group</th>\n",
              "      <th>IR-FreeR</th>\n",
              "      <th>IR-CuedR</th>\n",
              "      <th>DL-FreeR</th>\n",
              "      <th>DL-CuedR</th>\n",
              "      <th>MoCA</th>\n",
              "    </tr>\n",
              "  </thead>\n",
              "  <tbody>\n",
              "    <tr>\n",
              "      <th>0</th>\n",
              "      <td>male</td>\n",
              "      <td>63</td>\n",
              "      <td>Normal</td>\n",
              "      <td>6</td>\n",
              "      <td>8</td>\n",
              "      <td>7</td>\n",
              "      <td>5</td>\n",
              "      <td>21</td>\n",
              "    </tr>\n",
              "    <tr>\n",
              "      <th>1</th>\n",
              "      <td>female</td>\n",
              "      <td>60</td>\n",
              "      <td>Risk</td>\n",
              "      <td>7</td>\n",
              "      <td>5</td>\n",
              "      <td>9</td>\n",
              "      <td>5</td>\n",
              "      <td>7</td>\n",
              "    </tr>\n",
              "    <tr>\n",
              "      <th>2</th>\n",
              "      <td>female</td>\n",
              "      <td>66</td>\n",
              "      <td>Risk</td>\n",
              "      <td>11</td>\n",
              "      <td>4</td>\n",
              "      <td>11</td>\n",
              "      <td>4</td>\n",
              "      <td>9</td>\n",
              "    </tr>\n",
              "    <tr>\n",
              "      <th>3</th>\n",
              "      <td>female</td>\n",
              "      <td>68</td>\n",
              "      <td>Normal</td>\n",
              "      <td>11</td>\n",
              "      <td>4</td>\n",
              "      <td>11</td>\n",
              "      <td>5</td>\n",
              "      <td>22</td>\n",
              "    </tr>\n",
              "    <tr>\n",
              "      <th>4</th>\n",
              "      <td>female</td>\n",
              "      <td>72</td>\n",
              "      <td>Risk</td>\n",
              "      <td>10</td>\n",
              "      <td>4</td>\n",
              "      <td>7</td>\n",
              "      <td>7</td>\n",
              "      <td>12</td>\n",
              "    </tr>\n",
              "    <tr>\n",
              "      <th>5</th>\n",
              "      <td>female</td>\n",
              "      <td>74</td>\n",
              "      <td>Risk</td>\n",
              "      <td>6</td>\n",
              "      <td>4</td>\n",
              "      <td>6</td>\n",
              "      <td>4</td>\n",
              "      <td>15</td>\n",
              "    </tr>\n",
              "    <tr>\n",
              "      <th>6</th>\n",
              "      <td>female</td>\n",
              "      <td>61</td>\n",
              "      <td>Normal</td>\n",
              "      <td>8</td>\n",
              "      <td>7</td>\n",
              "      <td>9</td>\n",
              "      <td>6</td>\n",
              "      <td>20</td>\n",
              "    </tr>\n",
              "    <tr>\n",
              "      <th>7</th>\n",
              "      <td>female</td>\n",
              "      <td>64</td>\n",
              "      <td>Normal</td>\n",
              "      <td>10</td>\n",
              "      <td>5</td>\n",
              "      <td>9</td>\n",
              "      <td>7</td>\n",
              "      <td>6</td>\n",
              "    </tr>\n",
              "  </tbody>\n",
              "</table>\n",
              "</div>"
            ],
            "text/plain": [
              "      sex  ages   group  IR-FreeR  IR-CuedR  DL-FreeR  DL-CuedR  MoCA\n",
              "0    male    63  Normal         6         8         7         5    21\n",
              "1  female    60    Risk         7         5         9         5     7\n",
              "2  female    66    Risk        11         4        11         4     9\n",
              "3  female    68  Normal        11         4        11         5    22\n",
              "4  female    72    Risk        10         4         7         7    12\n",
              "5  female    74    Risk         6         4         6         4    15\n",
              "6  female    61  Normal         8         7         9         6    20\n",
              "7  female    64  Normal        10         5         9         7     6"
            ]
          },
          "metadata": {
            "tags": []
          },
          "execution_count": 78
        }
      ]
    },
    {
      "cell_type": "code",
      "metadata": {
        "id": "mksrZk3S3OgP",
        "colab_type": "code",
        "outputId": "67e138b7-e4d4-4a88-f7bc-fdc58f670460",
        "colab": {
          "base_uri": "https://localhost:8080/",
          "height": 437
        }
      },
      "source": [
        "CogMarkers2.boxplot(column = ['IR-CuedR'], by = ['group'], grid = False, figsize = (8,6))\n",
        "plt.title(None)\n",
        "plt.xlabel('Group')\n",
        "plt.ylabel('IR-Cued Recall')\n",
        "plt.legend()\n",
        "plt.show()"
      ],
      "execution_count": 0,
      "outputs": [
        {
          "output_type": "stream",
          "text": [
            "No handles with labels found to put in legend.\n"
          ],
          "name": "stderr"
        },
        {
          "output_type": "display_data",
          "data": {
            "image/png": "[encoded data removed]",
            "text/plain": [
              "<Figure size 576x432 with 1 Axes>"
            ]
          },
          "metadata": {
            "tags": [],
            "needs_background": "light"
          }
        }
      ]
    },
    {
      "cell_type": "markdown",
      "metadata": {
        "id": "wIB7TTnb0OHg",
        "colab_type": "text"
      },
      "source": [
        "####**Biomarkers**"
      ]
    }
  ]
}