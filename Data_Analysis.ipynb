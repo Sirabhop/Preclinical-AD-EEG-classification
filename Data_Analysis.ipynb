{
  "nbformat": 4,
  "nbformat_minor": 0,
  "metadata": {
    "colab": {
      "name": "Data Analysis",
      "provenance": [],
      "authorship_tag": "ABX9TyOcaSZV+NtpWYNb/NiKMVvG",
      "include_colab_link": true
    },
    "kernelspec": {
      "name": "python3",
      "display_name": "Python 3"
    }
  },
  "cells": [
    {
      "cell_type": "markdown",
      "metadata": {
        "id": "view-in-github",
        "colab_type": "text"
      },
      "source": [
        "<a href=\"https://colab.research.google.com/github/Sirabhop/Preclinical-AD-EEG-classification/blob/master/Data_Analysis.ipynb\" target=\"_parent\"><img src=\"https://colab.research.google.com/assets/colab-badge.svg\" alt=\"Open In Colab\"/></a>"
      ]
    },
    {
      "cell_type": "code",
      "metadata": {
        "id": "IF2w0JtOG_WP",
        "colab_type": "code",
        "colab": {}
      },
      "source": [
        "from google.colab import drive\n",
        "from oauth2client.service_account import ServiceAccountCredentials\n",
        "\n",
        "import os\n",
        "import pandas as pd\n",
        "import numpy as np\n",
        "import matplotlib.pyplot as plt\n",
        "import gspread"
      ],
      "execution_count": 0,
      "outputs": []
    },
    {
      "cell_type": "code",
      "metadata": {
        "id": "muxOS39IHM4P",
        "colab_type": "code",
        "outputId": "dec7a0a2-2a51-4131-ec71-b1d15279c7c7",
        "colab": {
          "base_uri": "https://localhost:8080/",
          "height": 125
        }
      },
      "source": [
        "drive.mount('/content/drive')"
      ],
      "execution_count": 2,
      "outputs": [
        {
          "output_type": "stream",
          "text": [
            "Go to this URL in a browser: https://accounts.google.com/o/oauth2/auth?client_id=947318989803-6bn6qk8qdgf4n4g3pfee6491hc0brc4i.apps.googleusercontent.com&redirect_uri=urn%3aietf%3awg%3aoauth%3a2.0%3aoob&response_type=code&scope=email%20https%3a%2f%2fwww.googleapis.com%2fauth%2fdocs.test%20https%3a%2f%2fwww.googleapis.com%2fauth%2fdrive%20https%3a%2f%2fwww.googleapis.com%2fauth%2fdrive.photos.readonly%20https%3a%2f%2fwww.googleapis.com%2fauth%2fpeopleapi.readonly\n",
            "\n",
            "Enter your authorization code:\n",
            "··········\n",
            "Mounted at /content/drive\n"
          ],
          "name": "stdout"
        }
      ]
    },
    {
      "cell_type": "code",
      "metadata": {
        "id": "f703p-NFHYvK",
        "colab_type": "code",
        "colab": {}
      },
      "source": [
        "os.chdir(\"/content/drive/My Drive/EEG Data\")"
      ],
      "execution_count": 0,
      "outputs": []
    },
    {
      "cell_type": "code",
      "metadata": {
        "id": "jKo4wyKF10z5",
        "colab_type": "code",
        "colab": {}
      },
      "source": [
        "#Set up google drive API\n",
        "\n",
        "scope = ['https://spreadsheets.google.com/feeds',\n",
        "         'https://www.googleapis.com/auth/drive']\n",
        "creds = ServiceAccountCredentials.from_json_keyfile_name('credentials.json', scope)\n",
        "client = gspread.authorize(creds)"
      ],
      "execution_count": 0,
      "outputs": []
    },
    {
      "cell_type": "markdown",
      "metadata": {
        "id": "B-R5ugXPHdZT",
        "colab_type": "text"
      },
      "source": [
        "# **Descriptive Statistics**"
      ]
    },
    {
      "cell_type": "markdown",
      "metadata": {
        "id": "fp8IRYQ1Hi0_",
        "colab_type": "text"
      },
      "source": [
        "####**Demographics**"
      ]
    },
    {
      "cell_type": "code",
      "metadata": {
        "id": "KExwA5ZRJLSA",
        "colab_type": "code",
        "colab": {}
      },
      "source": [
        "dict = {'sex': ['male', 'female', 'female', 'female', 'female', 'female', 'female', 'female'],\n",
        "        'ages':[63, 60, 66, 68, 72, 74, 61, 64],\n",
        "        'group': [0,1,1,0,1,1,0,0]} #0 = Risk Free, 1 = At risk"
      ],
      "execution_count": 0,
      "outputs": []
    },
    {
      "cell_type": "code",
      "metadata": {
        "id": "9f1Kwl-zHycr",
        "colab_type": "code",
        "outputId": "f1f3bc39-5ad8-43e2-d480-b7fea535270b",
        "colab": {
          "base_uri": "https://localhost:8080/",
          "height": 287
        }
      },
      "source": [
        "df = pd.DataFrame(data = dict)\n",
        "df"
      ],
      "execution_count": 223,
      "outputs": [
        {
          "output_type": "execute_result",
          "data": {
            "text/html": [
              "<div>\n",
              "<style scoped>\n",
              "    .dataframe tbody tr th:only-of-type {\n",
              "        vertical-align: middle;\n",
              "    }\n",
              "\n",
              "    .dataframe tbody tr th {\n",
              "        vertical-align: top;\n",
              "    }\n",
              "\n",
              "    .dataframe thead th {\n",
              "        text-align: right;\n",
              "    }\n",
              "</style>\n",
              "<table border=\"1\" class=\"dataframe\">\n",
              "  <thead>\n",
              "    <tr style=\"text-align: right;\">\n",
              "      <th></th>\n",
              "      <th>sex</th>\n",
              "      <th>ages</th>\n",
              "      <th>group</th>\n",
              "    </tr>\n",
              "  </thead>\n",
              "  <tbody>\n",
              "    <tr>\n",
              "      <th>0</th>\n",
              "      <td>male</td>\n",
              "      <td>63</td>\n",
              "      <td>0</td>\n",
              "    </tr>\n",
              "    <tr>\n",
              "      <th>1</th>\n",
              "      <td>female</td>\n",
              "      <td>60</td>\n",
              "      <td>1</td>\n",
              "    </tr>\n",
              "    <tr>\n",
              "      <th>2</th>\n",
              "      <td>female</td>\n",
              "      <td>66</td>\n",
              "      <td>1</td>\n",
              "    </tr>\n",
              "    <tr>\n",
              "      <th>3</th>\n",
              "      <td>female</td>\n",
              "      <td>68</td>\n",
              "      <td>0</td>\n",
              "    </tr>\n",
              "    <tr>\n",
              "      <th>4</th>\n",
              "      <td>female</td>\n",
              "      <td>72</td>\n",
              "      <td>1</td>\n",
              "    </tr>\n",
              "    <tr>\n",
              "      <th>5</th>\n",
              "      <td>female</td>\n",
              "      <td>74</td>\n",
              "      <td>1</td>\n",
              "    </tr>\n",
              "    <tr>\n",
              "      <th>6</th>\n",
              "      <td>female</td>\n",
              "      <td>61</td>\n",
              "      <td>0</td>\n",
              "    </tr>\n",
              "    <tr>\n",
              "      <th>7</th>\n",
              "      <td>female</td>\n",
              "      <td>64</td>\n",
              "      <td>0</td>\n",
              "    </tr>\n",
              "  </tbody>\n",
              "</table>\n",
              "</div>"
            ],
            "text/plain": [
              "      sex  ages  group\n",
              "0    male    63      0\n",
              "1  female    60      1\n",
              "2  female    66      1\n",
              "3  female    68      0\n",
              "4  female    72      1\n",
              "5  female    74      1\n",
              "6  female    61      0\n",
              "7  female    64      0"
            ]
          },
          "metadata": {
            "tags": []
          },
          "execution_count": 223
        }
      ]
    },
    {
      "cell_type": "markdown",
      "metadata": {
        "id": "pcZL2fV5Hi4v",
        "colab_type": "text"
      },
      "source": [
        "####**Cognitive Markers**\n"
      ]
    },
    {
      "cell_type": "code",
      "metadata": {
        "id": "wMwjqdTB5UUY",
        "colab_type": "code",
        "colab": {}
      },
      "source": [
        "gsheet_MoCA = client.open(\"MoCA DATA\").sheet1\n",
        "gsheet_FCSRT = client.open(\"FCSRT DATA\").sheet1\n",
        "list_MoCA = gsheet_MoCA.get_all_records()\n",
        "list_FCSRT = gsheet_FCSRT.get_all_records()"
      ],
      "execution_count": 0,
      "outputs": []
    },
    {
      "cell_type": "code",
      "metadata": {
        "id": "U4UeaJ7AMggG",
        "colab_type": "code",
        "colab": {}
      },
      "source": [
        "FCSRT = pd.DataFrame(list_FCSRT)\n",
        "MoCA = pd.DataFrame(list_MoCA)\n",
        "\n",
        "MoCA = pd.concat([df, MoCA], axis = 1).drop(['NAME','SEX','AGE'], axis = 1)\n",
        "CogMarkers = pd.concat([df, FCSRT, MoCA[['SUM']]], axis = 1)\n",
        "CogMarkers['group'] = CogMarkers['group'].astype('category')\n",
        "CogMarkers.set_index('id', inplace = True)\n",
        "CogMarkers.rename(columns = {'SUM':'MoCA'}, inplace = True)\n",
        "#CogMarkers.to_csv('cognitive marker.csv')"
      ],
      "execution_count": 0,
      "outputs": []
    },
    {
      "cell_type": "markdown",
      "metadata": {
        "id": "vqgPRt0yinb7",
        "colab_type": "text"
      },
      "source": [
        "* **% Encoded**\n",
        "  * SOMI 0: > 95.8%\n",
        "  * SOMI 1: > 95.8%\n",
        "  * SOMI 2a: > 95.8%\n",
        "  * SOMI 2b: > 93.75 and < 95.8%\n",
        "  * SOMI 4: > 68.78 and < 91.67%\n",
        "\n"
      ]
    },
    {
      "cell_type": "code",
      "metadata": {
        "id": "zDmnXmi8fg2u",
        "colab_type": "code",
        "colab": {}
      },
      "source": [
        "#computed from [Total Recall x 100]/16\n",
        "CogMarkers['%Encoded'] = ((CogMarkers['IR-FreeR']+CogMarkers['IR-CuedR'])*100)/16 "
      ],
      "execution_count": 0,
      "outputs": []
    },
    {
      "cell_type": "markdown",
      "metadata": {
        "id": "YIDG-HKEjzSQ",
        "colab_type": "text"
      },
      "source": [
        "*   **% Retrieval**\n",
        "  * SOMI 0: > 62.5%\n",
        "  * SOMI 1: > 52.1% and < 62.5%\n",
        "  * SOMI 2a: > 41.6% and < 50%\n",
        "  * SOMI 2b: > 41.6% and < 50%\n",
        "  * SOMI 4: Any\n"
      ]
    },
    {
      "cell_type": "code",
      "metadata": {
        "id": "q1r8dKDWft47",
        "colab_type": "code",
        "colab": {}
      },
      "source": [
        "CogMarkers['%Retrieval'] =  CogMarkers['IR-FreeR']*100/16"
      ],
      "execution_count": 0,
      "outputs": []
    },
    {
      "cell_type": "markdown",
      "metadata": {
        "id": "pIQ5uFVErmTX",
        "colab_type": "text"
      },
      "source": [
        "*   **Classify SS according to SOMI model criteria**\n"
      ]
    },
    {
      "cell_type": "code",
      "metadata": {
        "id": "Z9QUVyXYo_9y",
        "colab_type": "code",
        "colab": {}
      },
      "source": [
        "for i in range(-1,7):\n",
        "  if (CogMarkers.iloc[i, 8] > 95.8) & (CogMarkers.iloc[i, 9] > 62.5):\n",
        "    CogMarkers['SOMI stage'] = 'SOMI 0'\n",
        "\n",
        "  if (CogMarkers.iloc[i, 8] > 95.8):\n",
        "    if (CogMarkers.iloc[i, 9] > 52.1) & (CogMarkers.iloc[i, 9] < 62.5):\n",
        "      CogMarkers['SOMI stage'] = 'SOMI 1'\n",
        "\n",
        "  if (CogMarkers.iloc[i, 8] > 95.8):\n",
        "    if (CogMarkers.iloc[i, 9] > 41.6) & (CogMarkers.iloc[i, 9] < 50):\n",
        "      CogMarkers['SOMI stage'] = 'SOMI 2a'\n",
        "\n",
        "  if (CogMarkers.iloc[i, 8] > 93.75) & (CogMarkers.iloc[i, 8] < 95.8):\n",
        "    if (CogMarkers.iloc[i, 9] > 41.6) & (CogMarkers.iloc[i, 9] < 50):\n",
        "      CogMarkers['SOMI stage'] = 'SOMI 2b'\n",
        "\n",
        "  if (CogMarkers.iloc[i, 8] > 68.78) & (CogMarkers.iloc[i, 8] < 91.67):\n",
        "    if CogMarkers.iloc[i, 9] <= 41.6:\n",
        "      CogMarkers['SOMI stage'] = 'SOMI 4'\n",
        "  else:\n",
        "    CogMarkers['SOMI stage'] = 'NaN'"
      ],
      "execution_count": 0,
      "outputs": []
    },
    {
      "cell_type": "code",
      "metadata": {
        "id": "q5nYtxY1MWmw",
        "colab_type": "code",
        "colab": {}
      },
      "source": [
        "Cog_RiskFree = CogMarkers[CogMarkers['group'] == 0]\n",
        "Cog_Risk = CogMarkers[CogMarkers['group'] == 1]"
      ],
      "execution_count": 0,
      "outputs": []
    },
    {
      "cell_type": "code",
      "metadata": {
        "id": "YFdRteWaUrJ-",
        "colab_type": "code",
        "outputId": "678c17de-97e0-405b-8cc0-fc7c425970ce",
        "colab": {
          "base_uri": "https://localhost:8080/",
          "height": 197
        }
      },
      "source": [
        "Cog_Risk"
      ],
      "execution_count": 232,
      "outputs": [
        {
          "output_type": "execute_result",
          "data": {
            "text/html": [
              "<div>\n",
              "<style scoped>\n",
              "    .dataframe tbody tr th:only-of-type {\n",
              "        vertical-align: middle;\n",
              "    }\n",
              "\n",
              "    .dataframe tbody tr th {\n",
              "        vertical-align: top;\n",
              "    }\n",
              "\n",
              "    .dataframe thead th {\n",
              "        text-align: right;\n",
              "    }\n",
              "</style>\n",
              "<table border=\"1\" class=\"dataframe\">\n",
              "  <thead>\n",
              "    <tr style=\"text-align: right;\">\n",
              "      <th></th>\n",
              "      <th>sex</th>\n",
              "      <th>ages</th>\n",
              "      <th>group</th>\n",
              "      <th>IR-FreeR</th>\n",
              "      <th>IR-CuedR</th>\n",
              "      <th>DL-FreeR</th>\n",
              "      <th>DL-CuedR</th>\n",
              "      <th>MoCA</th>\n",
              "      <th>%Encoded</th>\n",
              "      <th>%Retrieval</th>\n",
              "      <th>SOMI stage</th>\n",
              "    </tr>\n",
              "    <tr>\n",
              "      <th>id</th>\n",
              "      <th></th>\n",
              "      <th></th>\n",
              "      <th></th>\n",
              "      <th></th>\n",
              "      <th></th>\n",
              "      <th></th>\n",
              "      <th></th>\n",
              "      <th></th>\n",
              "      <th></th>\n",
              "      <th></th>\n",
              "      <th></th>\n",
              "    </tr>\n",
              "  </thead>\n",
              "  <tbody>\n",
              "    <tr>\n",
              "      <th>SS2</th>\n",
              "      <td>female</td>\n",
              "      <td>60</td>\n",
              "      <td>1</td>\n",
              "      <td>7</td>\n",
              "      <td>5</td>\n",
              "      <td>9</td>\n",
              "      <td>5</td>\n",
              "      <td>7</td>\n",
              "      <td>75.00</td>\n",
              "      <td>43.75</td>\n",
              "      <td>NaN</td>\n",
              "    </tr>\n",
              "    <tr>\n",
              "      <th>SS3</th>\n",
              "      <td>female</td>\n",
              "      <td>66</td>\n",
              "      <td>1</td>\n",
              "      <td>11</td>\n",
              "      <td>4</td>\n",
              "      <td>11</td>\n",
              "      <td>4</td>\n",
              "      <td>9</td>\n",
              "      <td>93.75</td>\n",
              "      <td>68.75</td>\n",
              "      <td>NaN</td>\n",
              "    </tr>\n",
              "    <tr>\n",
              "      <th>SS5</th>\n",
              "      <td>female</td>\n",
              "      <td>72</td>\n",
              "      <td>1</td>\n",
              "      <td>10</td>\n",
              "      <td>4</td>\n",
              "      <td>7</td>\n",
              "      <td>7</td>\n",
              "      <td>12</td>\n",
              "      <td>87.50</td>\n",
              "      <td>62.50</td>\n",
              "      <td>NaN</td>\n",
              "    </tr>\n",
              "    <tr>\n",
              "      <th>SS6</th>\n",
              "      <td>female</td>\n",
              "      <td>74</td>\n",
              "      <td>1</td>\n",
              "      <td>6</td>\n",
              "      <td>4</td>\n",
              "      <td>6</td>\n",
              "      <td>4</td>\n",
              "      <td>15</td>\n",
              "      <td>62.50</td>\n",
              "      <td>37.50</td>\n",
              "      <td>NaN</td>\n",
              "    </tr>\n",
              "  </tbody>\n",
              "</table>\n",
              "</div>"
            ],
            "text/plain": [
              "        sex  ages group  IR-FreeR  ...  MoCA  %Encoded  %Retrieval  SOMI stage\n",
              "id                                 ...                                        \n",
              "SS2  female    60     1         7  ...     7     75.00       43.75         NaN\n",
              "SS3  female    66     1        11  ...     9     93.75       68.75         NaN\n",
              "SS5  female    72     1        10  ...    12     87.50       62.50         NaN\n",
              "SS6  female    74     1         6  ...    15     62.50       37.50         NaN\n",
              "\n",
              "[4 rows x 11 columns]"
            ]
          },
          "metadata": {
            "tags": []
          },
          "execution_count": 232
        }
      ]
    },
    {
      "cell_type": "code",
      "metadata": {
        "id": "1PkJ2nEFWuvd",
        "colab_type": "code",
        "outputId": "d5f1d332-5b2f-4edf-dc95-a36b1bc24511",
        "colab": {
          "base_uri": "https://localhost:8080/",
          "height": 197
        }
      },
      "source": [
        "Cog_RiskFree"
      ],
      "execution_count": 233,
      "outputs": [
        {
          "output_type": "execute_result",
          "data": {
            "text/html": [
              "<div>\n",
              "<style scoped>\n",
              "    .dataframe tbody tr th:only-of-type {\n",
              "        vertical-align: middle;\n",
              "    }\n",
              "\n",
              "    .dataframe tbody tr th {\n",
              "        vertical-align: top;\n",
              "    }\n",
              "\n",
              "    .dataframe thead th {\n",
              "        text-align: right;\n",
              "    }\n",
              "</style>\n",
              "<table border=\"1\" class=\"dataframe\">\n",
              "  <thead>\n",
              "    <tr style=\"text-align: right;\">\n",
              "      <th></th>\n",
              "      <th>sex</th>\n",
              "      <th>ages</th>\n",
              "      <th>group</th>\n",
              "      <th>IR-FreeR</th>\n",
              "      <th>IR-CuedR</th>\n",
              "      <th>DL-FreeR</th>\n",
              "      <th>DL-CuedR</th>\n",
              "      <th>MoCA</th>\n",
              "      <th>%Encoded</th>\n",
              "      <th>%Retrieval</th>\n",
              "      <th>SOMI stage</th>\n",
              "    </tr>\n",
              "    <tr>\n",
              "      <th>id</th>\n",
              "      <th></th>\n",
              "      <th></th>\n",
              "      <th></th>\n",
              "      <th></th>\n",
              "      <th></th>\n",
              "      <th></th>\n",
              "      <th></th>\n",
              "      <th></th>\n",
              "      <th></th>\n",
              "      <th></th>\n",
              "      <th></th>\n",
              "    </tr>\n",
              "  </thead>\n",
              "  <tbody>\n",
              "    <tr>\n",
              "      <th>SS1</th>\n",
              "      <td>male</td>\n",
              "      <td>63</td>\n",
              "      <td>0</td>\n",
              "      <td>6</td>\n",
              "      <td>8</td>\n",
              "      <td>7</td>\n",
              "      <td>5</td>\n",
              "      <td>21</td>\n",
              "      <td>87.50</td>\n",
              "      <td>37.50</td>\n",
              "      <td>NaN</td>\n",
              "    </tr>\n",
              "    <tr>\n",
              "      <th>SS4</th>\n",
              "      <td>female</td>\n",
              "      <td>68</td>\n",
              "      <td>0</td>\n",
              "      <td>11</td>\n",
              "      <td>4</td>\n",
              "      <td>11</td>\n",
              "      <td>5</td>\n",
              "      <td>22</td>\n",
              "      <td>93.75</td>\n",
              "      <td>68.75</td>\n",
              "      <td>NaN</td>\n",
              "    </tr>\n",
              "    <tr>\n",
              "      <th>SS7</th>\n",
              "      <td>female</td>\n",
              "      <td>61</td>\n",
              "      <td>0</td>\n",
              "      <td>8</td>\n",
              "      <td>7</td>\n",
              "      <td>9</td>\n",
              "      <td>6</td>\n",
              "      <td>20</td>\n",
              "      <td>93.75</td>\n",
              "      <td>50.00</td>\n",
              "      <td>NaN</td>\n",
              "    </tr>\n",
              "    <tr>\n",
              "      <th>SS8</th>\n",
              "      <td>female</td>\n",
              "      <td>64</td>\n",
              "      <td>0</td>\n",
              "      <td>10</td>\n",
              "      <td>5</td>\n",
              "      <td>9</td>\n",
              "      <td>7</td>\n",
              "      <td>6</td>\n",
              "      <td>93.75</td>\n",
              "      <td>62.50</td>\n",
              "      <td>NaN</td>\n",
              "    </tr>\n",
              "  </tbody>\n",
              "</table>\n",
              "</div>"
            ],
            "text/plain": [
              "        sex  ages group  IR-FreeR  ...  MoCA  %Encoded  %Retrieval  SOMI stage\n",
              "id                                 ...                                        \n",
              "SS1    male    63     0         6  ...    21     87.50       37.50         NaN\n",
              "SS4  female    68     0        11  ...    22     93.75       68.75         NaN\n",
              "SS7  female    61     0         8  ...    20     93.75       50.00         NaN\n",
              "SS8  female    64     0        10  ...     6     93.75       62.50         NaN\n",
              "\n",
              "[4 rows x 11 columns]"
            ]
          },
          "metadata": {
            "tags": []
          },
          "execution_count": 233
        }
      ]
    },
    {
      "cell_type": "markdown",
      "metadata": {
        "id": "_bLGYKggj4O5",
        "colab_type": "text"
      },
      "source": [
        "* **in depth of MoCA score**\n",
        "\n"
      ]
    },
    {
      "cell_type": "code",
      "metadata": {
        "id": "4HCiqaPDgyf9",
        "colab_type": "code",
        "colab": {}
      },
      "source": [
        "MoCA_RiskFree = MoCA[MoCA['group'] == 0]\n",
        "MoCA_Risk = MoCA[MoCA['group'] == 1]"
      ],
      "execution_count": 0,
      "outputs": []
    },
    {
      "cell_type": "code",
      "metadata": {
        "id": "77SbW-pIhmUP",
        "colab_type": "code",
        "outputId": "ba9bddde-4ad2-40d8-a1ed-818458a380af",
        "colab": {
          "base_uri": "https://localhost:8080/",
          "height": 287
        }
      },
      "source": [
        "MoCA_Risk.describe()"
      ],
      "execution_count": 235,
      "outputs": [
        {
          "output_type": "execute_result",
          "data": {
            "text/html": [
              "<div>\n",
              "<style scoped>\n",
              "    .dataframe tbody tr th:only-of-type {\n",
              "        vertical-align: middle;\n",
              "    }\n",
              "\n",
              "    .dataframe tbody tr th {\n",
              "        vertical-align: top;\n",
              "    }\n",
              "\n",
              "    .dataframe thead th {\n",
              "        text-align: right;\n",
              "    }\n",
              "</style>\n",
              "<table border=\"1\" class=\"dataframe\">\n",
              "  <thead>\n",
              "    <tr style=\"text-align: right;\">\n",
              "      <th></th>\n",
              "      <th>ages</th>\n",
              "      <th>group</th>\n",
              "      <th>VISUO/EXCEUTIVE</th>\n",
              "      <th>NAMING</th>\n",
              "      <th>ATTENTION</th>\n",
              "      <th>LANGUAGE</th>\n",
              "      <th>ABSTRACTION</th>\n",
              "      <th>DELAYED RECALL</th>\n",
              "      <th>ORIENTATION</th>\n",
              "      <th>SUM</th>\n",
              "    </tr>\n",
              "  </thead>\n",
              "  <tbody>\n",
              "    <tr>\n",
              "      <th>count</th>\n",
              "      <td>4.000000</td>\n",
              "      <td>4.0</td>\n",
              "      <td>4.000000</td>\n",
              "      <td>4.00000</td>\n",
              "      <td>4.000000</td>\n",
              "      <td>4.00</td>\n",
              "      <td>4.0</td>\n",
              "      <td>4.0</td>\n",
              "      <td>4.000000</td>\n",
              "      <td>4.00</td>\n",
              "    </tr>\n",
              "    <tr>\n",
              "      <th>mean</th>\n",
              "      <td>68.000000</td>\n",
              "      <td>1.0</td>\n",
              "      <td>1.750000</td>\n",
              "      <td>2.50000</td>\n",
              "      <td>2.000000</td>\n",
              "      <td>0.25</td>\n",
              "      <td>0.0</td>\n",
              "      <td>0.0</td>\n",
              "      <td>4.250000</td>\n",
              "      <td>10.75</td>\n",
              "    </tr>\n",
              "    <tr>\n",
              "      <th>std</th>\n",
              "      <td>6.324555</td>\n",
              "      <td>0.0</td>\n",
              "      <td>1.258306</td>\n",
              "      <td>0.57735</td>\n",
              "      <td>1.154701</td>\n",
              "      <td>0.50</td>\n",
              "      <td>0.0</td>\n",
              "      <td>0.0</td>\n",
              "      <td>2.362908</td>\n",
              "      <td>3.50</td>\n",
              "    </tr>\n",
              "    <tr>\n",
              "      <th>min</th>\n",
              "      <td>60.000000</td>\n",
              "      <td>1.0</td>\n",
              "      <td>0.000000</td>\n",
              "      <td>2.00000</td>\n",
              "      <td>1.000000</td>\n",
              "      <td>0.00</td>\n",
              "      <td>0.0</td>\n",
              "      <td>0.0</td>\n",
              "      <td>1.000000</td>\n",
              "      <td>7.00</td>\n",
              "    </tr>\n",
              "    <tr>\n",
              "      <th>25%</th>\n",
              "      <td>64.500000</td>\n",
              "      <td>1.0</td>\n",
              "      <td>1.500000</td>\n",
              "      <td>2.00000</td>\n",
              "      <td>1.000000</td>\n",
              "      <td>0.00</td>\n",
              "      <td>0.0</td>\n",
              "      <td>0.0</td>\n",
              "      <td>3.250000</td>\n",
              "      <td>8.50</td>\n",
              "    </tr>\n",
              "    <tr>\n",
              "      <th>50%</th>\n",
              "      <td>69.000000</td>\n",
              "      <td>1.0</td>\n",
              "      <td>2.000000</td>\n",
              "      <td>2.50000</td>\n",
              "      <td>2.000000</td>\n",
              "      <td>0.00</td>\n",
              "      <td>0.0</td>\n",
              "      <td>0.0</td>\n",
              "      <td>5.000000</td>\n",
              "      <td>10.50</td>\n",
              "    </tr>\n",
              "    <tr>\n",
              "      <th>75%</th>\n",
              "      <td>72.500000</td>\n",
              "      <td>1.0</td>\n",
              "      <td>2.250000</td>\n",
              "      <td>3.00000</td>\n",
              "      <td>3.000000</td>\n",
              "      <td>0.25</td>\n",
              "      <td>0.0</td>\n",
              "      <td>0.0</td>\n",
              "      <td>6.000000</td>\n",
              "      <td>12.75</td>\n",
              "    </tr>\n",
              "    <tr>\n",
              "      <th>max</th>\n",
              "      <td>74.000000</td>\n",
              "      <td>1.0</td>\n",
              "      <td>3.000000</td>\n",
              "      <td>3.00000</td>\n",
              "      <td>3.000000</td>\n",
              "      <td>1.00</td>\n",
              "      <td>0.0</td>\n",
              "      <td>0.0</td>\n",
              "      <td>6.000000</td>\n",
              "      <td>15.00</td>\n",
              "    </tr>\n",
              "  </tbody>\n",
              "</table>\n",
              "</div>"
            ],
            "text/plain": [
              "            ages  group  VISUO/EXCEUTIVE  ...  DELAYED RECALL  ORIENTATION    SUM\n",
              "count   4.000000    4.0         4.000000  ...             4.0     4.000000   4.00\n",
              "mean   68.000000    1.0         1.750000  ...             0.0     4.250000  10.75\n",
              "std     6.324555    0.0         1.258306  ...             0.0     2.362908   3.50\n",
              "min    60.000000    1.0         0.000000  ...             0.0     1.000000   7.00\n",
              "25%    64.500000    1.0         1.500000  ...             0.0     3.250000   8.50\n",
              "50%    69.000000    1.0         2.000000  ...             0.0     5.000000  10.50\n",
              "75%    72.500000    1.0         2.250000  ...             0.0     6.000000  12.75\n",
              "max    74.000000    1.0         3.000000  ...             0.0     6.000000  15.00\n",
              "\n",
              "[8 rows x 10 columns]"
            ]
          },
          "metadata": {
            "tags": []
          },
          "execution_count": 235
        }
      ]
    },
    {
      "cell_type": "code",
      "metadata": {
        "id": "BYl5yVMQjRD2",
        "colab_type": "code",
        "outputId": "682d6f62-8f67-4056-f25f-f4d7524062ad",
        "colab": {
          "base_uri": "https://localhost:8080/",
          "height": 287
        }
      },
      "source": [
        "MoCA_RiskFree.describe()"
      ],
      "execution_count": 236,
      "outputs": [
        {
          "output_type": "execute_result",
          "data": {
            "text/html": [
              "<div>\n",
              "<style scoped>\n",
              "    .dataframe tbody tr th:only-of-type {\n",
              "        vertical-align: middle;\n",
              "    }\n",
              "\n",
              "    .dataframe tbody tr th {\n",
              "        vertical-align: top;\n",
              "    }\n",
              "\n",
              "    .dataframe thead th {\n",
              "        text-align: right;\n",
              "    }\n",
              "</style>\n",
              "<table border=\"1\" class=\"dataframe\">\n",
              "  <thead>\n",
              "    <tr style=\"text-align: right;\">\n",
              "      <th></th>\n",
              "      <th>ages</th>\n",
              "      <th>group</th>\n",
              "      <th>VISUO/EXCEUTIVE</th>\n",
              "      <th>NAMING</th>\n",
              "      <th>ATTENTION</th>\n",
              "      <th>LANGUAGE</th>\n",
              "      <th>ABSTRACTION</th>\n",
              "      <th>DELAYED RECALL</th>\n",
              "      <th>ORIENTATION</th>\n",
              "      <th>SUM</th>\n",
              "    </tr>\n",
              "  </thead>\n",
              "  <tbody>\n",
              "    <tr>\n",
              "      <th>count</th>\n",
              "      <td>4.00000</td>\n",
              "      <td>4.0</td>\n",
              "      <td>4.00000</td>\n",
              "      <td>4.0</td>\n",
              "      <td>4.000000</td>\n",
              "      <td>4.00</td>\n",
              "      <td>4.00000</td>\n",
              "      <td>4.000000</td>\n",
              "      <td>4.00000</td>\n",
              "      <td>4.000000</td>\n",
              "    </tr>\n",
              "    <tr>\n",
              "      <th>mean</th>\n",
              "      <td>64.00000</td>\n",
              "      <td>0.0</td>\n",
              "      <td>4.50000</td>\n",
              "      <td>3.0</td>\n",
              "      <td>4.750000</td>\n",
              "      <td>1.75</td>\n",
              "      <td>0.50000</td>\n",
              "      <td>2.500000</td>\n",
              "      <td>5.50000</td>\n",
              "      <td>17.250000</td>\n",
              "    </tr>\n",
              "    <tr>\n",
              "      <th>std</th>\n",
              "      <td>2.94392</td>\n",
              "      <td>0.0</td>\n",
              "      <td>0.57735</td>\n",
              "      <td>0.0</td>\n",
              "      <td>0.957427</td>\n",
              "      <td>0.50</td>\n",
              "      <td>0.57735</td>\n",
              "      <td>2.081666</td>\n",
              "      <td>0.57735</td>\n",
              "      <td>7.544314</td>\n",
              "    </tr>\n",
              "    <tr>\n",
              "      <th>min</th>\n",
              "      <td>61.00000</td>\n",
              "      <td>0.0</td>\n",
              "      <td>4.00000</td>\n",
              "      <td>3.0</td>\n",
              "      <td>4.000000</td>\n",
              "      <td>1.00</td>\n",
              "      <td>0.00000</td>\n",
              "      <td>0.000000</td>\n",
              "      <td>5.00000</td>\n",
              "      <td>6.000000</td>\n",
              "    </tr>\n",
              "    <tr>\n",
              "      <th>25%</th>\n",
              "      <td>62.50000</td>\n",
              "      <td>0.0</td>\n",
              "      <td>4.00000</td>\n",
              "      <td>3.0</td>\n",
              "      <td>4.000000</td>\n",
              "      <td>1.75</td>\n",
              "      <td>0.00000</td>\n",
              "      <td>1.500000</td>\n",
              "      <td>5.00000</td>\n",
              "      <td>16.500000</td>\n",
              "    </tr>\n",
              "    <tr>\n",
              "      <th>50%</th>\n",
              "      <td>63.50000</td>\n",
              "      <td>0.0</td>\n",
              "      <td>4.50000</td>\n",
              "      <td>3.0</td>\n",
              "      <td>4.500000</td>\n",
              "      <td>2.00</td>\n",
              "      <td>0.50000</td>\n",
              "      <td>2.500000</td>\n",
              "      <td>5.50000</td>\n",
              "      <td>20.500000</td>\n",
              "    </tr>\n",
              "    <tr>\n",
              "      <th>75%</th>\n",
              "      <td>65.00000</td>\n",
              "      <td>0.0</td>\n",
              "      <td>5.00000</td>\n",
              "      <td>3.0</td>\n",
              "      <td>5.250000</td>\n",
              "      <td>2.00</td>\n",
              "      <td>1.00000</td>\n",
              "      <td>3.500000</td>\n",
              "      <td>6.00000</td>\n",
              "      <td>21.250000</td>\n",
              "    </tr>\n",
              "    <tr>\n",
              "      <th>max</th>\n",
              "      <td>68.00000</td>\n",
              "      <td>0.0</td>\n",
              "      <td>5.00000</td>\n",
              "      <td>3.0</td>\n",
              "      <td>6.000000</td>\n",
              "      <td>2.00</td>\n",
              "      <td>1.00000</td>\n",
              "      <td>5.000000</td>\n",
              "      <td>6.00000</td>\n",
              "      <td>22.000000</td>\n",
              "    </tr>\n",
              "  </tbody>\n",
              "</table>\n",
              "</div>"
            ],
            "text/plain": [
              "           ages  group  VISUO/EXCEUTIVE  ...  DELAYED RECALL  ORIENTATION        SUM\n",
              "count   4.00000    4.0          4.00000  ...        4.000000      4.00000   4.000000\n",
              "mean   64.00000    0.0          4.50000  ...        2.500000      5.50000  17.250000\n",
              "std     2.94392    0.0          0.57735  ...        2.081666      0.57735   7.544314\n",
              "min    61.00000    0.0          4.00000  ...        0.000000      5.00000   6.000000\n",
              "25%    62.50000    0.0          4.00000  ...        1.500000      5.00000  16.500000\n",
              "50%    63.50000    0.0          4.50000  ...        2.500000      5.50000  20.500000\n",
              "75%    65.00000    0.0          5.00000  ...        3.500000      6.00000  21.250000\n",
              "max    68.00000    0.0          5.00000  ...        5.000000      6.00000  22.000000\n",
              "\n",
              "[8 rows x 10 columns]"
            ]
          },
          "metadata": {
            "tags": []
          },
          "execution_count": 236
        }
      ]
    },
    {
      "cell_type": "markdown",
      "metadata": {
        "id": "dJ6Z5aT8Ykrt",
        "colab_type": "text"
      },
      "source": [
        "\n",
        "\n",
        "*   **Graph**\n",
        "\n"
      ]
    },
    {
      "cell_type": "code",
      "metadata": {
        "id": "-LxVtKISNPNT",
        "colab_type": "code",
        "colab": {
          "base_uri": "https://localhost:8080/",
          "height": 167
        },
        "outputId": "3924ec10-4838-4e97-8e6c-43c0f4d67e52"
      },
      "source": [
        "plot_cog_risk = Cog_Risk.drop(['sex', 'ages', 'group', 'MoCA', '%Encoded', '%Retrieval',\t'SOMI stage'], axis =1)\n",
        "plot_cog_riskfree = Cog_RiskFree.drop(['sex', 'ages', 'group', 'MoCA', '%Encoded', '%Retrieval',\t'SOMI stage'], axis =1)\n",
        "\n",
        "plot_cog_risk = plot_cog_risk.transpose()\n",
        "plot_cog_risk = plot_cog_risk.reset_index()\n",
        "\n",
        "plot_cog_riskfree = plot_cog_riskfree.transpose()\n",
        "plot_cog_riskfree = plot_cog_riskfree.reset_index()\n",
        "plot_cog_riskfree"
      ],
      "execution_count": 239,
      "outputs": [
        {
          "output_type": "execute_result",
          "data": {
            "text/html": [
              "<div>\n",
              "<style scoped>\n",
              "    .dataframe tbody tr th:only-of-type {\n",
              "        vertical-align: middle;\n",
              "    }\n",
              "\n",
              "    .dataframe tbody tr th {\n",
              "        vertical-align: top;\n",
              "    }\n",
              "\n",
              "    .dataframe thead th {\n",
              "        text-align: right;\n",
              "    }\n",
              "</style>\n",
              "<table border=\"1\" class=\"dataframe\">\n",
              "  <thead>\n",
              "    <tr style=\"text-align: right;\">\n",
              "      <th>id</th>\n",
              "      <th>index</th>\n",
              "      <th>SS1</th>\n",
              "      <th>SS4</th>\n",
              "      <th>SS7</th>\n",
              "      <th>SS8</th>\n",
              "    </tr>\n",
              "  </thead>\n",
              "  <tbody>\n",
              "    <tr>\n",
              "      <th>0</th>\n",
              "      <td>IR-FreeR</td>\n",
              "      <td>6</td>\n",
              "      <td>11</td>\n",
              "      <td>8</td>\n",
              "      <td>10</td>\n",
              "    </tr>\n",
              "    <tr>\n",
              "      <th>1</th>\n",
              "      <td>IR-CuedR</td>\n",
              "      <td>8</td>\n",
              "      <td>4</td>\n",
              "      <td>7</td>\n",
              "      <td>5</td>\n",
              "    </tr>\n",
              "    <tr>\n",
              "      <th>2</th>\n",
              "      <td>DL-FreeR</td>\n",
              "      <td>7</td>\n",
              "      <td>11</td>\n",
              "      <td>9</td>\n",
              "      <td>9</td>\n",
              "    </tr>\n",
              "    <tr>\n",
              "      <th>3</th>\n",
              "      <td>DL-CuedR</td>\n",
              "      <td>5</td>\n",
              "      <td>5</td>\n",
              "      <td>6</td>\n",
              "      <td>7</td>\n",
              "    </tr>\n",
              "  </tbody>\n",
              "</table>\n",
              "</div>"
            ],
            "text/plain": [
              "id     index  SS1  SS4  SS7  SS8\n",
              "0   IR-FreeR    6   11    8   10\n",
              "1   IR-CuedR    8    4    7    5\n",
              "2   DL-FreeR    7   11    9    9\n",
              "3   DL-CuedR    5    5    6    7"
            ]
          },
          "metadata": {
            "tags": []
          },
          "execution_count": 239
        }
      ]
    },
    {
      "cell_type": "code",
      "metadata": {
        "id": "9vTXUUtyYppL",
        "colab_type": "code",
        "colab": {
          "base_uri": "https://localhost:8080/",
          "height": 573
        },
        "outputId": "3798e807-d9ac-413a-8bef-f4d5b1020a73"
      },
      "source": [
        "columns_risk = plot_cog_risk.drop(['index'], axis = 1)\n",
        "columns_riskfree = plot_cog_riskfree.drop(['index'], axis = 1)\n",
        "\n",
        "#Risk group\n",
        "fig, ax = plt.subplots()\n",
        "for subjects in columns_risk:\n",
        "    ax.plot(plot_cog_risk['index'], plot_cog_risk[subjects])\n",
        "ax.set_title('Compare FCSRT score each subjects in risk group')\n",
        "ax.set_xlabel('Phases')\n",
        "ax.set_ylabel('Scores')\n",
        "plt.savefig('/content/drive/My Drive/My Project/Senior Project-Dementia/Results/Graphs/Compare FCSRT score each subjects in risk group.png')\n",
        "\n",
        "#Normal group\n",
        "fig, ax = plt.subplots()\n",
        "for subjects in columns_riskfree:\n",
        "    ax.plot(plot_cog_riskfree['index'], plot_cog_riskfree[subjects])\n",
        "ax.set_title('Compare FCSRT score each subjects in normal group')\n",
        "ax.set_xlabel('Phases')\n",
        "ax.set_ylabel('Scores')\n",
        "plt.savefig('/content/drive/My Drive/My Project/Senior Project-Dementia/Results/Graphs/Compare FCSRT score each subjects in normal group.png')"
      ],
      "execution_count": 240,
      "outputs": [
        {
          "output_type": "display_data",
          "data": {
            "image/png": "[encoded data removed]",
            "text/plain": [
              "<Figure size 432x288 with 1 Axes>"
            ]
          },
          "metadata": {
            "tags": [],
            "needs_background": "light"
          }
        },
        {
          "output_type": "display_data",
          "data": {
            "image/png": "[encoded data removed]",
            "text/plain": [
              "<Figure size 432x288 with 1 Axes>"
            ]
          },
          "metadata": {
            "tags": [],
            "needs_background": "light"
          }
        }
      ]
    },
    {
      "cell_type": "code",
      "metadata": {
        "id": "52ZGjiuxUp2v",
        "colab_type": "code",
        "colab": {}
      },
      "source": [
        "plot_cog_risk['mean'] = plot_cog_risk.mean(axis = 1)\n",
        "plot_cog_riskfree['mean'] = plot_cog_riskfree.mean(axis = 1)"
      ],
      "execution_count": 0,
      "outputs": []
    },
    {
      "cell_type": "code",
      "metadata": {
        "id": "7kvKtfVplrB8",
        "colab_type": "code",
        "colab": {
          "base_uri": "https://localhost:8080/",
          "height": 294
        },
        "outputId": "ac22144d-f750-4ecb-d6f6-51245b191042"
      },
      "source": [
        "#Mean\n",
        "fig, ax = plt.subplots()\n",
        "ax.plot(plot_cog_risk['index'], plot_cog_risk['mean'], label = 'Risk group')\n",
        "ax.plot(plot_cog_riskfree['index'], plot_cog_riskfree['mean'], label = 'Risk free group')\n",
        "ax.set_title('Compare FCSRT score each group')\n",
        "ax.set_xlabel('Phases')\n",
        "ax.set_ylabel('Scores')\n",
        "ax.legend()\n",
        "plt.savefig('/content/drive/My Drive/My Project/Senior Project-Dementia/Results/Graphs/Compare FCSRT score each group.png')"
      ],
      "execution_count": 246,
      "outputs": [
        {
          "output_type": "display_data",
          "data": {
            "image/png": "[encoded data removed]",
            "text/plain": [
              "<Figure size 432x288 with 1 Axes>"
            ]
          },
          "metadata": {
            "tags": [],
            "needs_background": "light"
          }
        }
      ]
    },
    {
      "cell_type": "markdown",
      "metadata": {
        "id": "uJQB3TVRHuj0",
        "colab_type": "text"
      },
      "source": [
        "####**Biomarkers**"
      ]
    },
    {
      "cell_type": "code",
      "metadata": {
        "id": "OUcTdSBsMC7C",
        "colab_type": "code",
        "outputId": "9db31ea2-fed2-459a-b8c9-fdddf7d0f3e6",
        "colab": {
          "base_uri": "https://localhost:8080/",
          "height": 317
        }
      },
      "source": [
        "features = pd.read_csv('EEG_features.csv')\n",
        "features.drop(['Unnamed: 0'], inplace = True, axis = 1)\n",
        "Biomarkers = pd.concat([df, features], axis = 1)\n",
        "Biomarkers.set_index('id', inplace = True)\n",
        "Biomarkers"
      ],
      "execution_count": 208,
      "outputs": [
        {
          "output_type": "execute_result",
          "data": {
            "text/html": [
              "<div>\n",
              "<style scoped>\n",
              "    .dataframe tbody tr th:only-of-type {\n",
              "        vertical-align: middle;\n",
              "    }\n",
              "\n",
              "    .dataframe tbody tr th {\n",
              "        vertical-align: top;\n",
              "    }\n",
              "\n",
              "    .dataframe thead th {\n",
              "        text-align: right;\n",
              "    }\n",
              "</style>\n",
              "<table border=\"1\" class=\"dataframe\">\n",
              "  <thead>\n",
              "    <tr style=\"text-align: right;\">\n",
              "      <th></th>\n",
              "      <th>sex</th>\n",
              "      <th>ages</th>\n",
              "      <th>group</th>\n",
              "      <th>PSD_Delta</th>\n",
              "      <th>PSD_Theta</th>\n",
              "      <th>PSD_Alpha</th>\n",
              "      <th>PSD_Beta</th>\n",
              "      <th>PSD_Gamma</th>\n",
              "      <th>MSF</th>\n",
              "      <th>SE</th>\n",
              "      <th>AC</th>\n",
              "      <th>wSMI_Alpha</th>\n",
              "      <th>wSMI_Theta</th>\n",
              "    </tr>\n",
              "    <tr>\n",
              "      <th>id</th>\n",
              "      <th></th>\n",
              "      <th></th>\n",
              "      <th></th>\n",
              "      <th></th>\n",
              "      <th></th>\n",
              "      <th></th>\n",
              "      <th></th>\n",
              "      <th></th>\n",
              "      <th></th>\n",
              "      <th></th>\n",
              "      <th></th>\n",
              "      <th></th>\n",
              "      <th></th>\n",
              "    </tr>\n",
              "  </thead>\n",
              "  <tbody>\n",
              "    <tr>\n",
              "      <th>SS1</th>\n",
              "      <td>male</td>\n",
              "      <td>63</td>\n",
              "      <td>0</td>\n",
              "      <td>8.191509e-14</td>\n",
              "      <td>6.892579e-13</td>\n",
              "      <td>6.892579e-13</td>\n",
              "      <td>2.206398e-13</td>\n",
              "      <td>9.171605e-14</td>\n",
              "      <td>1.674815e-13</td>\n",
              "      <td>2.513122</td>\n",
              "      <td>0.047027</td>\n",
              "      <td>0.069328</td>\n",
              "      <td>0.034951</td>\n",
              "    </tr>\n",
              "    <tr>\n",
              "      <th>SS2</th>\n",
              "      <td>female</td>\n",
              "      <td>60</td>\n",
              "      <td>1</td>\n",
              "      <td>1.159327e-13</td>\n",
              "      <td>9.541812e-13</td>\n",
              "      <td>9.541812e-13</td>\n",
              "      <td>5.450232e-13</td>\n",
              "      <td>1.249077e-13</td>\n",
              "      <td>2.717361e-13</td>\n",
              "      <td>2.476574</td>\n",
              "      <td>0.052528</td>\n",
              "      <td>0.065172</td>\n",
              "      <td>0.032267</td>\n",
              "    </tr>\n",
              "    <tr>\n",
              "      <th>SS3</th>\n",
              "      <td>female</td>\n",
              "      <td>66</td>\n",
              "      <td>1</td>\n",
              "      <td>9.004434e-14</td>\n",
              "      <td>7.554926e-13</td>\n",
              "      <td>7.554926e-13</td>\n",
              "      <td>5.202362e-13</td>\n",
              "      <td>5.302625e-13</td>\n",
              "      <td>4.418246e-13</td>\n",
              "      <td>2.483961</td>\n",
              "      <td>0.064709</td>\n",
              "      <td>0.060440</td>\n",
              "      <td>0.028957</td>\n",
              "    </tr>\n",
              "    <tr>\n",
              "      <th>SS4</th>\n",
              "      <td>female</td>\n",
              "      <td>68</td>\n",
              "      <td>0</td>\n",
              "      <td>9.099951e-14</td>\n",
              "      <td>1.023456e-12</td>\n",
              "      <td>1.023456e-12</td>\n",
              "      <td>4.707961e-13</td>\n",
              "      <td>2.931868e-13</td>\n",
              "      <td>3.786596e-13</td>\n",
              "      <td>2.476574</td>\n",
              "      <td>0.051643</td>\n",
              "      <td>0.051035</td>\n",
              "      <td>0.026086</td>\n",
              "    </tr>\n",
              "    <tr>\n",
              "      <th>SS5</th>\n",
              "      <td>female</td>\n",
              "      <td>72</td>\n",
              "      <td>1</td>\n",
              "      <td>1.059632e-13</td>\n",
              "      <td>9.294080e-13</td>\n",
              "      <td>9.294080e-13</td>\n",
              "      <td>5.621714e-13</td>\n",
              "      <td>1.519682e-13</td>\n",
              "      <td>2.856214e-13</td>\n",
              "      <td>2.407455</td>\n",
              "      <td>0.059398</td>\n",
              "      <td>0.065278</td>\n",
              "      <td>0.031481</td>\n",
              "    </tr>\n",
              "    <tr>\n",
              "      <th>SS6</th>\n",
              "      <td>female</td>\n",
              "      <td>74</td>\n",
              "      <td>1</td>\n",
              "      <td>5.203354e-14</td>\n",
              "      <td>4.367775e-13</td>\n",
              "      <td>4.367775e-13</td>\n",
              "      <td>1.945097e-13</td>\n",
              "      <td>9.020467e-14</td>\n",
              "      <td>1.481936e-13</td>\n",
              "      <td>2.407455</td>\n",
              "      <td>0.054304</td>\n",
              "      <td>0.067014</td>\n",
              "      <td>0.032455</td>\n",
              "    </tr>\n",
              "    <tr>\n",
              "      <th>SS7</th>\n",
              "      <td>female</td>\n",
              "      <td>61</td>\n",
              "      <td>0</td>\n",
              "      <td>1.679208e-13</td>\n",
              "      <td>1.454488e-12</td>\n",
              "      <td>1.454488e-12</td>\n",
              "      <td>8.374338e-13</td>\n",
              "      <td>5.455973e-13</td>\n",
              "      <td>6.437365e-13</td>\n",
              "      <td>2.492098</td>\n",
              "      <td>0.055813</td>\n",
              "      <td>0.064430</td>\n",
              "      <td>0.031130</td>\n",
              "    </tr>\n",
              "    <tr>\n",
              "      <th>SS8</th>\n",
              "      <td>female</td>\n",
              "      <td>64</td>\n",
              "      <td>0</td>\n",
              "      <td>6.228747e-14</td>\n",
              "      <td>5.084000e-13</td>\n",
              "      <td>5.084000e-13</td>\n",
              "      <td>3.189277e-13</td>\n",
              "      <td>2.124069e-13</td>\n",
              "      <td>2.546724e-13</td>\n",
              "      <td>2.407455</td>\n",
              "      <td>0.065214</td>\n",
              "      <td>0.063654</td>\n",
              "      <td>0.031456</td>\n",
              "    </tr>\n",
              "  </tbody>\n",
              "</table>\n",
              "</div>"
            ],
            "text/plain": [
              "        sex  ages  group  ...        AC  wSMI_Alpha  wSMI_Theta\n",
              "id                        ...                                  \n",
              "SS1    male    63      0  ...  0.047027    0.069328    0.034951\n",
              "SS2  female    60      1  ...  0.052528    0.065172    0.032267\n",
              "SS3  female    66      1  ...  0.064709    0.060440    0.028957\n",
              "SS4  female    68      0  ...  0.051643    0.051035    0.026086\n",
              "SS5  female    72      1  ...  0.059398    0.065278    0.031481\n",
              "SS6  female    74      1  ...  0.054304    0.067014    0.032455\n",
              "SS7  female    61      0  ...  0.055813    0.064430    0.031130\n",
              "SS8  female    64      0  ...  0.065214    0.063654    0.031456\n",
              "\n",
              "[8 rows x 13 columns]"
            ]
          },
          "metadata": {
            "tags": []
          },
          "execution_count": 208
        }
      ]
    },
    {
      "cell_type": "markdown",
      "metadata": {
        "id": "Wu2vfKfwRzX1",
        "colab_type": "text"
      },
      "source": [
        "* **PSD Graph**"
      ]
    },
    {
      "cell_type": "code",
      "metadata": {
        "id": "kIuTMNSpRyKc",
        "colab_type": "code",
        "colab": {}
      },
      "source": [
        "Bio_N = Biomarkers[Biomarkers['group'] == 0]\n",
        "Bio_R = Biomarkers[Biomarkers['group'] == 1]\n",
        "\n",
        "plot_bio_r = Bio_R.drop(['sex', 'ages', 'group'], axis =1)\n",
        "plot_bio_n = Bio_N.drop(['sex', 'ages', 'group'], axis =1)\n",
        "\n",
        "plot_bio_r = plot_bio_r.transpose()\n",
        "plot_bio_r = plot_bio_r.reset_index()\n",
        "plot_bio_r = plot_bio_r.loc[0:4]\n",
        "\n",
        "plot_bio_n = plot_bio_n.transpose()\n",
        "plot_bio_n = plot_bio_n.reset_index()\n",
        "plot_bio_n = plot_bio_n.loc[0:4]"
      ],
      "execution_count": 0,
      "outputs": []
    },
    {
      "cell_type": "code",
      "metadata": {
        "id": "2qVI6Z6WToF9",
        "colab_type": "code",
        "colab": {}
      },
      "source": [
        "plot_bio_r['mean'] = plot_bio_r.mean(axis = 1)\n",
        "plot_bio_n['mean'] = plot_bio_n.mean(axis = 1)"
      ],
      "execution_count": 0,
      "outputs": []
    },
    {
      "cell_type": "code",
      "metadata": {
        "id": "mmEN3mtMS1yA",
        "colab_type": "code",
        "colab": {
          "base_uri": "https://localhost:8080/",
          "height": 295
        },
        "outputId": "d2548618-f124-4fc3-ebf7-b298b71a2215"
      },
      "source": [
        "#Mean\n",
        "fig, ax = plt.subplots()\n",
        "ax.plot(plot_bio_r['index'], plot_bio_r['mean'], label = 'Risk group')\n",
        "ax.plot(plot_bio_n['index'], plot_bio_n['mean'], label = 'Normal group')\n",
        "ax.set_title('Compare PSD score of each group')\n",
        "ax.set_xlabel('PSDs')\n",
        "ax.legend()\n",
        "plt.savefig('/content/drive/My Drive/My Project/Senior Project-Dementia/Results/Graphs/Compare FCSRT score each group.png')"
      ],
      "execution_count": 254,
      "outputs": [
        {
          "output_type": "display_data",
          "data": {
            "image/png": "[encoded data removed]",
            "text/plain": [
              "<Figure size 432x288 with 1 Axes>"
            ]
          },
          "metadata": {
            "tags": [],
            "needs_background": "light"
          }
        }
      ]
    },
    {
      "cell_type": "markdown",
      "metadata": {
        "id": "jvcoYCpD0CPJ",
        "colab_type": "text"
      },
      "source": [
        "# **Inferencial Statistics**"
      ]
    },
    {
      "cell_type": "markdown",
      "metadata": {
        "id": "2LwVZMrm0N-V",
        "colab_type": "text"
      },
      "source": [
        "####**Cognitive Markers**"
      ]
    },
    {
      "cell_type": "code",
      "metadata": {
        "id": "rLXeGe8-0gMo",
        "colab_type": "code",
        "colab": {}
      },
      "source": [
        "import scipy\n",
        "import matplotlib.pyplot as plt"
      ],
      "execution_count": 0,
      "outputs": []
    },
    {
      "cell_type": "markdown",
      "metadata": {
        "id": "ZA-7ED631eyk",
        "colab_type": "text"
      },
      "source": [
        "* 1-way ANOVA (Risk vs Free Risk)\n",
        "\n"
      ]
    },
    {
      "cell_type": "code",
      "metadata": {
        "id": "X0sAfFOv0WrE",
        "colab_type": "code",
        "outputId": "334520e3-95f0-4100-8a57-a938656177a7",
        "colab": {
          "base_uri": "https://localhost:8080/",
          "height": 52
        }
      },
      "source": [
        "#Encoding\n",
        "print(scipy.stats.f_oneway(Cog_Risk['IR-CuedR'], Cog_RiskFree['IR-CuedR'])) #sig\n",
        "\n",
        "#Retrieval\n",
        "print(scipy.stats.f_oneway(Cog_Risk['IR-FreeR'], Cog_RiskFree['IR-FreeR'])) #sig"
      ],
      "execution_count": 202,
      "outputs": [
        {
          "output_type": "stream",
          "text": [
            "F_onewayResult(statistic=3.4186046511627906, pvalue=0.11395633124158694)\n",
            "F_onewayResult(statistic=0.023622047244094488, pvalue=0.8828895569688998)\n"
          ],
          "name": "stdout"
        }
      ]
    },
    {
      "cell_type": "code",
      "metadata": {
        "id": "UKqP6aE17_AF",
        "colab_type": "code",
        "outputId": "8cf3d46b-9d9d-4374-dc00-fdd6d7a7ec44",
        "colab": {
          "base_uri": "https://localhost:8080/",
          "height": 105
        }
      },
      "source": [
        "CogMarkers2 = CogMarkers\n",
        "CogMarkers2['group'][CogMarkers2['group'] == 0] = 'Normal'\n",
        "CogMarkers2['group'][CogMarkers2['group'] == 1] = 'Risk'"
      ],
      "execution_count": 0,
      "outputs": [
        {
          "output_type": "stream",
          "text": [
            "/usr/local/lib/python3.6/dist-packages/ipykernel_launcher.py:2: SettingWithCopyWarning: \n",
            "A value is trying to be set on a copy of a slice from a DataFrame\n",
            "\n",
            "See the caveats in the documentation: https://pandas.pydata.org/pandas-docs/stable/user_guide/indexing.html#returning-a-view-versus-a-copy\n",
            "  \n"
          ],
          "name": "stderr"
        }
      ]
    },
    {
      "cell_type": "code",
      "metadata": {
        "id": "YoMmY2EJ9OVg",
        "colab_type": "code",
        "outputId": "6b968f55-2098-48d7-b11f-1215d7fcb230",
        "colab": {
          "base_uri": "https://localhost:8080/",
          "height": 287
        }
      },
      "source": [
        "CogMarkers2"
      ],
      "execution_count": 0,
      "outputs": [
        {
          "output_type": "execute_result",
          "data": {
            "text/html": [
              "<div>\n",
              "<style scoped>\n",
              "    .dataframe tbody tr th:only-of-type {\n",
              "        vertical-align: middle;\n",
              "    }\n",
              "\n",
              "    .dataframe tbody tr th {\n",
              "        vertical-align: top;\n",
              "    }\n",
              "\n",
              "    .dataframe thead th {\n",
              "        text-align: right;\n",
              "    }\n",
              "</style>\n",
              "<table border=\"1\" class=\"dataframe\">\n",
              "  <thead>\n",
              "    <tr style=\"text-align: right;\">\n",
              "      <th></th>\n",
              "      <th>sex</th>\n",
              "      <th>ages</th>\n",
              "      <th>group</th>\n",
              "      <th>IR-FreeR</th>\n",
              "      <th>IR-CuedR</th>\n",
              "      <th>DL-FreeR</th>\n",
              "      <th>DL-CuedR</th>\n",
              "      <th>MoCA</th>\n",
              "    </tr>\n",
              "  </thead>\n",
              "  <tbody>\n",
              "    <tr>\n",
              "      <th>0</th>\n",
              "      <td>male</td>\n",
              "      <td>63</td>\n",
              "      <td>Normal</td>\n",
              "      <td>6</td>\n",
              "      <td>8</td>\n",
              "      <td>7</td>\n",
              "      <td>5</td>\n",
              "      <td>21</td>\n",
              "    </tr>\n",
              "    <tr>\n",
              "      <th>1</th>\n",
              "      <td>female</td>\n",
              "      <td>60</td>\n",
              "      <td>Risk</td>\n",
              "      <td>7</td>\n",
              "      <td>5</td>\n",
              "      <td>9</td>\n",
              "      <td>5</td>\n",
              "      <td>7</td>\n",
              "    </tr>\n",
              "    <tr>\n",
              "      <th>2</th>\n",
              "      <td>female</td>\n",
              "      <td>66</td>\n",
              "      <td>Risk</td>\n",
              "      <td>11</td>\n",
              "      <td>4</td>\n",
              "      <td>11</td>\n",
              "      <td>4</td>\n",
              "      <td>9</td>\n",
              "    </tr>\n",
              "    <tr>\n",
              "      <th>3</th>\n",
              "      <td>female</td>\n",
              "      <td>68</td>\n",
              "      <td>Normal</td>\n",
              "      <td>11</td>\n",
              "      <td>4</td>\n",
              "      <td>11</td>\n",
              "      <td>5</td>\n",
              "      <td>22</td>\n",
              "    </tr>\n",
              "    <tr>\n",
              "      <th>4</th>\n",
              "      <td>female</td>\n",
              "      <td>72</td>\n",
              "      <td>Risk</td>\n",
              "      <td>10</td>\n",
              "      <td>4</td>\n",
              "      <td>7</td>\n",
              "      <td>7</td>\n",
              "      <td>12</td>\n",
              "    </tr>\n",
              "    <tr>\n",
              "      <th>5</th>\n",
              "      <td>female</td>\n",
              "      <td>74</td>\n",
              "      <td>Risk</td>\n",
              "      <td>6</td>\n",
              "      <td>4</td>\n",
              "      <td>6</td>\n",
              "      <td>4</td>\n",
              "      <td>15</td>\n",
              "    </tr>\n",
              "    <tr>\n",
              "      <th>6</th>\n",
              "      <td>female</td>\n",
              "      <td>61</td>\n",
              "      <td>Normal</td>\n",
              "      <td>8</td>\n",
              "      <td>7</td>\n",
              "      <td>9</td>\n",
              "      <td>6</td>\n",
              "      <td>20</td>\n",
              "    </tr>\n",
              "    <tr>\n",
              "      <th>7</th>\n",
              "      <td>female</td>\n",
              "      <td>64</td>\n",
              "      <td>Normal</td>\n",
              "      <td>10</td>\n",
              "      <td>5</td>\n",
              "      <td>9</td>\n",
              "      <td>7</td>\n",
              "      <td>6</td>\n",
              "    </tr>\n",
              "  </tbody>\n",
              "</table>\n",
              "</div>"
            ],
            "text/plain": [
              "      sex  ages   group  IR-FreeR  IR-CuedR  DL-FreeR  DL-CuedR  MoCA\n",
              "0    male    63  Normal         6         8         7         5    21\n",
              "1  female    60    Risk         7         5         9         5     7\n",
              "2  female    66    Risk        11         4        11         4     9\n",
              "3  female    68  Normal        11         4        11         5    22\n",
              "4  female    72    Risk        10         4         7         7    12\n",
              "5  female    74    Risk         6         4         6         4    15\n",
              "6  female    61  Normal         8         7         9         6    20\n",
              "7  female    64  Normal        10         5         9         7     6"
            ]
          },
          "metadata": {
            "tags": []
          },
          "execution_count": 78
        }
      ]
    },
    {
      "cell_type": "code",
      "metadata": {
        "id": "mksrZk3S3OgP",
        "colab_type": "code",
        "outputId": "67e138b7-e4d4-4a88-f7bc-fdc58f670460",
        "colab": {
          "base_uri": "https://localhost:8080/",
          "height": 437
        }
      },
      "source": [
        "CogMarkers2.boxplot(column = ['IR-CuedR'], by = ['group'], grid = False, figsize = (8,6))\n",
        "plt.title(None)\n",
        "plt.xlabel('Group')\n",
        "plt.ylabel('IR-Cued Recall')\n",
        "plt.legend()\n",
        "plt.show()"
      ],
      "execution_count": 0,
      "outputs": [
        {
          "output_type": "stream",
          "text": [
            "No handles with labels found to put in legend.\n"
          ],
          "name": "stderr"
        },
        {
          "output_type": "display_data",
          "data": {
            "image/png": "[encoded data removed]",
            "text/plain": [
              "<Figure size 576x432 with 1 Axes>"
            ]
          },
          "metadata": {
            "tags": [],
            "needs_background": "light"
          }
        }
      ]
    },
    {
      "cell_type": "markdown",
      "metadata": {
        "id": "wIB7TTnb0OHg",
        "colab_type": "text"
      },
      "source": [
        "####**Biomarkers**"
      ]
    }
  ]
}