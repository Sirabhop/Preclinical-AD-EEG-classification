{
  "nbformat": 4,
  "nbformat_minor": 0,
  "metadata": {
    "colab": {
      "name": "Machine_Learning_Modeling",
      "provenance": [],
      "machine_shape": "hm",
      "authorship_tag": "ABX9TyNfOSgPTLc+wDgXBydfEKF/",
      "include_colab_link": true
    },
    "kernelspec": {
      "name": "python3",
      "display_name": "Python 3"
    }
  },
  "cells": [
    {
      "cell_type": "markdown",
      "metadata": {
        "id": "view-in-github",
        "colab_type": "text"
      },
      "source": [
        "<a href=\"https://colab.research.google.com/github/Sirabhop/Preclinical-AD-EEG-classification/blob/master/Machine_Learning_Modeling.ipynb\" target=\"_parent\"><img src=\"https://colab.research.google.com/assets/colab-badge.svg\" alt=\"Open In Colab\"/></a>"
      ]
    },
    {
      "cell_type": "code",
      "metadata": {
        "id": "dxpsi-8HGp64",
        "colab_type": "code",
        "colab": {}
      },
      "source": [
        "from google.colab import drive\n",
        "import os\n",
        "import pandas as pd\n",
        "import numpy as np"
      ],
      "execution_count": 0,
      "outputs": []
    },
    {
      "cell_type": "code",
      "metadata": {
        "id": "Vd82B0RsNCUD",
        "colab_type": "code",
        "outputId": "8aa0fb4c-08c3-47c0-ccdd-866176105cab",
        "colab": {
          "base_uri": "https://localhost:8080/",
          "height": 125
        }
      },
      "source": [
        "drive.mount('/content/drive')"
      ],
      "execution_count": 3,
      "outputs": [
        {
          "output_type": "stream",
          "text": [
            "Go to this URL in a browser: https://accounts.google.com/o/oauth2/auth?client_id=947318989803-6bn6qk8qdgf4n4g3pfee6491hc0brc4i.apps.googleusercontent.com&redirect_uri=urn%3aietf%3awg%3aoauth%3a2.0%3aoob&response_type=code&scope=email%20https%3a%2f%2fwww.googleapis.com%2fauth%2fdocs.test%20https%3a%2f%2fwww.googleapis.com%2fauth%2fdrive%20https%3a%2f%2fwww.googleapis.com%2fauth%2fdrive.photos.readonly%20https%3a%2f%2fwww.googleapis.com%2fauth%2fpeopleapi.readonly\n",
            "\n",
            "Enter your authorization code:\n",
            "··········\n",
            "Mounted at /content/drive\n"
          ],
          "name": "stdout"
        }
      ]
    },
    {
      "cell_type": "code",
      "metadata": {
        "id": "NuuHyQCDM1jp",
        "colab_type": "code",
        "outputId": "6e1223ec-78f1-4833-e063-31c9b93bab64",
        "colab": {
          "base_uri": "https://localhost:8080/",
          "height": 34
        }
      },
      "source": [
        "#Set working directory and import cookbook\n",
        "os.chdir(\"/content/drive/My Drive/Colab Notebooks/\")\n",
        "\n",
        "#Download eeg feature extraction function\n",
        "%run EEG_Feature_Extraction.ipynb"
      ],
      "execution_count": 95,
      "outputs": [
        {
          "output_type": "stream",
          "text": [
            "2\n"
          ],
          "name": "stdout"
        }
      ]
    },
    {
      "cell_type": "markdown",
      "metadata": {
        "id": "0u7WRdp1IJa0",
        "colab_type": "text"
      },
      "source": [
        "# **Import Data**"
      ]
    },
    {
      "cell_type": "code",
      "metadata": {
        "id": "dnBv88huIH75",
        "colab_type": "code",
        "colab": {}
      },
      "source": [
        "#Compute EEG feature\n",
        "os.chdir(\"/content/drive/My Drive/EEG Data\")\n",
        "\n",
        "subjectID = ['SS2', 'SS4', 'SS5', 'SS6', 'SS7', 'SS8']\n",
        "\n",
        "EEG_feature = extract_feature(subjectID)\n",
        "df.to_csv('/content/drive/My Drive/My Project/Senior Project-Dementia/Results/RESEARCH DATA/EEG_features.csv')"
      ],
      "execution_count": 0,
      "outputs": []
    },
    {
      "cell_type": "code",
      "metadata": {
        "id": "iFW_9c15P70j",
        "colab_type": "code",
        "colab": {}
      },
      "source": [
        "#Import FCSRT\n",
        "FCSRT = pd.read_csv(\"FCSRT.csv\")\n",
        "FCSRT_o = FCSRT.iloc[[1,3,4,5,6,7]]\n",
        "FCSRT_o.reset_index(drop = True, inplace = True)\n",
        "\n",
        "#Import MoCA\n",
        "MoCA = pd.read_csv(\"MoCA.csv\", usecols = ['SUM'])\n",
        "MoCA.rename({'SUM':'MoCA'}, inplace = True, axis = 1)\n",
        "MoCA_o = MoCA.iloc[[1,3,4,5,6,7]]\n",
        "MoCA_o.reset_index(drop = True, inplace = True)\n",
        "\n",
        "#Import EEG\n",
        "EEG = pd.read_csv(\"EEG_features.csv\")\n",
        "EEG.drop(['Unnamed: 0', 'id'], inplace = True, axis = 1)\n",
        "\n",
        "#Create group\n",
        "Group = pd.DataFrame(data = {'group':(1,0,1,1,0,0)})\n",
        "\n",
        "#Combined data\n",
        "df_original = pd.concat([Group, EEG, FCSRT_o , MoCA_o] , axis = 1)\n",
        "df_original['group'] = df_original['group'].astype('category')"
      ],
      "execution_count": 0,
      "outputs": []
    },
    {
      "cell_type": "code",
      "metadata": {
        "id": "bLhIZd72g4X2",
        "colab_type": "code",
        "colab": {
          "base_uri": "https://localhost:8080/",
          "height": 364
        },
        "outputId": "5864653f-9016-438e-b90f-e867e5f82e1b"
      },
      "source": [
        "df_original"
      ],
      "execution_count": 105,
      "outputs": [
        {
          "output_type": "execute_result",
          "data": {
            "text/html": [
              "<div>\n",
              "<style scoped>\n",
              "    .dataframe tbody tr th:only-of-type {\n",
              "        vertical-align: middle;\n",
              "    }\n",
              "\n",
              "    .dataframe tbody tr th {\n",
              "        vertical-align: top;\n",
              "    }\n",
              "\n",
              "    .dataframe thead th {\n",
              "        text-align: right;\n",
              "    }\n",
              "</style>\n",
              "<table border=\"1\" class=\"dataframe\">\n",
              "  <thead>\n",
              "    <tr style=\"text-align: right;\">\n",
              "      <th></th>\n",
              "      <th>group</th>\n",
              "      <th>IR-PSD_Delta</th>\n",
              "      <th>IR-PSD_Theta</th>\n",
              "      <th>IR-PSD_Alpha</th>\n",
              "      <th>IR-PSD_Beta</th>\n",
              "      <th>IR-PSD_Gamma</th>\n",
              "      <th>IR-MSF</th>\n",
              "      <th>IR-SE</th>\n",
              "      <th>IR-AC</th>\n",
              "      <th>IR-wSMI_Alpha</th>\n",
              "      <th>IR-wSMI_Theta</th>\n",
              "      <th>DL-PSD_Delta</th>\n",
              "      <th>DL-PSD_Theta</th>\n",
              "      <th>DL-PSD_Alpha</th>\n",
              "      <th>DL-PSD_Beta</th>\n",
              "      <th>DL-PSD_Gamma</th>\n",
              "      <th>DL-MSF</th>\n",
              "      <th>DL-SE</th>\n",
              "      <th>DL-AC</th>\n",
              "      <th>DL-wSMI_Alpha</th>\n",
              "      <th>DL-wSMI_Theta</th>\n",
              "      <th>id</th>\n",
              "      <th>IR-FreeR</th>\n",
              "      <th>IR-CuedR</th>\n",
              "      <th>DL-FreeR</th>\n",
              "      <th>DL-CuedR</th>\n",
              "      <th>MoCA</th>\n",
              "    </tr>\n",
              "  </thead>\n",
              "  <tbody>\n",
              "    <tr>\n",
              "      <th>0</th>\n",
              "      <td>1</td>\n",
              "      <td>2.054468e-13</td>\n",
              "      <td>1.524963e-12</td>\n",
              "      <td>1.524963e-12</td>\n",
              "      <td>7.768703e-13</td>\n",
              "      <td>3.475635e-13</td>\n",
              "      <td>2.666441e-13</td>\n",
              "      <td>2.52249</td>\n",
              "      <td>0.050399</td>\n",
              "      <td>0.027892</td>\n",
              "      <td>0.015981</td>\n",
              "      <td>1.961788e-13</td>\n",
              "      <td>1.525327e-12</td>\n",
              "      <td>1.525327e-12</td>\n",
              "      <td>6.838229e-13</td>\n",
              "      <td>3.152028e-13</td>\n",
              "      <td>2.811118e-13</td>\n",
              "      <td>2.522490</td>\n",
              "      <td>0.055408</td>\n",
              "      <td>0.032695</td>\n",
              "      <td>0.014258</td>\n",
              "      <td>SS2</td>\n",
              "      <td>7</td>\n",
              "      <td>5</td>\n",
              "      <td>9</td>\n",
              "      <td>5</td>\n",
              "      <td>7</td>\n",
              "    </tr>\n",
              "    <tr>\n",
              "      <th>1</th>\n",
              "      <td>0</td>\n",
              "      <td>5.475750e-13</td>\n",
              "      <td>7.600708e-12</td>\n",
              "      <td>7.600708e-12</td>\n",
              "      <td>1.002692e-12</td>\n",
              "      <td>8.041770e-13</td>\n",
              "      <td>3.324048e-13</td>\n",
              "      <td>2.52249</td>\n",
              "      <td>0.044436</td>\n",
              "      <td>0.025159</td>\n",
              "      <td>0.013004</td>\n",
              "      <td>5.962930e-10</td>\n",
              "      <td>4.424420e-09</td>\n",
              "      <td>4.424420e-09</td>\n",
              "      <td>2.878444e-10</td>\n",
              "      <td>4.177453e-11</td>\n",
              "      <td>4.212708e-13</td>\n",
              "      <td>2.483961</td>\n",
              "      <td>0.056617</td>\n",
              "      <td>0.021383</td>\n",
              "      <td>0.009044</td>\n",
              "      <td>SS4</td>\n",
              "      <td>11</td>\n",
              "      <td>4</td>\n",
              "      <td>11</td>\n",
              "      <td>5</td>\n",
              "      <td>22</td>\n",
              "    </tr>\n",
              "    <tr>\n",
              "      <th>2</th>\n",
              "      <td>1</td>\n",
              "      <td>1.956504e-13</td>\n",
              "      <td>1.580025e-12</td>\n",
              "      <td>1.580025e-12</td>\n",
              "      <td>9.415630e-13</td>\n",
              "      <td>4.302233e-13</td>\n",
              "      <td>2.967245e-13</td>\n",
              "      <td>2.52249</td>\n",
              "      <td>0.059466</td>\n",
              "      <td>0.038813</td>\n",
              "      <td>0.018355</td>\n",
              "      <td>1.824046e-13</td>\n",
              "      <td>1.715900e-12</td>\n",
              "      <td>1.715900e-12</td>\n",
              "      <td>9.682811e-13</td>\n",
              "      <td>4.674879e-13</td>\n",
              "      <td>2.634610e-13</td>\n",
              "      <td>2.522490</td>\n",
              "      <td>0.057658</td>\n",
              "      <td>0.036652</td>\n",
              "      <td>0.018399</td>\n",
              "      <td>SS5</td>\n",
              "      <td>10</td>\n",
              "      <td>4</td>\n",
              "      <td>7</td>\n",
              "      <td>7</td>\n",
              "      <td>12</td>\n",
              "    </tr>\n",
              "    <tr>\n",
              "      <th>3</th>\n",
              "      <td>1</td>\n",
              "      <td>9.339271e-14</td>\n",
              "      <td>6.523108e-13</td>\n",
              "      <td>6.523108e-13</td>\n",
              "      <td>2.567939e-13</td>\n",
              "      <td>1.605897e-13</td>\n",
              "      <td>1.187664e-13</td>\n",
              "      <td>2.52249</td>\n",
              "      <td>0.052925</td>\n",
              "      <td>0.032111</td>\n",
              "      <td>0.014805</td>\n",
              "      <td>1.008870e-13</td>\n",
              "      <td>8.745897e-13</td>\n",
              "      <td>8.745897e-13</td>\n",
              "      <td>5.370193e-13</td>\n",
              "      <td>6.309129e-13</td>\n",
              "      <td>1.637344e-13</td>\n",
              "      <td>2.522490</td>\n",
              "      <td>0.057270</td>\n",
              "      <td>0.034637</td>\n",
              "      <td>0.012544</td>\n",
              "      <td>SS6</td>\n",
              "      <td>6</td>\n",
              "      <td>4</td>\n",
              "      <td>6</td>\n",
              "      <td>4</td>\n",
              "      <td>15</td>\n",
              "    </tr>\n",
              "    <tr>\n",
              "      <th>4</th>\n",
              "      <td>0</td>\n",
              "      <td>2.956208e-13</td>\n",
              "      <td>3.084754e-12</td>\n",
              "      <td>3.084754e-12</td>\n",
              "      <td>1.834515e-12</td>\n",
              "      <td>2.278971e-12</td>\n",
              "      <td>6.441187e-13</td>\n",
              "      <td>2.52249</td>\n",
              "      <td>0.054849</td>\n",
              "      <td>0.043572</td>\n",
              "      <td>0.012939</td>\n",
              "      <td>2.746076e-13</td>\n",
              "      <td>2.125060e-12</td>\n",
              "      <td>2.125060e-12</td>\n",
              "      <td>1.727646e-12</td>\n",
              "      <td>2.031999e-12</td>\n",
              "      <td>4.718942e-13</td>\n",
              "      <td>2.522490</td>\n",
              "      <td>0.061386</td>\n",
              "      <td>0.036631</td>\n",
              "      <td>0.014230</td>\n",
              "      <td>SS7</td>\n",
              "      <td>8</td>\n",
              "      <td>7</td>\n",
              "      <td>9</td>\n",
              "      <td>6</td>\n",
              "      <td>20</td>\n",
              "    </tr>\n",
              "    <tr>\n",
              "      <th>5</th>\n",
              "      <td>0</td>\n",
              "      <td>1.226531e-13</td>\n",
              "      <td>7.726978e-13</td>\n",
              "      <td>7.726978e-13</td>\n",
              "      <td>7.540438e-13</td>\n",
              "      <td>7.727883e-13</td>\n",
              "      <td>2.503482e-13</td>\n",
              "      <td>2.52249</td>\n",
              "      <td>0.067436</td>\n",
              "      <td>0.035039</td>\n",
              "      <td>0.014598</td>\n",
              "      <td>1.357951e-13</td>\n",
              "      <td>1.025221e-12</td>\n",
              "      <td>1.025221e-12</td>\n",
              "      <td>8.713561e-13</td>\n",
              "      <td>1.094194e-12</td>\n",
              "      <td>2.322711e-13</td>\n",
              "      <td>2.522490</td>\n",
              "      <td>0.062213</td>\n",
              "      <td>0.035717</td>\n",
              "      <td>0.014091</td>\n",
              "      <td>SS8</td>\n",
              "      <td>10</td>\n",
              "      <td>5</td>\n",
              "      <td>9</td>\n",
              "      <td>7</td>\n",
              "      <td>6</td>\n",
              "    </tr>\n",
              "  </tbody>\n",
              "</table>\n",
              "</div>"
            ],
            "text/plain": [
              "  group  IR-PSD_Delta  IR-PSD_Theta  ...  DL-FreeR  DL-CuedR  MoCA\n",
              "0     1  2.054468e-13  1.524963e-12  ...         9         5     7\n",
              "1     0  5.475750e-13  7.600708e-12  ...        11         5    22\n",
              "2     1  1.956504e-13  1.580025e-12  ...         7         7    12\n",
              "3     1  9.339271e-14  6.523108e-13  ...         6         4    15\n",
              "4     0  2.956208e-13  3.084754e-12  ...         9         6    20\n",
              "5     0  1.226531e-13  7.726978e-13  ...         9         7     6\n",
              "\n",
              "[6 rows x 27 columns]"
            ]
          },
          "metadata": {
            "tags": []
          },
          "execution_count": 105
        }
      ]
    },
    {
      "cell_type": "markdown",
      "metadata": {
        "id": "YLLDk5-yi0Cd",
        "colab_type": "text"
      },
      "source": [
        "Get data summary"
      ]
    },
    {
      "cell_type": "code",
      "metadata": {
        "id": "5yfHvEr4UckK",
        "colab_type": "code",
        "colab": {}
      },
      "source": [
        "def mean_confidence_interval(data, confidence=0.95):\n",
        "  import numpy as np\n",
        "  import scipy.stats  \n",
        "\n",
        "\n",
        "  a = 1.0 * np.array(data)\n",
        "  n = len(a)\n",
        "  m, se = np.mean(a), scipy.stats.sem(a)\n",
        "  h = se * scipy.stats.t.ppf((1 + confidence) / 2., n-1)\n",
        "  return m-h, m+h\n",
        "\n",
        "#create CI\n",
        "df = df_original.drop(['id','group'], axis = 1)\n",
        "ci = pd.DataFrame(columns=['lower', 'upper'])\n",
        "for x in range(len(df.columns)):\n",
        "  ci.loc[x] = mean_confidence_interval(df.iloc[:,x])\n",
        "\n",
        "#to df\n",
        "describe = df.describe().transpose()\n",
        "describe['lower'] = ci['lower'].values\n",
        "describe['upper'] = ci['upper'].values\n",
        "\n",
        "#Export\n",
        "describe.to_csv('/content/drive/My Drive/My Project/Senior Project-Dementia/Results/RESEARCH DATA/descriptive.csv')"
      ],
      "execution_count": 0,
      "outputs": []
    },
    {
      "cell_type": "markdown",
      "metadata": {
        "id": "5-Xck8eXQDeh",
        "colab_type": "text"
      },
      "source": [
        "# **Data Preprocessing**"
      ]
    },
    {
      "cell_type": "markdown",
      "metadata": {
        "id": "_o4eI5oqS835",
        "colab_type": "text"
      },
      "source": [
        "#### **1) Scaling**"
      ]
    },
    {
      "cell_type": "code",
      "metadata": {
        "id": "UzCYG4I3O9rj",
        "colab_type": "code",
        "colab": {}
      },
      "source": [
        "from sklearn import preprocessing"
      ],
      "execution_count": 0,
      "outputs": []
    },
    {
      "cell_type": "code",
      "metadata": {
        "id": "8jyNE2adO-f_",
        "colab_type": "code",
        "colab": {}
      },
      "source": [
        "#Min-Max Scaling\n",
        "\n",
        "df_original.drop('id', axis = 1, inplace = True)\n",
        "scaler = preprocessing.MinMaxScaler()\n",
        "df_original[df_original.columns] = scaler.fit_transform(df_original[df_original.columns])\n",
        "\n",
        "df_original.head()\n",
        "df = df_original"
      ],
      "execution_count": 0,
      "outputs": []
    },
    {
      "cell_type": "markdown",
      "metadata": {
        "id": "oXXTY4XKSWgn",
        "colab_type": "text"
      },
      "source": [
        "#### **2) Generate Data**"
      ]
    },
    {
      "cell_type": "markdown",
      "metadata": {
        "id": "aY8muHftTBye",
        "colab_type": "text"
      },
      "source": [
        "The section below, I've random the value of each feature in order to demonstrate ML model because the situation of *COVID-19* that I cannot continue run the experiment as expected."
      ]
    },
    {
      "cell_type": "code",
      "metadata": {
        "id": "fbIIp_MoWHtf",
        "colab_type": "code",
        "colab": {}
      },
      "source": [
        "from random import random"
      ],
      "execution_count": 0,
      "outputs": []
    },
    {
      "cell_type": "code",
      "metadata": {
        "id": "RiABntThSV0G",
        "colab_type": "code",
        "colab": {}
      },
      "source": [
        "df_random = pd.DataFrame(columns = df_original.columns)\n",
        "for x in df_original.columns:\n",
        "  if x != 'Group':\n",
        "    df_random[x] = np.random.rand(52)\n",
        "  else:\n",
        "    df_random[x] = np.random.randint(0,2,52)"
      ],
      "execution_count": 0,
      "outputs": []
    },
    {
      "cell_type": "code",
      "metadata": {
        "id": "rXE0HnEYZjM9",
        "colab_type": "code",
        "outputId": "03b1e6e1-839b-40f2-9d65-87a120040876",
        "colab": {
          "base_uri": "https://localhost:8080/",
          "height": 234
        }
      },
      "source": [
        "df = df_original.append(df_random, ignore_index = True)\n",
        "df.tail()"
      ],
      "execution_count": 0,
      "outputs": [
        {
          "output_type": "execute_result",
          "data": {
            "text/html": [
              "<div>\n",
              "<style scoped>\n",
              "    .dataframe tbody tr th:only-of-type {\n",
              "        vertical-align: middle;\n",
              "    }\n",
              "\n",
              "    .dataframe tbody tr th {\n",
              "        vertical-align: top;\n",
              "    }\n",
              "\n",
              "    .dataframe thead th {\n",
              "        text-align: right;\n",
              "    }\n",
              "</style>\n",
              "<table border=\"1\" class=\"dataframe\">\n",
              "  <thead>\n",
              "    <tr style=\"text-align: right;\">\n",
              "      <th></th>\n",
              "      <th>PSD_Delta</th>\n",
              "      <th>PSD_Theta</th>\n",
              "      <th>PSD_Alpha</th>\n",
              "      <th>PSD_Beta</th>\n",
              "      <th>PSD_Gamma</th>\n",
              "      <th>MSF</th>\n",
              "      <th>SE</th>\n",
              "      <th>AC</th>\n",
              "      <th>wSMI_Alpha</th>\n",
              "      <th>wSMI_Theta</th>\n",
              "      <th>IR-FreeR</th>\n",
              "      <th>IR-CuedR</th>\n",
              "      <th>DL-FreeR</th>\n",
              "      <th>DL-CuedR</th>\n",
              "      <th>MoCA</th>\n",
              "      <th>Group</th>\n",
              "    </tr>\n",
              "  </thead>\n",
              "  <tbody>\n",
              "    <tr>\n",
              "      <th>55</th>\n",
              "      <td>0.807347</td>\n",
              "      <td>0.682497</td>\n",
              "      <td>0.021335</td>\n",
              "      <td>0.035987</td>\n",
              "      <td>0.381992</td>\n",
              "      <td>0.613762</td>\n",
              "      <td>0.052280</td>\n",
              "      <td>0.761692</td>\n",
              "      <td>0.513952</td>\n",
              "      <td>0.476199</td>\n",
              "      <td>0.738040</td>\n",
              "      <td>0.801613</td>\n",
              "      <td>0.066879</td>\n",
              "      <td>0.781259</td>\n",
              "      <td>0.816615</td>\n",
              "      <td>1.0</td>\n",
              "    </tr>\n",
              "    <tr>\n",
              "      <th>56</th>\n",
              "      <td>0.485057</td>\n",
              "      <td>0.448023</td>\n",
              "      <td>0.680089</td>\n",
              "      <td>0.031775</td>\n",
              "      <td>0.806532</td>\n",
              "      <td>0.069834</td>\n",
              "      <td>0.892653</td>\n",
              "      <td>0.272981</td>\n",
              "      <td>0.944839</td>\n",
              "      <td>0.461204</td>\n",
              "      <td>0.818933</td>\n",
              "      <td>0.112397</td>\n",
              "      <td>0.796346</td>\n",
              "      <td>0.753916</td>\n",
              "      <td>0.835964</td>\n",
              "      <td>1.0</td>\n",
              "    </tr>\n",
              "    <tr>\n",
              "      <th>57</th>\n",
              "      <td>0.536503</td>\n",
              "      <td>0.559438</td>\n",
              "      <td>0.170453</td>\n",
              "      <td>0.626516</td>\n",
              "      <td>0.196223</td>\n",
              "      <td>0.133042</td>\n",
              "      <td>0.470600</td>\n",
              "      <td>0.638751</td>\n",
              "      <td>0.223161</td>\n",
              "      <td>0.278665</td>\n",
              "      <td>0.705056</td>\n",
              "      <td>0.525164</td>\n",
              "      <td>0.885811</td>\n",
              "      <td>0.852113</td>\n",
              "      <td>0.109725</td>\n",
              "      <td>0.0</td>\n",
              "    </tr>\n",
              "    <tr>\n",
              "      <th>58</th>\n",
              "      <td>0.412441</td>\n",
              "      <td>0.072450</td>\n",
              "      <td>0.633993</td>\n",
              "      <td>0.221719</td>\n",
              "      <td>0.172257</td>\n",
              "      <td>0.631629</td>\n",
              "      <td>0.164460</td>\n",
              "      <td>0.365358</td>\n",
              "      <td>0.194858</td>\n",
              "      <td>0.917188</td>\n",
              "      <td>0.279845</td>\n",
              "      <td>0.127879</td>\n",
              "      <td>0.354827</td>\n",
              "      <td>0.744854</td>\n",
              "      <td>0.989097</td>\n",
              "      <td>0.0</td>\n",
              "    </tr>\n",
              "    <tr>\n",
              "      <th>59</th>\n",
              "      <td>0.379127</td>\n",
              "      <td>0.065893</td>\n",
              "      <td>0.528430</td>\n",
              "      <td>0.187522</td>\n",
              "      <td>0.183076</td>\n",
              "      <td>0.255245</td>\n",
              "      <td>0.006866</td>\n",
              "      <td>0.976507</td>\n",
              "      <td>0.282368</td>\n",
              "      <td>0.193345</td>\n",
              "      <td>0.986599</td>\n",
              "      <td>0.661297</td>\n",
              "      <td>0.992456</td>\n",
              "      <td>0.637758</td>\n",
              "      <td>0.974005</td>\n",
              "      <td>1.0</td>\n",
              "    </tr>\n",
              "  </tbody>\n",
              "</table>\n",
              "</div>"
            ],
            "text/plain": [
              "    PSD_Delta  PSD_Theta  PSD_Alpha  ...  DL-CuedR      MoCA  Group\n",
              "55   0.807347   0.682497   0.021335  ...  0.781259  0.816615    1.0\n",
              "56   0.485057   0.448023   0.680089  ...  0.753916  0.835964    1.0\n",
              "57   0.536503   0.559438   0.170453  ...  0.852113  0.109725    0.0\n",
              "58   0.412441   0.072450   0.633993  ...  0.744854  0.989097    0.0\n",
              "59   0.379127   0.065893   0.528430  ...  0.637758  0.974005    1.0\n",
              "\n",
              "[5 rows x 16 columns]"
            ]
          },
          "metadata": {
            "tags": []
          },
          "execution_count": 142
        }
      ]
    },
    {
      "cell_type": "markdown",
      "metadata": {
        "id": "tXlgZ2AQxF34",
        "colab_type": "text"
      },
      "source": [
        "#### **3) Feature Selection**\n",
        "using filter method"
      ]
    },
    {
      "cell_type": "code",
      "metadata": {
        "id": "VUU7DOZCxNwF",
        "colab_type": "code",
        "colab": {
          "base_uri": "https://localhost:8080/",
          "height": 72
        },
        "outputId": "03415eb9-2d2a-4906-9cd4-5672d84b9450"
      },
      "source": [
        "import seaborn as sns\n",
        "import matplotlib.pyplot as plt"
      ],
      "execution_count": 119,
      "outputs": [
        {
          "output_type": "stream",
          "text": [
            "/usr/local/lib/python3.6/dist-packages/statsmodels/tools/_testing.py:19: FutureWarning: pandas.util.testing is deprecated. Use the functions in the public API at pandas.testing instead.\n",
            "  import pandas.util.testing as tm\n"
          ],
          "name": "stderr"
        }
      ]
    },
    {
      "cell_type": "code",
      "metadata": {
        "id": "hxJ720vTmPqz",
        "colab_type": "code",
        "colab": {
          "base_uri": "https://localhost:8080/",
          "height": 264
        },
        "outputId": "4f64e8d3-27ec-4bf3-e69c-3f7310ee7246"
      },
      "source": [
        "EEG_df"
      ],
      "execution_count": 125,
      "outputs": [
        {
          "output_type": "execute_result",
          "data": {
            "text/html": [
              "<div>\n",
              "<style scoped>\n",
              "    .dataframe tbody tr th:only-of-type {\n",
              "        vertical-align: middle;\n",
              "    }\n",
              "\n",
              "    .dataframe tbody tr th {\n",
              "        vertical-align: top;\n",
              "    }\n",
              "\n",
              "    .dataframe thead th {\n",
              "        text-align: right;\n",
              "    }\n",
              "</style>\n",
              "<table border=\"1\" class=\"dataframe\">\n",
              "  <thead>\n",
              "    <tr style=\"text-align: right;\">\n",
              "      <th></th>\n",
              "      <th>group</th>\n",
              "      <th>IR-PSD_Theta</th>\n",
              "      <th>IR-PSD_Alpha</th>\n",
              "      <th>IR-PSD_Beta</th>\n",
              "      <th>IR-PSD_Gamma</th>\n",
              "      <th>IR-MSF</th>\n",
              "      <th>IR-SE</th>\n",
              "      <th>IR-AC</th>\n",
              "      <th>IR-wSMI_Alpha</th>\n",
              "      <th>IR-wSMI_Theta</th>\n",
              "      <th>DL-PSD_Delta</th>\n",
              "      <th>DL-PSD_Theta</th>\n",
              "      <th>DL-PSD_Alpha</th>\n",
              "      <th>DL-PSD_Beta</th>\n",
              "      <th>DL-PSD_Gamma</th>\n",
              "      <th>DL-MSF</th>\n",
              "      <th>DL-SE</th>\n",
              "      <th>DL-AC</th>\n",
              "      <th>DL-wSMI_Alpha</th>\n",
              "      <th>DL-wSMI_Theta</th>\n",
              "    </tr>\n",
              "  </thead>\n",
              "  <tbody>\n",
              "    <tr>\n",
              "      <th>0</th>\n",
              "      <td>1.0</td>\n",
              "      <td>0.125590</td>\n",
              "      <td>0.125590</td>\n",
              "      <td>0.329638</td>\n",
              "      <td>0.088263</td>\n",
              "      <td>0.281483</td>\n",
              "      <td>0.0</td>\n",
              "      <td>0.259271</td>\n",
              "      <td>0.148446</td>\n",
              "      <td>0.561553</td>\n",
              "      <td>0.000160</td>\n",
              "      <td>0.000147</td>\n",
              "      <td>0.000147</td>\n",
              "      <td>0.000511</td>\n",
              "      <td>0.000000</td>\n",
              "      <td>0.380898</td>\n",
              "      <td>1.0</td>\n",
              "      <td>0.000000</td>\n",
              "      <td>0.740844</td>\n",
              "      <td>0.557312</td>\n",
              "    </tr>\n",
              "    <tr>\n",
              "      <th>1</th>\n",
              "      <td>0.0</td>\n",
              "      <td>1.000000</td>\n",
              "      <td>1.000000</td>\n",
              "      <td>0.472770</td>\n",
              "      <td>0.303811</td>\n",
              "      <td>0.406657</td>\n",
              "      <td>1.0</td>\n",
              "      <td>0.000000</td>\n",
              "      <td>0.000000</td>\n",
              "      <td>0.011962</td>\n",
              "      <td>1.000000</td>\n",
              "      <td>1.000000</td>\n",
              "      <td>1.000000</td>\n",
              "      <td>1.000000</td>\n",
              "      <td>1.000000</td>\n",
              "      <td>0.835724</td>\n",
              "      <td>0.0</td>\n",
              "      <td>0.177676</td>\n",
              "      <td>0.000000</td>\n",
              "      <td>0.000000</td>\n",
              "    </tr>\n",
              "    <tr>\n",
              "      <th>2</th>\n",
              "      <td>1.0</td>\n",
              "      <td>0.133515</td>\n",
              "      <td>0.133515</td>\n",
              "      <td>0.434024</td>\n",
              "      <td>0.127283</td>\n",
              "      <td>0.338741</td>\n",
              "      <td>1.0</td>\n",
              "      <td>0.653464</td>\n",
              "      <td>0.741561</td>\n",
              "      <td>1.000000</td>\n",
              "      <td>0.000137</td>\n",
              "      <td>0.000190</td>\n",
              "      <td>0.000190</td>\n",
              "      <td>0.001501</td>\n",
              "      <td>0.003673</td>\n",
              "      <td>0.323620</td>\n",
              "      <td>1.0</td>\n",
              "      <td>0.330667</td>\n",
              "      <td>1.000000</td>\n",
              "      <td>1.000000</td>\n",
              "    </tr>\n",
              "    <tr>\n",
              "      <th>3</th>\n",
              "      <td>1.0</td>\n",
              "      <td>0.000000</td>\n",
              "      <td>0.000000</td>\n",
              "      <td>0.000000</td>\n",
              "      <td>0.000000</td>\n",
              "      <td>0.000000</td>\n",
              "      <td>1.0</td>\n",
              "      <td>0.369102</td>\n",
              "      <td>0.377535</td>\n",
              "      <td>0.344449</td>\n",
              "      <td>0.000000</td>\n",
              "      <td>0.000000</td>\n",
              "      <td>0.000000</td>\n",
              "      <td>0.000000</td>\n",
              "      <td>0.007615</td>\n",
              "      <td>0.000000</td>\n",
              "      <td>1.0</td>\n",
              "      <td>0.273600</td>\n",
              "      <td>0.868020</td>\n",
              "      <td>0.374194</td>\n",
              "    </tr>\n",
              "    <tr>\n",
              "      <th>4</th>\n",
              "      <td>0.0</td>\n",
              "      <td>0.350073</td>\n",
              "      <td>0.350073</td>\n",
              "      <td>1.000000</td>\n",
              "      <td>1.000000</td>\n",
              "      <td>1.000000</td>\n",
              "      <td>1.0</td>\n",
              "      <td>0.452738</td>\n",
              "      <td>1.000000</td>\n",
              "      <td>0.000000</td>\n",
              "      <td>0.000291</td>\n",
              "      <td>0.000283</td>\n",
              "      <td>0.000283</td>\n",
              "      <td>0.004144</td>\n",
              "      <td>0.041409</td>\n",
              "      <td>1.000000</td>\n",
              "      <td>1.0</td>\n",
              "      <td>0.878400</td>\n",
              "      <td>0.998593</td>\n",
              "      <td>0.554390</td>\n",
              "    </tr>\n",
              "    <tr>\n",
              "      <th>5</th>\n",
              "      <td>0.0</td>\n",
              "      <td>0.017326</td>\n",
              "      <td>0.017326</td>\n",
              "      <td>0.315170</td>\n",
              "      <td>0.288994</td>\n",
              "      <td>0.250464</td>\n",
              "      <td>1.0</td>\n",
              "      <td>1.000000</td>\n",
              "      <td>0.536591</td>\n",
              "      <td>0.306189</td>\n",
              "      <td>0.000059</td>\n",
              "      <td>0.000034</td>\n",
              "      <td>0.000034</td>\n",
              "      <td>0.001164</td>\n",
              "      <td>0.018789</td>\n",
              "      <td>0.222406</td>\n",
              "      <td>1.0</td>\n",
              "      <td>1.000000</td>\n",
              "      <td>0.938721</td>\n",
              "      <td>0.539546</td>\n",
              "    </tr>\n",
              "  </tbody>\n",
              "</table>\n",
              "</div>"
            ],
            "text/plain": [
              "   group  IR-PSD_Theta  IR-PSD_Alpha  ...     DL-AC  DL-wSMI_Alpha  DL-wSMI_Theta\n",
              "0    1.0      0.125590      0.125590  ...  0.000000       0.740844       0.557312\n",
              "1    0.0      1.000000      1.000000  ...  0.177676       0.000000       0.000000\n",
              "2    1.0      0.133515      0.133515  ...  0.330667       1.000000       1.000000\n",
              "3    1.0      0.000000      0.000000  ...  0.273600       0.868020       0.374194\n",
              "4    0.0      0.350073      0.350073  ...  0.878400       0.998593       0.554390\n",
              "5    0.0      0.017326      0.017326  ...  1.000000       0.938721       0.539546\n",
              "\n",
              "[6 rows x 20 columns]"
            ]
          },
          "metadata": {
            "tags": []
          },
          "execution_count": 125
        }
      ]
    },
    {
      "cell_type": "code",
      "metadata": {
        "id": "aCtCO53s6tjn",
        "colab_type": "code",
        "colab": {}
      },
      "source": [
        "EEG_df = df_original.iloc[:,[0,1,2,3,4,5,6,7,8,9,10,11,12,13,14,15,16,17,18,19,20]]"
      ],
      "execution_count": 0,
      "outputs": []
    },
    {
      "cell_type": "code",
      "metadata": {
        "id": "ivP-PEtzxFLA",
        "colab_type": "code",
        "outputId": "b37d5635-b25a-4395-ce52-616008a9c7ce",
        "colab": {
          "base_uri": "https://localhost:8080/",
          "height": 683
        }
      },
      "source": [
        "plt.figure(figsize=(12,10))\n",
        "cor = EEG_df.corr()\n",
        "sns.heatmap(cor, annot=True, cmap=plt.cm.Reds)\n",
        "plt.show()\n",
        "plt.savefig('/content/drive/My Drive/My Project/Senior Project-Dementia/Results/Graphs/heatmap.png')"
      ],
      "execution_count": 127,
      "outputs": [
        {
          "output_type": "display_data",
          "data": {
            "image/png": "[encoded data removed]",
            "text/plain": [
              "<Figure size 864x720 with 2 Axes>"
            ]
          },
          "metadata": {
            "tags": [],
            "needs_background": "light"
          }
        },
        {
          "output_type": "display_data",
          "data": {
            "text/plain": [
              "<Figure size 432x288 with 0 Axes>"
            ]
          },
          "metadata": {
            "tags": []
          }
        }
      ]
    },
    {
      "cell_type": "code",
      "metadata": {
        "id": "e41OtPVryF7D",
        "colab_type": "code",
        "outputId": "ca0f4e87-991e-4db9-ea00-d9bbe2d2716f",
        "colab": {
          "base_uri": "https://localhost:8080/",
          "height": 212
        }
      },
      "source": [
        "#Correlation with output variable\n",
        "cor_target = abs(cor[\"group\"])\n",
        "\n",
        "#Selecting highly correlated features\n",
        "relevant_features = cor_target[cor_target>0.5]\n",
        "relevant_features"
      ],
      "execution_count": 128,
      "outputs": [
        {
          "output_type": "execute_result",
          "data": {
            "text/plain": [
              "group            1.000000\n",
              "IR-PSD_Delta     0.521704\n",
              "IR-PSD_Theta     0.534890\n",
              "IR-PSD_Alpha     0.534890\n",
              "IR-PSD_Beta      0.571819\n",
              "IR-PSD_Gamma     0.694848\n",
              "IR-MSF           0.566841\n",
              "IR-wSMI_Theta    0.772914\n",
              "DL-MSF           0.648706\n",
              "DL-AC            0.659458\n",
              "Name: group, dtype: float64"
            ]
          },
          "metadata": {
            "tags": []
          },
          "execution_count": 128
        }
      ]
    },
    {
      "cell_type": "code",
      "metadata": {
        "id": "_NgQIzSd92Ub",
        "colab_type": "code",
        "colab": {}
      },
      "source": [
        "selected_features = pd.DataFrame(relevant_features)\n",
        "selected_features.reset_index(inplace = True)\n",
        "selected_features.drop([0], inplace = True)"
      ],
      "execution_count": 0,
      "outputs": []
    },
    {
      "cell_type": "code",
      "metadata": {
        "id": "RGBb5A8v-eg0",
        "colab_type": "code",
        "outputId": "8d229b2a-4754-42f1-f206-3a2a7a54a896",
        "colab": {
          "base_uri": "https://localhost:8080/",
          "height": 70
        }
      },
      "source": [
        "array_selected = selected_features['index'].to_numpy()\n",
        "array_selected"
      ],
      "execution_count": 130,
      "outputs": [
        {
          "output_type": "execute_result",
          "data": {
            "text/plain": [
              "array(['IR-PSD_Delta', 'IR-PSD_Theta', 'IR-PSD_Alpha', 'IR-PSD_Beta',\n",
              "       'IR-PSD_Gamma', 'IR-MSF', 'IR-wSMI_Theta', 'DL-MSF', 'DL-AC'],\n",
              "      dtype=object)"
            ]
          },
          "metadata": {
            "tags": []
          },
          "execution_count": 130
        }
      ]
    },
    {
      "cell_type": "markdown",
      "metadata": {
        "id": "sIPU9HzpfNV_",
        "colab_type": "text"
      },
      "source": [
        "# **Model Experimentation**"
      ]
    },
    {
      "cell_type": "markdown",
      "metadata": {
        "id": "pOXBs5rffWr5",
        "colab_type": "text"
      },
      "source": [
        "####**1) Seperate dataframe**\n",
        "\n",
        "\n",
        "1.   Only EEG & MoCA data\n",
        "2.   FCSRT & MoCA data\n",
        "3. All data\n"
      ]
    },
    {
      "cell_type": "code",
      "metadata": {
        "id": "OGzIYzbFfWMf",
        "colab_type": "code",
        "colab": {}
      },
      "source": [
        "#1\n",
        "X_1 = df[['IR-PSD_Delta', 'IR-PSD_Theta', 'IR-PSD_Alpha', 'IR-PSD_Beta',\n",
        "       'IR-PSD_Gamma', 'IR-MSF', 'IR-wSMI_Theta', 'DL-MSF', 'DL-AC']]\n",
        "#2\n",
        "X_2 = df[['IR-FreeR', 'IR-CuedR','DL-FreeR', 'DL-CuedR']]\n",
        "#3\n",
        "X_3 = df[['IR-PSD_Delta', 'IR-PSD_Theta', 'IR-PSD_Alpha', 'IR-PSD_Beta',\n",
        "       'IR-PSD_Gamma', 'IR-MSF', 'IR-wSMI_Theta', 'DL-MSF', 'DL-AC', 'IR-FreeR', 'IR-CuedR','DL-FreeR', 'DL-CuedR']]\n",
        "\n",
        "y = df['group']"
      ],
      "execution_count": 0,
      "outputs": []
    },
    {
      "cell_type": "markdown",
      "metadata": {
        "id": "9N2Vyv7UjEvQ",
        "colab_type": "text"
      },
      "source": [
        "####**2) Seperate *Training Set* and *Test Set***"
      ]
    },
    {
      "cell_type": "code",
      "metadata": {
        "id": "Ip-Qe1NZjdAJ",
        "colab_type": "code",
        "colab": {}
      },
      "source": [
        "from sklearn.model_selection import train_test_split"
      ],
      "execution_count": 0,
      "outputs": []
    },
    {
      "cell_type": "code",
      "metadata": {
        "id": "AtLCUgtSljKA",
        "colab_type": "code",
        "colab": {}
      },
      "source": [
        "#X_1\n",
        "X_1_train, X_1_test, Y_1_train,Y_1_test = train_test_split(X_1, y, test_size = 0.25, random_state = 0)\n",
        "\n",
        "#X_2\n",
        "X_2_train, X_2_test, Y_2_train, Y_2_test = train_test_split(X_2, y, test_size = 0.25, random_state = 0)\n",
        "\n",
        "#X_3\n",
        "X_3_train, X_3_test, Y_3_train, Y_3_test = train_test_split(X_3, y, test_size = 0.25, random_state = 0)"
      ],
      "execution_count": 0,
      "outputs": []
    },
    {
      "cell_type": "markdown",
      "metadata": {
        "id": "EjqyV-B9mMIS",
        "colab_type": "text"
      },
      "source": [
        "####**3) Model Building**"
      ]
    },
    {
      "cell_type": "code",
      "metadata": {
        "id": "jvLJ27PGmLXw",
        "colab_type": "code",
        "colab": {}
      },
      "source": [
        "from sklearn.svm import SVC"
      ],
      "execution_count": 0,
      "outputs": []
    },
    {
      "cell_type": "code",
      "metadata": {
        "id": "UT881v-2mcs9",
        "colab_type": "code",
        "colab": {}
      },
      "source": [
        "classifier_1 = SVC(kernel = 'rbf', random_state = 0)\n",
        "classifier_1.fit(X_1_train, Y_1_train)\n",
        "Y_1_pred = classifier_1.predict(X_1_test)\n",
        "\n",
        "classifier_2 = SVC(kernel = 'rbf', random_state = 0)\n",
        "classifier_2.fit(X_2_train, Y_2_train)\n",
        "Y_2_pred = classifier_2.predict(X_2_test)\n",
        "\n",
        "classifier_3 = SVC(kernel = 'rbf', random_state = 0)\n",
        "classifier_3.fit(X_3_train, Y_3_train)\n",
        "Y_3_pred = classifier_3.predict(X_3_test)"
      ],
      "execution_count": 0,
      "outputs": []
    },
    {
      "cell_type": "markdown",
      "metadata": {
        "id": "vVmNTQJgtFsx",
        "colab_type": "text"
      },
      "source": [
        "####**4) Model Evaluation**"
      ]
    },
    {
      "cell_type": "code",
      "metadata": {
        "id": "PKIJXE4Jms2C",
        "colab_type": "code",
        "colab": {}
      },
      "source": [
        "from sklearn.metrics import confusion_matrix, precision_recall_fscore_support, classification_report"
      ],
      "execution_count": 0,
      "outputs": []
    },
    {
      "cell_type": "code",
      "metadata": {
        "id": "KtoKUZXjMCok",
        "colab_type": "code",
        "colab": {}
      },
      "source": [
        "def con_mat_picture(y_test, y_pred, title):\n",
        "  title = title\n",
        "  cm = confusion_matrix(y_test, y_pred)\n",
        "  plt.imshow(cm, cmap=plt.cm.Greens)\n",
        "  plt.xlabel(\"Predicted labels\")\n",
        "  plt.ylabel(\"True labels\")\n",
        "\n",
        "  plt.xticks([], []+ labels)\n",
        "  plt.yticks([], []+ labels)\n",
        "  plt.title(title)\n",
        "  plt.colorbar()\n",
        "  return plt.show()"
      ],
      "execution_count": 0,
      "outputs": []
    },
    {
      "cell_type": "code",
      "metadata": {
        "id": "u9emm77d1JrG",
        "colab_type": "code",
        "colab": {}
      },
      "source": [
        "cm = confusion_matrix(Y_1_test, Y_1_pred)"
      ],
      "execution_count": 0,
      "outputs": []
    },
    {
      "cell_type": "code",
      "metadata": {
        "id": "uZ6UnQKX0sqe",
        "colab_type": "code",
        "colab": {}
      },
      "source": [
        "def con_mat_picture(y_test, y_pred, title):\n",
        "  cm = confusion_matrix(y_test, y_pred)\n",
        "  title = title\n",
        "  labels = ['Normal', 'Risk']\n",
        "\n",
        "  fig = plt.figure()\n",
        "  ax = fig.add_subplot(111)\n",
        "  cax = ax.matshow(cm)\n",
        "  plt.title(title)\n",
        "  fig.colorbar(cax)\n",
        "  ax.set_xticklabels([''] + labels)\n",
        "  ax.set_yticklabels([''] + labels)\n",
        "  plt.xlabel('Predicted')\n",
        "  plt.ylabel('True')\n",
        "  return plt.show()"
      ],
      "execution_count": 0,
      "outputs": []
    },
    {
      "cell_type": "code",
      "metadata": {
        "id": "sb-fAryXtLaY",
        "colab_type": "code",
        "outputId": "89fda877-be7d-462f-cb6c-7c42860ade10",
        "colab": {
          "base_uri": "https://localhost:8080/",
          "height": 833
        }
      },
      "source": [
        "cm_1 = con_mat_picture(Y_1_test, Y_1_pred, 'EEG dataset')\n",
        "cm_2 = con_mat_picture(Y_2_test, Y_2_pred, 'FCSRT dataset')\n",
        "cm_3 = con_mat_picture(Y_3_test, Y_3_pred, 'EEG & FCSRT dataset')"
      ],
      "execution_count": 142,
      "outputs": [
        {
          "output_type": "display_data",
          "data": {
            "image/png": "[encoded data removed]",
            "text/plain": [
              "<Figure size 432x288 with 2 Axes>"
            ]
          },
          "metadata": {
            "tags": [],
            "needs_background": "light"
          }
        },
        {
          "output_type": "display_data",
          "data": {
            "image/png": "[encoded data removed]",
            "text/plain": [
              "<Figure size 432x288 with 2 Axes>"
            ]
          },
          "metadata": {
            "tags": [],
            "needs_background": "light"
          }
        },
        {
          "output_type": "display_data",
          "data": {
            "image/png": "[encoded data removed]",
            "text/plain": [
              "<Figure size 432x288 with 2 Axes>"
            ]
          },
          "metadata": {
            "tags": [],
            "needs_background": "light"
          }
        }
      ]
    },
    {
      "cell_type": "code",
      "metadata": {
        "id": "YeBAuj7qA2XK",
        "colab_type": "code",
        "outputId": "95c83b3f-44a3-44a9-8d51-c069f33a3872",
        "colab": {
          "base_uri": "https://localhost:8080/",
          "height": 232
        }
      },
      "source": [
        "print(classification_report(Y_1_test, Y_1_pred))"
      ],
      "execution_count": 143,
      "outputs": [
        {
          "output_type": "stream",
          "text": [
            "              precision    recall  f1-score   support\n",
            "\n",
            "         0.0       0.00      0.00      0.00         1\n",
            "         1.0       0.50      1.00      0.67         1\n",
            "\n",
            "    accuracy                           0.50         2\n",
            "   macro avg       0.25      0.50      0.33         2\n",
            "weighted avg       0.25      0.50      0.33         2\n",
            "\n"
          ],
          "name": "stdout"
        },
        {
          "output_type": "stream",
          "text": [
            "/usr/local/lib/python3.6/dist-packages/sklearn/metrics/_classification.py:1272: UndefinedMetricWarning: Precision and F-score are ill-defined and being set to 0.0 in labels with no predicted samples. Use `zero_division` parameter to control this behavior.\n",
            "  _warn_prf(average, modifier, msg_start, len(result))\n"
          ],
          "name": "stderr"
        }
      ]
    },
    {
      "cell_type": "code",
      "metadata": {
        "id": "GyKTdKG_A2jM",
        "colab_type": "code",
        "outputId": "badbe2f2-48b2-4f7d-c190-ebc6a6b38fe4",
        "colab": {
          "base_uri": "https://localhost:8080/",
          "height": 232
        }
      },
      "source": [
        "print(classification_report(Y_2_test, Y_2_pred))"
      ],
      "execution_count": 144,
      "outputs": [
        {
          "output_type": "stream",
          "text": [
            "              precision    recall  f1-score   support\n",
            "\n",
            "         0.0       0.50      1.00      0.67         1\n",
            "         1.0       0.00      0.00      0.00         1\n",
            "\n",
            "    accuracy                           0.50         2\n",
            "   macro avg       0.25      0.50      0.33         2\n",
            "weighted avg       0.25      0.50      0.33         2\n",
            "\n"
          ],
          "name": "stdout"
        },
        {
          "output_type": "stream",
          "text": [
            "/usr/local/lib/python3.6/dist-packages/sklearn/metrics/_classification.py:1272: UndefinedMetricWarning: Precision and F-score are ill-defined and being set to 0.0 in labels with no predicted samples. Use `zero_division` parameter to control this behavior.\n",
            "  _warn_prf(average, modifier, msg_start, len(result))\n"
          ],
          "name": "stderr"
        }
      ]
    },
    {
      "cell_type": "code",
      "metadata": {
        "id": "AarFitg6NCPm",
        "colab_type": "code",
        "outputId": "58cd3c29-f636-41a8-84de-fb2a9100ef62",
        "colab": {
          "base_uri": "https://localhost:8080/",
          "height": 232
        }
      },
      "source": [
        "print(classification_report(Y_3_test, Y_3_pred))"
      ],
      "execution_count": 145,
      "outputs": [
        {
          "output_type": "stream",
          "text": [
            "              precision    recall  f1-score   support\n",
            "\n",
            "         0.0       0.00      0.00      0.00         1\n",
            "         1.0       0.50      1.00      0.67         1\n",
            "\n",
            "    accuracy                           0.50         2\n",
            "   macro avg       0.25      0.50      0.33         2\n",
            "weighted avg       0.25      0.50      0.33         2\n",
            "\n"
          ],
          "name": "stdout"
        },
        {
          "output_type": "stream",
          "text": [
            "/usr/local/lib/python3.6/dist-packages/sklearn/metrics/_classification.py:1272: UndefinedMetricWarning: Precision and F-score are ill-defined and being set to 0.0 in labels with no predicted samples. Use `zero_division` parameter to control this behavior.\n",
            "  _warn_prf(average, modifier, msg_start, len(result))\n"
          ],
          "name": "stderr"
        }
      ]
    },
    {
      "cell_type": "code",
      "metadata": {
        "id": "pqoopXv35kD2",
        "colab_type": "code",
        "outputId": "e6b691f0-97e9-4ee3-da05-07c305bfff54",
        "colab": {
          "base_uri": "https://localhost:8080/",
          "height": 288
        }
      },
      "source": [
        "#Dream case\n",
        "a = [0,0,1,1]\n",
        "b = [0,0,1,1]\n",
        "\n",
        "cm_3 = con_mat_picture(a, b, 'Dream case')"
      ],
      "execution_count": 0,
      "outputs": [
        {
          "output_type": "display_data",
          "data": {
            "image/png": "[encoded data removed]",
            "text/plain": [
              "<Figure size 432x288 with 2 Axes>"
            ]
          },
          "metadata": {
            "tags": [],
            "needs_background": "light"
          }
        }
      ]
    }
  ]
}