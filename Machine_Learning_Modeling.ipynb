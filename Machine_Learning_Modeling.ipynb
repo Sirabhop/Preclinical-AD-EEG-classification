{
  "nbformat": 4,
  "nbformat_minor": 0,
  "metadata": {
    "colab": {
      "name": "Machine_Learning_Modeling",
      "provenance": [],
      "collapsed_sections": [
        "oXXTY4XKSWgn"
      ],
      "machine_shape": "hm",
      "authorship_tag": "ABX9TyMXfhY8HipuUCCsX9aZXY87",
      "include_colab_link": true
    },
    "kernelspec": {
      "name": "python3",
      "display_name": "Python 3"
    }
  },
  "cells": [
    {
      "cell_type": "markdown",
      "metadata": {
        "id": "view-in-github",
        "colab_type": "text"
      },
      "source": [
        "<a href=\"https://colab.research.google.com/github/Sirabhop/Preclinical-AD-EEG-classification/blob/master/Machine_Learning_Modeling.ipynb\" target=\"_parent\"><img src=\"https://colab.research.google.com/assets/colab-badge.svg\" alt=\"Open In Colab\"/></a>"
      ]
    },
    {
      "cell_type": "code",
      "metadata": {
        "id": "dxpsi-8HGp64",
        "colab_type": "code",
        "colab": {
          "base_uri": "https://localhost:8080/",
          "height": 72
        },
        "outputId": "fa884759-2e65-4ddf-85e8-58f4dfe600ea"
      },
      "source": [
        "from google.colab import drive\n",
        "import os\n",
        "import pandas as pd\n",
        "import numpy as np\n",
        "import seaborn as sns\n",
        "import matplotlib.pyplot as plt"
      ],
      "execution_count": 1,
      "outputs": [
        {
          "output_type": "stream",
          "text": [
            "/usr/local/lib/python3.6/dist-packages/statsmodels/tools/_testing.py:19: FutureWarning: pandas.util.testing is deprecated. Use the functions in the public API at pandas.testing instead.\n",
            "  import pandas.util.testing as tm\n"
          ],
          "name": "stderr"
        }
      ]
    },
    {
      "cell_type": "code",
      "metadata": {
        "id": "Vd82B0RsNCUD",
        "colab_type": "code",
        "colab": {
          "base_uri": "https://localhost:8080/",
          "height": 125
        },
        "outputId": "2e020fbf-d1be-4c13-da1d-64c17e09a96e"
      },
      "source": [
        "drive.mount('/content/drive')"
      ],
      "execution_count": 2,
      "outputs": [
        {
          "output_type": "stream",
          "text": [
            "Go to this URL in a browser: https://accounts.google.com/o/oauth2/auth?client_id=947318989803-6bn6qk8qdgf4n4g3pfee6491hc0brc4i.apps.googleusercontent.com&redirect_uri=urn%3aietf%3awg%3aoauth%3a2.0%3aoob&response_type=code&scope=email%20https%3a%2f%2fwww.googleapis.com%2fauth%2fdocs.test%20https%3a%2f%2fwww.googleapis.com%2fauth%2fdrive%20https%3a%2f%2fwww.googleapis.com%2fauth%2fdrive.photos.readonly%20https%3a%2f%2fwww.googleapis.com%2fauth%2fpeopleapi.readonly\n",
            "\n",
            "Enter your authorization code:\n",
            "··········\n",
            "Mounted at /content/drive\n"
          ],
          "name": "stdout"
        }
      ]
    },
    {
      "cell_type": "code",
      "metadata": {
        "id": "NuuHyQCDM1jp",
        "colab_type": "code",
        "colab": {}
      },
      "source": [
        "#Set working directory and import cookbook\n",
        "os.chdir(\"/content/drive/My Drive/Colab Notebooks/\")\n",
        "\n",
        "#Download eeg feature extraction function\n",
        "%run EEG_Feature_Extraction.ipynb"
      ],
      "execution_count": 0,
      "outputs": []
    },
    {
      "cell_type": "markdown",
      "metadata": {
        "id": "0u7WRdp1IJa0",
        "colab_type": "text"
      },
      "source": [
        "# **Import Data**"
      ]
    },
    {
      "cell_type": "code",
      "metadata": {
        "id": "dnBv88huIH75",
        "colab_type": "code",
        "colab": {}
      },
      "source": [
        "#Compute EEG feature\n",
        "os.chdir(\"/content/drive/My Drive/EEG Data\")\n",
        "subjectID = ['SS2', 'SS4', 'SS5', 'SS6', 'SS7', 'SS8']\n",
        "EEG_feature = extract_feature(subjectID)"
      ],
      "execution_count": 0,
      "outputs": []
    },
    {
      "cell_type": "code",
      "metadata": {
        "id": "iFW_9c15P70j",
        "colab_type": "code",
        "colab": {}
      },
      "source": [
        "os.chdir(\"/content/drive/My Drive/My Project/Senior Project-Dementia/Results/RESEARCH DATA\")\n",
        "\n",
        "#Import FCSRT\n",
        "FCSRT = pd.read_csv(\"FCSRT.csv\")\n",
        "FCSRT_o = FCSRT.iloc[[2, 3, 4, 5, 6, 7], 1:]\n",
        "FCSRT_o = FCSRT_o.reset_index(drop = True)\n",
        "\n",
        "#Import MoCA\n",
        "MoCA = pd.read_csv(\"MoCA.csv\", usecols = ['MoCA'])\n",
        "MoCA_o = MoCA.iloc[[1, 3, 4, 5, 6, 7],:]\n",
        "MoCA_o = MoCA_o.reset_index(drop = True)\n",
        "\n",
        "#Import EEG\n",
        "EEG = pd.read_csv(\"EEG_features.csv\")\n",
        "EEG.drop('id', axis = 1, inplace = True)\n",
        "\n",
        "#Create group\n",
        "Group = pd.DataFrame(data = {'group':(1,0,1,1,0,0)}) #0 = normal, 1 = risk\n",
        "\n",
        "#Combined data\n",
        "df_original = pd.concat([Group, EEG, FCSRT_o , MoCA_o] , axis = 1)\n",
        "df_original['group'] = df_original['group'].astype('category') "
      ],
      "execution_count": 0,
      "outputs": []
    },
    {
      "cell_type": "markdown",
      "metadata": {
        "id": "YLLDk5-yi0Cd",
        "colab_type": "text"
      },
      "source": [
        "Get data summary"
      ]
    },
    {
      "cell_type": "code",
      "metadata": {
        "id": "MZslUr9OuZbv",
        "colab_type": "code",
        "colab": {}
      },
      "source": [
        "def mean_confidence_interval(data, confidence=0.95):\n",
        "  import numpy as np\n",
        "  import scipy.stats  \n",
        "  a = 1.0 * np.array(data)\n",
        "  n = len(a)\n",
        "  m, se = np.mean(a), scipy.stats.sem(a)\n",
        "  h = se * scipy.stats.t.ppf((1 + confidence) / 2., n-1)\n",
        "  return m-h, m+h"
      ],
      "execution_count": 0,
      "outputs": []
    },
    {
      "cell_type": "code",
      "metadata": {
        "id": "MRGMP030udVL",
        "colab_type": "code",
        "outputId": "8d790479-84a2-4c6f-80b1-8d3ebae86da9",
        "colab": {
          "base_uri": "https://localhost:8080/",
          "height": 197
        }
      },
      "source": [
        "df = df_original.drop(['group'], axis = 1)\n",
        "ci = pd.DataFrame(columns=['lower', 'upper'])\n",
        "for x in range(len(df.columns)):\n",
        "  ci.loc[x] = mean_confidence_interval(df.iloc[:,x])\n",
        "describe = df.describe().transpose()\n",
        "describe['lower'] = ci['lower'].values\n",
        "describe['upper'] = ci['upper'].values\n",
        "\n",
        "describe.head()"
      ],
      "execution_count": 16,
      "outputs": [
        {
          "output_type": "execute_result",
          "data": {
            "text/html": [
              "<div>\n",
              "<style scoped>\n",
              "    .dataframe tbody tr th:only-of-type {\n",
              "        vertical-align: middle;\n",
              "    }\n",
              "\n",
              "    .dataframe tbody tr th {\n",
              "        vertical-align: top;\n",
              "    }\n",
              "\n",
              "    .dataframe thead th {\n",
              "        text-align: right;\n",
              "    }\n",
              "</style>\n",
              "<table border=\"1\" class=\"dataframe\">\n",
              "  <thead>\n",
              "    <tr style=\"text-align: right;\">\n",
              "      <th></th>\n",
              "      <th>count</th>\n",
              "      <th>mean</th>\n",
              "      <th>std</th>\n",
              "      <th>min</th>\n",
              "      <th>25%</th>\n",
              "      <th>50%</th>\n",
              "      <th>75%</th>\n",
              "      <th>max</th>\n",
              "      <th>lower</th>\n",
              "      <th>upper</th>\n",
              "    </tr>\n",
              "  </thead>\n",
              "  <tbody>\n",
              "    <tr>\n",
              "      <th>IR-PSD_Delta</th>\n",
              "      <td>6.0</td>\n",
              "      <td>0.277534</td>\n",
              "      <td>0.053884</td>\n",
              "      <td>0.215904</td>\n",
              "      <td>0.236613</td>\n",
              "      <td>0.274322</td>\n",
              "      <td>0.306567</td>\n",
              "      <td>0.359298</td>\n",
              "      <td>0.220986</td>\n",
              "      <td>0.334082</td>\n",
              "    </tr>\n",
              "    <tr>\n",
              "      <th>IR-PSD_Theta</th>\n",
              "      <td>6.0</td>\n",
              "      <td>2.279972</td>\n",
              "      <td>0.499492</td>\n",
              "      <td>1.598993</td>\n",
              "      <td>2.034570</td>\n",
              "      <td>2.259943</td>\n",
              "      <td>2.457810</td>\n",
              "      <td>3.077740</td>\n",
              "      <td>1.755787</td>\n",
              "      <td>2.804156</td>\n",
              "    </tr>\n",
              "    <tr>\n",
              "      <th>IR-PSD_Alpha</th>\n",
              "      <td>6.0</td>\n",
              "      <td>2.279972</td>\n",
              "      <td>0.499492</td>\n",
              "      <td>1.598993</td>\n",
              "      <td>2.034570</td>\n",
              "      <td>2.259943</td>\n",
              "      <td>2.457810</td>\n",
              "      <td>3.077740</td>\n",
              "      <td>1.755787</td>\n",
              "      <td>2.804156</td>\n",
              "    </tr>\n",
              "    <tr>\n",
              "      <th>IR-PSD_Beta</th>\n",
              "      <td>6.0</td>\n",
              "      <td>1.072199</td>\n",
              "      <td>0.197260</td>\n",
              "      <td>0.746839</td>\n",
              "      <td>1.005751</td>\n",
              "      <td>1.074085</td>\n",
              "      <td>1.226913</td>\n",
              "      <td>1.277359</td>\n",
              "      <td>0.865188</td>\n",
              "      <td>1.279211</td>\n",
              "    </tr>\n",
              "    <tr>\n",
              "      <th>IR-PSD_Gamma</th>\n",
              "      <td>6.0</td>\n",
              "      <td>0.649048</td>\n",
              "      <td>0.222470</td>\n",
              "      <td>0.388560</td>\n",
              "      <td>0.528201</td>\n",
              "      <td>0.572764</td>\n",
              "      <td>0.815512</td>\n",
              "      <td>0.950424</td>\n",
              "      <td>0.415580</td>\n",
              "      <td>0.882515</td>\n",
              "    </tr>\n",
              "  </tbody>\n",
              "</table>\n",
              "</div>"
            ],
            "text/plain": [
              "              count      mean       std  ...       max     lower     upper\n",
              "IR-PSD_Delta    6.0  0.277534  0.053884  ...  0.359298  0.220986  0.334082\n",
              "IR-PSD_Theta    6.0  2.279972  0.499492  ...  3.077740  1.755787  2.804156\n",
              "IR-PSD_Alpha    6.0  2.279972  0.499492  ...  3.077740  1.755787  2.804156\n",
              "IR-PSD_Beta     6.0  1.072199  0.197260  ...  1.277359  0.865188  1.279211\n",
              "IR-PSD_Gamma    6.0  0.649048  0.222470  ...  0.950424  0.415580  0.882515\n",
              "\n",
              "[5 rows x 10 columns]"
            ]
          },
          "metadata": {
            "tags": []
          },
          "execution_count": 16
        }
      ]
    },
    {
      "cell_type": "markdown",
      "metadata": {
        "id": "5-Xck8eXQDeh",
        "colab_type": "text"
      },
      "source": [
        "# **Data Preprocessing**"
      ]
    },
    {
      "cell_type": "code",
      "metadata": {
        "id": "UzCYG4I3O9rj",
        "colab_type": "code",
        "colab": {}
      },
      "source": [
        "from sklearn import preprocessing"
      ],
      "execution_count": 0,
      "outputs": []
    },
    {
      "cell_type": "code",
      "metadata": {
        "id": "8jyNE2adO-f_",
        "colab_type": "code",
        "colab": {}
      },
      "source": [
        "#Min-Max Scaling\n",
        "df = df_original.copy()\n",
        "\n",
        "scaler = preprocessing.MinMaxScaler()\n",
        "columns = ['IR-MSF', 'IR-SE', 'IR-AC', 'IR-wSMI_Alpha', 'IR-wSMI_Theta',\n",
        "           'DL-MSF', 'DL-SE', 'DL-AC', 'DL-wSMI_Alpha', 'DL-wSMI_Theta',\n",
        "           'WCST-MSF']\n",
        "df[columns] = scaler.fit_transform(df[columns])"
      ],
      "execution_count": 0,
      "outputs": []
    },
    {
      "cell_type": "code",
      "metadata": {
        "id": "4KvFXvcIYJA_",
        "colab_type": "code",
        "colab": {}
      },
      "source": [
        "#Percentage\n",
        "df['IR-FreeR'] = (df_original['IR-FreeR'])/16\n",
        "df['IR-CuedR'] = (df_original['IR-CuedR'])/(16-df_original['IR-FreeR'])\n",
        "df['DL-FreeR'] = (df_original['DL-FreeR'])/16\n",
        "df['DL-CuedR'] = (df_original['DL-CuedR'])/(16-df_original['DL-FreeR'])\n",
        "\n",
        "df['IR-FreeR'] = (df_original['IR-FreeR'])/16\n",
        "df['IR-CuedR'] = (df_original['IR-CuedR'])/(16-df_original['IR-FreeR'])\n",
        "df['DL-FreeR'] = (df_original['DL-FreeR'])/16\n",
        "df['DL-CuedR'] = (df_original['DL-CuedR'])/(16-df_original['DL-FreeR'])\n",
        "df.drop(df.iloc[:, 21:27].columns, axis = 1, inplace = True)"
      ],
      "execution_count": 0,
      "outputs": []
    },
    {
      "cell_type": "markdown",
      "metadata": {
        "id": "sIPU9HzpfNV_",
        "colab_type": "text"
      },
      "source": [
        "# **Model Experimentation**"
      ]
    },
    {
      "cell_type": "markdown",
      "metadata": {
        "id": "pOXBs5rffWr5",
        "colab_type": "text"
      },
      "source": [
        "####**1) Seperate dataframe**\n",
        "\n",
        "\n",
        "1.   Only EEG & MoCA data\n",
        "2.   FCSRT & MoCA data\n",
        "3. All data\n"
      ]
    },
    {
      "cell_type": "code",
      "metadata": {
        "id": "ju9YPA-fT-p-",
        "colab_type": "code",
        "colab": {
          "base_uri": "https://localhost:8080/",
          "height": 264
        },
        "outputId": "7b0e1f86-cbe6-4e22-96d1-b93cb4361f3a"
      },
      "source": [
        "df.iloc[:,1:21]"
      ],
      "execution_count": 50,
      "outputs": [
        {
          "output_type": "execute_result",
          "data": {
            "text/html": [
              "<div>\n",
              "<style scoped>\n",
              "    .dataframe tbody tr th:only-of-type {\n",
              "        vertical-align: middle;\n",
              "    }\n",
              "\n",
              "    .dataframe tbody tr th {\n",
              "        vertical-align: top;\n",
              "    }\n",
              "\n",
              "    .dataframe thead th {\n",
              "        text-align: right;\n",
              "    }\n",
              "</style>\n",
              "<table border=\"1\" class=\"dataframe\">\n",
              "  <thead>\n",
              "    <tr style=\"text-align: right;\">\n",
              "      <th></th>\n",
              "      <th>IR-PSD_Delta</th>\n",
              "      <th>IR-PSD_Theta</th>\n",
              "      <th>IR-PSD_Alpha</th>\n",
              "      <th>IR-PSD_Beta</th>\n",
              "      <th>IR-PSD_Gamma</th>\n",
              "      <th>IR-MSF</th>\n",
              "      <th>IR-SE</th>\n",
              "      <th>IR-AC</th>\n",
              "      <th>IR-wSMI_Alpha</th>\n",
              "      <th>IR-wSMI_Theta</th>\n",
              "      <th>DL-PSD_Delta</th>\n",
              "      <th>DL-PSD_Theta</th>\n",
              "      <th>DL-PSD_Alpha</th>\n",
              "      <th>DL-PSD_Beta</th>\n",
              "      <th>DL-PSD_Gamma</th>\n",
              "      <th>DL-MSF</th>\n",
              "      <th>DL-SE</th>\n",
              "      <th>DL-AC</th>\n",
              "      <th>DL-wSMI_Alpha</th>\n",
              "      <th>DL-wSMI_Theta</th>\n",
              "    </tr>\n",
              "  </thead>\n",
              "  <tbody>\n",
              "    <tr>\n",
              "      <th>0</th>\n",
              "      <td>0.313125</td>\n",
              "      <td>2.355038</td>\n",
              "      <td>2.355038</td>\n",
              "      <td>1.277359</td>\n",
              "      <td>0.388560</td>\n",
              "      <td>0.512792</td>\n",
              "      <td>0.584319</td>\n",
              "      <td>0.259271</td>\n",
              "      <td>0.195354</td>\n",
              "      <td>0.824993</td>\n",
              "      <td>0.299404</td>\n",
              "      <td>2.411998</td>\n",
              "      <td>2.411998</td>\n",
              "      <td>1.182964</td>\n",
              "      <td>0.461335</td>\n",
              "      <td>0.586380</td>\n",
              "      <td>0.012780</td>\n",
              "      <td>0.000000</td>\n",
              "      <td>0.956278</td>\n",
              "      <td>0.638893</td>\n",
              "    </tr>\n",
              "    <tr>\n",
              "      <th>1</th>\n",
              "      <td>0.261748</td>\n",
              "      <td>3.077740</td>\n",
              "      <td>3.077740</td>\n",
              "      <td>0.746839</td>\n",
              "      <td>0.583417</td>\n",
              "      <td>0.667096</td>\n",
              "      <td>0.000000</td>\n",
              "      <td>0.000000</td>\n",
              "      <td>0.000000</td>\n",
              "      <td>0.109442</td>\n",
              "      <td>0.567655</td>\n",
              "      <td>4.339816</td>\n",
              "      <td>4.339816</td>\n",
              "      <td>0.384587</td>\n",
              "      <td>0.161678</td>\n",
              "      <td>0.694632</td>\n",
              "      <td>1.000000</td>\n",
              "      <td>0.177676</td>\n",
              "      <td>0.000000</td>\n",
              "      <td>0.000000</td>\n",
              "    </tr>\n",
              "    <tr>\n",
              "      <th>2</th>\n",
              "      <td>0.286895</td>\n",
              "      <td>2.164848</td>\n",
              "      <td>2.164848</td>\n",
              "      <td>1.257230</td>\n",
              "      <td>0.516898</td>\n",
              "      <td>0.519080</td>\n",
              "      <td>0.207912</td>\n",
              "      <td>0.653464</td>\n",
              "      <td>0.640238</td>\n",
              "      <td>1.000000</td>\n",
              "      <td>0.260075</td>\n",
              "      <td>2.276493</td>\n",
              "      <td>2.276493</td>\n",
              "      <td>1.194108</td>\n",
              "      <td>0.537608</td>\n",
              "      <td>0.412973</td>\n",
              "      <td>0.107454</td>\n",
              "      <td>0.330667</td>\n",
              "      <td>0.971819</td>\n",
              "      <td>1.000000</td>\n",
              "    </tr>\n",
              "    <tr>\n",
              "      <th>3</th>\n",
              "      <td>0.359298</td>\n",
              "      <td>2.492067</td>\n",
              "      <td>2.492067</td>\n",
              "      <td>1.012207</td>\n",
              "      <td>0.562110</td>\n",
              "      <td>0.000000</td>\n",
              "      <td>1.000000</td>\n",
              "      <td>0.369102</td>\n",
              "      <td>0.377498</td>\n",
              "      <td>0.483100</td>\n",
              "      <td>0.234657</td>\n",
              "      <td>2.055270</td>\n",
              "      <td>2.055270</td>\n",
              "      <td>1.044309</td>\n",
              "      <td>0.810728</td>\n",
              "      <td>0.000000</td>\n",
              "      <td>0.476697</td>\n",
              "      <td>0.273600</td>\n",
              "      <td>0.900468</td>\n",
              "      <td>0.429323</td>\n",
              "    </tr>\n",
              "    <tr>\n",
              "      <th>4</th>\n",
              "      <td>0.215904</td>\n",
              "      <td>1.991144</td>\n",
              "      <td>1.991144</td>\n",
              "      <td>1.003599</td>\n",
              "      <td>0.892877</td>\n",
              "      <td>1.000000</td>\n",
              "      <td>0.140827</td>\n",
              "      <td>0.452738</td>\n",
              "      <td>1.000000</td>\n",
              "      <td>0.000000</td>\n",
              "      <td>0.252059</td>\n",
              "      <td>1.921816</td>\n",
              "      <td>1.921816</td>\n",
              "      <td>0.991354</td>\n",
              "      <td>0.921708</td>\n",
              "      <td>1.000000</td>\n",
              "      <td>0.198635</td>\n",
              "      <td>0.878400</td>\n",
              "      <td>0.920893</td>\n",
              "      <td>0.582950</td>\n",
              "    </tr>\n",
              "    <tr>\n",
              "      <th>5</th>\n",
              "      <td>0.228235</td>\n",
              "      <td>1.598993</td>\n",
              "      <td>1.598993</td>\n",
              "      <td>1.135962</td>\n",
              "      <td>0.950424</td>\n",
              "      <td>0.413829</td>\n",
              "      <td>0.052221</td>\n",
              "      <td>1.000000</td>\n",
              "      <td>0.521830</td>\n",
              "      <td>0.348256</td>\n",
              "      <td>0.213858</td>\n",
              "      <td>1.768043</td>\n",
              "      <td>1.768043</td>\n",
              "      <td>0.986992</td>\n",
              "      <td>1.022058</td>\n",
              "      <td>0.171423</td>\n",
              "      <td>0.000000</td>\n",
              "      <td>1.000000</td>\n",
              "      <td>1.000000</td>\n",
              "      <td>0.653916</td>\n",
              "    </tr>\n",
              "  </tbody>\n",
              "</table>\n",
              "</div>"
            ],
            "text/plain": [
              "   IR-PSD_Delta  IR-PSD_Theta  ...  DL-wSMI_Alpha  DL-wSMI_Theta\n",
              "0      0.313125      2.355038  ...       0.956278       0.638893\n",
              "1      0.261748      3.077740  ...       0.000000       0.000000\n",
              "2      0.286895      2.164848  ...       0.971819       1.000000\n",
              "3      0.359298      2.492067  ...       0.900468       0.429323\n",
              "4      0.215904      1.991144  ...       0.920893       0.582950\n",
              "5      0.228235      1.598993  ...       1.000000       0.653916\n",
              "\n",
              "[6 rows x 20 columns]"
            ]
          },
          "metadata": {
            "tags": []
          },
          "execution_count": 50
        }
      ]
    },
    {
      "cell_type": "code",
      "metadata": {
        "id": "OGzIYzbFfWMf",
        "colab_type": "code",
        "colab": {}
      },
      "source": [
        "#1 Cognitive Markers Modeling\n",
        "X_1 = df.iloc[:,21:26].values\n",
        "#2 Biomarkers Modeling\n",
        "X_2 = df.iloc[:,1:21].values\n",
        "#3 Both\n",
        "X_3 = df.iloc[:,1:].values\n",
        "\n",
        "y = df['group']"
      ],
      "execution_count": 0,
      "outputs": []
    },
    {
      "cell_type": "markdown",
      "metadata": {
        "id": "9N2Vyv7UjEvQ",
        "colab_type": "text"
      },
      "source": [
        "####**2) Seperate *Training Set* and *Test Set***"
      ]
    },
    {
      "cell_type": "code",
      "metadata": {
        "id": "Ip-Qe1NZjdAJ",
        "colab_type": "code",
        "colab": {}
      },
      "source": [
        "from sklearn.model_selection import train_test_split"
      ],
      "execution_count": 0,
      "outputs": []
    },
    {
      "cell_type": "code",
      "metadata": {
        "id": "AtLCUgtSljKA",
        "colab_type": "code",
        "colab": {}
      },
      "source": [
        "#X_1\n",
        "X_1_train, X_1_test, y_1_train, y_1_test = train_test_split(X_1, y, test_size = 0.25, random_state = 0)\n",
        "\n",
        "#X_2\n",
        "X_2_train, X_2_test, y_2_train, y_2_test = train_test_split(X_2, y, test_size = 0.25, random_state = 0)\n",
        "\n",
        "#X_3\n",
        "X_3_train, X_3_test, y_3_train, y_3_test = train_test_split(X_3, y, test_size = 0.25, random_state = 0)"
      ],
      "execution_count": 0,
      "outputs": []
    },
    {
      "cell_type": "markdown",
      "metadata": {
        "id": "EjqyV-B9mMIS",
        "colab_type": "text"
      },
      "source": [
        "####**3) Model Building**"
      ]
    },
    {
      "cell_type": "code",
      "metadata": {
        "id": "jvLJ27PGmLXw",
        "colab_type": "code",
        "colab": {}
      },
      "source": [
        "from sklearn.svm import SVC\n",
        "from sklearn.tree import DecisionTreeClassifier, plot_tree\n",
        "from sklearn.tree import export_graphviz"
      ],
      "execution_count": 0,
      "outputs": []
    },
    {
      "cell_type": "code",
      "metadata": {
        "id": "UT881v-2mcs9",
        "colab_type": "code",
        "colab": {}
      },
      "source": [
        "clf_svm_1 = SVC(kernel = 'rbf', random_state = 0)\n",
        "clf_svm_1.fit(X_1_train, y_1_train)\n",
        "svm_y_1_pred = clf_svm_1.predict(X_1_test)\n",
        "\n",
        "clf_svm_2 = SVC(kernel = 'rbf', random_state = 0)\n",
        "clf_svm_2.fit(X_2_train, y_2_train)\n",
        "svm_y_2_pred = clf_svm_2.predict(X_2_test)\n",
        "\n",
        "clf_svm_3 = SVC(kernel = 'rbf', random_state = 0)\n",
        "clf_svm_3.fit(X_3_train, y_3_train)\n",
        "svm_y_3_pred = clf_svm_3.predict(X_3_test)"
      ],
      "execution_count": 0,
      "outputs": []
    },
    {
      "cell_type": "code",
      "metadata": {
        "id": "C-awi0PK1Vk9",
        "colab_type": "code",
        "colab": {}
      },
      "source": [
        "clf_dt_1 = DecisionTreeClassifier()\n",
        "clf_dt_1.fit(X_1_train, y_1_train)\n",
        "dt_y_1_pred = clf_dt_1.predict(X_1_test)\n",
        "\n",
        "clf_dt_2 = DecisionTreeClassifier()\n",
        "clf_dt_2.fit(X_2_train, y_2_train)\n",
        "dt_y_2_pred = clf_dt_2.predict(X_2_test)\n",
        "\n",
        "clf_dt_3 = DecisionTreeClassifier()\n",
        "clf_dt_3.fit(X_3_train, y_3_train)\n",
        "dt_y_3_pred = clf_dt_3.predict(X_3_test)"
      ],
      "execution_count": 0,
      "outputs": []
    },
    {
      "cell_type": "markdown",
      "metadata": {
        "id": "vVmNTQJgtFsx",
        "colab_type": "text"
      },
      "source": [
        "####**4) Model Evaluation**"
      ]
    },
    {
      "cell_type": "code",
      "metadata": {
        "id": "PKIJXE4Jms2C",
        "colab_type": "code",
        "colab": {}
      },
      "source": [
        "from sklearn.metrics import confusion_matrix, precision_recall_fscore_support, classification_report, plot_confusion_matrix"
      ],
      "execution_count": 0,
      "outputs": []
    },
    {
      "cell_type": "markdown",
      "metadata": {
        "id": "FaZd8EYXGJ6C",
        "colab_type": "text"
      },
      "source": [
        "####**SVM**"
      ]
    },
    {
      "cell_type": "code",
      "metadata": {
        "id": "eeVruSyhjL_E",
        "colab_type": "code",
        "outputId": "33096363-afac-448e-9a25-9dae6539267c",
        "colab": {
          "base_uri": "https://localhost:8080/",
          "height": 868
        }
      },
      "source": [
        "svm_1 = plot_confusion_matrix(clf_svm_1, X_1_test, y_1_test, display_labels = ['normal', 'risk'], cmap=plt.cm.Blues, normalize = 'true')\n",
        "svm_1.ax_.set_title('Cognitive Markers')\n",
        "\n",
        "svm_2 = plot_confusion_matrix(clf_svm_2, X_2_test, y_2_test, display_labels = ['normal', 'risk'], cmap=plt.cm.Blues)\n",
        "svm_2.ax_.set_title('Biomarkers')\n",
        "\n",
        "svm_3 = plot_confusion_matrix(clf_svm_3, X_3_test, y_3_test, display_labels = ['normal', 'risk'], cmap=plt.cm.Blues)\n",
        "svm_3.ax_.set_title('Both')"
      ],
      "execution_count": 37,
      "outputs": [
        {
          "output_type": "execute_result",
          "data": {
            "text/plain": [
              "Text(0.5, 1.0, 'Both')"
            ]
          },
          "metadata": {
            "tags": []
          },
          "execution_count": 37
        },
        {
          "output_type": "display_data",
          "data": {
            "image/png": "[encoded data removed]",
            "text/plain": [
              "<Figure size 432x288 with 2 Axes>"
            ]
          },
          "metadata": {
            "tags": [],
            "needs_background": "light"
          }
        },
        {
          "output_type": "display_data",
          "data": {
            "image/png": "[encoded data removed]",
            "text/plain": [
              "<Figure size 432x288 with 2 Axes>"
            ]
          },
          "metadata": {
            "tags": [],
            "needs_background": "light"
          }
        },
        {
          "output_type": "display_data",
          "data": {
            "image/png": "[encoded data removed]",
            "text/plain": [
              "<Figure size 432x288 with 2 Axes>"
            ]
          },
          "metadata": {
            "tags": [],
            "needs_background": "light"
          }
        }
      ]
    },
    {
      "cell_type": "code",
      "metadata": {
        "id": "YeBAuj7qA2XK",
        "colab_type": "code",
        "outputId": "12172994-f4cc-478b-da13-ae336eff8d0e",
        "colab": {
          "base_uri": "https://localhost:8080/",
          "height": 552
        }
      },
      "source": [
        "print(classification_report(y_1_test, svm_y_1_pred))\n",
        "print(classification_report(y_2_test, svm_y_2_pred))\n",
        "print(classification_report(y_3_test, svm_y_3_pred))"
      ],
      "execution_count": 38,
      "outputs": [
        {
          "output_type": "stream",
          "text": [
            "              precision    recall  f1-score   support\n",
            "\n",
            "           0       0.00      0.00      0.00         1\n",
            "           1       0.50      1.00      0.67         1\n",
            "\n",
            "    accuracy                           0.50         2\n",
            "   macro avg       0.25      0.50      0.33         2\n",
            "weighted avg       0.25      0.50      0.33         2\n",
            "\n",
            "              precision    recall  f1-score   support\n",
            "\n",
            "           0       0.00      0.00      0.00         1\n",
            "           1       0.50      1.00      0.67         1\n",
            "\n",
            "    accuracy                           0.50         2\n",
            "   macro avg       0.25      0.50      0.33         2\n",
            "weighted avg       0.25      0.50      0.33         2\n",
            "\n",
            "              precision    recall  f1-score   support\n",
            "\n",
            "           0       0.00      0.00      0.00         1\n",
            "           1       0.50      1.00      0.67         1\n",
            "\n",
            "    accuracy                           0.50         2\n",
            "   macro avg       0.25      0.50      0.33         2\n",
            "weighted avg       0.25      0.50      0.33         2\n",
            "\n"
          ],
          "name": "stdout"
        },
        {
          "output_type": "stream",
          "text": [
            "/usr/local/lib/python3.6/dist-packages/sklearn/metrics/_classification.py:1272: UndefinedMetricWarning: Precision and F-score are ill-defined and being set to 0.0 in labels with no predicted samples. Use `zero_division` parameter to control this behavior.\n",
            "  _warn_prf(average, modifier, msg_start, len(result))\n"
          ],
          "name": "stderr"
        }
      ]
    },
    {
      "cell_type": "markdown",
      "metadata": {
        "id": "V0uFjRzNGTgA",
        "colab_type": "text"
      },
      "source": [
        "####**Decision Tree**"
      ]
    },
    {
      "cell_type": "code",
      "metadata": {
        "id": "WbovtxaD19vY",
        "colab_type": "code",
        "outputId": "7549e93b-5c9d-494c-a551-5b820d9db8fb",
        "colab": {
          "base_uri": "https://localhost:8080/",
          "height": 868
        }
      },
      "source": [
        "svm_1 = plot_confusion_matrix(clf_dt_1, X_1_test, y_1_test, display_labels = ['normal', 'risk'], cmap=plt.cm.Blues, normalize = 'true')\n",
        "svm_1.ax_.set_title('Cognitive Markers')\n",
        "\n",
        "svm_2 = plot_confusion_matrix(clf_dt_2, X_2_test, y_2_test, display_labels = ['normal', 'risk'], cmap=plt.cm.Blues)\n",
        "svm_2.ax_.set_title('Biomarkers')\n",
        "\n",
        "svm_3 = plot_confusion_matrix(clf_dt_3, X_3_test, y_3_test, display_labels = ['normal', 'risk'], cmap=plt.cm.Blues)\n",
        "svm_3.ax_.set_title('Both')"
      ],
      "execution_count": 33,
      "outputs": [
        {
          "output_type": "execute_result",
          "data": {
            "text/plain": [
              "Text(0.5, 1.0, 'Both')"
            ]
          },
          "metadata": {
            "tags": []
          },
          "execution_count": 33
        },
        {
          "output_type": "display_data",
          "data": {
            "image/png": "[encoded data removed]",
            "text/plain": [
              "<Figure size 432x288 with 2 Axes>"
            ]
          },
          "metadata": {
            "tags": [],
            "needs_background": "light"
          }
        },
        {
          "output_type": "display_data",
          "data": {
            "image/png": "[encoded data removed]",
            "text/plain": [
              "<Figure size 432x288 with 2 Axes>"
            ]
          },
          "metadata": {
            "tags": [],
            "needs_background": "light"
          }
        },
        {
          "output_type": "display_data",
          "data": {
            "image/png": "[encoded data removed]",
            "text/plain": [
              "<Figure size 432x288 with 2 Axes>"
            ]
          },
          "metadata": {
            "tags": [],
            "needs_background": "light"
          }
        }
      ]
    },
    {
      "cell_type": "code",
      "metadata": {
        "id": "kwqEzJmZ2Av1",
        "colab_type": "code",
        "outputId": "b5134359-a851-4f81-a60f-e81d6d5724e9",
        "colab": {
          "base_uri": "https://localhost:8080/",
          "height": 552
        }
      },
      "source": [
        "print(classification_report(y_1_test, dt_y_1_pred))\n",
        "print(classification_report(y_2_test, dt_y_2_pred))\n",
        "print(classification_report(y_3_test, dt_y_3_pred))"
      ],
      "execution_count": 39,
      "outputs": [
        {
          "output_type": "stream",
          "text": [
            "              precision    recall  f1-score   support\n",
            "\n",
            "           0       1.00      1.00      1.00         1\n",
            "           1       1.00      1.00      1.00         1\n",
            "\n",
            "    accuracy                           1.00         2\n",
            "   macro avg       1.00      1.00      1.00         2\n",
            "weighted avg       1.00      1.00      1.00         2\n",
            "\n",
            "              precision    recall  f1-score   support\n",
            "\n",
            "           0       0.50      1.00      0.67         1\n",
            "           1       0.00      0.00      0.00         1\n",
            "\n",
            "    accuracy                           0.50         2\n",
            "   macro avg       0.25      0.50      0.33         2\n",
            "weighted avg       0.25      0.50      0.33         2\n",
            "\n",
            "              precision    recall  f1-score   support\n",
            "\n",
            "           0       0.00      0.00      0.00         1\n",
            "           1       0.50      1.00      0.67         1\n",
            "\n",
            "    accuracy                           0.50         2\n",
            "   macro avg       0.25      0.50      0.33         2\n",
            "weighted avg       0.25      0.50      0.33         2\n",
            "\n"
          ],
          "name": "stdout"
        },
        {
          "output_type": "stream",
          "text": [
            "/usr/local/lib/python3.6/dist-packages/sklearn/metrics/_classification.py:1272: UndefinedMetricWarning: Precision and F-score are ill-defined and being set to 0.0 in labels with no predicted samples. Use `zero_division` parameter to control this behavior.\n",
            "  _warn_prf(average, modifier, msg_start, len(result))\n"
          ],
          "name": "stderr"
        }
      ]
    },
    {
      "cell_type": "code",
      "metadata": {
        "id": "wzYUlx1V-tq3",
        "colab_type": "code",
        "outputId": "54455174-5795-4aa8-9826-666034fb64fc",
        "colab": {
          "base_uri": "https://localhost:8080/",
          "height": 301
        }
      },
      "source": [
        "plot_tree(clf_dt_2, feature_names = ['IR-FreeR', 'IR-CuedR','DL-FreeR', 'DL-CuedR'], class_names = ['Normal', 'Risk'], filled = True)"
      ],
      "execution_count": 47,
      "outputs": [
        {
          "output_type": "execute_result",
          "data": {
            "text/plain": [
              "[Text(167.4, 163.07999999999998, 'IR-FreeR <= 0.287\\ngini = 0.5\\nsamples = 4\\nvalue = [2, 2]\\nclass = Normal'),\n",
              " Text(83.7, 54.360000000000014, 'gini = 0.0\\nsamples = 2\\nvalue = [2, 0]\\nclass = Normal'),\n",
              " Text(251.10000000000002, 54.360000000000014, 'gini = 0.0\\nsamples = 2\\nvalue = [0, 2]\\nclass = Risk')]"
            ]
          },
          "metadata": {
            "tags": []
          },
          "execution_count": 47
        },
        {
          "output_type": "display_data",
          "data": {
            "image/png": "[encoded data removed]",
            "text/plain": [
              "<Figure size 432x288 with 1 Axes>"
            ]
          },
          "metadata": {
            "tags": [],
            "needs_background": "light"
          }
        }
      ]
    },
    {
      "cell_type": "code",
      "metadata": {
        "id": "pqoopXv35kD2",
        "colab_type": "code",
        "outputId": "13ec5c91-4a18-4576-c84d-a50ea13c04ec",
        "colab": {
          "base_uri": "https://localhost:8080/",
          "height": 288
        }
      },
      "source": [
        "#Dream case\n",
        "a = [0,0,1,1]\n",
        "b = [0,0,1,1]\n",
        "\n",
        "cm_3 = con_mat_picture(a, b, 'Dream case')"
      ],
      "execution_count": 0,
      "outputs": [
        {
          "output_type": "display_data",
          "data": {
            "image/png": "[encoded data removed]",
            "text/plain": [
              "<Figure size 432x288 with 2 Axes>"
            ]
          },
          "metadata": {
            "tags": [],
            "needs_background": "light"
          }
        }
      ]
    }
  ]
}